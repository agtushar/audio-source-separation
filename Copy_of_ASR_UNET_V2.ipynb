{
  "nbformat": 4,
  "nbformat_minor": 0,
  "metadata": {
    "colab": {
      "name": "Copy of ASR_UNET_V2",
      "provenance": [],
      "collapsed_sections": []
    },
    "kernelspec": {
      "name": "python3",
      "display_name": "Python 3"
    },
    "language_info": {
      "name": "python"
    },
    "widgets": {
      "application/vnd.jupyter.widget-state+json": {
        "e5654abced1e4aac840d8a00454a8c81": {
          "model_module": "@jupyter-widgets/controls",
          "model_name": "HBoxModel",
          "state": {
            "_view_name": "HBoxView",
            "_dom_classes": [],
            "_model_name": "HBoxModel",
            "_view_module": "@jupyter-widgets/controls",
            "_model_module_version": "1.5.0",
            "_view_count": null,
            "_view_module_version": "1.5.0",
            "box_style": "",
            "layout": "IPY_MODEL_a6e2cd29b752460aa7e50580186f3cf4",
            "_model_module": "@jupyter-widgets/controls",
            "children": [
              "IPY_MODEL_07dcd5cd9fc64af7b512da0ae0bdc3f1",
              "IPY_MODEL_09602268fbe74529af574249a6af566a"
            ]
          }
        },
        "a6e2cd29b752460aa7e50580186f3cf4": {
          "model_module": "@jupyter-widgets/base",
          "model_name": "LayoutModel",
          "state": {
            "_view_name": "LayoutView",
            "grid_template_rows": null,
            "right": null,
            "justify_content": null,
            "_view_module": "@jupyter-widgets/base",
            "overflow": null,
            "_model_module_version": "1.2.0",
            "_view_count": null,
            "flex_flow": null,
            "width": null,
            "min_width": null,
            "border": null,
            "align_items": null,
            "bottom": null,
            "_model_module": "@jupyter-widgets/base",
            "top": null,
            "grid_column": null,
            "overflow_y": null,
            "overflow_x": null,
            "grid_auto_flow": null,
            "grid_area": null,
            "grid_template_columns": null,
            "flex": null,
            "_model_name": "LayoutModel",
            "justify_items": null,
            "grid_row": null,
            "max_height": null,
            "align_content": null,
            "visibility": null,
            "align_self": null,
            "height": null,
            "min_height": null,
            "padding": null,
            "grid_auto_rows": null,
            "grid_gap": null,
            "max_width": null,
            "order": null,
            "_view_module_version": "1.2.0",
            "grid_template_areas": null,
            "object_position": null,
            "object_fit": null,
            "grid_auto_columns": null,
            "margin": null,
            "display": null,
            "left": null
          }
        },
        "07dcd5cd9fc64af7b512da0ae0bdc3f1": {
          "model_module": "@jupyter-widgets/controls",
          "model_name": "FloatProgressModel",
          "state": {
            "_view_name": "ProgressView",
            "style": "IPY_MODEL_7b5d9f6a1aaf4530a4e3a7bd3d3c1db5",
            "_dom_classes": [],
            "description": "100%",
            "_model_name": "FloatProgressModel",
            "bar_style": "success",
            "max": 250,
            "_view_module": "@jupyter-widgets/controls",
            "_model_module_version": "1.5.0",
            "value": 250,
            "_view_count": null,
            "_view_module_version": "1.5.0",
            "orientation": "horizontal",
            "min": 0,
            "description_tooltip": null,
            "_model_module": "@jupyter-widgets/controls",
            "layout": "IPY_MODEL_e96c9f7f48884802b28660fe177a4414"
          }
        },
        "09602268fbe74529af574249a6af566a": {
          "model_module": "@jupyter-widgets/controls",
          "model_name": "HTMLModel",
          "state": {
            "_view_name": "HTMLView",
            "style": "IPY_MODEL_4ee0072d5aa34677a80b5c9a4b9033dd",
            "_dom_classes": [],
            "description": "",
            "_model_name": "HTMLModel",
            "placeholder": "​",
            "_view_module": "@jupyter-widgets/controls",
            "_model_module_version": "1.5.0",
            "value": " 250/250 [06:08&lt;00:00,  1.47s/it]",
            "_view_count": null,
            "_view_module_version": "1.5.0",
            "description_tooltip": null,
            "_model_module": "@jupyter-widgets/controls",
            "layout": "IPY_MODEL_7d055fcf135e49a5a06bb07be8cc1b36"
          }
        },
        "7b5d9f6a1aaf4530a4e3a7bd3d3c1db5": {
          "model_module": "@jupyter-widgets/controls",
          "model_name": "ProgressStyleModel",
          "state": {
            "_view_name": "StyleView",
            "_model_name": "ProgressStyleModel",
            "description_width": "initial",
            "_view_module": "@jupyter-widgets/base",
            "_model_module_version": "1.5.0",
            "_view_count": null,
            "_view_module_version": "1.2.0",
            "bar_color": null,
            "_model_module": "@jupyter-widgets/controls"
          }
        },
        "e96c9f7f48884802b28660fe177a4414": {
          "model_module": "@jupyter-widgets/base",
          "model_name": "LayoutModel",
          "state": {
            "_view_name": "LayoutView",
            "grid_template_rows": null,
            "right": null,
            "justify_content": null,
            "_view_module": "@jupyter-widgets/base",
            "overflow": null,
            "_model_module_version": "1.2.0",
            "_view_count": null,
            "flex_flow": null,
            "width": null,
            "min_width": null,
            "border": null,
            "align_items": null,
            "bottom": null,
            "_model_module": "@jupyter-widgets/base",
            "top": null,
            "grid_column": null,
            "overflow_y": null,
            "overflow_x": null,
            "grid_auto_flow": null,
            "grid_area": null,
            "grid_template_columns": null,
            "flex": null,
            "_model_name": "LayoutModel",
            "justify_items": null,
            "grid_row": null,
            "max_height": null,
            "align_content": null,
            "visibility": null,
            "align_self": null,
            "height": null,
            "min_height": null,
            "padding": null,
            "grid_auto_rows": null,
            "grid_gap": null,
            "max_width": null,
            "order": null,
            "_view_module_version": "1.2.0",
            "grid_template_areas": null,
            "object_position": null,
            "object_fit": null,
            "grid_auto_columns": null,
            "margin": null,
            "display": null,
            "left": null
          }
        },
        "4ee0072d5aa34677a80b5c9a4b9033dd": {
          "model_module": "@jupyter-widgets/controls",
          "model_name": "DescriptionStyleModel",
          "state": {
            "_view_name": "StyleView",
            "_model_name": "DescriptionStyleModel",
            "description_width": "",
            "_view_module": "@jupyter-widgets/base",
            "_model_module_version": "1.5.0",
            "_view_count": null,
            "_view_module_version": "1.2.0",
            "_model_module": "@jupyter-widgets/controls"
          }
        },
        "7d055fcf135e49a5a06bb07be8cc1b36": {
          "model_module": "@jupyter-widgets/base",
          "model_name": "LayoutModel",
          "state": {
            "_view_name": "LayoutView",
            "grid_template_rows": null,
            "right": null,
            "justify_content": null,
            "_view_module": "@jupyter-widgets/base",
            "overflow": null,
            "_model_module_version": "1.2.0",
            "_view_count": null,
            "flex_flow": null,
            "width": null,
            "min_width": null,
            "border": null,
            "align_items": null,
            "bottom": null,
            "_model_module": "@jupyter-widgets/base",
            "top": null,
            "grid_column": null,
            "overflow_y": null,
            "overflow_x": null,
            "grid_auto_flow": null,
            "grid_area": null,
            "grid_template_columns": null,
            "flex": null,
            "_model_name": "LayoutModel",
            "justify_items": null,
            "grid_row": null,
            "max_height": null,
            "align_content": null,
            "visibility": null,
            "align_self": null,
            "height": null,
            "min_height": null,
            "padding": null,
            "grid_auto_rows": null,
            "grid_gap": null,
            "max_width": null,
            "order": null,
            "_view_module_version": "1.2.0",
            "grid_template_areas": null,
            "object_position": null,
            "object_fit": null,
            "grid_auto_columns": null,
            "margin": null,
            "display": null,
            "left": null
          }
        },
        "62d2b03ee8904c638a4bae704898d5ed": {
          "model_module": "@jupyter-widgets/controls",
          "model_name": "HBoxModel",
          "state": {
            "_view_name": "HBoxView",
            "_dom_classes": [],
            "_model_name": "HBoxModel",
            "_view_module": "@jupyter-widgets/controls",
            "_model_module_version": "1.5.0",
            "_view_count": null,
            "_view_module_version": "1.5.0",
            "box_style": "",
            "layout": "IPY_MODEL_5c7e798f9ab14b83b82f458b5fb56623",
            "_model_module": "@jupyter-widgets/controls",
            "children": [
              "IPY_MODEL_9041abba7e4349d7b801e8cd46952f0a",
              "IPY_MODEL_9bb3853bd66c47569119a527e7d7b86b"
            ]
          }
        },
        "5c7e798f9ab14b83b82f458b5fb56623": {
          "model_module": "@jupyter-widgets/base",
          "model_name": "LayoutModel",
          "state": {
            "_view_name": "LayoutView",
            "grid_template_rows": null,
            "right": null,
            "justify_content": null,
            "_view_module": "@jupyter-widgets/base",
            "overflow": null,
            "_model_module_version": "1.2.0",
            "_view_count": null,
            "flex_flow": null,
            "width": null,
            "min_width": null,
            "border": null,
            "align_items": null,
            "bottom": null,
            "_model_module": "@jupyter-widgets/base",
            "top": null,
            "grid_column": null,
            "overflow_y": null,
            "overflow_x": null,
            "grid_auto_flow": null,
            "grid_area": null,
            "grid_template_columns": null,
            "flex": null,
            "_model_name": "LayoutModel",
            "justify_items": null,
            "grid_row": null,
            "max_height": null,
            "align_content": null,
            "visibility": null,
            "align_self": null,
            "height": null,
            "min_height": null,
            "padding": null,
            "grid_auto_rows": null,
            "grid_gap": null,
            "max_width": null,
            "order": null,
            "_view_module_version": "1.2.0",
            "grid_template_areas": null,
            "object_position": null,
            "object_fit": null,
            "grid_auto_columns": null,
            "margin": null,
            "display": null,
            "left": null
          }
        },
        "9041abba7e4349d7b801e8cd46952f0a": {
          "model_module": "@jupyter-widgets/controls",
          "model_name": "FloatProgressModel",
          "state": {
            "_view_name": "ProgressView",
            "style": "IPY_MODEL_eef79f36d42e4ccbbdfa26be7e61aeb4",
            "_dom_classes": [],
            "description": "100%",
            "_model_name": "FloatProgressModel",
            "bar_style": "success",
            "max": 250,
            "_view_module": "@jupyter-widgets/controls",
            "_model_module_version": "1.5.0",
            "value": 250,
            "_view_count": null,
            "_view_module_version": "1.5.0",
            "orientation": "horizontal",
            "min": 0,
            "description_tooltip": null,
            "_model_module": "@jupyter-widgets/controls",
            "layout": "IPY_MODEL_2601b3bc8c794d6b974aece7a2c7cce2"
          }
        },
        "9bb3853bd66c47569119a527e7d7b86b": {
          "model_module": "@jupyter-widgets/controls",
          "model_name": "HTMLModel",
          "state": {
            "_view_name": "HTMLView",
            "style": "IPY_MODEL_e39f00617333449cafec237ec49ab07a",
            "_dom_classes": [],
            "description": "",
            "_model_name": "HTMLModel",
            "placeholder": "​",
            "_view_module": "@jupyter-widgets/controls",
            "_model_module_version": "1.5.0",
            "value": " 250/250 [05:49&lt;00:00,  1.40s/it]",
            "_view_count": null,
            "_view_module_version": "1.5.0",
            "description_tooltip": null,
            "_model_module": "@jupyter-widgets/controls",
            "layout": "IPY_MODEL_6c6673132d264a5d8a347cbf8140523d"
          }
        },
        "eef79f36d42e4ccbbdfa26be7e61aeb4": {
          "model_module": "@jupyter-widgets/controls",
          "model_name": "ProgressStyleModel",
          "state": {
            "_view_name": "StyleView",
            "_model_name": "ProgressStyleModel",
            "description_width": "initial",
            "_view_module": "@jupyter-widgets/base",
            "_model_module_version": "1.5.0",
            "_view_count": null,
            "_view_module_version": "1.2.0",
            "bar_color": null,
            "_model_module": "@jupyter-widgets/controls"
          }
        },
        "2601b3bc8c794d6b974aece7a2c7cce2": {
          "model_module": "@jupyter-widgets/base",
          "model_name": "LayoutModel",
          "state": {
            "_view_name": "LayoutView",
            "grid_template_rows": null,
            "right": null,
            "justify_content": null,
            "_view_module": "@jupyter-widgets/base",
            "overflow": null,
            "_model_module_version": "1.2.0",
            "_view_count": null,
            "flex_flow": null,
            "width": null,
            "min_width": null,
            "border": null,
            "align_items": null,
            "bottom": null,
            "_model_module": "@jupyter-widgets/base",
            "top": null,
            "grid_column": null,
            "overflow_y": null,
            "overflow_x": null,
            "grid_auto_flow": null,
            "grid_area": null,
            "grid_template_columns": null,
            "flex": null,
            "_model_name": "LayoutModel",
            "justify_items": null,
            "grid_row": null,
            "max_height": null,
            "align_content": null,
            "visibility": null,
            "align_self": null,
            "height": null,
            "min_height": null,
            "padding": null,
            "grid_auto_rows": null,
            "grid_gap": null,
            "max_width": null,
            "order": null,
            "_view_module_version": "1.2.0",
            "grid_template_areas": null,
            "object_position": null,
            "object_fit": null,
            "grid_auto_columns": null,
            "margin": null,
            "display": null,
            "left": null
          }
        },
        "e39f00617333449cafec237ec49ab07a": {
          "model_module": "@jupyter-widgets/controls",
          "model_name": "DescriptionStyleModel",
          "state": {
            "_view_name": "StyleView",
            "_model_name": "DescriptionStyleModel",
            "description_width": "",
            "_view_module": "@jupyter-widgets/base",
            "_model_module_version": "1.5.0",
            "_view_count": null,
            "_view_module_version": "1.2.0",
            "_model_module": "@jupyter-widgets/controls"
          }
        },
        "6c6673132d264a5d8a347cbf8140523d": {
          "model_module": "@jupyter-widgets/base",
          "model_name": "LayoutModel",
          "state": {
            "_view_name": "LayoutView",
            "grid_template_rows": null,
            "right": null,
            "justify_content": null,
            "_view_module": "@jupyter-widgets/base",
            "overflow": null,
            "_model_module_version": "1.2.0",
            "_view_count": null,
            "flex_flow": null,
            "width": null,
            "min_width": null,
            "border": null,
            "align_items": null,
            "bottom": null,
            "_model_module": "@jupyter-widgets/base",
            "top": null,
            "grid_column": null,
            "overflow_y": null,
            "overflow_x": null,
            "grid_auto_flow": null,
            "grid_area": null,
            "grid_template_columns": null,
            "flex": null,
            "_model_name": "LayoutModel",
            "justify_items": null,
            "grid_row": null,
            "max_height": null,
            "align_content": null,
            "visibility": null,
            "align_self": null,
            "height": null,
            "min_height": null,
            "padding": null,
            "grid_auto_rows": null,
            "grid_gap": null,
            "max_width": null,
            "order": null,
            "_view_module_version": "1.2.0",
            "grid_template_areas": null,
            "object_position": null,
            "object_fit": null,
            "grid_auto_columns": null,
            "margin": null,
            "display": null,
            "left": null
          }
        },
        "98f2a42654324c31a11c609c2495d749": {
          "model_module": "@jupyter-widgets/controls",
          "model_name": "HBoxModel",
          "state": {
            "_view_name": "HBoxView",
            "_dom_classes": [],
            "_model_name": "HBoxModel",
            "_view_module": "@jupyter-widgets/controls",
            "_model_module_version": "1.5.0",
            "_view_count": null,
            "_view_module_version": "1.5.0",
            "box_style": "",
            "layout": "IPY_MODEL_50715d9041414fc5a4639b4e0ea222b1",
            "_model_module": "@jupyter-widgets/controls",
            "children": [
              "IPY_MODEL_bb34188c46bb4b75babfc4c056f6b10f",
              "IPY_MODEL_ed342874dc8d42de9bbedd8dd2489fc5"
            ]
          }
        },
        "50715d9041414fc5a4639b4e0ea222b1": {
          "model_module": "@jupyter-widgets/base",
          "model_name": "LayoutModel",
          "state": {
            "_view_name": "LayoutView",
            "grid_template_rows": null,
            "right": null,
            "justify_content": null,
            "_view_module": "@jupyter-widgets/base",
            "overflow": null,
            "_model_module_version": "1.2.0",
            "_view_count": null,
            "flex_flow": null,
            "width": null,
            "min_width": null,
            "border": null,
            "align_items": null,
            "bottom": null,
            "_model_module": "@jupyter-widgets/base",
            "top": null,
            "grid_column": null,
            "overflow_y": null,
            "overflow_x": null,
            "grid_auto_flow": null,
            "grid_area": null,
            "grid_template_columns": null,
            "flex": null,
            "_model_name": "LayoutModel",
            "justify_items": null,
            "grid_row": null,
            "max_height": null,
            "align_content": null,
            "visibility": null,
            "align_self": null,
            "height": null,
            "min_height": null,
            "padding": null,
            "grid_auto_rows": null,
            "grid_gap": null,
            "max_width": null,
            "order": null,
            "_view_module_version": "1.2.0",
            "grid_template_areas": null,
            "object_position": null,
            "object_fit": null,
            "grid_auto_columns": null,
            "margin": null,
            "display": null,
            "left": null
          }
        },
        "bb34188c46bb4b75babfc4c056f6b10f": {
          "model_module": "@jupyter-widgets/controls",
          "model_name": "FloatProgressModel",
          "state": {
            "_view_name": "ProgressView",
            "style": "IPY_MODEL_6a4a78c98b0748c4800a2340fe60a838",
            "_dom_classes": [],
            "description": "100%",
            "_model_name": "FloatProgressModel",
            "bar_style": "success",
            "max": 250,
            "_view_module": "@jupyter-widgets/controls",
            "_model_module_version": "1.5.0",
            "value": 250,
            "_view_count": null,
            "_view_module_version": "1.5.0",
            "orientation": "horizontal",
            "min": 0,
            "description_tooltip": null,
            "_model_module": "@jupyter-widgets/controls",
            "layout": "IPY_MODEL_dd12592a188a46ab87626a01da165741"
          }
        },
        "ed342874dc8d42de9bbedd8dd2489fc5": {
          "model_module": "@jupyter-widgets/controls",
          "model_name": "HTMLModel",
          "state": {
            "_view_name": "HTMLView",
            "style": "IPY_MODEL_49b056e2401646b9b853e860b3859de0",
            "_dom_classes": [],
            "description": "",
            "_model_name": "HTMLModel",
            "placeholder": "​",
            "_view_module": "@jupyter-widgets/controls",
            "_model_module_version": "1.5.0",
            "value": " 250/250 [00:37&lt;00:00,  6.61it/s]",
            "_view_count": null,
            "_view_module_version": "1.5.0",
            "description_tooltip": null,
            "_model_module": "@jupyter-widgets/controls",
            "layout": "IPY_MODEL_b1fc19610a3448329324cf0f21f43024"
          }
        },
        "6a4a78c98b0748c4800a2340fe60a838": {
          "model_module": "@jupyter-widgets/controls",
          "model_name": "ProgressStyleModel",
          "state": {
            "_view_name": "StyleView",
            "_model_name": "ProgressStyleModel",
            "description_width": "initial",
            "_view_module": "@jupyter-widgets/base",
            "_model_module_version": "1.5.0",
            "_view_count": null,
            "_view_module_version": "1.2.0",
            "bar_color": null,
            "_model_module": "@jupyter-widgets/controls"
          }
        },
        "dd12592a188a46ab87626a01da165741": {
          "model_module": "@jupyter-widgets/base",
          "model_name": "LayoutModel",
          "state": {
            "_view_name": "LayoutView",
            "grid_template_rows": null,
            "right": null,
            "justify_content": null,
            "_view_module": "@jupyter-widgets/base",
            "overflow": null,
            "_model_module_version": "1.2.0",
            "_view_count": null,
            "flex_flow": null,
            "width": null,
            "min_width": null,
            "border": null,
            "align_items": null,
            "bottom": null,
            "_model_module": "@jupyter-widgets/base",
            "top": null,
            "grid_column": null,
            "overflow_y": null,
            "overflow_x": null,
            "grid_auto_flow": null,
            "grid_area": null,
            "grid_template_columns": null,
            "flex": null,
            "_model_name": "LayoutModel",
            "justify_items": null,
            "grid_row": null,
            "max_height": null,
            "align_content": null,
            "visibility": null,
            "align_self": null,
            "height": null,
            "min_height": null,
            "padding": null,
            "grid_auto_rows": null,
            "grid_gap": null,
            "max_width": null,
            "order": null,
            "_view_module_version": "1.2.0",
            "grid_template_areas": null,
            "object_position": null,
            "object_fit": null,
            "grid_auto_columns": null,
            "margin": null,
            "display": null,
            "left": null
          }
        },
        "49b056e2401646b9b853e860b3859de0": {
          "model_module": "@jupyter-widgets/controls",
          "model_name": "DescriptionStyleModel",
          "state": {
            "_view_name": "StyleView",
            "_model_name": "DescriptionStyleModel",
            "description_width": "",
            "_view_module": "@jupyter-widgets/base",
            "_model_module_version": "1.5.0",
            "_view_count": null,
            "_view_module_version": "1.2.0",
            "_model_module": "@jupyter-widgets/controls"
          }
        },
        "b1fc19610a3448329324cf0f21f43024": {
          "model_module": "@jupyter-widgets/base",
          "model_name": "LayoutModel",
          "state": {
            "_view_name": "LayoutView",
            "grid_template_rows": null,
            "right": null,
            "justify_content": null,
            "_view_module": "@jupyter-widgets/base",
            "overflow": null,
            "_model_module_version": "1.2.0",
            "_view_count": null,
            "flex_flow": null,
            "width": null,
            "min_width": null,
            "border": null,
            "align_items": null,
            "bottom": null,
            "_model_module": "@jupyter-widgets/base",
            "top": null,
            "grid_column": null,
            "overflow_y": null,
            "overflow_x": null,
            "grid_auto_flow": null,
            "grid_area": null,
            "grid_template_columns": null,
            "flex": null,
            "_model_name": "LayoutModel",
            "justify_items": null,
            "grid_row": null,
            "max_height": null,
            "align_content": null,
            "visibility": null,
            "align_self": null,
            "height": null,
            "min_height": null,
            "padding": null,
            "grid_auto_rows": null,
            "grid_gap": null,
            "max_width": null,
            "order": null,
            "_view_module_version": "1.2.0",
            "grid_template_areas": null,
            "object_position": null,
            "object_fit": null,
            "grid_auto_columns": null,
            "margin": null,
            "display": null,
            "left": null
          }
        },
        "54d6376fdaf84070b931751e82b1a622": {
          "model_module": "@jupyter-widgets/controls",
          "model_name": "HBoxModel",
          "state": {
            "_view_name": "HBoxView",
            "_dom_classes": [],
            "_model_name": "HBoxModel",
            "_view_module": "@jupyter-widgets/controls",
            "_model_module_version": "1.5.0",
            "_view_count": null,
            "_view_module_version": "1.5.0",
            "box_style": "",
            "layout": "IPY_MODEL_6837ec9647b645cdaa3e1521b3d12dbe",
            "_model_module": "@jupyter-widgets/controls",
            "children": [
              "IPY_MODEL_d32bbce5185d427ea74f99199f27aa4d",
              "IPY_MODEL_684a93755f07412cad776fd575b7283c"
            ]
          }
        },
        "6837ec9647b645cdaa3e1521b3d12dbe": {
          "model_module": "@jupyter-widgets/base",
          "model_name": "LayoutModel",
          "state": {
            "_view_name": "LayoutView",
            "grid_template_rows": null,
            "right": null,
            "justify_content": null,
            "_view_module": "@jupyter-widgets/base",
            "overflow": null,
            "_model_module_version": "1.2.0",
            "_view_count": null,
            "flex_flow": null,
            "width": null,
            "min_width": null,
            "border": null,
            "align_items": null,
            "bottom": null,
            "_model_module": "@jupyter-widgets/base",
            "top": null,
            "grid_column": null,
            "overflow_y": null,
            "overflow_x": null,
            "grid_auto_flow": null,
            "grid_area": null,
            "grid_template_columns": null,
            "flex": null,
            "_model_name": "LayoutModel",
            "justify_items": null,
            "grid_row": null,
            "max_height": null,
            "align_content": null,
            "visibility": null,
            "align_self": null,
            "height": null,
            "min_height": null,
            "padding": null,
            "grid_auto_rows": null,
            "grid_gap": null,
            "max_width": null,
            "order": null,
            "_view_module_version": "1.2.0",
            "grid_template_areas": null,
            "object_position": null,
            "object_fit": null,
            "grid_auto_columns": null,
            "margin": null,
            "display": null,
            "left": null
          }
        },
        "d32bbce5185d427ea74f99199f27aa4d": {
          "model_module": "@jupyter-widgets/controls",
          "model_name": "FloatProgressModel",
          "state": {
            "_view_name": "ProgressView",
            "style": "IPY_MODEL_5765cff286ba4185afb7af67756ccced",
            "_dom_classes": [],
            "description": "100%",
            "_model_name": "FloatProgressModel",
            "bar_style": "success",
            "max": 250,
            "_view_module": "@jupyter-widgets/controls",
            "_model_module_version": "1.5.0",
            "value": 250,
            "_view_count": null,
            "_view_module_version": "1.5.0",
            "orientation": "horizontal",
            "min": 0,
            "description_tooltip": null,
            "_model_module": "@jupyter-widgets/controls",
            "layout": "IPY_MODEL_7f63cadf015e42bdb84f4f19e4d555c7"
          }
        },
        "684a93755f07412cad776fd575b7283c": {
          "model_module": "@jupyter-widgets/controls",
          "model_name": "HTMLModel",
          "state": {
            "_view_name": "HTMLView",
            "style": "IPY_MODEL_ffd43338c5b745f29ac228e75db0c959",
            "_dom_classes": [],
            "description": "",
            "_model_name": "HTMLModel",
            "placeholder": "​",
            "_view_module": "@jupyter-widgets/controls",
            "_model_module_version": "1.5.0",
            "value": " 250/250 [00:18&lt;00:00, 13.20it/s]",
            "_view_count": null,
            "_view_module_version": "1.5.0",
            "description_tooltip": null,
            "_model_module": "@jupyter-widgets/controls",
            "layout": "IPY_MODEL_2b28fee1bdba46bf8cc89fceb6bd8a88"
          }
        },
        "5765cff286ba4185afb7af67756ccced": {
          "model_module": "@jupyter-widgets/controls",
          "model_name": "ProgressStyleModel",
          "state": {
            "_view_name": "StyleView",
            "_model_name": "ProgressStyleModel",
            "description_width": "initial",
            "_view_module": "@jupyter-widgets/base",
            "_model_module_version": "1.5.0",
            "_view_count": null,
            "_view_module_version": "1.2.0",
            "bar_color": null,
            "_model_module": "@jupyter-widgets/controls"
          }
        },
        "7f63cadf015e42bdb84f4f19e4d555c7": {
          "model_module": "@jupyter-widgets/base",
          "model_name": "LayoutModel",
          "state": {
            "_view_name": "LayoutView",
            "grid_template_rows": null,
            "right": null,
            "justify_content": null,
            "_view_module": "@jupyter-widgets/base",
            "overflow": null,
            "_model_module_version": "1.2.0",
            "_view_count": null,
            "flex_flow": null,
            "width": null,
            "min_width": null,
            "border": null,
            "align_items": null,
            "bottom": null,
            "_model_module": "@jupyter-widgets/base",
            "top": null,
            "grid_column": null,
            "overflow_y": null,
            "overflow_x": null,
            "grid_auto_flow": null,
            "grid_area": null,
            "grid_template_columns": null,
            "flex": null,
            "_model_name": "LayoutModel",
            "justify_items": null,
            "grid_row": null,
            "max_height": null,
            "align_content": null,
            "visibility": null,
            "align_self": null,
            "height": null,
            "min_height": null,
            "padding": null,
            "grid_auto_rows": null,
            "grid_gap": null,
            "max_width": null,
            "order": null,
            "_view_module_version": "1.2.0",
            "grid_template_areas": null,
            "object_position": null,
            "object_fit": null,
            "grid_auto_columns": null,
            "margin": null,
            "display": null,
            "left": null
          }
        },
        "ffd43338c5b745f29ac228e75db0c959": {
          "model_module": "@jupyter-widgets/controls",
          "model_name": "DescriptionStyleModel",
          "state": {
            "_view_name": "StyleView",
            "_model_name": "DescriptionStyleModel",
            "description_width": "",
            "_view_module": "@jupyter-widgets/base",
            "_model_module_version": "1.5.0",
            "_view_count": null,
            "_view_module_version": "1.2.0",
            "_model_module": "@jupyter-widgets/controls"
          }
        },
        "2b28fee1bdba46bf8cc89fceb6bd8a88": {
          "model_module": "@jupyter-widgets/base",
          "model_name": "LayoutModel",
          "state": {
            "_view_name": "LayoutView",
            "grid_template_rows": null,
            "right": null,
            "justify_content": null,
            "_view_module": "@jupyter-widgets/base",
            "overflow": null,
            "_model_module_version": "1.2.0",
            "_view_count": null,
            "flex_flow": null,
            "width": null,
            "min_width": null,
            "border": null,
            "align_items": null,
            "bottom": null,
            "_model_module": "@jupyter-widgets/base",
            "top": null,
            "grid_column": null,
            "overflow_y": null,
            "overflow_x": null,
            "grid_auto_flow": null,
            "grid_area": null,
            "grid_template_columns": null,
            "flex": null,
            "_model_name": "LayoutModel",
            "justify_items": null,
            "grid_row": null,
            "max_height": null,
            "align_content": null,
            "visibility": null,
            "align_self": null,
            "height": null,
            "min_height": null,
            "padding": null,
            "grid_auto_rows": null,
            "grid_gap": null,
            "max_width": null,
            "order": null,
            "_view_module_version": "1.2.0",
            "grid_template_areas": null,
            "object_position": null,
            "object_fit": null,
            "grid_auto_columns": null,
            "margin": null,
            "display": null,
            "left": null
          }
        },
        "ffe36e94ec2f4897ad3db341f3174d3c": {
          "model_module": "@jupyter-widgets/controls",
          "model_name": "HBoxModel",
          "state": {
            "_view_name": "HBoxView",
            "_dom_classes": [],
            "_model_name": "HBoxModel",
            "_view_module": "@jupyter-widgets/controls",
            "_model_module_version": "1.5.0",
            "_view_count": null,
            "_view_module_version": "1.5.0",
            "box_style": "",
            "layout": "IPY_MODEL_87efbe319e25469f96019f40f06cb2d1",
            "_model_module": "@jupyter-widgets/controls",
            "children": [
              "IPY_MODEL_84f9cccf85fe467fbbd53dd87fe94b56",
              "IPY_MODEL_ceddb59bca0d400ab2c96cb735d13b77"
            ]
          }
        },
        "87efbe319e25469f96019f40f06cb2d1": {
          "model_module": "@jupyter-widgets/base",
          "model_name": "LayoutModel",
          "state": {
            "_view_name": "LayoutView",
            "grid_template_rows": null,
            "right": null,
            "justify_content": null,
            "_view_module": "@jupyter-widgets/base",
            "overflow": null,
            "_model_module_version": "1.2.0",
            "_view_count": null,
            "flex_flow": null,
            "width": null,
            "min_width": null,
            "border": null,
            "align_items": null,
            "bottom": null,
            "_model_module": "@jupyter-widgets/base",
            "top": null,
            "grid_column": null,
            "overflow_y": null,
            "overflow_x": null,
            "grid_auto_flow": null,
            "grid_area": null,
            "grid_template_columns": null,
            "flex": null,
            "_model_name": "LayoutModel",
            "justify_items": null,
            "grid_row": null,
            "max_height": null,
            "align_content": null,
            "visibility": null,
            "align_self": null,
            "height": null,
            "min_height": null,
            "padding": null,
            "grid_auto_rows": null,
            "grid_gap": null,
            "max_width": null,
            "order": null,
            "_view_module_version": "1.2.0",
            "grid_template_areas": null,
            "object_position": null,
            "object_fit": null,
            "grid_auto_columns": null,
            "margin": null,
            "display": null,
            "left": null
          }
        },
        "84f9cccf85fe467fbbd53dd87fe94b56": {
          "model_module": "@jupyter-widgets/controls",
          "model_name": "FloatProgressModel",
          "state": {
            "_view_name": "ProgressView",
            "style": "IPY_MODEL_07417af07c33497dbf6b9dcfa32b92fc",
            "_dom_classes": [],
            "description": "100%",
            "_model_name": "FloatProgressModel",
            "bar_style": "success",
            "max": 250,
            "_view_module": "@jupyter-widgets/controls",
            "_model_module_version": "1.5.0",
            "value": 250,
            "_view_count": null,
            "_view_module_version": "1.5.0",
            "orientation": "horizontal",
            "min": 0,
            "description_tooltip": null,
            "_model_module": "@jupyter-widgets/controls",
            "layout": "IPY_MODEL_b872da4dc97a4a33a754987d9b119fe1"
          }
        },
        "ceddb59bca0d400ab2c96cb735d13b77": {
          "model_module": "@jupyter-widgets/controls",
          "model_name": "HTMLModel",
          "state": {
            "_view_name": "HTMLView",
            "style": "IPY_MODEL_854003f995114e26bcf4755880566ced",
            "_dom_classes": [],
            "description": "",
            "_model_name": "HTMLModel",
            "placeholder": "​",
            "_view_module": "@jupyter-widgets/controls",
            "_model_module_version": "1.5.0",
            "value": " 250/250 [04:53&lt;00:00,  1.17s/it]",
            "_view_count": null,
            "_view_module_version": "1.5.0",
            "description_tooltip": null,
            "_model_module": "@jupyter-widgets/controls",
            "layout": "IPY_MODEL_3d7eb595cf86473687886e1dc32dd580"
          }
        },
        "07417af07c33497dbf6b9dcfa32b92fc": {
          "model_module": "@jupyter-widgets/controls",
          "model_name": "ProgressStyleModel",
          "state": {
            "_view_name": "StyleView",
            "_model_name": "ProgressStyleModel",
            "description_width": "initial",
            "_view_module": "@jupyter-widgets/base",
            "_model_module_version": "1.5.0",
            "_view_count": null,
            "_view_module_version": "1.2.0",
            "bar_color": null,
            "_model_module": "@jupyter-widgets/controls"
          }
        },
        "b872da4dc97a4a33a754987d9b119fe1": {
          "model_module": "@jupyter-widgets/base",
          "model_name": "LayoutModel",
          "state": {
            "_view_name": "LayoutView",
            "grid_template_rows": null,
            "right": null,
            "justify_content": null,
            "_view_module": "@jupyter-widgets/base",
            "overflow": null,
            "_model_module_version": "1.2.0",
            "_view_count": null,
            "flex_flow": null,
            "width": null,
            "min_width": null,
            "border": null,
            "align_items": null,
            "bottom": null,
            "_model_module": "@jupyter-widgets/base",
            "top": null,
            "grid_column": null,
            "overflow_y": null,
            "overflow_x": null,
            "grid_auto_flow": null,
            "grid_area": null,
            "grid_template_columns": null,
            "flex": null,
            "_model_name": "LayoutModel",
            "justify_items": null,
            "grid_row": null,
            "max_height": null,
            "align_content": null,
            "visibility": null,
            "align_self": null,
            "height": null,
            "min_height": null,
            "padding": null,
            "grid_auto_rows": null,
            "grid_gap": null,
            "max_width": null,
            "order": null,
            "_view_module_version": "1.2.0",
            "grid_template_areas": null,
            "object_position": null,
            "object_fit": null,
            "grid_auto_columns": null,
            "margin": null,
            "display": null,
            "left": null
          }
        },
        "854003f995114e26bcf4755880566ced": {
          "model_module": "@jupyter-widgets/controls",
          "model_name": "DescriptionStyleModel",
          "state": {
            "_view_name": "StyleView",
            "_model_name": "DescriptionStyleModel",
            "description_width": "",
            "_view_module": "@jupyter-widgets/base",
            "_model_module_version": "1.5.0",
            "_view_count": null,
            "_view_module_version": "1.2.0",
            "_model_module": "@jupyter-widgets/controls"
          }
        },
        "3d7eb595cf86473687886e1dc32dd580": {
          "model_module": "@jupyter-widgets/base",
          "model_name": "LayoutModel",
          "state": {
            "_view_name": "LayoutView",
            "grid_template_rows": null,
            "right": null,
            "justify_content": null,
            "_view_module": "@jupyter-widgets/base",
            "overflow": null,
            "_model_module_version": "1.2.0",
            "_view_count": null,
            "flex_flow": null,
            "width": null,
            "min_width": null,
            "border": null,
            "align_items": null,
            "bottom": null,
            "_model_module": "@jupyter-widgets/base",
            "top": null,
            "grid_column": null,
            "overflow_y": null,
            "overflow_x": null,
            "grid_auto_flow": null,
            "grid_area": null,
            "grid_template_columns": null,
            "flex": null,
            "_model_name": "LayoutModel",
            "justify_items": null,
            "grid_row": null,
            "max_height": null,
            "align_content": null,
            "visibility": null,
            "align_self": null,
            "height": null,
            "min_height": null,
            "padding": null,
            "grid_auto_rows": null,
            "grid_gap": null,
            "max_width": null,
            "order": null,
            "_view_module_version": "1.2.0",
            "grid_template_areas": null,
            "object_position": null,
            "object_fit": null,
            "grid_auto_columns": null,
            "margin": null,
            "display": null,
            "left": null
          }
        },
        "1903edd3ca954ebf835db49135d51ecc": {
          "model_module": "@jupyter-widgets/controls",
          "model_name": "HBoxModel",
          "state": {
            "_view_name": "HBoxView",
            "_dom_classes": [],
            "_model_name": "HBoxModel",
            "_view_module": "@jupyter-widgets/controls",
            "_model_module_version": "1.5.0",
            "_view_count": null,
            "_view_module_version": "1.5.0",
            "box_style": "",
            "layout": "IPY_MODEL_5c5f855e643d472ba63a2d6e87785026",
            "_model_module": "@jupyter-widgets/controls",
            "children": [
              "IPY_MODEL_ccff68d6b7834568ab7793864b385239",
              "IPY_MODEL_48073f7fee314732a384f22fa7e48fb1"
            ]
          }
        },
        "5c5f855e643d472ba63a2d6e87785026": {
          "model_module": "@jupyter-widgets/base",
          "model_name": "LayoutModel",
          "state": {
            "_view_name": "LayoutView",
            "grid_template_rows": null,
            "right": null,
            "justify_content": null,
            "_view_module": "@jupyter-widgets/base",
            "overflow": null,
            "_model_module_version": "1.2.0",
            "_view_count": null,
            "flex_flow": null,
            "width": null,
            "min_width": null,
            "border": null,
            "align_items": null,
            "bottom": null,
            "_model_module": "@jupyter-widgets/base",
            "top": null,
            "grid_column": null,
            "overflow_y": null,
            "overflow_x": null,
            "grid_auto_flow": null,
            "grid_area": null,
            "grid_template_columns": null,
            "flex": null,
            "_model_name": "LayoutModel",
            "justify_items": null,
            "grid_row": null,
            "max_height": null,
            "align_content": null,
            "visibility": null,
            "align_self": null,
            "height": null,
            "min_height": null,
            "padding": null,
            "grid_auto_rows": null,
            "grid_gap": null,
            "max_width": null,
            "order": null,
            "_view_module_version": "1.2.0",
            "grid_template_areas": null,
            "object_position": null,
            "object_fit": null,
            "grid_auto_columns": null,
            "margin": null,
            "display": null,
            "left": null
          }
        },
        "ccff68d6b7834568ab7793864b385239": {
          "model_module": "@jupyter-widgets/controls",
          "model_name": "FloatProgressModel",
          "state": {
            "_view_name": "ProgressView",
            "style": "IPY_MODEL_b0a611af0fdd464aaf9ab1337dc07397",
            "_dom_classes": [],
            "description": "100%",
            "_model_name": "FloatProgressModel",
            "bar_style": "success",
            "max": 250,
            "_view_module": "@jupyter-widgets/controls",
            "_model_module_version": "1.5.0",
            "value": 250,
            "_view_count": null,
            "_view_module_version": "1.5.0",
            "orientation": "horizontal",
            "min": 0,
            "description_tooltip": null,
            "_model_module": "@jupyter-widgets/controls",
            "layout": "IPY_MODEL_ab21ab86b0b1418695c5240a03271eb1"
          }
        },
        "48073f7fee314732a384f22fa7e48fb1": {
          "model_module": "@jupyter-widgets/controls",
          "model_name": "HTMLModel",
          "state": {
            "_view_name": "HTMLView",
            "style": "IPY_MODEL_896c55457ced43eca7f15fb5d235b481",
            "_dom_classes": [],
            "description": "",
            "_model_name": "HTMLModel",
            "placeholder": "​",
            "_view_module": "@jupyter-widgets/controls",
            "_model_module_version": "1.5.0",
            "value": " 250/250 [00:38&lt;00:00,  6.43it/s]",
            "_view_count": null,
            "_view_module_version": "1.5.0",
            "description_tooltip": null,
            "_model_module": "@jupyter-widgets/controls",
            "layout": "IPY_MODEL_657f1cee441148b1847a1467201f6104"
          }
        },
        "b0a611af0fdd464aaf9ab1337dc07397": {
          "model_module": "@jupyter-widgets/controls",
          "model_name": "ProgressStyleModel",
          "state": {
            "_view_name": "StyleView",
            "_model_name": "ProgressStyleModel",
            "description_width": "initial",
            "_view_module": "@jupyter-widgets/base",
            "_model_module_version": "1.5.0",
            "_view_count": null,
            "_view_module_version": "1.2.0",
            "bar_color": null,
            "_model_module": "@jupyter-widgets/controls"
          }
        },
        "ab21ab86b0b1418695c5240a03271eb1": {
          "model_module": "@jupyter-widgets/base",
          "model_name": "LayoutModel",
          "state": {
            "_view_name": "LayoutView",
            "grid_template_rows": null,
            "right": null,
            "justify_content": null,
            "_view_module": "@jupyter-widgets/base",
            "overflow": null,
            "_model_module_version": "1.2.0",
            "_view_count": null,
            "flex_flow": null,
            "width": null,
            "min_width": null,
            "border": null,
            "align_items": null,
            "bottom": null,
            "_model_module": "@jupyter-widgets/base",
            "top": null,
            "grid_column": null,
            "overflow_y": null,
            "overflow_x": null,
            "grid_auto_flow": null,
            "grid_area": null,
            "grid_template_columns": null,
            "flex": null,
            "_model_name": "LayoutModel",
            "justify_items": null,
            "grid_row": null,
            "max_height": null,
            "align_content": null,
            "visibility": null,
            "align_self": null,
            "height": null,
            "min_height": null,
            "padding": null,
            "grid_auto_rows": null,
            "grid_gap": null,
            "max_width": null,
            "order": null,
            "_view_module_version": "1.2.0",
            "grid_template_areas": null,
            "object_position": null,
            "object_fit": null,
            "grid_auto_columns": null,
            "margin": null,
            "display": null,
            "left": null
          }
        },
        "896c55457ced43eca7f15fb5d235b481": {
          "model_module": "@jupyter-widgets/controls",
          "model_name": "DescriptionStyleModel",
          "state": {
            "_view_name": "StyleView",
            "_model_name": "DescriptionStyleModel",
            "description_width": "",
            "_view_module": "@jupyter-widgets/base",
            "_model_module_version": "1.5.0",
            "_view_count": null,
            "_view_module_version": "1.2.0",
            "_model_module": "@jupyter-widgets/controls"
          }
        },
        "657f1cee441148b1847a1467201f6104": {
          "model_module": "@jupyter-widgets/base",
          "model_name": "LayoutModel",
          "state": {
            "_view_name": "LayoutView",
            "grid_template_rows": null,
            "right": null,
            "justify_content": null,
            "_view_module": "@jupyter-widgets/base",
            "overflow": null,
            "_model_module_version": "1.2.0",
            "_view_count": null,
            "flex_flow": null,
            "width": null,
            "min_width": null,
            "border": null,
            "align_items": null,
            "bottom": null,
            "_model_module": "@jupyter-widgets/base",
            "top": null,
            "grid_column": null,
            "overflow_y": null,
            "overflow_x": null,
            "grid_auto_flow": null,
            "grid_area": null,
            "grid_template_columns": null,
            "flex": null,
            "_model_name": "LayoutModel",
            "justify_items": null,
            "grid_row": null,
            "max_height": null,
            "align_content": null,
            "visibility": null,
            "align_self": null,
            "height": null,
            "min_height": null,
            "padding": null,
            "grid_auto_rows": null,
            "grid_gap": null,
            "max_width": null,
            "order": null,
            "_view_module_version": "1.2.0",
            "grid_template_areas": null,
            "object_position": null,
            "object_fit": null,
            "grid_auto_columns": null,
            "margin": null,
            "display": null,
            "left": null
          }
        },
        "37a28e7c887b48d392cbc9665861ebfd": {
          "model_module": "@jupyter-widgets/controls",
          "model_name": "HBoxModel",
          "state": {
            "_view_name": "HBoxView",
            "_dom_classes": [],
            "_model_name": "HBoxModel",
            "_view_module": "@jupyter-widgets/controls",
            "_model_module_version": "1.5.0",
            "_view_count": null,
            "_view_module_version": "1.5.0",
            "box_style": "",
            "layout": "IPY_MODEL_5ea071611e86417eb4730b7c3c8e369f",
            "_model_module": "@jupyter-widgets/controls",
            "children": [
              "IPY_MODEL_636ba896320d4e358022883e12e4a697",
              "IPY_MODEL_2bba9c567f42473f957eac3bab2889b2"
            ]
          }
        },
        "5ea071611e86417eb4730b7c3c8e369f": {
          "model_module": "@jupyter-widgets/base",
          "model_name": "LayoutModel",
          "state": {
            "_view_name": "LayoutView",
            "grid_template_rows": null,
            "right": null,
            "justify_content": null,
            "_view_module": "@jupyter-widgets/base",
            "overflow": null,
            "_model_module_version": "1.2.0",
            "_view_count": null,
            "flex_flow": null,
            "width": null,
            "min_width": null,
            "border": null,
            "align_items": null,
            "bottom": null,
            "_model_module": "@jupyter-widgets/base",
            "top": null,
            "grid_column": null,
            "overflow_y": null,
            "overflow_x": null,
            "grid_auto_flow": null,
            "grid_area": null,
            "grid_template_columns": null,
            "flex": null,
            "_model_name": "LayoutModel",
            "justify_items": null,
            "grid_row": null,
            "max_height": null,
            "align_content": null,
            "visibility": null,
            "align_self": null,
            "height": null,
            "min_height": null,
            "padding": null,
            "grid_auto_rows": null,
            "grid_gap": null,
            "max_width": null,
            "order": null,
            "_view_module_version": "1.2.0",
            "grid_template_areas": null,
            "object_position": null,
            "object_fit": null,
            "grid_auto_columns": null,
            "margin": null,
            "display": null,
            "left": null
          }
        },
        "636ba896320d4e358022883e12e4a697": {
          "model_module": "@jupyter-widgets/controls",
          "model_name": "FloatProgressModel",
          "state": {
            "_view_name": "ProgressView",
            "style": "IPY_MODEL_66c03ac2b52e47df94dad5d20db0f035",
            "_dom_classes": [],
            "description": "100%",
            "_model_name": "FloatProgressModel",
            "bar_style": "success",
            "max": 250,
            "_view_module": "@jupyter-widgets/controls",
            "_model_module_version": "1.5.0",
            "value": 250,
            "_view_count": null,
            "_view_module_version": "1.5.0",
            "orientation": "horizontal",
            "min": 0,
            "description_tooltip": null,
            "_model_module": "@jupyter-widgets/controls",
            "layout": "IPY_MODEL_0443f21eba3b4f8a9ea57af439cbbe3b"
          }
        },
        "2bba9c567f42473f957eac3bab2889b2": {
          "model_module": "@jupyter-widgets/controls",
          "model_name": "HTMLModel",
          "state": {
            "_view_name": "HTMLView",
            "style": "IPY_MODEL_9732a393ecc040deaf8361646bd911eb",
            "_dom_classes": [],
            "description": "",
            "_model_name": "HTMLModel",
            "placeholder": "​",
            "_view_module": "@jupyter-widgets/controls",
            "_model_module_version": "1.5.0",
            "value": " 250/250 [00:19&lt;00:00, 12.68it/s]",
            "_view_count": null,
            "_view_module_version": "1.5.0",
            "description_tooltip": null,
            "_model_module": "@jupyter-widgets/controls",
            "layout": "IPY_MODEL_63096a74e6574b5ba246a50d4ad73ecd"
          }
        },
        "66c03ac2b52e47df94dad5d20db0f035": {
          "model_module": "@jupyter-widgets/controls",
          "model_name": "ProgressStyleModel",
          "state": {
            "_view_name": "StyleView",
            "_model_name": "ProgressStyleModel",
            "description_width": "initial",
            "_view_module": "@jupyter-widgets/base",
            "_model_module_version": "1.5.0",
            "_view_count": null,
            "_view_module_version": "1.2.0",
            "bar_color": null,
            "_model_module": "@jupyter-widgets/controls"
          }
        },
        "0443f21eba3b4f8a9ea57af439cbbe3b": {
          "model_module": "@jupyter-widgets/base",
          "model_name": "LayoutModel",
          "state": {
            "_view_name": "LayoutView",
            "grid_template_rows": null,
            "right": null,
            "justify_content": null,
            "_view_module": "@jupyter-widgets/base",
            "overflow": null,
            "_model_module_version": "1.2.0",
            "_view_count": null,
            "flex_flow": null,
            "width": null,
            "min_width": null,
            "border": null,
            "align_items": null,
            "bottom": null,
            "_model_module": "@jupyter-widgets/base",
            "top": null,
            "grid_column": null,
            "overflow_y": null,
            "overflow_x": null,
            "grid_auto_flow": null,
            "grid_area": null,
            "grid_template_columns": null,
            "flex": null,
            "_model_name": "LayoutModel",
            "justify_items": null,
            "grid_row": null,
            "max_height": null,
            "align_content": null,
            "visibility": null,
            "align_self": null,
            "height": null,
            "min_height": null,
            "padding": null,
            "grid_auto_rows": null,
            "grid_gap": null,
            "max_width": null,
            "order": null,
            "_view_module_version": "1.2.0",
            "grid_template_areas": null,
            "object_position": null,
            "object_fit": null,
            "grid_auto_columns": null,
            "margin": null,
            "display": null,
            "left": null
          }
        },
        "9732a393ecc040deaf8361646bd911eb": {
          "model_module": "@jupyter-widgets/controls",
          "model_name": "DescriptionStyleModel",
          "state": {
            "_view_name": "StyleView",
            "_model_name": "DescriptionStyleModel",
            "description_width": "",
            "_view_module": "@jupyter-widgets/base",
            "_model_module_version": "1.5.0",
            "_view_count": null,
            "_view_module_version": "1.2.0",
            "_model_module": "@jupyter-widgets/controls"
          }
        },
        "63096a74e6574b5ba246a50d4ad73ecd": {
          "model_module": "@jupyter-widgets/base",
          "model_name": "LayoutModel",
          "state": {
            "_view_name": "LayoutView",
            "grid_template_rows": null,
            "right": null,
            "justify_content": null,
            "_view_module": "@jupyter-widgets/base",
            "overflow": null,
            "_model_module_version": "1.2.0",
            "_view_count": null,
            "flex_flow": null,
            "width": null,
            "min_width": null,
            "border": null,
            "align_items": null,
            "bottom": null,
            "_model_module": "@jupyter-widgets/base",
            "top": null,
            "grid_column": null,
            "overflow_y": null,
            "overflow_x": null,
            "grid_auto_flow": null,
            "grid_area": null,
            "grid_template_columns": null,
            "flex": null,
            "_model_name": "LayoutModel",
            "justify_items": null,
            "grid_row": null,
            "max_height": null,
            "align_content": null,
            "visibility": null,
            "align_self": null,
            "height": null,
            "min_height": null,
            "padding": null,
            "grid_auto_rows": null,
            "grid_gap": null,
            "max_width": null,
            "order": null,
            "_view_module_version": "1.2.0",
            "grid_template_areas": null,
            "object_position": null,
            "object_fit": null,
            "grid_auto_columns": null,
            "margin": null,
            "display": null,
            "left": null
          }
        },
        "4a1124d957734b7ca71456392198e742": {
          "model_module": "@jupyter-widgets/controls",
          "model_name": "HBoxModel",
          "state": {
            "_view_name": "HBoxView",
            "_dom_classes": [],
            "_model_name": "HBoxModel",
            "_view_module": "@jupyter-widgets/controls",
            "_model_module_version": "1.5.0",
            "_view_count": null,
            "_view_module_version": "1.5.0",
            "box_style": "",
            "layout": "IPY_MODEL_b3119190a94e4cb480751de605880617",
            "_model_module": "@jupyter-widgets/controls",
            "children": [
              "IPY_MODEL_c5355fdf230c43bbbc40ace9c329c938",
              "IPY_MODEL_45c4813248604720a8761013cb55d8b5"
            ]
          }
        },
        "b3119190a94e4cb480751de605880617": {
          "model_module": "@jupyter-widgets/base",
          "model_name": "LayoutModel",
          "state": {
            "_view_name": "LayoutView",
            "grid_template_rows": null,
            "right": null,
            "justify_content": null,
            "_view_module": "@jupyter-widgets/base",
            "overflow": null,
            "_model_module_version": "1.2.0",
            "_view_count": null,
            "flex_flow": null,
            "width": null,
            "min_width": null,
            "border": null,
            "align_items": null,
            "bottom": null,
            "_model_module": "@jupyter-widgets/base",
            "top": null,
            "grid_column": null,
            "overflow_y": null,
            "overflow_x": null,
            "grid_auto_flow": null,
            "grid_area": null,
            "grid_template_columns": null,
            "flex": null,
            "_model_name": "LayoutModel",
            "justify_items": null,
            "grid_row": null,
            "max_height": null,
            "align_content": null,
            "visibility": null,
            "align_self": null,
            "height": null,
            "min_height": null,
            "padding": null,
            "grid_auto_rows": null,
            "grid_gap": null,
            "max_width": null,
            "order": null,
            "_view_module_version": "1.2.0",
            "grid_template_areas": null,
            "object_position": null,
            "object_fit": null,
            "grid_auto_columns": null,
            "margin": null,
            "display": null,
            "left": null
          }
        },
        "c5355fdf230c43bbbc40ace9c329c938": {
          "model_module": "@jupyter-widgets/controls",
          "model_name": "FloatProgressModel",
          "state": {
            "_view_name": "ProgressView",
            "style": "IPY_MODEL_59a18b01e2c8423c8cca3aa492a0132b",
            "_dom_classes": [],
            "description": "100%",
            "_model_name": "FloatProgressModel",
            "bar_style": "success",
            "max": 250,
            "_view_module": "@jupyter-widgets/controls",
            "_model_module_version": "1.5.0",
            "value": 250,
            "_view_count": null,
            "_view_module_version": "1.5.0",
            "orientation": "horizontal",
            "min": 0,
            "description_tooltip": null,
            "_model_module": "@jupyter-widgets/controls",
            "layout": "IPY_MODEL_f2cad8709c704c269649ca567e7bce63"
          }
        },
        "45c4813248604720a8761013cb55d8b5": {
          "model_module": "@jupyter-widgets/controls",
          "model_name": "HTMLModel",
          "state": {
            "_view_name": "HTMLView",
            "style": "IPY_MODEL_91b406e98a1740529d002e0d532595e9",
            "_dom_classes": [],
            "description": "",
            "_model_name": "HTMLModel",
            "placeholder": "​",
            "_view_module": "@jupyter-widgets/controls",
            "_model_module_version": "1.5.0",
            "value": " 250/250 [03:55&lt;00:00,  1.06it/s]",
            "_view_count": null,
            "_view_module_version": "1.5.0",
            "description_tooltip": null,
            "_model_module": "@jupyter-widgets/controls",
            "layout": "IPY_MODEL_404baf31855c4fbca9d489a9a0639c9d"
          }
        },
        "59a18b01e2c8423c8cca3aa492a0132b": {
          "model_module": "@jupyter-widgets/controls",
          "model_name": "ProgressStyleModel",
          "state": {
            "_view_name": "StyleView",
            "_model_name": "ProgressStyleModel",
            "description_width": "initial",
            "_view_module": "@jupyter-widgets/base",
            "_model_module_version": "1.5.0",
            "_view_count": null,
            "_view_module_version": "1.2.0",
            "bar_color": null,
            "_model_module": "@jupyter-widgets/controls"
          }
        },
        "f2cad8709c704c269649ca567e7bce63": {
          "model_module": "@jupyter-widgets/base",
          "model_name": "LayoutModel",
          "state": {
            "_view_name": "LayoutView",
            "grid_template_rows": null,
            "right": null,
            "justify_content": null,
            "_view_module": "@jupyter-widgets/base",
            "overflow": null,
            "_model_module_version": "1.2.0",
            "_view_count": null,
            "flex_flow": null,
            "width": null,
            "min_width": null,
            "border": null,
            "align_items": null,
            "bottom": null,
            "_model_module": "@jupyter-widgets/base",
            "top": null,
            "grid_column": null,
            "overflow_y": null,
            "overflow_x": null,
            "grid_auto_flow": null,
            "grid_area": null,
            "grid_template_columns": null,
            "flex": null,
            "_model_name": "LayoutModel",
            "justify_items": null,
            "grid_row": null,
            "max_height": null,
            "align_content": null,
            "visibility": null,
            "align_self": null,
            "height": null,
            "min_height": null,
            "padding": null,
            "grid_auto_rows": null,
            "grid_gap": null,
            "max_width": null,
            "order": null,
            "_view_module_version": "1.2.0",
            "grid_template_areas": null,
            "object_position": null,
            "object_fit": null,
            "grid_auto_columns": null,
            "margin": null,
            "display": null,
            "left": null
          }
        },
        "91b406e98a1740529d002e0d532595e9": {
          "model_module": "@jupyter-widgets/controls",
          "model_name": "DescriptionStyleModel",
          "state": {
            "_view_name": "StyleView",
            "_model_name": "DescriptionStyleModel",
            "description_width": "",
            "_view_module": "@jupyter-widgets/base",
            "_model_module_version": "1.5.0",
            "_view_count": null,
            "_view_module_version": "1.2.0",
            "_model_module": "@jupyter-widgets/controls"
          }
        },
        "404baf31855c4fbca9d489a9a0639c9d": {
          "model_module": "@jupyter-widgets/base",
          "model_name": "LayoutModel",
          "state": {
            "_view_name": "LayoutView",
            "grid_template_rows": null,
            "right": null,
            "justify_content": null,
            "_view_module": "@jupyter-widgets/base",
            "overflow": null,
            "_model_module_version": "1.2.0",
            "_view_count": null,
            "flex_flow": null,
            "width": null,
            "min_width": null,
            "border": null,
            "align_items": null,
            "bottom": null,
            "_model_module": "@jupyter-widgets/base",
            "top": null,
            "grid_column": null,
            "overflow_y": null,
            "overflow_x": null,
            "grid_auto_flow": null,
            "grid_area": null,
            "grid_template_columns": null,
            "flex": null,
            "_model_name": "LayoutModel",
            "justify_items": null,
            "grid_row": null,
            "max_height": null,
            "align_content": null,
            "visibility": null,
            "align_self": null,
            "height": null,
            "min_height": null,
            "padding": null,
            "grid_auto_rows": null,
            "grid_gap": null,
            "max_width": null,
            "order": null,
            "_view_module_version": "1.2.0",
            "grid_template_areas": null,
            "object_position": null,
            "object_fit": null,
            "grid_auto_columns": null,
            "margin": null,
            "display": null,
            "left": null
          }
        },
        "9256096121644219b3b615a523d55618": {
          "model_module": "@jupyter-widgets/controls",
          "model_name": "HBoxModel",
          "state": {
            "_view_name": "HBoxView",
            "_dom_classes": [],
            "_model_name": "HBoxModel",
            "_view_module": "@jupyter-widgets/controls",
            "_model_module_version": "1.5.0",
            "_view_count": null,
            "_view_module_version": "1.5.0",
            "box_style": "",
            "layout": "IPY_MODEL_22c29206e6c1486782e5ee5924394fa5",
            "_model_module": "@jupyter-widgets/controls",
            "children": [
              "IPY_MODEL_44250b920060456281b1b24b50a6077d",
              "IPY_MODEL_262dbaa7acae48729373f55da46b4e97"
            ]
          }
        },
        "22c29206e6c1486782e5ee5924394fa5": {
          "model_module": "@jupyter-widgets/base",
          "model_name": "LayoutModel",
          "state": {
            "_view_name": "LayoutView",
            "grid_template_rows": null,
            "right": null,
            "justify_content": null,
            "_view_module": "@jupyter-widgets/base",
            "overflow": null,
            "_model_module_version": "1.2.0",
            "_view_count": null,
            "flex_flow": null,
            "width": null,
            "min_width": null,
            "border": null,
            "align_items": null,
            "bottom": null,
            "_model_module": "@jupyter-widgets/base",
            "top": null,
            "grid_column": null,
            "overflow_y": null,
            "overflow_x": null,
            "grid_auto_flow": null,
            "grid_area": null,
            "grid_template_columns": null,
            "flex": null,
            "_model_name": "LayoutModel",
            "justify_items": null,
            "grid_row": null,
            "max_height": null,
            "align_content": null,
            "visibility": null,
            "align_self": null,
            "height": null,
            "min_height": null,
            "padding": null,
            "grid_auto_rows": null,
            "grid_gap": null,
            "max_width": null,
            "order": null,
            "_view_module_version": "1.2.0",
            "grid_template_areas": null,
            "object_position": null,
            "object_fit": null,
            "grid_auto_columns": null,
            "margin": null,
            "display": null,
            "left": null
          }
        },
        "44250b920060456281b1b24b50a6077d": {
          "model_module": "@jupyter-widgets/controls",
          "model_name": "FloatProgressModel",
          "state": {
            "_view_name": "ProgressView",
            "style": "IPY_MODEL_1039d8b134b84db4acc8e2fd6cfdf7b0",
            "_dom_classes": [],
            "description": "100%",
            "_model_name": "FloatProgressModel",
            "bar_style": "success",
            "max": 250,
            "_view_module": "@jupyter-widgets/controls",
            "_model_module_version": "1.5.0",
            "value": 250,
            "_view_count": null,
            "_view_module_version": "1.5.0",
            "orientation": "horizontal",
            "min": 0,
            "description_tooltip": null,
            "_model_module": "@jupyter-widgets/controls",
            "layout": "IPY_MODEL_0a0413f99f934c2c9c4adb4874c668a5"
          }
        },
        "262dbaa7acae48729373f55da46b4e97": {
          "model_module": "@jupyter-widgets/controls",
          "model_name": "HTMLModel",
          "state": {
            "_view_name": "HTMLView",
            "style": "IPY_MODEL_27766f4014414f989b0c197fea50eccc",
            "_dom_classes": [],
            "description": "",
            "_model_name": "HTMLModel",
            "placeholder": "​",
            "_view_module": "@jupyter-widgets/controls",
            "_model_module_version": "1.5.0",
            "value": " 250/250 [00:38&lt;00:00,  6.45it/s]",
            "_view_count": null,
            "_view_module_version": "1.5.0",
            "description_tooltip": null,
            "_model_module": "@jupyter-widgets/controls",
            "layout": "IPY_MODEL_217ced33ac9943fd989d09d4738202da"
          }
        },
        "1039d8b134b84db4acc8e2fd6cfdf7b0": {
          "model_module": "@jupyter-widgets/controls",
          "model_name": "ProgressStyleModel",
          "state": {
            "_view_name": "StyleView",
            "_model_name": "ProgressStyleModel",
            "description_width": "initial",
            "_view_module": "@jupyter-widgets/base",
            "_model_module_version": "1.5.0",
            "_view_count": null,
            "_view_module_version": "1.2.0",
            "bar_color": null,
            "_model_module": "@jupyter-widgets/controls"
          }
        },
        "0a0413f99f934c2c9c4adb4874c668a5": {
          "model_module": "@jupyter-widgets/base",
          "model_name": "LayoutModel",
          "state": {
            "_view_name": "LayoutView",
            "grid_template_rows": null,
            "right": null,
            "justify_content": null,
            "_view_module": "@jupyter-widgets/base",
            "overflow": null,
            "_model_module_version": "1.2.0",
            "_view_count": null,
            "flex_flow": null,
            "width": null,
            "min_width": null,
            "border": null,
            "align_items": null,
            "bottom": null,
            "_model_module": "@jupyter-widgets/base",
            "top": null,
            "grid_column": null,
            "overflow_y": null,
            "overflow_x": null,
            "grid_auto_flow": null,
            "grid_area": null,
            "grid_template_columns": null,
            "flex": null,
            "_model_name": "LayoutModel",
            "justify_items": null,
            "grid_row": null,
            "max_height": null,
            "align_content": null,
            "visibility": null,
            "align_self": null,
            "height": null,
            "min_height": null,
            "padding": null,
            "grid_auto_rows": null,
            "grid_gap": null,
            "max_width": null,
            "order": null,
            "_view_module_version": "1.2.0",
            "grid_template_areas": null,
            "object_position": null,
            "object_fit": null,
            "grid_auto_columns": null,
            "margin": null,
            "display": null,
            "left": null
          }
        },
        "27766f4014414f989b0c197fea50eccc": {
          "model_module": "@jupyter-widgets/controls",
          "model_name": "DescriptionStyleModel",
          "state": {
            "_view_name": "StyleView",
            "_model_name": "DescriptionStyleModel",
            "description_width": "",
            "_view_module": "@jupyter-widgets/base",
            "_model_module_version": "1.5.0",
            "_view_count": null,
            "_view_module_version": "1.2.0",
            "_model_module": "@jupyter-widgets/controls"
          }
        },
        "217ced33ac9943fd989d09d4738202da": {
          "model_module": "@jupyter-widgets/base",
          "model_name": "LayoutModel",
          "state": {
            "_view_name": "LayoutView",
            "grid_template_rows": null,
            "right": null,
            "justify_content": null,
            "_view_module": "@jupyter-widgets/base",
            "overflow": null,
            "_model_module_version": "1.2.0",
            "_view_count": null,
            "flex_flow": null,
            "width": null,
            "min_width": null,
            "border": null,
            "align_items": null,
            "bottom": null,
            "_model_module": "@jupyter-widgets/base",
            "top": null,
            "grid_column": null,
            "overflow_y": null,
            "overflow_x": null,
            "grid_auto_flow": null,
            "grid_area": null,
            "grid_template_columns": null,
            "flex": null,
            "_model_name": "LayoutModel",
            "justify_items": null,
            "grid_row": null,
            "max_height": null,
            "align_content": null,
            "visibility": null,
            "align_self": null,
            "height": null,
            "min_height": null,
            "padding": null,
            "grid_auto_rows": null,
            "grid_gap": null,
            "max_width": null,
            "order": null,
            "_view_module_version": "1.2.0",
            "grid_template_areas": null,
            "object_position": null,
            "object_fit": null,
            "grid_auto_columns": null,
            "margin": null,
            "display": null,
            "left": null
          }
        },
        "90175ef6fe304877b229d629ef4b0e03": {
          "model_module": "@jupyter-widgets/controls",
          "model_name": "HBoxModel",
          "state": {
            "_view_name": "HBoxView",
            "_dom_classes": [],
            "_model_name": "HBoxModel",
            "_view_module": "@jupyter-widgets/controls",
            "_model_module_version": "1.5.0",
            "_view_count": null,
            "_view_module_version": "1.5.0",
            "box_style": "",
            "layout": "IPY_MODEL_56ac9f9960904b9db178383536b72324",
            "_model_module": "@jupyter-widgets/controls",
            "children": [
              "IPY_MODEL_119235c06d5f427bb5ad4a30f5447fbe",
              "IPY_MODEL_038d338fe6b849b38c5c4cb55ee5845a"
            ]
          }
        },
        "56ac9f9960904b9db178383536b72324": {
          "model_module": "@jupyter-widgets/base",
          "model_name": "LayoutModel",
          "state": {
            "_view_name": "LayoutView",
            "grid_template_rows": null,
            "right": null,
            "justify_content": null,
            "_view_module": "@jupyter-widgets/base",
            "overflow": null,
            "_model_module_version": "1.2.0",
            "_view_count": null,
            "flex_flow": null,
            "width": null,
            "min_width": null,
            "border": null,
            "align_items": null,
            "bottom": null,
            "_model_module": "@jupyter-widgets/base",
            "top": null,
            "grid_column": null,
            "overflow_y": null,
            "overflow_x": null,
            "grid_auto_flow": null,
            "grid_area": null,
            "grid_template_columns": null,
            "flex": null,
            "_model_name": "LayoutModel",
            "justify_items": null,
            "grid_row": null,
            "max_height": null,
            "align_content": null,
            "visibility": null,
            "align_self": null,
            "height": null,
            "min_height": null,
            "padding": null,
            "grid_auto_rows": null,
            "grid_gap": null,
            "max_width": null,
            "order": null,
            "_view_module_version": "1.2.0",
            "grid_template_areas": null,
            "object_position": null,
            "object_fit": null,
            "grid_auto_columns": null,
            "margin": null,
            "display": null,
            "left": null
          }
        },
        "119235c06d5f427bb5ad4a30f5447fbe": {
          "model_module": "@jupyter-widgets/controls",
          "model_name": "FloatProgressModel",
          "state": {
            "_view_name": "ProgressView",
            "style": "IPY_MODEL_2a752bc8cde14b38949efe52ce2d5ba6",
            "_dom_classes": [],
            "description": "100%",
            "_model_name": "FloatProgressModel",
            "bar_style": "success",
            "max": 250,
            "_view_module": "@jupyter-widgets/controls",
            "_model_module_version": "1.5.0",
            "value": 250,
            "_view_count": null,
            "_view_module_version": "1.5.0",
            "orientation": "horizontal",
            "min": 0,
            "description_tooltip": null,
            "_model_module": "@jupyter-widgets/controls",
            "layout": "IPY_MODEL_9acdc69e96fd4297b9dce16fdae51b29"
          }
        },
        "038d338fe6b849b38c5c4cb55ee5845a": {
          "model_module": "@jupyter-widgets/controls",
          "model_name": "HTMLModel",
          "state": {
            "_view_name": "HTMLView",
            "style": "IPY_MODEL_3611f1c6269447fa9ab1c4d7be1e9205",
            "_dom_classes": [],
            "description": "",
            "_model_name": "HTMLModel",
            "placeholder": "​",
            "_view_module": "@jupyter-widgets/controls",
            "_model_module_version": "1.5.0",
            "value": " 250/250 [00:19&lt;00:00, 12.86it/s]",
            "_view_count": null,
            "_view_module_version": "1.5.0",
            "description_tooltip": null,
            "_model_module": "@jupyter-widgets/controls",
            "layout": "IPY_MODEL_09dd639d019048799f5747b814fe471e"
          }
        },
        "2a752bc8cde14b38949efe52ce2d5ba6": {
          "model_module": "@jupyter-widgets/controls",
          "model_name": "ProgressStyleModel",
          "state": {
            "_view_name": "StyleView",
            "_model_name": "ProgressStyleModel",
            "description_width": "initial",
            "_view_module": "@jupyter-widgets/base",
            "_model_module_version": "1.5.0",
            "_view_count": null,
            "_view_module_version": "1.2.0",
            "bar_color": null,
            "_model_module": "@jupyter-widgets/controls"
          }
        },
        "9acdc69e96fd4297b9dce16fdae51b29": {
          "model_module": "@jupyter-widgets/base",
          "model_name": "LayoutModel",
          "state": {
            "_view_name": "LayoutView",
            "grid_template_rows": null,
            "right": null,
            "justify_content": null,
            "_view_module": "@jupyter-widgets/base",
            "overflow": null,
            "_model_module_version": "1.2.0",
            "_view_count": null,
            "flex_flow": null,
            "width": null,
            "min_width": null,
            "border": null,
            "align_items": null,
            "bottom": null,
            "_model_module": "@jupyter-widgets/base",
            "top": null,
            "grid_column": null,
            "overflow_y": null,
            "overflow_x": null,
            "grid_auto_flow": null,
            "grid_area": null,
            "grid_template_columns": null,
            "flex": null,
            "_model_name": "LayoutModel",
            "justify_items": null,
            "grid_row": null,
            "max_height": null,
            "align_content": null,
            "visibility": null,
            "align_self": null,
            "height": null,
            "min_height": null,
            "padding": null,
            "grid_auto_rows": null,
            "grid_gap": null,
            "max_width": null,
            "order": null,
            "_view_module_version": "1.2.0",
            "grid_template_areas": null,
            "object_position": null,
            "object_fit": null,
            "grid_auto_columns": null,
            "margin": null,
            "display": null,
            "left": null
          }
        },
        "3611f1c6269447fa9ab1c4d7be1e9205": {
          "model_module": "@jupyter-widgets/controls",
          "model_name": "DescriptionStyleModel",
          "state": {
            "_view_name": "StyleView",
            "_model_name": "DescriptionStyleModel",
            "description_width": "",
            "_view_module": "@jupyter-widgets/base",
            "_model_module_version": "1.5.0",
            "_view_count": null,
            "_view_module_version": "1.2.0",
            "_model_module": "@jupyter-widgets/controls"
          }
        },
        "09dd639d019048799f5747b814fe471e": {
          "model_module": "@jupyter-widgets/base",
          "model_name": "LayoutModel",
          "state": {
            "_view_name": "LayoutView",
            "grid_template_rows": null,
            "right": null,
            "justify_content": null,
            "_view_module": "@jupyter-widgets/base",
            "overflow": null,
            "_model_module_version": "1.2.0",
            "_view_count": null,
            "flex_flow": null,
            "width": null,
            "min_width": null,
            "border": null,
            "align_items": null,
            "bottom": null,
            "_model_module": "@jupyter-widgets/base",
            "top": null,
            "grid_column": null,
            "overflow_y": null,
            "overflow_x": null,
            "grid_auto_flow": null,
            "grid_area": null,
            "grid_template_columns": null,
            "flex": null,
            "_model_name": "LayoutModel",
            "justify_items": null,
            "grid_row": null,
            "max_height": null,
            "align_content": null,
            "visibility": null,
            "align_self": null,
            "height": null,
            "min_height": null,
            "padding": null,
            "grid_auto_rows": null,
            "grid_gap": null,
            "max_width": null,
            "order": null,
            "_view_module_version": "1.2.0",
            "grid_template_areas": null,
            "object_position": null,
            "object_fit": null,
            "grid_auto_columns": null,
            "margin": null,
            "display": null,
            "left": null
          }
        },
        "9b9174bf193c456d93c884a4393f9951": {
          "model_module": "@jupyter-widgets/controls",
          "model_name": "HBoxModel",
          "state": {
            "_view_name": "HBoxView",
            "_dom_classes": [],
            "_model_name": "HBoxModel",
            "_view_module": "@jupyter-widgets/controls",
            "_model_module_version": "1.5.0",
            "_view_count": null,
            "_view_module_version": "1.5.0",
            "box_style": "",
            "layout": "IPY_MODEL_a526a30db0fc4a04bb60662a965e095b",
            "_model_module": "@jupyter-widgets/controls",
            "children": [
              "IPY_MODEL_832141675195413d922719eda15858c5",
              "IPY_MODEL_a3827dd4bd1d400ca3e96dd6819de038"
            ]
          }
        },
        "a526a30db0fc4a04bb60662a965e095b": {
          "model_module": "@jupyter-widgets/base",
          "model_name": "LayoutModel",
          "state": {
            "_view_name": "LayoutView",
            "grid_template_rows": null,
            "right": null,
            "justify_content": null,
            "_view_module": "@jupyter-widgets/base",
            "overflow": null,
            "_model_module_version": "1.2.0",
            "_view_count": null,
            "flex_flow": null,
            "width": null,
            "min_width": null,
            "border": null,
            "align_items": null,
            "bottom": null,
            "_model_module": "@jupyter-widgets/base",
            "top": null,
            "grid_column": null,
            "overflow_y": null,
            "overflow_x": null,
            "grid_auto_flow": null,
            "grid_area": null,
            "grid_template_columns": null,
            "flex": null,
            "_model_name": "LayoutModel",
            "justify_items": null,
            "grid_row": null,
            "max_height": null,
            "align_content": null,
            "visibility": null,
            "align_self": null,
            "height": null,
            "min_height": null,
            "padding": null,
            "grid_auto_rows": null,
            "grid_gap": null,
            "max_width": null,
            "order": null,
            "_view_module_version": "1.2.0",
            "grid_template_areas": null,
            "object_position": null,
            "object_fit": null,
            "grid_auto_columns": null,
            "margin": null,
            "display": null,
            "left": null
          }
        },
        "832141675195413d922719eda15858c5": {
          "model_module": "@jupyter-widgets/controls",
          "model_name": "FloatProgressModel",
          "state": {
            "_view_name": "ProgressView",
            "style": "IPY_MODEL_7e585568dbc640d38579f56061498c72",
            "_dom_classes": [],
            "description": "100%",
            "_model_name": "FloatProgressModel",
            "bar_style": "success",
            "max": 250,
            "_view_module": "@jupyter-widgets/controls",
            "_model_module_version": "1.5.0",
            "value": 250,
            "_view_count": null,
            "_view_module_version": "1.5.0",
            "orientation": "horizontal",
            "min": 0,
            "description_tooltip": null,
            "_model_module": "@jupyter-widgets/controls",
            "layout": "IPY_MODEL_cccf2a30cff8436c9714ab6bc8e3a0c8"
          }
        },
        "a3827dd4bd1d400ca3e96dd6819de038": {
          "model_module": "@jupyter-widgets/controls",
          "model_name": "HTMLModel",
          "state": {
            "_view_name": "HTMLView",
            "style": "IPY_MODEL_2e40c44fb48045da851e25de086275a9",
            "_dom_classes": [],
            "description": "",
            "_model_name": "HTMLModel",
            "placeholder": "​",
            "_view_module": "@jupyter-widgets/controls",
            "_model_module_version": "1.5.0",
            "value": " 250/250 [02:57&lt;00:00,  1.41it/s]",
            "_view_count": null,
            "_view_module_version": "1.5.0",
            "description_tooltip": null,
            "_model_module": "@jupyter-widgets/controls",
            "layout": "IPY_MODEL_4fa86a52d9074be289a0196af2304406"
          }
        },
        "7e585568dbc640d38579f56061498c72": {
          "model_module": "@jupyter-widgets/controls",
          "model_name": "ProgressStyleModel",
          "state": {
            "_view_name": "StyleView",
            "_model_name": "ProgressStyleModel",
            "description_width": "initial",
            "_view_module": "@jupyter-widgets/base",
            "_model_module_version": "1.5.0",
            "_view_count": null,
            "_view_module_version": "1.2.0",
            "bar_color": null,
            "_model_module": "@jupyter-widgets/controls"
          }
        },
        "cccf2a30cff8436c9714ab6bc8e3a0c8": {
          "model_module": "@jupyter-widgets/base",
          "model_name": "LayoutModel",
          "state": {
            "_view_name": "LayoutView",
            "grid_template_rows": null,
            "right": null,
            "justify_content": null,
            "_view_module": "@jupyter-widgets/base",
            "overflow": null,
            "_model_module_version": "1.2.0",
            "_view_count": null,
            "flex_flow": null,
            "width": null,
            "min_width": null,
            "border": null,
            "align_items": null,
            "bottom": null,
            "_model_module": "@jupyter-widgets/base",
            "top": null,
            "grid_column": null,
            "overflow_y": null,
            "overflow_x": null,
            "grid_auto_flow": null,
            "grid_area": null,
            "grid_template_columns": null,
            "flex": null,
            "_model_name": "LayoutModel",
            "justify_items": null,
            "grid_row": null,
            "max_height": null,
            "align_content": null,
            "visibility": null,
            "align_self": null,
            "height": null,
            "min_height": null,
            "padding": null,
            "grid_auto_rows": null,
            "grid_gap": null,
            "max_width": null,
            "order": null,
            "_view_module_version": "1.2.0",
            "grid_template_areas": null,
            "object_position": null,
            "object_fit": null,
            "grid_auto_columns": null,
            "margin": null,
            "display": null,
            "left": null
          }
        },
        "2e40c44fb48045da851e25de086275a9": {
          "model_module": "@jupyter-widgets/controls",
          "model_name": "DescriptionStyleModel",
          "state": {
            "_view_name": "StyleView",
            "_model_name": "DescriptionStyleModel",
            "description_width": "",
            "_view_module": "@jupyter-widgets/base",
            "_model_module_version": "1.5.0",
            "_view_count": null,
            "_view_module_version": "1.2.0",
            "_model_module": "@jupyter-widgets/controls"
          }
        },
        "4fa86a52d9074be289a0196af2304406": {
          "model_module": "@jupyter-widgets/base",
          "model_name": "LayoutModel",
          "state": {
            "_view_name": "LayoutView",
            "grid_template_rows": null,
            "right": null,
            "justify_content": null,
            "_view_module": "@jupyter-widgets/base",
            "overflow": null,
            "_model_module_version": "1.2.0",
            "_view_count": null,
            "flex_flow": null,
            "width": null,
            "min_width": null,
            "border": null,
            "align_items": null,
            "bottom": null,
            "_model_module": "@jupyter-widgets/base",
            "top": null,
            "grid_column": null,
            "overflow_y": null,
            "overflow_x": null,
            "grid_auto_flow": null,
            "grid_area": null,
            "grid_template_columns": null,
            "flex": null,
            "_model_name": "LayoutModel",
            "justify_items": null,
            "grid_row": null,
            "max_height": null,
            "align_content": null,
            "visibility": null,
            "align_self": null,
            "height": null,
            "min_height": null,
            "padding": null,
            "grid_auto_rows": null,
            "grid_gap": null,
            "max_width": null,
            "order": null,
            "_view_module_version": "1.2.0",
            "grid_template_areas": null,
            "object_position": null,
            "object_fit": null,
            "grid_auto_columns": null,
            "margin": null,
            "display": null,
            "left": null
          }
        },
        "59fb64e22ad44adabda6605cfdcefbb3": {
          "model_module": "@jupyter-widgets/controls",
          "model_name": "HBoxModel",
          "state": {
            "_view_name": "HBoxView",
            "_dom_classes": [],
            "_model_name": "HBoxModel",
            "_view_module": "@jupyter-widgets/controls",
            "_model_module_version": "1.5.0",
            "_view_count": null,
            "_view_module_version": "1.5.0",
            "box_style": "",
            "layout": "IPY_MODEL_9dc23556601d422482c0146f0f8d0068",
            "_model_module": "@jupyter-widgets/controls",
            "children": [
              "IPY_MODEL_32ebcc1ffe9f409f9d804ce13a79b53f",
              "IPY_MODEL_0157b2010cbc487fbc054b9ebad99874"
            ]
          }
        },
        "9dc23556601d422482c0146f0f8d0068": {
          "model_module": "@jupyter-widgets/base",
          "model_name": "LayoutModel",
          "state": {
            "_view_name": "LayoutView",
            "grid_template_rows": null,
            "right": null,
            "justify_content": null,
            "_view_module": "@jupyter-widgets/base",
            "overflow": null,
            "_model_module_version": "1.2.0",
            "_view_count": null,
            "flex_flow": null,
            "width": null,
            "min_width": null,
            "border": null,
            "align_items": null,
            "bottom": null,
            "_model_module": "@jupyter-widgets/base",
            "top": null,
            "grid_column": null,
            "overflow_y": null,
            "overflow_x": null,
            "grid_auto_flow": null,
            "grid_area": null,
            "grid_template_columns": null,
            "flex": null,
            "_model_name": "LayoutModel",
            "justify_items": null,
            "grid_row": null,
            "max_height": null,
            "align_content": null,
            "visibility": null,
            "align_self": null,
            "height": null,
            "min_height": null,
            "padding": null,
            "grid_auto_rows": null,
            "grid_gap": null,
            "max_width": null,
            "order": null,
            "_view_module_version": "1.2.0",
            "grid_template_areas": null,
            "object_position": null,
            "object_fit": null,
            "grid_auto_columns": null,
            "margin": null,
            "display": null,
            "left": null
          }
        },
        "32ebcc1ffe9f409f9d804ce13a79b53f": {
          "model_module": "@jupyter-widgets/controls",
          "model_name": "FloatProgressModel",
          "state": {
            "_view_name": "ProgressView",
            "style": "IPY_MODEL_608a6970519541118fef3dbab05bdc17",
            "_dom_classes": [],
            "description": "100%",
            "_model_name": "FloatProgressModel",
            "bar_style": "success",
            "max": 250,
            "_view_module": "@jupyter-widgets/controls",
            "_model_module_version": "1.5.0",
            "value": 250,
            "_view_count": null,
            "_view_module_version": "1.5.0",
            "orientation": "horizontal",
            "min": 0,
            "description_tooltip": null,
            "_model_module": "@jupyter-widgets/controls",
            "layout": "IPY_MODEL_23dd847707484feea71e63d8d76b2bba"
          }
        },
        "0157b2010cbc487fbc054b9ebad99874": {
          "model_module": "@jupyter-widgets/controls",
          "model_name": "HTMLModel",
          "state": {
            "_view_name": "HTMLView",
            "style": "IPY_MODEL_bd25f7e36a7847ea98967e5434d46043",
            "_dom_classes": [],
            "description": "",
            "_model_name": "HTMLModel",
            "placeholder": "​",
            "_view_module": "@jupyter-widgets/controls",
            "_model_module_version": "1.5.0",
            "value": " 250/250 [00:39&lt;00:00,  6.40it/s]",
            "_view_count": null,
            "_view_module_version": "1.5.0",
            "description_tooltip": null,
            "_model_module": "@jupyter-widgets/controls",
            "layout": "IPY_MODEL_45e403c252ad4badb3ccc1be0b4b6580"
          }
        },
        "608a6970519541118fef3dbab05bdc17": {
          "model_module": "@jupyter-widgets/controls",
          "model_name": "ProgressStyleModel",
          "state": {
            "_view_name": "StyleView",
            "_model_name": "ProgressStyleModel",
            "description_width": "initial",
            "_view_module": "@jupyter-widgets/base",
            "_model_module_version": "1.5.0",
            "_view_count": null,
            "_view_module_version": "1.2.0",
            "bar_color": null,
            "_model_module": "@jupyter-widgets/controls"
          }
        },
        "23dd847707484feea71e63d8d76b2bba": {
          "model_module": "@jupyter-widgets/base",
          "model_name": "LayoutModel",
          "state": {
            "_view_name": "LayoutView",
            "grid_template_rows": null,
            "right": null,
            "justify_content": null,
            "_view_module": "@jupyter-widgets/base",
            "overflow": null,
            "_model_module_version": "1.2.0",
            "_view_count": null,
            "flex_flow": null,
            "width": null,
            "min_width": null,
            "border": null,
            "align_items": null,
            "bottom": null,
            "_model_module": "@jupyter-widgets/base",
            "top": null,
            "grid_column": null,
            "overflow_y": null,
            "overflow_x": null,
            "grid_auto_flow": null,
            "grid_area": null,
            "grid_template_columns": null,
            "flex": null,
            "_model_name": "LayoutModel",
            "justify_items": null,
            "grid_row": null,
            "max_height": null,
            "align_content": null,
            "visibility": null,
            "align_self": null,
            "height": null,
            "min_height": null,
            "padding": null,
            "grid_auto_rows": null,
            "grid_gap": null,
            "max_width": null,
            "order": null,
            "_view_module_version": "1.2.0",
            "grid_template_areas": null,
            "object_position": null,
            "object_fit": null,
            "grid_auto_columns": null,
            "margin": null,
            "display": null,
            "left": null
          }
        },
        "bd25f7e36a7847ea98967e5434d46043": {
          "model_module": "@jupyter-widgets/controls",
          "model_name": "DescriptionStyleModel",
          "state": {
            "_view_name": "StyleView",
            "_model_name": "DescriptionStyleModel",
            "description_width": "",
            "_view_module": "@jupyter-widgets/base",
            "_model_module_version": "1.5.0",
            "_view_count": null,
            "_view_module_version": "1.2.0",
            "_model_module": "@jupyter-widgets/controls"
          }
        },
        "45e403c252ad4badb3ccc1be0b4b6580": {
          "model_module": "@jupyter-widgets/base",
          "model_name": "LayoutModel",
          "state": {
            "_view_name": "LayoutView",
            "grid_template_rows": null,
            "right": null,
            "justify_content": null,
            "_view_module": "@jupyter-widgets/base",
            "overflow": null,
            "_model_module_version": "1.2.0",
            "_view_count": null,
            "flex_flow": null,
            "width": null,
            "min_width": null,
            "border": null,
            "align_items": null,
            "bottom": null,
            "_model_module": "@jupyter-widgets/base",
            "top": null,
            "grid_column": null,
            "overflow_y": null,
            "overflow_x": null,
            "grid_auto_flow": null,
            "grid_area": null,
            "grid_template_columns": null,
            "flex": null,
            "_model_name": "LayoutModel",
            "justify_items": null,
            "grid_row": null,
            "max_height": null,
            "align_content": null,
            "visibility": null,
            "align_self": null,
            "height": null,
            "min_height": null,
            "padding": null,
            "grid_auto_rows": null,
            "grid_gap": null,
            "max_width": null,
            "order": null,
            "_view_module_version": "1.2.0",
            "grid_template_areas": null,
            "object_position": null,
            "object_fit": null,
            "grid_auto_columns": null,
            "margin": null,
            "display": null,
            "left": null
          }
        },
        "c21d91c5be1841f1bc1d223450b2a37a": {
          "model_module": "@jupyter-widgets/controls",
          "model_name": "HBoxModel",
          "state": {
            "_view_name": "HBoxView",
            "_dom_classes": [],
            "_model_name": "HBoxModel",
            "_view_module": "@jupyter-widgets/controls",
            "_model_module_version": "1.5.0",
            "_view_count": null,
            "_view_module_version": "1.5.0",
            "box_style": "",
            "layout": "IPY_MODEL_1bbef020f7d94a628ffca353ea0c1268",
            "_model_module": "@jupyter-widgets/controls",
            "children": [
              "IPY_MODEL_74d7fcf0f4534a8aa28562c7cb38bc8f",
              "IPY_MODEL_c5aff9915491483a94daa32e64eda7a3"
            ]
          }
        },
        "1bbef020f7d94a628ffca353ea0c1268": {
          "model_module": "@jupyter-widgets/base",
          "model_name": "LayoutModel",
          "state": {
            "_view_name": "LayoutView",
            "grid_template_rows": null,
            "right": null,
            "justify_content": null,
            "_view_module": "@jupyter-widgets/base",
            "overflow": null,
            "_model_module_version": "1.2.0",
            "_view_count": null,
            "flex_flow": null,
            "width": null,
            "min_width": null,
            "border": null,
            "align_items": null,
            "bottom": null,
            "_model_module": "@jupyter-widgets/base",
            "top": null,
            "grid_column": null,
            "overflow_y": null,
            "overflow_x": null,
            "grid_auto_flow": null,
            "grid_area": null,
            "grid_template_columns": null,
            "flex": null,
            "_model_name": "LayoutModel",
            "justify_items": null,
            "grid_row": null,
            "max_height": null,
            "align_content": null,
            "visibility": null,
            "align_self": null,
            "height": null,
            "min_height": null,
            "padding": null,
            "grid_auto_rows": null,
            "grid_gap": null,
            "max_width": null,
            "order": null,
            "_view_module_version": "1.2.0",
            "grid_template_areas": null,
            "object_position": null,
            "object_fit": null,
            "grid_auto_columns": null,
            "margin": null,
            "display": null,
            "left": null
          }
        },
        "74d7fcf0f4534a8aa28562c7cb38bc8f": {
          "model_module": "@jupyter-widgets/controls",
          "model_name": "FloatProgressModel",
          "state": {
            "_view_name": "ProgressView",
            "style": "IPY_MODEL_d1463c68119148de987107e2289bbfd3",
            "_dom_classes": [],
            "description": "100%",
            "_model_name": "FloatProgressModel",
            "bar_style": "success",
            "max": 250,
            "_view_module": "@jupyter-widgets/controls",
            "_model_module_version": "1.5.0",
            "value": 250,
            "_view_count": null,
            "_view_module_version": "1.5.0",
            "orientation": "horizontal",
            "min": 0,
            "description_tooltip": null,
            "_model_module": "@jupyter-widgets/controls",
            "layout": "IPY_MODEL_3a1d165ee1a74ea3ba5252d3f9c6a027"
          }
        },
        "c5aff9915491483a94daa32e64eda7a3": {
          "model_module": "@jupyter-widgets/controls",
          "model_name": "HTMLModel",
          "state": {
            "_view_name": "HTMLView",
            "style": "IPY_MODEL_e47c390ae77243b1aaff89228ac23ca6",
            "_dom_classes": [],
            "description": "",
            "_model_name": "HTMLModel",
            "placeholder": "​",
            "_view_module": "@jupyter-widgets/controls",
            "_model_module_version": "1.5.0",
            "value": " 250/250 [00:19&lt;00:00, 12.78it/s]",
            "_view_count": null,
            "_view_module_version": "1.5.0",
            "description_tooltip": null,
            "_model_module": "@jupyter-widgets/controls",
            "layout": "IPY_MODEL_8b82ae9a6bcd411b9d6422d81f57d9b8"
          }
        },
        "d1463c68119148de987107e2289bbfd3": {
          "model_module": "@jupyter-widgets/controls",
          "model_name": "ProgressStyleModel",
          "state": {
            "_view_name": "StyleView",
            "_model_name": "ProgressStyleModel",
            "description_width": "initial",
            "_view_module": "@jupyter-widgets/base",
            "_model_module_version": "1.5.0",
            "_view_count": null,
            "_view_module_version": "1.2.0",
            "bar_color": null,
            "_model_module": "@jupyter-widgets/controls"
          }
        },
        "3a1d165ee1a74ea3ba5252d3f9c6a027": {
          "model_module": "@jupyter-widgets/base",
          "model_name": "LayoutModel",
          "state": {
            "_view_name": "LayoutView",
            "grid_template_rows": null,
            "right": null,
            "justify_content": null,
            "_view_module": "@jupyter-widgets/base",
            "overflow": null,
            "_model_module_version": "1.2.0",
            "_view_count": null,
            "flex_flow": null,
            "width": null,
            "min_width": null,
            "border": null,
            "align_items": null,
            "bottom": null,
            "_model_module": "@jupyter-widgets/base",
            "top": null,
            "grid_column": null,
            "overflow_y": null,
            "overflow_x": null,
            "grid_auto_flow": null,
            "grid_area": null,
            "grid_template_columns": null,
            "flex": null,
            "_model_name": "LayoutModel",
            "justify_items": null,
            "grid_row": null,
            "max_height": null,
            "align_content": null,
            "visibility": null,
            "align_self": null,
            "height": null,
            "min_height": null,
            "padding": null,
            "grid_auto_rows": null,
            "grid_gap": null,
            "max_width": null,
            "order": null,
            "_view_module_version": "1.2.0",
            "grid_template_areas": null,
            "object_position": null,
            "object_fit": null,
            "grid_auto_columns": null,
            "margin": null,
            "display": null,
            "left": null
          }
        },
        "e47c390ae77243b1aaff89228ac23ca6": {
          "model_module": "@jupyter-widgets/controls",
          "model_name": "DescriptionStyleModel",
          "state": {
            "_view_name": "StyleView",
            "_model_name": "DescriptionStyleModel",
            "description_width": "",
            "_view_module": "@jupyter-widgets/base",
            "_model_module_version": "1.5.0",
            "_view_count": null,
            "_view_module_version": "1.2.0",
            "_model_module": "@jupyter-widgets/controls"
          }
        },
        "8b82ae9a6bcd411b9d6422d81f57d9b8": {
          "model_module": "@jupyter-widgets/base",
          "model_name": "LayoutModel",
          "state": {
            "_view_name": "LayoutView",
            "grid_template_rows": null,
            "right": null,
            "justify_content": null,
            "_view_module": "@jupyter-widgets/base",
            "overflow": null,
            "_model_module_version": "1.2.0",
            "_view_count": null,
            "flex_flow": null,
            "width": null,
            "min_width": null,
            "border": null,
            "align_items": null,
            "bottom": null,
            "_model_module": "@jupyter-widgets/base",
            "top": null,
            "grid_column": null,
            "overflow_y": null,
            "overflow_x": null,
            "grid_auto_flow": null,
            "grid_area": null,
            "grid_template_columns": null,
            "flex": null,
            "_model_name": "LayoutModel",
            "justify_items": null,
            "grid_row": null,
            "max_height": null,
            "align_content": null,
            "visibility": null,
            "align_self": null,
            "height": null,
            "min_height": null,
            "padding": null,
            "grid_auto_rows": null,
            "grid_gap": null,
            "max_width": null,
            "order": null,
            "_view_module_version": "1.2.0",
            "grid_template_areas": null,
            "object_position": null,
            "object_fit": null,
            "grid_auto_columns": null,
            "margin": null,
            "display": null,
            "left": null
          }
        },
        "2fffacff19604b88a996dbbd63141f91": {
          "model_module": "@jupyter-widgets/controls",
          "model_name": "HBoxModel",
          "state": {
            "_view_name": "HBoxView",
            "_dom_classes": [],
            "_model_name": "HBoxModel",
            "_view_module": "@jupyter-widgets/controls",
            "_model_module_version": "1.5.0",
            "_view_count": null,
            "_view_module_version": "1.5.0",
            "box_style": "",
            "layout": "IPY_MODEL_2995cbe0b58041d79284fc88c74a0991",
            "_model_module": "@jupyter-widgets/controls",
            "children": [
              "IPY_MODEL_fca4b630cc874ccc904761a8302325a0",
              "IPY_MODEL_d0e81931a6ab49a6ba507fd68cd6e4ac"
            ]
          }
        },
        "2995cbe0b58041d79284fc88c74a0991": {
          "model_module": "@jupyter-widgets/base",
          "model_name": "LayoutModel",
          "state": {
            "_view_name": "LayoutView",
            "grid_template_rows": null,
            "right": null,
            "justify_content": null,
            "_view_module": "@jupyter-widgets/base",
            "overflow": null,
            "_model_module_version": "1.2.0",
            "_view_count": null,
            "flex_flow": null,
            "width": null,
            "min_width": null,
            "border": null,
            "align_items": null,
            "bottom": null,
            "_model_module": "@jupyter-widgets/base",
            "top": null,
            "grid_column": null,
            "overflow_y": null,
            "overflow_x": null,
            "grid_auto_flow": null,
            "grid_area": null,
            "grid_template_columns": null,
            "flex": null,
            "_model_name": "LayoutModel",
            "justify_items": null,
            "grid_row": null,
            "max_height": null,
            "align_content": null,
            "visibility": null,
            "align_self": null,
            "height": null,
            "min_height": null,
            "padding": null,
            "grid_auto_rows": null,
            "grid_gap": null,
            "max_width": null,
            "order": null,
            "_view_module_version": "1.2.0",
            "grid_template_areas": null,
            "object_position": null,
            "object_fit": null,
            "grid_auto_columns": null,
            "margin": null,
            "display": null,
            "left": null
          }
        },
        "fca4b630cc874ccc904761a8302325a0": {
          "model_module": "@jupyter-widgets/controls",
          "model_name": "FloatProgressModel",
          "state": {
            "_view_name": "ProgressView",
            "style": "IPY_MODEL_be9f17c6a9e24a52969f3c8abb08824e",
            "_dom_classes": [],
            "description": "100%",
            "_model_name": "FloatProgressModel",
            "bar_style": "success",
            "max": 250,
            "_view_module": "@jupyter-widgets/controls",
            "_model_module_version": "1.5.0",
            "value": 250,
            "_view_count": null,
            "_view_module_version": "1.5.0",
            "orientation": "horizontal",
            "min": 0,
            "description_tooltip": null,
            "_model_module": "@jupyter-widgets/controls",
            "layout": "IPY_MODEL_7a2e541220f044db8cb9a82d2ce8b187"
          }
        },
        "d0e81931a6ab49a6ba507fd68cd6e4ac": {
          "model_module": "@jupyter-widgets/controls",
          "model_name": "HTMLModel",
          "state": {
            "_view_name": "HTMLView",
            "style": "IPY_MODEL_7656076fad3548338da4e0d3979c8895",
            "_dom_classes": [],
            "description": "",
            "_model_name": "HTMLModel",
            "placeholder": "​",
            "_view_module": "@jupyter-widgets/controls",
            "_model_module_version": "1.5.0",
            "value": " 250/250 [01:59&lt;00:00,  2.10it/s]",
            "_view_count": null,
            "_view_module_version": "1.5.0",
            "description_tooltip": null,
            "_model_module": "@jupyter-widgets/controls",
            "layout": "IPY_MODEL_e845d9c03215414f9ff0f5fc84fdcccb"
          }
        },
        "be9f17c6a9e24a52969f3c8abb08824e": {
          "model_module": "@jupyter-widgets/controls",
          "model_name": "ProgressStyleModel",
          "state": {
            "_view_name": "StyleView",
            "_model_name": "ProgressStyleModel",
            "description_width": "initial",
            "_view_module": "@jupyter-widgets/base",
            "_model_module_version": "1.5.0",
            "_view_count": null,
            "_view_module_version": "1.2.0",
            "bar_color": null,
            "_model_module": "@jupyter-widgets/controls"
          }
        },
        "7a2e541220f044db8cb9a82d2ce8b187": {
          "model_module": "@jupyter-widgets/base",
          "model_name": "LayoutModel",
          "state": {
            "_view_name": "LayoutView",
            "grid_template_rows": null,
            "right": null,
            "justify_content": null,
            "_view_module": "@jupyter-widgets/base",
            "overflow": null,
            "_model_module_version": "1.2.0",
            "_view_count": null,
            "flex_flow": null,
            "width": null,
            "min_width": null,
            "border": null,
            "align_items": null,
            "bottom": null,
            "_model_module": "@jupyter-widgets/base",
            "top": null,
            "grid_column": null,
            "overflow_y": null,
            "overflow_x": null,
            "grid_auto_flow": null,
            "grid_area": null,
            "grid_template_columns": null,
            "flex": null,
            "_model_name": "LayoutModel",
            "justify_items": null,
            "grid_row": null,
            "max_height": null,
            "align_content": null,
            "visibility": null,
            "align_self": null,
            "height": null,
            "min_height": null,
            "padding": null,
            "grid_auto_rows": null,
            "grid_gap": null,
            "max_width": null,
            "order": null,
            "_view_module_version": "1.2.0",
            "grid_template_areas": null,
            "object_position": null,
            "object_fit": null,
            "grid_auto_columns": null,
            "margin": null,
            "display": null,
            "left": null
          }
        },
        "7656076fad3548338da4e0d3979c8895": {
          "model_module": "@jupyter-widgets/controls",
          "model_name": "DescriptionStyleModel",
          "state": {
            "_view_name": "StyleView",
            "_model_name": "DescriptionStyleModel",
            "description_width": "",
            "_view_module": "@jupyter-widgets/base",
            "_model_module_version": "1.5.0",
            "_view_count": null,
            "_view_module_version": "1.2.0",
            "_model_module": "@jupyter-widgets/controls"
          }
        },
        "e845d9c03215414f9ff0f5fc84fdcccb": {
          "model_module": "@jupyter-widgets/base",
          "model_name": "LayoutModel",
          "state": {
            "_view_name": "LayoutView",
            "grid_template_rows": null,
            "right": null,
            "justify_content": null,
            "_view_module": "@jupyter-widgets/base",
            "overflow": null,
            "_model_module_version": "1.2.0",
            "_view_count": null,
            "flex_flow": null,
            "width": null,
            "min_width": null,
            "border": null,
            "align_items": null,
            "bottom": null,
            "_model_module": "@jupyter-widgets/base",
            "top": null,
            "grid_column": null,
            "overflow_y": null,
            "overflow_x": null,
            "grid_auto_flow": null,
            "grid_area": null,
            "grid_template_columns": null,
            "flex": null,
            "_model_name": "LayoutModel",
            "justify_items": null,
            "grid_row": null,
            "max_height": null,
            "align_content": null,
            "visibility": null,
            "align_self": null,
            "height": null,
            "min_height": null,
            "padding": null,
            "grid_auto_rows": null,
            "grid_gap": null,
            "max_width": null,
            "order": null,
            "_view_module_version": "1.2.0",
            "grid_template_areas": null,
            "object_position": null,
            "object_fit": null,
            "grid_auto_columns": null,
            "margin": null,
            "display": null,
            "left": null
          }
        },
        "722b31cc7a844004875013a80ca30daa": {
          "model_module": "@jupyter-widgets/controls",
          "model_name": "HBoxModel",
          "state": {
            "_view_name": "HBoxView",
            "_dom_classes": [],
            "_model_name": "HBoxModel",
            "_view_module": "@jupyter-widgets/controls",
            "_model_module_version": "1.5.0",
            "_view_count": null,
            "_view_module_version": "1.5.0",
            "box_style": "",
            "layout": "IPY_MODEL_390613063a7842b9a1126d3666477639",
            "_model_module": "@jupyter-widgets/controls",
            "children": [
              "IPY_MODEL_08611ffb0afb4af2a58b62fa5b3028d6",
              "IPY_MODEL_ab7900e628f14ff6ba9d2008fda3fcf4"
            ]
          }
        },
        "390613063a7842b9a1126d3666477639": {
          "model_module": "@jupyter-widgets/base",
          "model_name": "LayoutModel",
          "state": {
            "_view_name": "LayoutView",
            "grid_template_rows": null,
            "right": null,
            "justify_content": null,
            "_view_module": "@jupyter-widgets/base",
            "overflow": null,
            "_model_module_version": "1.2.0",
            "_view_count": null,
            "flex_flow": null,
            "width": null,
            "min_width": null,
            "border": null,
            "align_items": null,
            "bottom": null,
            "_model_module": "@jupyter-widgets/base",
            "top": null,
            "grid_column": null,
            "overflow_y": null,
            "overflow_x": null,
            "grid_auto_flow": null,
            "grid_area": null,
            "grid_template_columns": null,
            "flex": null,
            "_model_name": "LayoutModel",
            "justify_items": null,
            "grid_row": null,
            "max_height": null,
            "align_content": null,
            "visibility": null,
            "align_self": null,
            "height": null,
            "min_height": null,
            "padding": null,
            "grid_auto_rows": null,
            "grid_gap": null,
            "max_width": null,
            "order": null,
            "_view_module_version": "1.2.0",
            "grid_template_areas": null,
            "object_position": null,
            "object_fit": null,
            "grid_auto_columns": null,
            "margin": null,
            "display": null,
            "left": null
          }
        },
        "08611ffb0afb4af2a58b62fa5b3028d6": {
          "model_module": "@jupyter-widgets/controls",
          "model_name": "FloatProgressModel",
          "state": {
            "_view_name": "ProgressView",
            "style": "IPY_MODEL_803fbbe8ef814468a2c52cef5962ff71",
            "_dom_classes": [],
            "description": "100%",
            "_model_name": "FloatProgressModel",
            "bar_style": "success",
            "max": 250,
            "_view_module": "@jupyter-widgets/controls",
            "_model_module_version": "1.5.0",
            "value": 250,
            "_view_count": null,
            "_view_module_version": "1.5.0",
            "orientation": "horizontal",
            "min": 0,
            "description_tooltip": null,
            "_model_module": "@jupyter-widgets/controls",
            "layout": "IPY_MODEL_d673f52712244c30a2a124deb762c8c5"
          }
        },
        "ab7900e628f14ff6ba9d2008fda3fcf4": {
          "model_module": "@jupyter-widgets/controls",
          "model_name": "HTMLModel",
          "state": {
            "_view_name": "HTMLView",
            "style": "IPY_MODEL_68aa8fa2170b404dafd29c90bd13579f",
            "_dom_classes": [],
            "description": "",
            "_model_name": "HTMLModel",
            "placeholder": "​",
            "_view_module": "@jupyter-widgets/controls",
            "_model_module_version": "1.5.0",
            "value": " 250/250 [00:39&lt;00:00,  6.38it/s]",
            "_view_count": null,
            "_view_module_version": "1.5.0",
            "description_tooltip": null,
            "_model_module": "@jupyter-widgets/controls",
            "layout": "IPY_MODEL_b614842ad3d24b2d863dcc1ccd0ab1b2"
          }
        },
        "803fbbe8ef814468a2c52cef5962ff71": {
          "model_module": "@jupyter-widgets/controls",
          "model_name": "ProgressStyleModel",
          "state": {
            "_view_name": "StyleView",
            "_model_name": "ProgressStyleModel",
            "description_width": "initial",
            "_view_module": "@jupyter-widgets/base",
            "_model_module_version": "1.5.0",
            "_view_count": null,
            "_view_module_version": "1.2.0",
            "bar_color": null,
            "_model_module": "@jupyter-widgets/controls"
          }
        },
        "d673f52712244c30a2a124deb762c8c5": {
          "model_module": "@jupyter-widgets/base",
          "model_name": "LayoutModel",
          "state": {
            "_view_name": "LayoutView",
            "grid_template_rows": null,
            "right": null,
            "justify_content": null,
            "_view_module": "@jupyter-widgets/base",
            "overflow": null,
            "_model_module_version": "1.2.0",
            "_view_count": null,
            "flex_flow": null,
            "width": null,
            "min_width": null,
            "border": null,
            "align_items": null,
            "bottom": null,
            "_model_module": "@jupyter-widgets/base",
            "top": null,
            "grid_column": null,
            "overflow_y": null,
            "overflow_x": null,
            "grid_auto_flow": null,
            "grid_area": null,
            "grid_template_columns": null,
            "flex": null,
            "_model_name": "LayoutModel",
            "justify_items": null,
            "grid_row": null,
            "max_height": null,
            "align_content": null,
            "visibility": null,
            "align_self": null,
            "height": null,
            "min_height": null,
            "padding": null,
            "grid_auto_rows": null,
            "grid_gap": null,
            "max_width": null,
            "order": null,
            "_view_module_version": "1.2.0",
            "grid_template_areas": null,
            "object_position": null,
            "object_fit": null,
            "grid_auto_columns": null,
            "margin": null,
            "display": null,
            "left": null
          }
        },
        "68aa8fa2170b404dafd29c90bd13579f": {
          "model_module": "@jupyter-widgets/controls",
          "model_name": "DescriptionStyleModel",
          "state": {
            "_view_name": "StyleView",
            "_model_name": "DescriptionStyleModel",
            "description_width": "",
            "_view_module": "@jupyter-widgets/base",
            "_model_module_version": "1.5.0",
            "_view_count": null,
            "_view_module_version": "1.2.0",
            "_model_module": "@jupyter-widgets/controls"
          }
        },
        "b614842ad3d24b2d863dcc1ccd0ab1b2": {
          "model_module": "@jupyter-widgets/base",
          "model_name": "LayoutModel",
          "state": {
            "_view_name": "LayoutView",
            "grid_template_rows": null,
            "right": null,
            "justify_content": null,
            "_view_module": "@jupyter-widgets/base",
            "overflow": null,
            "_model_module_version": "1.2.0",
            "_view_count": null,
            "flex_flow": null,
            "width": null,
            "min_width": null,
            "border": null,
            "align_items": null,
            "bottom": null,
            "_model_module": "@jupyter-widgets/base",
            "top": null,
            "grid_column": null,
            "overflow_y": null,
            "overflow_x": null,
            "grid_auto_flow": null,
            "grid_area": null,
            "grid_template_columns": null,
            "flex": null,
            "_model_name": "LayoutModel",
            "justify_items": null,
            "grid_row": null,
            "max_height": null,
            "align_content": null,
            "visibility": null,
            "align_self": null,
            "height": null,
            "min_height": null,
            "padding": null,
            "grid_auto_rows": null,
            "grid_gap": null,
            "max_width": null,
            "order": null,
            "_view_module_version": "1.2.0",
            "grid_template_areas": null,
            "object_position": null,
            "object_fit": null,
            "grid_auto_columns": null,
            "margin": null,
            "display": null,
            "left": null
          }
        },
        "a34c4a7b19104a3ca5ee10df1d8851d0": {
          "model_module": "@jupyter-widgets/controls",
          "model_name": "HBoxModel",
          "state": {
            "_view_name": "HBoxView",
            "_dom_classes": [],
            "_model_name": "HBoxModel",
            "_view_module": "@jupyter-widgets/controls",
            "_model_module_version": "1.5.0",
            "_view_count": null,
            "_view_module_version": "1.5.0",
            "box_style": "",
            "layout": "IPY_MODEL_3f185a9aca8740cd8b451480ad7d7d9e",
            "_model_module": "@jupyter-widgets/controls",
            "children": [
              "IPY_MODEL_d3c39dae05d0406fba17b789304fb3ac",
              "IPY_MODEL_09cf82ad96f84d609952b183b294f0bd"
            ]
          }
        },
        "3f185a9aca8740cd8b451480ad7d7d9e": {
          "model_module": "@jupyter-widgets/base",
          "model_name": "LayoutModel",
          "state": {
            "_view_name": "LayoutView",
            "grid_template_rows": null,
            "right": null,
            "justify_content": null,
            "_view_module": "@jupyter-widgets/base",
            "overflow": null,
            "_model_module_version": "1.2.0",
            "_view_count": null,
            "flex_flow": null,
            "width": null,
            "min_width": null,
            "border": null,
            "align_items": null,
            "bottom": null,
            "_model_module": "@jupyter-widgets/base",
            "top": null,
            "grid_column": null,
            "overflow_y": null,
            "overflow_x": null,
            "grid_auto_flow": null,
            "grid_area": null,
            "grid_template_columns": null,
            "flex": null,
            "_model_name": "LayoutModel",
            "justify_items": null,
            "grid_row": null,
            "max_height": null,
            "align_content": null,
            "visibility": null,
            "align_self": null,
            "height": null,
            "min_height": null,
            "padding": null,
            "grid_auto_rows": null,
            "grid_gap": null,
            "max_width": null,
            "order": null,
            "_view_module_version": "1.2.0",
            "grid_template_areas": null,
            "object_position": null,
            "object_fit": null,
            "grid_auto_columns": null,
            "margin": null,
            "display": null,
            "left": null
          }
        },
        "d3c39dae05d0406fba17b789304fb3ac": {
          "model_module": "@jupyter-widgets/controls",
          "model_name": "FloatProgressModel",
          "state": {
            "_view_name": "ProgressView",
            "style": "IPY_MODEL_781e93b190be4478874affded379750c",
            "_dom_classes": [],
            "description": "100%",
            "_model_name": "FloatProgressModel",
            "bar_style": "success",
            "max": 250,
            "_view_module": "@jupyter-widgets/controls",
            "_model_module_version": "1.5.0",
            "value": 250,
            "_view_count": null,
            "_view_module_version": "1.5.0",
            "orientation": "horizontal",
            "min": 0,
            "description_tooltip": null,
            "_model_module": "@jupyter-widgets/controls",
            "layout": "IPY_MODEL_781effb37b9448578e52be33eac7646e"
          }
        },
        "09cf82ad96f84d609952b183b294f0bd": {
          "model_module": "@jupyter-widgets/controls",
          "model_name": "HTMLModel",
          "state": {
            "_view_name": "HTMLView",
            "style": "IPY_MODEL_34c0b45e7a7d4887830ccd60b2b6b82f",
            "_dom_classes": [],
            "description": "",
            "_model_name": "HTMLModel",
            "placeholder": "​",
            "_view_module": "@jupyter-widgets/controls",
            "_model_module_version": "1.5.0",
            "value": " 250/250 [00:19&lt;00:00, 12.75it/s]",
            "_view_count": null,
            "_view_module_version": "1.5.0",
            "description_tooltip": null,
            "_model_module": "@jupyter-widgets/controls",
            "layout": "IPY_MODEL_ac3caa402b0d4e9da51cbc67e42ddb24"
          }
        },
        "781e93b190be4478874affded379750c": {
          "model_module": "@jupyter-widgets/controls",
          "model_name": "ProgressStyleModel",
          "state": {
            "_view_name": "StyleView",
            "_model_name": "ProgressStyleModel",
            "description_width": "initial",
            "_view_module": "@jupyter-widgets/base",
            "_model_module_version": "1.5.0",
            "_view_count": null,
            "_view_module_version": "1.2.0",
            "bar_color": null,
            "_model_module": "@jupyter-widgets/controls"
          }
        },
        "781effb37b9448578e52be33eac7646e": {
          "model_module": "@jupyter-widgets/base",
          "model_name": "LayoutModel",
          "state": {
            "_view_name": "LayoutView",
            "grid_template_rows": null,
            "right": null,
            "justify_content": null,
            "_view_module": "@jupyter-widgets/base",
            "overflow": null,
            "_model_module_version": "1.2.0",
            "_view_count": null,
            "flex_flow": null,
            "width": null,
            "min_width": null,
            "border": null,
            "align_items": null,
            "bottom": null,
            "_model_module": "@jupyter-widgets/base",
            "top": null,
            "grid_column": null,
            "overflow_y": null,
            "overflow_x": null,
            "grid_auto_flow": null,
            "grid_area": null,
            "grid_template_columns": null,
            "flex": null,
            "_model_name": "LayoutModel",
            "justify_items": null,
            "grid_row": null,
            "max_height": null,
            "align_content": null,
            "visibility": null,
            "align_self": null,
            "height": null,
            "min_height": null,
            "padding": null,
            "grid_auto_rows": null,
            "grid_gap": null,
            "max_width": null,
            "order": null,
            "_view_module_version": "1.2.0",
            "grid_template_areas": null,
            "object_position": null,
            "object_fit": null,
            "grid_auto_columns": null,
            "margin": null,
            "display": null,
            "left": null
          }
        },
        "34c0b45e7a7d4887830ccd60b2b6b82f": {
          "model_module": "@jupyter-widgets/controls",
          "model_name": "DescriptionStyleModel",
          "state": {
            "_view_name": "StyleView",
            "_model_name": "DescriptionStyleModel",
            "description_width": "",
            "_view_module": "@jupyter-widgets/base",
            "_model_module_version": "1.5.0",
            "_view_count": null,
            "_view_module_version": "1.2.0",
            "_model_module": "@jupyter-widgets/controls"
          }
        },
        "ac3caa402b0d4e9da51cbc67e42ddb24": {
          "model_module": "@jupyter-widgets/base",
          "model_name": "LayoutModel",
          "state": {
            "_view_name": "LayoutView",
            "grid_template_rows": null,
            "right": null,
            "justify_content": null,
            "_view_module": "@jupyter-widgets/base",
            "overflow": null,
            "_model_module_version": "1.2.0",
            "_view_count": null,
            "flex_flow": null,
            "width": null,
            "min_width": null,
            "border": null,
            "align_items": null,
            "bottom": null,
            "_model_module": "@jupyter-widgets/base",
            "top": null,
            "grid_column": null,
            "overflow_y": null,
            "overflow_x": null,
            "grid_auto_flow": null,
            "grid_area": null,
            "grid_template_columns": null,
            "flex": null,
            "_model_name": "LayoutModel",
            "justify_items": null,
            "grid_row": null,
            "max_height": null,
            "align_content": null,
            "visibility": null,
            "align_self": null,
            "height": null,
            "min_height": null,
            "padding": null,
            "grid_auto_rows": null,
            "grid_gap": null,
            "max_width": null,
            "order": null,
            "_view_module_version": "1.2.0",
            "grid_template_areas": null,
            "object_position": null,
            "object_fit": null,
            "grid_auto_columns": null,
            "margin": null,
            "display": null,
            "left": null
          }
        },
        "4babeb0fce994f609e870569ee91df40": {
          "model_module": "@jupyter-widgets/controls",
          "model_name": "HBoxModel",
          "state": {
            "_view_name": "HBoxView",
            "_dom_classes": [],
            "_model_name": "HBoxModel",
            "_view_module": "@jupyter-widgets/controls",
            "_model_module_version": "1.5.0",
            "_view_count": null,
            "_view_module_version": "1.5.0",
            "box_style": "",
            "layout": "IPY_MODEL_8fbd8eaf0acd4ec6b5f5b6777f07e062",
            "_model_module": "@jupyter-widgets/controls",
            "children": [
              "IPY_MODEL_9180742788914fbbb797fb9f326ba8b2",
              "IPY_MODEL_e3f8f2828bf0447c8021c40cc772b9af"
            ]
          }
        },
        "8fbd8eaf0acd4ec6b5f5b6777f07e062": {
          "model_module": "@jupyter-widgets/base",
          "model_name": "LayoutModel",
          "state": {
            "_view_name": "LayoutView",
            "grid_template_rows": null,
            "right": null,
            "justify_content": null,
            "_view_module": "@jupyter-widgets/base",
            "overflow": null,
            "_model_module_version": "1.2.0",
            "_view_count": null,
            "flex_flow": null,
            "width": null,
            "min_width": null,
            "border": null,
            "align_items": null,
            "bottom": null,
            "_model_module": "@jupyter-widgets/base",
            "top": null,
            "grid_column": null,
            "overflow_y": null,
            "overflow_x": null,
            "grid_auto_flow": null,
            "grid_area": null,
            "grid_template_columns": null,
            "flex": null,
            "_model_name": "LayoutModel",
            "justify_items": null,
            "grid_row": null,
            "max_height": null,
            "align_content": null,
            "visibility": null,
            "align_self": null,
            "height": null,
            "min_height": null,
            "padding": null,
            "grid_auto_rows": null,
            "grid_gap": null,
            "max_width": null,
            "order": null,
            "_view_module_version": "1.2.0",
            "grid_template_areas": null,
            "object_position": null,
            "object_fit": null,
            "grid_auto_columns": null,
            "margin": null,
            "display": null,
            "left": null
          }
        },
        "9180742788914fbbb797fb9f326ba8b2": {
          "model_module": "@jupyter-widgets/controls",
          "model_name": "FloatProgressModel",
          "state": {
            "_view_name": "ProgressView",
            "style": "IPY_MODEL_84026dd80c894aaf875d7b8c74a31b89",
            "_dom_classes": [],
            "description": "100%",
            "_model_name": "FloatProgressModel",
            "bar_style": "success",
            "max": 250,
            "_view_module": "@jupyter-widgets/controls",
            "_model_module_version": "1.5.0",
            "value": 250,
            "_view_count": null,
            "_view_module_version": "1.5.0",
            "orientation": "horizontal",
            "min": 0,
            "description_tooltip": null,
            "_model_module": "@jupyter-widgets/controls",
            "layout": "IPY_MODEL_c14a9cb9432a4d55bbd3d0e78998782e"
          }
        },
        "e3f8f2828bf0447c8021c40cc772b9af": {
          "model_module": "@jupyter-widgets/controls",
          "model_name": "HTMLModel",
          "state": {
            "_view_name": "HTMLView",
            "style": "IPY_MODEL_5268a487f98549ccb82d1773fdeeaca2",
            "_dom_classes": [],
            "description": "",
            "_model_name": "HTMLModel",
            "placeholder": "​",
            "_view_module": "@jupyter-widgets/controls",
            "_model_module_version": "1.5.0",
            "value": " 250/250 [01:00&lt;00:00,  4.14it/s]",
            "_view_count": null,
            "_view_module_version": "1.5.0",
            "description_tooltip": null,
            "_model_module": "@jupyter-widgets/controls",
            "layout": "IPY_MODEL_a4e965ac970e4ea08a1b69bca79e9c6e"
          }
        },
        "84026dd80c894aaf875d7b8c74a31b89": {
          "model_module": "@jupyter-widgets/controls",
          "model_name": "ProgressStyleModel",
          "state": {
            "_view_name": "StyleView",
            "_model_name": "ProgressStyleModel",
            "description_width": "initial",
            "_view_module": "@jupyter-widgets/base",
            "_model_module_version": "1.5.0",
            "_view_count": null,
            "_view_module_version": "1.2.0",
            "bar_color": null,
            "_model_module": "@jupyter-widgets/controls"
          }
        },
        "c14a9cb9432a4d55bbd3d0e78998782e": {
          "model_module": "@jupyter-widgets/base",
          "model_name": "LayoutModel",
          "state": {
            "_view_name": "LayoutView",
            "grid_template_rows": null,
            "right": null,
            "justify_content": null,
            "_view_module": "@jupyter-widgets/base",
            "overflow": null,
            "_model_module_version": "1.2.0",
            "_view_count": null,
            "flex_flow": null,
            "width": null,
            "min_width": null,
            "border": null,
            "align_items": null,
            "bottom": null,
            "_model_module": "@jupyter-widgets/base",
            "top": null,
            "grid_column": null,
            "overflow_y": null,
            "overflow_x": null,
            "grid_auto_flow": null,
            "grid_area": null,
            "grid_template_columns": null,
            "flex": null,
            "_model_name": "LayoutModel",
            "justify_items": null,
            "grid_row": null,
            "max_height": null,
            "align_content": null,
            "visibility": null,
            "align_self": null,
            "height": null,
            "min_height": null,
            "padding": null,
            "grid_auto_rows": null,
            "grid_gap": null,
            "max_width": null,
            "order": null,
            "_view_module_version": "1.2.0",
            "grid_template_areas": null,
            "object_position": null,
            "object_fit": null,
            "grid_auto_columns": null,
            "margin": null,
            "display": null,
            "left": null
          }
        },
        "5268a487f98549ccb82d1773fdeeaca2": {
          "model_module": "@jupyter-widgets/controls",
          "model_name": "DescriptionStyleModel",
          "state": {
            "_view_name": "StyleView",
            "_model_name": "DescriptionStyleModel",
            "description_width": "",
            "_view_module": "@jupyter-widgets/base",
            "_model_module_version": "1.5.0",
            "_view_count": null,
            "_view_module_version": "1.2.0",
            "_model_module": "@jupyter-widgets/controls"
          }
        },
        "a4e965ac970e4ea08a1b69bca79e9c6e": {
          "model_module": "@jupyter-widgets/base",
          "model_name": "LayoutModel",
          "state": {
            "_view_name": "LayoutView",
            "grid_template_rows": null,
            "right": null,
            "justify_content": null,
            "_view_module": "@jupyter-widgets/base",
            "overflow": null,
            "_model_module_version": "1.2.0",
            "_view_count": null,
            "flex_flow": null,
            "width": null,
            "min_width": null,
            "border": null,
            "align_items": null,
            "bottom": null,
            "_model_module": "@jupyter-widgets/base",
            "top": null,
            "grid_column": null,
            "overflow_y": null,
            "overflow_x": null,
            "grid_auto_flow": null,
            "grid_area": null,
            "grid_template_columns": null,
            "flex": null,
            "_model_name": "LayoutModel",
            "justify_items": null,
            "grid_row": null,
            "max_height": null,
            "align_content": null,
            "visibility": null,
            "align_self": null,
            "height": null,
            "min_height": null,
            "padding": null,
            "grid_auto_rows": null,
            "grid_gap": null,
            "max_width": null,
            "order": null,
            "_view_module_version": "1.2.0",
            "grid_template_areas": null,
            "object_position": null,
            "object_fit": null,
            "grid_auto_columns": null,
            "margin": null,
            "display": null,
            "left": null
          }
        },
        "5eee1b42d6f84ca3b60d5570259c6270": {
          "model_module": "@jupyter-widgets/controls",
          "model_name": "HBoxModel",
          "state": {
            "_view_name": "HBoxView",
            "_dom_classes": [],
            "_model_name": "HBoxModel",
            "_view_module": "@jupyter-widgets/controls",
            "_model_module_version": "1.5.0",
            "_view_count": null,
            "_view_module_version": "1.5.0",
            "box_style": "",
            "layout": "IPY_MODEL_bb0fa544565a4f99954541cbb19794f7",
            "_model_module": "@jupyter-widgets/controls",
            "children": [
              "IPY_MODEL_8f6a251364764b76ad150021feb9c2e7",
              "IPY_MODEL_8f1219d73f6e4d3fbaffe2c866b8a2be"
            ]
          }
        },
        "bb0fa544565a4f99954541cbb19794f7": {
          "model_module": "@jupyter-widgets/base",
          "model_name": "LayoutModel",
          "state": {
            "_view_name": "LayoutView",
            "grid_template_rows": null,
            "right": null,
            "justify_content": null,
            "_view_module": "@jupyter-widgets/base",
            "overflow": null,
            "_model_module_version": "1.2.0",
            "_view_count": null,
            "flex_flow": null,
            "width": null,
            "min_width": null,
            "border": null,
            "align_items": null,
            "bottom": null,
            "_model_module": "@jupyter-widgets/base",
            "top": null,
            "grid_column": null,
            "overflow_y": null,
            "overflow_x": null,
            "grid_auto_flow": null,
            "grid_area": null,
            "grid_template_columns": null,
            "flex": null,
            "_model_name": "LayoutModel",
            "justify_items": null,
            "grid_row": null,
            "max_height": null,
            "align_content": null,
            "visibility": null,
            "align_self": null,
            "height": null,
            "min_height": null,
            "padding": null,
            "grid_auto_rows": null,
            "grid_gap": null,
            "max_width": null,
            "order": null,
            "_view_module_version": "1.2.0",
            "grid_template_areas": null,
            "object_position": null,
            "object_fit": null,
            "grid_auto_columns": null,
            "margin": null,
            "display": null,
            "left": null
          }
        },
        "8f6a251364764b76ad150021feb9c2e7": {
          "model_module": "@jupyter-widgets/controls",
          "model_name": "FloatProgressModel",
          "state": {
            "_view_name": "ProgressView",
            "style": "IPY_MODEL_390cc376c87f43a88591412f659378b9",
            "_dom_classes": [],
            "description": "100%",
            "_model_name": "FloatProgressModel",
            "bar_style": "success",
            "max": 250,
            "_view_module": "@jupyter-widgets/controls",
            "_model_module_version": "1.5.0",
            "value": 250,
            "_view_count": null,
            "_view_module_version": "1.5.0",
            "orientation": "horizontal",
            "min": 0,
            "description_tooltip": null,
            "_model_module": "@jupyter-widgets/controls",
            "layout": "IPY_MODEL_1357001ba77f427a982241cf15c62be3"
          }
        },
        "8f1219d73f6e4d3fbaffe2c866b8a2be": {
          "model_module": "@jupyter-widgets/controls",
          "model_name": "HTMLModel",
          "state": {
            "_view_name": "HTMLView",
            "style": "IPY_MODEL_714fce9f49184010ba8fd9d6527022c0",
            "_dom_classes": [],
            "description": "",
            "_model_name": "HTMLModel",
            "placeholder": "​",
            "_view_module": "@jupyter-widgets/controls",
            "_model_module_version": "1.5.0",
            "value": " 250/250 [00:40&lt;00:00,  6.13it/s]",
            "_view_count": null,
            "_view_module_version": "1.5.0",
            "description_tooltip": null,
            "_model_module": "@jupyter-widgets/controls",
            "layout": "IPY_MODEL_a10d52f979484776bc851ddbb15b8e71"
          }
        },
        "390cc376c87f43a88591412f659378b9": {
          "model_module": "@jupyter-widgets/controls",
          "model_name": "ProgressStyleModel",
          "state": {
            "_view_name": "StyleView",
            "_model_name": "ProgressStyleModel",
            "description_width": "initial",
            "_view_module": "@jupyter-widgets/base",
            "_model_module_version": "1.5.0",
            "_view_count": null,
            "_view_module_version": "1.2.0",
            "bar_color": null,
            "_model_module": "@jupyter-widgets/controls"
          }
        },
        "1357001ba77f427a982241cf15c62be3": {
          "model_module": "@jupyter-widgets/base",
          "model_name": "LayoutModel",
          "state": {
            "_view_name": "LayoutView",
            "grid_template_rows": null,
            "right": null,
            "justify_content": null,
            "_view_module": "@jupyter-widgets/base",
            "overflow": null,
            "_model_module_version": "1.2.0",
            "_view_count": null,
            "flex_flow": null,
            "width": null,
            "min_width": null,
            "border": null,
            "align_items": null,
            "bottom": null,
            "_model_module": "@jupyter-widgets/base",
            "top": null,
            "grid_column": null,
            "overflow_y": null,
            "overflow_x": null,
            "grid_auto_flow": null,
            "grid_area": null,
            "grid_template_columns": null,
            "flex": null,
            "_model_name": "LayoutModel",
            "justify_items": null,
            "grid_row": null,
            "max_height": null,
            "align_content": null,
            "visibility": null,
            "align_self": null,
            "height": null,
            "min_height": null,
            "padding": null,
            "grid_auto_rows": null,
            "grid_gap": null,
            "max_width": null,
            "order": null,
            "_view_module_version": "1.2.0",
            "grid_template_areas": null,
            "object_position": null,
            "object_fit": null,
            "grid_auto_columns": null,
            "margin": null,
            "display": null,
            "left": null
          }
        },
        "714fce9f49184010ba8fd9d6527022c0": {
          "model_module": "@jupyter-widgets/controls",
          "model_name": "DescriptionStyleModel",
          "state": {
            "_view_name": "StyleView",
            "_model_name": "DescriptionStyleModel",
            "description_width": "",
            "_view_module": "@jupyter-widgets/base",
            "_model_module_version": "1.5.0",
            "_view_count": null,
            "_view_module_version": "1.2.0",
            "_model_module": "@jupyter-widgets/controls"
          }
        },
        "a10d52f979484776bc851ddbb15b8e71": {
          "model_module": "@jupyter-widgets/base",
          "model_name": "LayoutModel",
          "state": {
            "_view_name": "LayoutView",
            "grid_template_rows": null,
            "right": null,
            "justify_content": null,
            "_view_module": "@jupyter-widgets/base",
            "overflow": null,
            "_model_module_version": "1.2.0",
            "_view_count": null,
            "flex_flow": null,
            "width": null,
            "min_width": null,
            "border": null,
            "align_items": null,
            "bottom": null,
            "_model_module": "@jupyter-widgets/base",
            "top": null,
            "grid_column": null,
            "overflow_y": null,
            "overflow_x": null,
            "grid_auto_flow": null,
            "grid_area": null,
            "grid_template_columns": null,
            "flex": null,
            "_model_name": "LayoutModel",
            "justify_items": null,
            "grid_row": null,
            "max_height": null,
            "align_content": null,
            "visibility": null,
            "align_self": null,
            "height": null,
            "min_height": null,
            "padding": null,
            "grid_auto_rows": null,
            "grid_gap": null,
            "max_width": null,
            "order": null,
            "_view_module_version": "1.2.0",
            "grid_template_areas": null,
            "object_position": null,
            "object_fit": null,
            "grid_auto_columns": null,
            "margin": null,
            "display": null,
            "left": null
          }
        },
        "25b0a629a348412db5aa34a49825d99a": {
          "model_module": "@jupyter-widgets/controls",
          "model_name": "HBoxModel",
          "state": {
            "_view_name": "HBoxView",
            "_dom_classes": [],
            "_model_name": "HBoxModel",
            "_view_module": "@jupyter-widgets/controls",
            "_model_module_version": "1.5.0",
            "_view_count": null,
            "_view_module_version": "1.5.0",
            "box_style": "",
            "layout": "IPY_MODEL_1106849799a7464b9c5acacd15050e39",
            "_model_module": "@jupyter-widgets/controls",
            "children": [
              "IPY_MODEL_a29314b51f7a4fc28de95787652840c9",
              "IPY_MODEL_f6cbedd14288405482f19712f37d862b"
            ]
          }
        },
        "1106849799a7464b9c5acacd15050e39": {
          "model_module": "@jupyter-widgets/base",
          "model_name": "LayoutModel",
          "state": {
            "_view_name": "LayoutView",
            "grid_template_rows": null,
            "right": null,
            "justify_content": null,
            "_view_module": "@jupyter-widgets/base",
            "overflow": null,
            "_model_module_version": "1.2.0",
            "_view_count": null,
            "flex_flow": null,
            "width": null,
            "min_width": null,
            "border": null,
            "align_items": null,
            "bottom": null,
            "_model_module": "@jupyter-widgets/base",
            "top": null,
            "grid_column": null,
            "overflow_y": null,
            "overflow_x": null,
            "grid_auto_flow": null,
            "grid_area": null,
            "grid_template_columns": null,
            "flex": null,
            "_model_name": "LayoutModel",
            "justify_items": null,
            "grid_row": null,
            "max_height": null,
            "align_content": null,
            "visibility": null,
            "align_self": null,
            "height": null,
            "min_height": null,
            "padding": null,
            "grid_auto_rows": null,
            "grid_gap": null,
            "max_width": null,
            "order": null,
            "_view_module_version": "1.2.0",
            "grid_template_areas": null,
            "object_position": null,
            "object_fit": null,
            "grid_auto_columns": null,
            "margin": null,
            "display": null,
            "left": null
          }
        },
        "a29314b51f7a4fc28de95787652840c9": {
          "model_module": "@jupyter-widgets/controls",
          "model_name": "FloatProgressModel",
          "state": {
            "_view_name": "ProgressView",
            "style": "IPY_MODEL_f6af95dc08d8447bbb6699c6bc2167ae",
            "_dom_classes": [],
            "description": "100%",
            "_model_name": "FloatProgressModel",
            "bar_style": "success",
            "max": 250,
            "_view_module": "@jupyter-widgets/controls",
            "_model_module_version": "1.5.0",
            "value": 250,
            "_view_count": null,
            "_view_module_version": "1.5.0",
            "orientation": "horizontal",
            "min": 0,
            "description_tooltip": null,
            "_model_module": "@jupyter-widgets/controls",
            "layout": "IPY_MODEL_e6bfdf9c38fb42e488479d8d7ea4c786"
          }
        },
        "f6cbedd14288405482f19712f37d862b": {
          "model_module": "@jupyter-widgets/controls",
          "model_name": "HTMLModel",
          "state": {
            "_view_name": "HTMLView",
            "style": "IPY_MODEL_3820bf2e33544936ae3271ff0fba09bf",
            "_dom_classes": [],
            "description": "",
            "_model_name": "HTMLModel",
            "placeholder": "​",
            "_view_module": "@jupyter-widgets/controls",
            "_model_module_version": "1.5.0",
            "value": " 250/250 [00:21&lt;00:00, 11.77it/s]",
            "_view_count": null,
            "_view_module_version": "1.5.0",
            "description_tooltip": null,
            "_model_module": "@jupyter-widgets/controls",
            "layout": "IPY_MODEL_1d728fe3630d45fda8cd5538704072ec"
          }
        },
        "f6af95dc08d8447bbb6699c6bc2167ae": {
          "model_module": "@jupyter-widgets/controls",
          "model_name": "ProgressStyleModel",
          "state": {
            "_view_name": "StyleView",
            "_model_name": "ProgressStyleModel",
            "description_width": "initial",
            "_view_module": "@jupyter-widgets/base",
            "_model_module_version": "1.5.0",
            "_view_count": null,
            "_view_module_version": "1.2.0",
            "bar_color": null,
            "_model_module": "@jupyter-widgets/controls"
          }
        },
        "e6bfdf9c38fb42e488479d8d7ea4c786": {
          "model_module": "@jupyter-widgets/base",
          "model_name": "LayoutModel",
          "state": {
            "_view_name": "LayoutView",
            "grid_template_rows": null,
            "right": null,
            "justify_content": null,
            "_view_module": "@jupyter-widgets/base",
            "overflow": null,
            "_model_module_version": "1.2.0",
            "_view_count": null,
            "flex_flow": null,
            "width": null,
            "min_width": null,
            "border": null,
            "align_items": null,
            "bottom": null,
            "_model_module": "@jupyter-widgets/base",
            "top": null,
            "grid_column": null,
            "overflow_y": null,
            "overflow_x": null,
            "grid_auto_flow": null,
            "grid_area": null,
            "grid_template_columns": null,
            "flex": null,
            "_model_name": "LayoutModel",
            "justify_items": null,
            "grid_row": null,
            "max_height": null,
            "align_content": null,
            "visibility": null,
            "align_self": null,
            "height": null,
            "min_height": null,
            "padding": null,
            "grid_auto_rows": null,
            "grid_gap": null,
            "max_width": null,
            "order": null,
            "_view_module_version": "1.2.0",
            "grid_template_areas": null,
            "object_position": null,
            "object_fit": null,
            "grid_auto_columns": null,
            "margin": null,
            "display": null,
            "left": null
          }
        },
        "3820bf2e33544936ae3271ff0fba09bf": {
          "model_module": "@jupyter-widgets/controls",
          "model_name": "DescriptionStyleModel",
          "state": {
            "_view_name": "StyleView",
            "_model_name": "DescriptionStyleModel",
            "description_width": "",
            "_view_module": "@jupyter-widgets/base",
            "_model_module_version": "1.5.0",
            "_view_count": null,
            "_view_module_version": "1.2.0",
            "_model_module": "@jupyter-widgets/controls"
          }
        },
        "1d728fe3630d45fda8cd5538704072ec": {
          "model_module": "@jupyter-widgets/base",
          "model_name": "LayoutModel",
          "state": {
            "_view_name": "LayoutView",
            "grid_template_rows": null,
            "right": null,
            "justify_content": null,
            "_view_module": "@jupyter-widgets/base",
            "overflow": null,
            "_model_module_version": "1.2.0",
            "_view_count": null,
            "flex_flow": null,
            "width": null,
            "min_width": null,
            "border": null,
            "align_items": null,
            "bottom": null,
            "_model_module": "@jupyter-widgets/base",
            "top": null,
            "grid_column": null,
            "overflow_y": null,
            "overflow_x": null,
            "grid_auto_flow": null,
            "grid_area": null,
            "grid_template_columns": null,
            "flex": null,
            "_model_name": "LayoutModel",
            "justify_items": null,
            "grid_row": null,
            "max_height": null,
            "align_content": null,
            "visibility": null,
            "align_self": null,
            "height": null,
            "min_height": null,
            "padding": null,
            "grid_auto_rows": null,
            "grid_gap": null,
            "max_width": null,
            "order": null,
            "_view_module_version": "1.2.0",
            "grid_template_areas": null,
            "object_position": null,
            "object_fit": null,
            "grid_auto_columns": null,
            "margin": null,
            "display": null,
            "left": null
          }
        },
        "1fbf51da96e145cb8047d3f144c6a393": {
          "model_module": "@jupyter-widgets/controls",
          "model_name": "HBoxModel",
          "state": {
            "_view_name": "HBoxView",
            "_dom_classes": [],
            "_model_name": "HBoxModel",
            "_view_module": "@jupyter-widgets/controls",
            "_model_module_version": "1.5.0",
            "_view_count": null,
            "_view_module_version": "1.5.0",
            "box_style": "",
            "layout": "IPY_MODEL_3c9e58d9e2154c6ea95f7a42fe06c178",
            "_model_module": "@jupyter-widgets/controls",
            "children": [
              "IPY_MODEL_6a62ec59276d44c4b4a6d9df95d6ed1c",
              "IPY_MODEL_399ce567e94c428fbda322806c9bcdea"
            ]
          }
        },
        "3c9e58d9e2154c6ea95f7a42fe06c178": {
          "model_module": "@jupyter-widgets/base",
          "model_name": "LayoutModel",
          "state": {
            "_view_name": "LayoutView",
            "grid_template_rows": null,
            "right": null,
            "justify_content": null,
            "_view_module": "@jupyter-widgets/base",
            "overflow": null,
            "_model_module_version": "1.2.0",
            "_view_count": null,
            "flex_flow": null,
            "width": null,
            "min_width": null,
            "border": null,
            "align_items": null,
            "bottom": null,
            "_model_module": "@jupyter-widgets/base",
            "top": null,
            "grid_column": null,
            "overflow_y": null,
            "overflow_x": null,
            "grid_auto_flow": null,
            "grid_area": null,
            "grid_template_columns": null,
            "flex": null,
            "_model_name": "LayoutModel",
            "justify_items": null,
            "grid_row": null,
            "max_height": null,
            "align_content": null,
            "visibility": null,
            "align_self": null,
            "height": null,
            "min_height": null,
            "padding": null,
            "grid_auto_rows": null,
            "grid_gap": null,
            "max_width": null,
            "order": null,
            "_view_module_version": "1.2.0",
            "grid_template_areas": null,
            "object_position": null,
            "object_fit": null,
            "grid_auto_columns": null,
            "margin": null,
            "display": null,
            "left": null
          }
        },
        "6a62ec59276d44c4b4a6d9df95d6ed1c": {
          "model_module": "@jupyter-widgets/controls",
          "model_name": "FloatProgressModel",
          "state": {
            "_view_name": "ProgressView",
            "style": "IPY_MODEL_f866850379fb4e3eb488a92fdc6f139c",
            "_dom_classes": [],
            "description": "100%",
            "_model_name": "FloatProgressModel",
            "bar_style": "success",
            "max": 250,
            "_view_module": "@jupyter-widgets/controls",
            "_model_module_version": "1.5.0",
            "value": 250,
            "_view_count": null,
            "_view_module_version": "1.5.0",
            "orientation": "horizontal",
            "min": 0,
            "description_tooltip": null,
            "_model_module": "@jupyter-widgets/controls",
            "layout": "IPY_MODEL_f960211a13ae45f79752f706054be7f6"
          }
        },
        "399ce567e94c428fbda322806c9bcdea": {
          "model_module": "@jupyter-widgets/controls",
          "model_name": "HTMLModel",
          "state": {
            "_view_name": "HTMLView",
            "style": "IPY_MODEL_3a436f71210d4dc6a9c2852878aab1c6",
            "_dom_classes": [],
            "description": "",
            "_model_name": "HTMLModel",
            "placeholder": "​",
            "_view_module": "@jupyter-widgets/controls",
            "_model_module_version": "1.5.0",
            "value": " 250/250 [12:55&lt;00:00,  3.10s/it]",
            "_view_count": null,
            "_view_module_version": "1.5.0",
            "description_tooltip": null,
            "_model_module": "@jupyter-widgets/controls",
            "layout": "IPY_MODEL_2413ea208c714f37a0fd516507b50cb3"
          }
        },
        "f866850379fb4e3eb488a92fdc6f139c": {
          "model_module": "@jupyter-widgets/controls",
          "model_name": "ProgressStyleModel",
          "state": {
            "_view_name": "StyleView",
            "_model_name": "ProgressStyleModel",
            "description_width": "initial",
            "_view_module": "@jupyter-widgets/base",
            "_model_module_version": "1.5.0",
            "_view_count": null,
            "_view_module_version": "1.2.0",
            "bar_color": null,
            "_model_module": "@jupyter-widgets/controls"
          }
        },
        "f960211a13ae45f79752f706054be7f6": {
          "model_module": "@jupyter-widgets/base",
          "model_name": "LayoutModel",
          "state": {
            "_view_name": "LayoutView",
            "grid_template_rows": null,
            "right": null,
            "justify_content": null,
            "_view_module": "@jupyter-widgets/base",
            "overflow": null,
            "_model_module_version": "1.2.0",
            "_view_count": null,
            "flex_flow": null,
            "width": null,
            "min_width": null,
            "border": null,
            "align_items": null,
            "bottom": null,
            "_model_module": "@jupyter-widgets/base",
            "top": null,
            "grid_column": null,
            "overflow_y": null,
            "overflow_x": null,
            "grid_auto_flow": null,
            "grid_area": null,
            "grid_template_columns": null,
            "flex": null,
            "_model_name": "LayoutModel",
            "justify_items": null,
            "grid_row": null,
            "max_height": null,
            "align_content": null,
            "visibility": null,
            "align_self": null,
            "height": null,
            "min_height": null,
            "padding": null,
            "grid_auto_rows": null,
            "grid_gap": null,
            "max_width": null,
            "order": null,
            "_view_module_version": "1.2.0",
            "grid_template_areas": null,
            "object_position": null,
            "object_fit": null,
            "grid_auto_columns": null,
            "margin": null,
            "display": null,
            "left": null
          }
        },
        "3a436f71210d4dc6a9c2852878aab1c6": {
          "model_module": "@jupyter-widgets/controls",
          "model_name": "DescriptionStyleModel",
          "state": {
            "_view_name": "StyleView",
            "_model_name": "DescriptionStyleModel",
            "description_width": "",
            "_view_module": "@jupyter-widgets/base",
            "_model_module_version": "1.5.0",
            "_view_count": null,
            "_view_module_version": "1.2.0",
            "_model_module": "@jupyter-widgets/controls"
          }
        },
        "2413ea208c714f37a0fd516507b50cb3": {
          "model_module": "@jupyter-widgets/base",
          "model_name": "LayoutModel",
          "state": {
            "_view_name": "LayoutView",
            "grid_template_rows": null,
            "right": null,
            "justify_content": null,
            "_view_module": "@jupyter-widgets/base",
            "overflow": null,
            "_model_module_version": "1.2.0",
            "_view_count": null,
            "flex_flow": null,
            "width": null,
            "min_width": null,
            "border": null,
            "align_items": null,
            "bottom": null,
            "_model_module": "@jupyter-widgets/base",
            "top": null,
            "grid_column": null,
            "overflow_y": null,
            "overflow_x": null,
            "grid_auto_flow": null,
            "grid_area": null,
            "grid_template_columns": null,
            "flex": null,
            "_model_name": "LayoutModel",
            "justify_items": null,
            "grid_row": null,
            "max_height": null,
            "align_content": null,
            "visibility": null,
            "align_self": null,
            "height": null,
            "min_height": null,
            "padding": null,
            "grid_auto_rows": null,
            "grid_gap": null,
            "max_width": null,
            "order": null,
            "_view_module_version": "1.2.0",
            "grid_template_areas": null,
            "object_position": null,
            "object_fit": null,
            "grid_auto_columns": null,
            "margin": null,
            "display": null,
            "left": null
          }
        }
      }
    },
    "accelerator": "GPU"
  },
  "cells": [
    {
      "cell_type": "markdown",
      "metadata": {
        "id": "TDJ7qg0yLBLK"
      },
      "source": [
        "#Imports"
      ]
    },
    {
      "cell_type": "code",
      "metadata": {
        "id": "CNtTNC3TLJmg"
      },
      "source": [
        "%matplotlib inline"
      ],
      "execution_count": 1,
      "outputs": []
    },
    {
      "cell_type": "code",
      "metadata": {
        "id": "hbKtpHA50Ama",
        "colab": {
          "base_uri": "https://localhost:8080/"
        },
        "outputId": "4df1ee00-677e-4830-b9e0-3b5532cfbc78"
      },
      "source": [
        "# FOR GPU\n",
        "!pip install torch torchvision torchaudio\n",
        "\n",
        "import torch\n",
        "import torch.nn as nn\n",
        "import torch.nn.functional as F\n",
        "import torch.optim as optim\n",
        "import torchaudio\n",
        "import librosa\n",
        "\n",
        "import matplotlib.pyplot as plt\n",
        "import soundfile as sf\n",
        "import numpy as np\n",
        "import os\n",
        "import csv\n",
        "import IPython\n",
        "\n",
        "\n"
      ],
      "execution_count": 3,
      "outputs": [
        {
          "output_type": "stream",
          "text": [
            "Requirement already satisfied: torch in /usr/local/lib/python3.7/dist-packages (1.8.1+cu101)\n",
            "Requirement already satisfied: torchvision in /usr/local/lib/python3.7/dist-packages (0.9.1+cu101)\n",
            "Collecting torchaudio\n",
            "\u001b[?25l  Downloading https://files.pythonhosted.org/packages/aa/55/01ad9244bcd595e39cea5ce30726a7fe02fd963d07daeb136bfe7e23f0a5/torchaudio-0.8.1-cp37-cp37m-manylinux1_x86_64.whl (1.9MB)\n",
            "\u001b[K     |████████████████████████████████| 1.9MB 28.5MB/s \n",
            "\u001b[?25hRequirement already satisfied: typing-extensions in /usr/local/lib/python3.7/dist-packages (from torch) (3.7.4.3)\n",
            "Requirement already satisfied: numpy in /usr/local/lib/python3.7/dist-packages (from torch) (1.19.5)\n",
            "Requirement already satisfied: pillow>=4.1.1 in /usr/local/lib/python3.7/dist-packages (from torchvision) (7.1.2)\n",
            "Installing collected packages: torchaudio\n",
            "Successfully installed torchaudio-0.8.1\n"
          ],
          "name": "stdout"
        }
      ]
    },
    {
      "cell_type": "code",
      "metadata": {
        "id": "XnWouZs1Em3C",
        "colab": {
          "base_uri": "https://localhost:8080/"
        },
        "outputId": "e48d4814-aca2-4a7d-bd71-2b13787b1e7d"
      },
      "source": [
        "device = torch.device(\"cuda\" if torch.cuda.is_available() else \"cpu\")\n",
        "print(device)"
      ],
      "execution_count": 4,
      "outputs": [
        {
          "output_type": "stream",
          "text": [
            "cuda\n"
          ],
          "name": "stdout"
        }
      ]
    },
    {
      "cell_type": "markdown",
      "metadata": {
        "id": "g8HGWfUwPyns"
      },
      "source": [
        "#Generating Data"
      ]
    },
    {
      "cell_type": "code",
      "metadata": {
        "colab": {
          "base_uri": "https://localhost:8080/"
        },
        "id": "fn6XpqJ6YiG_",
        "outputId": "309601e9-25dc-461d-cbe1-ce0d387b2b54"
      },
      "source": [
        "from google.colab import drive\n",
        "drive.mount('/content/drive')"
      ],
      "execution_count": 5,
      "outputs": [
        {
          "output_type": "stream",
          "text": [
            "Mounted at /content/drive\n"
          ],
          "name": "stdout"
        }
      ]
    },
    {
      "cell_type": "code",
      "metadata": {
        "colab": {
          "base_uri": "https://localhost:8080/"
        },
        "id": "dPM4HLgnD39w",
        "outputId": "8c275cf5-628d-4cb2-8163-2ad37554d3a2"
      },
      "source": [
        "!ls /content/drive/Shareddrives/ASRproject/"
      ],
      "execution_count": 6,
      "outputs": [
        {
          "output_type": "stream",
          "text": [
            "carhorn_noise_tensor.pt  noise_0.wav\t      train-clean-100.tar.gz\n",
            "data\t\t\t noise_data.pt\t      urbannoise\n",
            "dataset\t\t\t noise_tensor.pt      urbannoise.gz\n",
            "dog_noise_tensor.pt\t noisy_voice_0.wav    UrbanSound8K\n",
            "LibriSpeech\t\t noisy_voice_data.pt  voice_0.wav\n",
            "model\t\t\t out.txt\t      voice_data.pt\n",
            "models\t\t\t sample_nv.wav\t      voice_tensor.pt\n",
            "multi\t\t\t test.wav\n",
            "new_model\t\t tmp.wav\n"
          ],
          "name": "stdout"
        }
      ]
    },
    {
      "cell_type": "code",
      "metadata": {
        "id": "PUfsviQe8o6X"
      },
      "source": [
        "# from torchaudio.datasets import LIBRISPEECH\n",
        "# librispeech_dataset = LIBRISPEECH(\"/content/drive/Shareddrives/ASRproject\",download=True)"
      ],
      "execution_count": null,
      "outputs": []
    },
    {
      "cell_type": "code",
      "metadata": {
        "colab": {
          "base_uri": "https://localhost:8080/"
        },
        "id": "th5Fnp24Ijdj",
        "outputId": "490b4783-9eca-4800-ea3e-c6758bcebd28"
      },
      "source": [
        "% cd /content/drive/Shareddrives/ASRproject/\n",
        "!ls"
      ],
      "execution_count": 7,
      "outputs": [
        {
          "output_type": "stream",
          "text": [
            "/content/drive/Shareddrives/ASRproject\n",
            "carhorn_noise_tensor.pt  noise_0.wav\t      train-clean-100.tar.gz\n",
            "data\t\t\t noise_data.pt\t      urbannoise\n",
            "dataset\t\t\t noise_tensor.pt      urbannoise.gz\n",
            "dog_noise_tensor.pt\t noisy_voice_0.wav    UrbanSound8K\n",
            "LibriSpeech\t\t noisy_voice_data.pt  voice_0.wav\n",
            "model\t\t\t out.txt\t      voice_data.pt\n",
            "models\t\t\t sample_nv.wav\t      voice_tensor.pt\n",
            "multi\t\t\t test.wav\n",
            "new_model\t\t tmp.wav\n"
          ],
          "name": "stdout"
        }
      ]
    },
    {
      "cell_type": "code",
      "metadata": {
        "id": "eEKCh4QCZXYQ"
      },
      "source": [
        "# generate_data.py\n",
        "\n",
        "# # global params\n",
        "\n",
        "# Sample rate to read audio\n",
        "sample_rate = 8000\n",
        "# Minimum duration of audio files to consider\n",
        "min_duration = 1.5\n",
        "#Frame length for training data\n",
        "frame_length = 8064\n",
        "# hop length for clean voice files\n",
        "hop_length_frame = 8064\n",
        "# hop length for noise files\n",
        "hop_length_frame_noise = 5000\n",
        "\n",
        "#nb of points for fft(for spectrogram computation)\n",
        "n_fft = 255\n",
        "#hop length for fft\n",
        "hop_length_fft = 63\n",
        "\n",
        "\n",
        "def subsample_list(l,n):\n",
        "    indices = torch.randperm(len(l))[:n]\n",
        "    new_l = []\n",
        "    for i in indices:\n",
        "        new_l.append(l[i])\n",
        "    return new_l\n",
        "\n",
        "\n",
        "def get_voice_files(vdir,num_samples):\n",
        "    \"\"\"\n",
        "        returns all the voice files in librispeech\n",
        "    \"\"\"\n",
        "    voice_files = []\n",
        "\n",
        "    for r,d,files in os.walk(vdir):\n",
        "        for f in files:\n",
        "            if f.endswith(('.mp3','.flac','.wav')):\n",
        "                voice_files.append(os.path.join(r,f))\n",
        "    \n",
        "    return subsample_list(voice_files,num_samples)\n",
        "\n",
        "def get_noise_files(ndir,classIds,num_samples):\n",
        "    \"\"\"\n",
        "        returns all the noise files in urbannoise8k \n",
        "        filters based on classIds\n",
        "    \"\"\"\n",
        "    noise_files = []\n",
        "    \n",
        "    for r,d,files in os.walk(ndir):\n",
        "        for f in files:\n",
        "            if f.endswith(('.mp3','.flac','.wav')) and f.split('-')[1] in classIds:\n",
        "                noise_files.append(os.path.join(r,f))\n",
        "    \n",
        "    return subsample_list(noise_files,num_samples)\n",
        "\n",
        "\n",
        "\n",
        "def audios_to_tensor(audio_files,sample_rate,frame_len,hop_len,min_dur):\n",
        "    \"\"\"\n",
        "        return torch tensor for audio files \n",
        "    \"\"\"\n",
        "    print(\"Converting Audio to Tensor\")\n",
        "    out = display(IPython.display.Pretty('Starting'),display_id=True)\n",
        "    ret_tensor = []\n",
        "    for i,f in enumerate(audio_files):\n",
        "        # print(i,'/',len(audio_files),end='\\r')\n",
        "        out.update(IPython.display.Pretty(f'{i+1}/{len(audio_files)}'))\n",
        "        \n",
        "        waveform,_= librosa.load(str(f),sr=sample_rate)\n",
        "        waveform = torch.tensor(waveform)\n",
        "        dur = librosa.get_duration(y=waveform,sr=sample_rate)\n",
        "        if dur >= min_dur:\n",
        "            waveform_segments = [waveform[i:i+frame_len] for i in range(\n",
        "                0,waveform.shape[0]-frame_len+1,hop_len\n",
        "            )]\n",
        "            waveform_segments = torch.vstack(waveform_segments)\n",
        "            ret_tensor.append(waveform_segments)\n",
        "            \n",
        "        else :\n",
        "            # print(\"Skip File: \"+f)\n",
        "            pass\n",
        "    \n",
        "    return torch.vstack(ret_tensor)\n",
        "\n",
        "\n",
        "\n",
        "\n",
        "def create_data(voice_tensor,noise_tensor,num_samples,sample_rate,savePath=None):\n",
        "    \"\"\"\n",
        "        generates voice,noise,noisy_voice data by randomly mixing \n",
        "        voice and noise data\n",
        "    \"\"\"\n",
        "    flen = voice_tensor.shape[1]\n",
        "    voice = torch.zeros((num_samples,flen))\n",
        "    noise = torch.zeros((num_samples,flen))\n",
        "    noisy_voice = torch.zeros((num_samples,flen))\n",
        "    print('Creating Data')\n",
        "    out = display(IPython.display.Pretty('Starting'),display_id=True)\n",
        "    for i in range(num_samples):\n",
        "      # print(i,'/',num_samples,end='\\r')\n",
        "      out.update(IPython.display.Pretty(f'{i+1}/{num_samples}'))\n",
        "\n",
        "      id_voice = np.random.randint(0, voice_tensor.shape[0])\n",
        "      id_noise = np.random.randint(0, noise_tensor.shape[0])\n",
        "      level_noise = np.random.uniform(0.2,0.8)\n",
        "      voice[i,:] = voice_tensor[id_voice,:]\n",
        "      noise[i,:] = level_noise * noise_tensor[id_noise,:]\n",
        "      noisy_voice[i:] = voice[i,:] + noise[i,:]\n",
        "  \n",
        "    if savePath is not None:\n",
        "      torch.save(voice,os.path.join(savePath,'voice_data.pt'))\n",
        "      torch.save(noise,os.path.join(savePath,'noise_data.pt'))\n",
        "      torch.save(noisy_voice,os.path.join(savePath,'noisy_voice_data.pt'))\n",
        "    \n",
        "    return noisy_voice,voice,noise\n",
        "\n",
        "\n",
        "\n",
        "#https://github.com/fgnt/pb_bss/blob/master/pb_bss/evaluation/module_si_sdr.py\n",
        "def si_sdr(reference, estimation):\n",
        "    \"\"\"\n",
        "    Scale-Invariant Signal-to-Distortion Ratio (SI-SDR)\n",
        "    Args:\n",
        "        reference: numpy.ndarray, [..., T]\n",
        "        estimation: numpy.ndarray, [..., T]\n",
        "    Returns:\n",
        "        SI-SDR\n",
        "    [1] SDR– Half- Baked or Well Done?\n",
        "    http://www.merl.com/publications/docs/TR2019-013.pdf\n",
        "    >>> np.random.seed(0)\n",
        "    >>> reference = np.random.randn(100)\n",
        "    >>> si_sdr(reference, reference)\n",
        "    inf\n",
        "    >>> si_sdr(reference, reference * 2)\n",
        "    inf\n",
        "    >>> si_sdr(reference, np.flip(reference))\n",
        "    -25.127672346460717\n",
        "    >>> si_sdr(reference, reference + np.flip(reference))\n",
        "    0.481070445785553\n",
        "    >>> si_sdr(reference, reference + 0.5)\n",
        "    6.3704606032577304\n",
        "    >>> si_sdr(reference, reference * 2 + 1)\n",
        "    6.3704606032577304\n",
        "    >>> si_sdr([1., 0], [0., 0])  # never predict only zeros\n",
        "    nan\n",
        "    >>> si_sdr([reference, reference], [reference * 2 + 1, reference * 1 + 0.5])\n",
        "    array([6.3704606, 6.3704606])\n",
        "    \"\"\"\n",
        "    estimation, reference = np.broadcast_arrays(estimation, reference)\n",
        "\n",
        "    # assert reference.dtype == np.float64, reference.dtype\n",
        "    # assert estimation.dtype == np.float64, estimation.dtype\n",
        "\n",
        "    reference_energy = np.sum(reference ** 2, axis=-1, keepdims=True)\n",
        "\n",
        "    # This is $\\alpha$ after Equation (3) in [1].\n",
        "    optimal_scaling = np.sum(reference * estimation, axis=-1, keepdims=True) \\\n",
        "        / reference_energy\n",
        "\n",
        "    # This is $e_{\\text{target}}$ in Equation (4) in [1].\n",
        "    projection = optimal_scaling * reference\n",
        "\n",
        "    # This is $e_{\\text{res}}$ in Equation (4) in [1].\n",
        "    noise = estimation - projection\n",
        "\n",
        "    ratio = np.sum(projection ** 2, axis=-1) / np.sum(noise ** 2, axis=-1)\n",
        "    return 10 * np.log10(ratio)\n",
        "\n",
        "\n"
      ],
      "execution_count": 8,
      "outputs": []
    },
    {
      "cell_type": "code",
      "metadata": {
        "id": "0xo7NIezK7xD"
      },
      "source": [
        "# voice_dir = './LibriSpeech/train-clean-100/'\n",
        "# noise_dir = './UrbanSound8K/audio/'\n",
        "# num_voice = 10000\n",
        "# num_noise = 1000\n",
        "\n",
        "# # classes to consider\n",
        "# classId_map = {\n",
        "#     'dog_bark':'3'\n",
        "# }\n",
        "\n",
        "\n",
        "# voice_files = get_voice_files(voice_dir,num_voice)\n",
        "# noise_files = get_noise_files(noise_dir,[classId_map['dog_bark']],num_noise)\n",
        "\n",
        "\n",
        "# print('#voice files',len(voice_files))\n",
        "# print('#noise files',len(noise_files))\n",
        "\n",
        "\n"
      ],
      "execution_count": null,
      "outputs": []
    },
    {
      "cell_type": "code",
      "metadata": {
        "id": "H51NAmjPK_KU"
      },
      "source": [
        "# voice_tensor = audios_to_tensor(voice_files,sample_rate,frame_length,hop_length_frame,min_duration)\n",
        "# noise_tensor = audios_to_tensor(noise_files,sample_rate,frame_length,hop_length_frame_noise,min_duration)\n",
        "\n",
        "# print('Voice Tensor Shape',voice_tensor.shape)\n",
        "# print('Noise Tensor Shape',noise_tensor.shape)\n",
        "\n",
        "\n"
      ],
      "execution_count": null,
      "outputs": []
    },
    {
      "cell_type": "code",
      "metadata": {
        "id": "KcSllJpDbiTr"
      },
      "source": [
        "# # save tensors\n",
        "# torch.save(voice_tensor,'voice_tensor.pt')\n",
        "# torch.save(noise_tensor,'noise_tensor.pt')"
      ],
      "execution_count": null,
      "outputs": []
    },
    {
      "cell_type": "code",
      "metadata": {
        "colab": {
          "base_uri": "https://localhost:8080/"
        },
        "id": "aFZcpiZdG-u6",
        "outputId": "04d33045-fa77-43e1-f797-a816de7389e4"
      },
      "source": [
        "voice_tensor = torch.load('./voice_tensor.pt')\n",
        "noise_tensor = torch.load('./noise_tensor.pt')\n",
        "print(voice_tensor.shape,noise_tensor.shape)"
      ],
      "execution_count": 9,
      "outputs": [
        {
          "output_type": "stream",
          "text": [
            "torch.Size([120974, 8064]) torch.Size([3694, 8064])\n"
          ],
          "name": "stdout"
        }
      ]
    },
    {
      "cell_type": "code",
      "metadata": {
        "colab": {
          "base_uri": "https://localhost:8080/",
          "height": 51
        },
        "id": "fXkSczeoK_-D",
        "outputId": "dcaf2d0d-d583-490e-b609-63d593d9b9df"
      },
      "source": [
        "num_samples=5000\n",
        "# output_dir = './data/'\n",
        "# print('Removing old data',os.system(f'rm -r {output_dir}'))\n",
        "# os.makedirs(output_dir)\n",
        "# os.makedirs(os.path.join(output_dir,'voice'))\n",
        "# os.makedirs(os.path.join(output_dir,'noise'))\n",
        "# os.makedirs(os.path.join(output_dir,'noisy_voice'))\n",
        "\n",
        "nv_data,v_data,n_data = create_data(voice_tensor,noise_tensor,num_samples,sample_rate,'./')\n"
      ],
      "execution_count": 10,
      "outputs": [
        {
          "output_type": "stream",
          "text": [
            "Creating Data\n"
          ],
          "name": "stdout"
        },
        {
          "output_type": "display_data",
          "data": {
            "text/plain": [
              "5000/5000"
            ]
          },
          "metadata": {
            "tags": []
          }
        }
      ]
    },
    {
      "cell_type": "code",
      "metadata": {
        "colab": {
          "base_uri": "https://localhost:8080/"
        },
        "id": "zqbwNJNCcyxP",
        "outputId": "d9365d8e-b71e-4c4d-fa49-6b9471fbe5e3"
      },
      "source": [
        "!ls"
      ],
      "execution_count": 11,
      "outputs": [
        {
          "output_type": "stream",
          "text": [
            "carhorn_noise_tensor.pt  noise_0.wav\t      train-clean-100.tar.gz\n",
            "data\t\t\t noise_data.pt\t      urbannoise\n",
            "dataset\t\t\t noise_tensor.pt      urbannoise.gz\n",
            "dog_noise_tensor.pt\t noisy_voice_0.wav    UrbanSound8K\n",
            "LibriSpeech\t\t noisy_voice_data.pt  voice_0.wav\n",
            "model\t\t\t out.txt\t      voice_data.pt\n",
            "models\t\t\t sample_nv.wav\t      voice_tensor.pt\n",
            "multi\t\t\t test.wav\n",
            "new_model\t\t tmp.wav\n"
          ],
          "name": "stdout"
        }
      ]
    },
    {
      "cell_type": "markdown",
      "metadata": {
        "id": "nrsacIu7QMDC"
      },
      "source": [
        "#Speech Dataset Class\n"
      ]
    },
    {
      "cell_type": "code",
      "metadata": {
        "id": "XYExv6X-RW6P"
      },
      "source": [
        "# modify this class to directly take loaded files\n",
        "\n",
        "class SpeechDataset(torch.utils.data.Dataset):\n",
        "  \n",
        "  def __init__(self,nvd,vd,nd,sample_rate=sample_rate,n_fft=n_fft,hop_length_fft=hop_length_fft):\n",
        "    \n",
        "    # store the file names\n",
        "    self.size = nvd.shape[0]\n",
        "    \n",
        "    noisy_voice_waveforms = nvd\n",
        "    self.noisy_voice_spectograms = torch.stft(noisy_voice_waveforms,n_fft=n_fft,hop_length=hop_length_fft,return_complex=False)\n",
        "\n",
        "    voice_waveforms = vd\n",
        "    self.voice_spectograms = torch.stft(voice_waveforms,n_fft=n_fft,hop_length=hop_length_fft,return_complex=False)\n",
        "\n",
        "    noise_waveforms = nd\n",
        "    self.noise_spectograms = torch.stft(noise_waveforms,n_fft=n_fft,hop_length=hop_length_fft,return_complex=False)\n",
        "\n",
        "    \n",
        "\n",
        "  def __len__(self):\n",
        "    return self.size\n",
        "    \n",
        "  def __getitem__(self,i):\n",
        "    return self.noisy_voice_spectograms[i],self.voice_spectograms[i],self.noise_spectograms[i]\n",
        "\n"
      ],
      "execution_count": 12,
      "outputs": []
    },
    {
      "cell_type": "markdown",
      "metadata": {
        "id": "0Oi5OOJBZVFP"
      },
      "source": [
        "#Prepare Training,Validation,Testing List"
      ]
    },
    {
      "cell_type": "code",
      "metadata": {
        "colab": {
          "base_uri": "https://localhost:8080/"
        },
        "id": "_mI2UrR7ZCgQ",
        "outputId": "608aad25-90d9-42c0-94b3-9b4018fd8dba"
      },
      "source": [
        "dataset_dir = '/content/drive/Shareddrives/ASRproject/data/'\n",
        "\n",
        "file_list = [(os.path.join(dataset_dir,'noisy_voice',f'{i}.wav'),\n",
        "              os.path.join(dataset_dir,'voice',f'{i}.wav'),\n",
        "              os.path.join(dataset_dir,'noise',f'{i}.wav')\n",
        "              ) for i in range(num_samples)]\n",
        "print(file_list[-1])\n"
      ],
      "execution_count": 13,
      "outputs": [
        {
          "output_type": "stream",
          "text": [
            "('/content/drive/Shareddrives/ASRproject/data/noisy_voice/4999.wav', '/content/drive/Shareddrives/ASRproject/data/voice/4999.wav', '/content/drive/Shareddrives/ASRproject/data/noise/4999.wav')\n"
          ],
          "name": "stdout"
        }
      ]
    },
    {
      "cell_type": "code",
      "metadata": {
        "colab": {
          "base_uri": "https://localhost:8080/",
          "height": 75
        },
        "id": "KXiEQ8Q4qMlg",
        "outputId": "0b2df745-440a-445f-bc47-4eedf13bb5e8"
      },
      "source": [
        "# %cd  '/content/drive/Shareddrives/ASRproject/'\n",
        "# # %cd urbannoise\n",
        "# !file --mime-type urbannoise\n",
        "IPython.display.Audio(file_list[0][0],rate=sample_rate)"
      ],
      "execution_count": 14,
      "outputs": [
        {
          "output_type": "execute_result",
          "data": {
            "text/html": [
              "\n",
              "                <audio controls=\"controls\" >\n",
              "                    <source src=\"data:audio/x-wav;base64,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\" type=\"audio/x-wav\" />\n",
              "                    Your browser does not support the audio element.\n",
              "                </audio>\n",
              "              "
            ],
            "text/plain": [
              "<IPython.lib.display.Audio object>"
            ]
          },
          "metadata": {
            "tags": []
          },
          "execution_count": 14
        }
      ]
    },
    {
      "cell_type": "code",
      "metadata": {
        "id": "Fco_avHadmEu",
        "colab": {
          "base_uri": "https://localhost:8080/"
        },
        "outputId": "4c314c07-1bfb-4d96-c536-e0126d18e04f"
      },
      "source": [
        "#  create train val splits\n",
        "num_train = 4000\n",
        "num_val = 500\n",
        "num_test = 500\n",
        "\n",
        "train_set = SpeechDataset(nv_data[:num_train],v_data[:num_train],n_data[:num_train])\n",
        "val_set =SpeechDataset(nv_data[num_train:num_train+num_val],v_data[num_train:num_train+num_val],n_data[num_train:num_train+num_val])\n",
        "test_set =SpeechDataset(nv_data[num_train+num_val:],v_data[num_train+num_val:],n_data[num_train+num_val:])\n",
        "\n",
        "print(train_set[0][0].shape)"
      ],
      "execution_count": 15,
      "outputs": [
        {
          "output_type": "stream",
          "text": [
            "torch.Size([128, 128, 2])\n"
          ],
          "name": "stdout"
        }
      ]
    },
    {
      "cell_type": "code",
      "metadata": {
        "colab": {
          "base_uri": "https://localhost:8080/",
          "height": 129
        },
        "id": "oIvXjGncBosh",
        "outputId": "a0aeba7a-7aaf-432f-d343-fbf39eddc249"
      },
      "source": [
        "IPython.display.Audio(torch.istft(train_set[0][0],n_fft=255,hop_length=63,length=8064,return_complex=False),rate=sample_rate)"
      ],
      "execution_count": 16,
      "outputs": [
        {
          "output_type": "stream",
          "text": [
            "/usr/local/lib/python3.7/dist-packages/torch/functional.py:655: UserWarning: istft will require a complex-valued input tensor in a future PyTorch release. Matching the output from stft with return_complex=True.  (Triggered internally at  /pytorch/aten/src/ATen/native/SpectralOps.cpp:787.)\n",
            "  normalized, onesided, length, return_complex)\n"
          ],
          "name": "stderr"
        },
        {
          "output_type": "execute_result",
          "data": {
            "text/html": [
              "\n",
              "                <audio controls=\"controls\" >\n",
              "                    <source src=\"data:audio/wav;base64,UklGRiQ/AABXQVZFZm10IBAAAAABAAEAQB8AAIA+AAACABAAZGF0YQA/AACY5tYqnzF/FRX5B+/IEEMddhGhAPvtU/iSCdIUBRmrDvIUaBsWDpD7oumA9a0NDRlbGCwDge7g6LTlp+++8FXx3u614zjd/NR3ymDKKR2XT2BVqhbuv6TKGuinIk4xUQ5p+1Xz2RI5JMEOVv9u7UX2rwvcEaQVdA8dFPYh2g9e/OnrAfMFEC0ZBRkfA6ruVuzh7CHy5/Ka7ZXu8uMW4nbbPNMBwZD3Y0jpV446OdfzwzbjuA1/MUUSsv11+gQP1ynEEh/60vBC9D8N+A/nDKwNYw0fIiYaVf9c8JDu+wn4FB0TOgc49b3yuvOH8WHxfOg66/PovOW14ebVH8b01K8uGVOsSVb+Pr4l3YX7XiWhG1r7cf45BxUi/Rlo+LP0sPa0CLAQfQM6CL4OuR57JPcE5vJs7b//MBY/EpoMVgDe+I/5kexJ6L3mwewy9XLtLOM81efNiscmE9xNCk/ZHhfIwtK68kAV6iJaAS3+SgY5FzAg1P6U9ln6NgNrDbz/VQLzEO8cHCgdDqrzgO6X+M0QuxFRDHkB3Peo9uLvb+iq53jo1/FA7gHlQ9eH0J/C9vBSRddOkDQd3jHGRvFqCskgQgVv998MkRc4I5IFp+/T/BsDDA8rBI37YQ6GG2kmtRdk9jnygPjZCwoU7ApWCFoB1/lx9F/oVuyd6x/x++2G5PrYitQByXvdZjwmTTY7ZO3Uvc3v4QdWHj0K8/LWDNYWQx42DF/s9fvQAusIDwSW9ssLQBufIGoZifdU8fX49wV2EbwGXwXCAzj7svb75+TloOdK65LsfOXs2SrYZMhU2dc3S0iPNmLzisaR9+8HRRQ5BC7zCBJjG40aGgmU7TABLArGCHcDh/jbDkAe/RwIFlb79fYh//AF+g0MCLUI9weJ/Ef1peik53Poruxu7Xzn9t102/fPRNO5MQBKpTg//uzGz/RMBO0OKgi196MUhxscEj8FJO0qBCMNzQFf/Rb2Fg5PIIMbMBaO+5H1Sv5f/0sMcwhKB1IFSvmv9THst+dN5nzpfez557Xd1tq1zRTVeDQzTCcxr/jFygr6DQhLBdUAePmqGFwh4gsfAN3wOgoFEG36l/vU/VsZKSa6FsUSm/4J+HYAzP64CJsHiAbSAd72Nvhc8Dnpf+Rh6CPtd+qM2ibYCc8r15s2IEOYJgX40s/EAfwFl/50AnP9gx0fHvAGYv4G+L0REgzN9CT26//QGFwdnQ1MDqIE6fv4/00AYApmCl4F3gA59+74ePAc54/j8en/68vm6ta30+LND930P6k/AyJ090vTJgZ7AvD3lgBKA/8hHyHZBcYGtwHAFtcMr/Nz+tIIwB77GzQQ1hS+DLr7E/Ma+TML8RAaCv8ACP2I+X7xV+Tj4prqyulb46/XD9U5zjnVaDjCQ3QlqQKT2B4H//2V8jD/FAdpIwsY8ACkCaQEtRPOA/jzrgXKDJ4XIA8DD/4YRg07+gXxSPsNDeYMhwXr/679Bvtp7iPjcubP7CDrweIw2YnaVNJH1bou2DpHIgwIIOM/CNb8revU+9gI9yHxGvn+wgv7Bq4LiwSY8XoG3hAzEUAR9g3iGFEPwviH+SMCXQytCToBrQNwA0f6l+q44LTqh/C96s3jBd5A3EPTecuHJVo+QSNhDe7lcQuqAtno0vLgBKkdzxY9/AoKRRD1EqgE9fGbCI4S3wnUCS0RXBznFH75Tfo1BHEILQS2+xgEugZW94/qPeSf7QjxyehA4VLgi94S2vLHRgxVQ6oeQRW88IMF1xEM6af05wUuFPwT7/qICX4WjgwiBWL2OwamEvQDBgjbExYbfxNR+mT8/QkKCYMD3/9FBfkHbfdT6+7pCPAv7/DnwuGd5qngBNoezBkDIECjFiYUif/pCl0WCelr8wMH6w6LCwD5jwyrG6wIEAKU+gkKexFC/ukDNhWHGMcMZvi1/pwMpQWV/n7/4gdQB2T0Fe3e7gXxO+xP5A/ln+kP4jrakc1n6hcySRgIEigQMwgwHWzyqvBzB6oKMwc0/t4HORZADRYBvAQVDMYQSQMnAywWLxYOC1n+fwChDB8Gw/0QA0UGogK79kPwcPBT7y7qVuhn5p/n+uSQ2/3WSuauJWoZygptF7II8xmb+9T0QgsfB7MCwv6oB6kPSgo0AO8HEA2gDfgGZgaiF/sR9gf2//v/Pwh/A5D+EAN1BdMAMfma8/jxru/R6UDoFOUT5pril9wO2MXkaB8GE5gKlBd3Ci0bHACk+7AMpQQEAyn/agSvC9YFiAKXCs0NKg+gC9ELxRdZDycHbwH7/IwEFf+f/aEBhgFF/yb5bPXU8j7vUOnn5wTj2uGi3n3a2NaZ6IYX4wcJCXUVhwyiGgQA2wPpD5UCPwJn/PkEtwWc/yUAbgUYDSMN9g8xEkkXJxCWBx0Ezv4rAU37kPxXAIL+Uv1E+fL4o/Rg8ujuEetd6f7kQuGA3bjZafD2C4X/PQnhEGIP2hh2B5MSTBj6CDMKz/+CBOICxfa1AB4BmgjvD/sMyxeOGDUSjg8LB9cEwgBl9yH6LPmz+Bj4JPSm9xv2g/ZL9ULxAPEF64jlfuJK3ov0XP6V9bMDkgSPDG0PlQiTGQMXxxA4EO0HLg2EAyH7GAFl/BkEmQepCOcTShGQE40SMgzADNQEZAGdAnz+5v0m+JHz3PUc9Aj2e/SY8ufzXu686vXmf+dG9hj2BfTA+Sf6QQE2/+EE4RFkEvkUQRRGE0kTMgzKCMcGSwSlBtIHggluDE4Mzw1pDWMMQA3FCYIG1wXDAxz//ver8TfyVvHm7UHrK+oc6X7lQuOu4iTs6fKY8m731PtQAX8BHQMsDwEVWheXF2EWuRZ8EX4NmAniB9gJ6wcDCaoLGQx+DEIL5QoQC9QGJwOIANL/If719zDz2u/T8FPvjuoV6vHqWOfw4wTiC+il7y/xe/ci/SMDtgVdBqwN1BTwFnUZVRl2Fh8TTg2RCVQGcgZmBtYF4AmBC8kJwwkRCWEJtAWPAff/cf4R/N33z/Mv8fXvtutZ7K3plurS5Sri9OUy6efstu309rv94AKtBOIIWgw4EaMXfxi4GuUXQxNPDeoIcwnDBM8DlgZmCdcLMAfxCLwIkgaHBTYEOgGq/O39ivnx9AP0Se+D7rXsl+ki587lquZf5O7qiu3u7jn3Y/2tANMDWApJEtYUQxR3GUwcpxi6EccNvQn/BeYFhARqCAQLxgddCLgHgAkrBdr/SgI+AO39oPkF9272W/Kd8G/ujemj6K7pwuXN4t7o3e2w7eHy0/h2/S8A3ANTDmQT+hIBFaEZchgQFKMQ8AtICFoJVQiDBNYHyQq/Ca8G/AkuBysE7AEnAH3/Nfdm96r2u/KY7VDuw+zr5qTmReTH4UbmROt0763y/vb//Cj/8gOdCUEROhTDFzIdqRkEFNIS8w3FC5gLrAfSCdIHvQZwCBcH0wQKBKoDIf9U/hP8z/j+9M/xovDP7fXpSOeW6UzlI+KY5E/o9Ova7fLzPPwj/0MBuwhXDqYSexWVGDQcpho8Ft0PtgwdCsoGswk4CFMHpAkXCKcF7gNVA/UBmwAj/oL7lPar8R3wlu5g6/bnv+Ub5Gjkz+M259Hrz+3X8qj4kPxpAkEHnQxDElEVrBqwGj8ZgxcUFLQPug1/CngHrggDCAgJxgaQBVQFCwMAAEr+X/3y+c31ivP+7/LqIekg5+blieOw4h7hzuN468Dt1vMt+0X+7ANACQAP/RO3F6kbIhpOGekWEhIOEEIMwQrXCxcIqAirCKcE+AVjBbQDKQK8/SP6i/gL9IHvge3f6vDnm+ao5OPhzuDQ4lPoCOqY7hr2//sRAnUGHg5iEvgUBhuqHCUchBmsFJsRng0RCrIHhwjNB+sGWQeGBJEEDgIM/oP8QPoM9z7zWO/t7K7o++bF5a7jK+R54cfiQuae6VnuKPSs+UP+pQPPCsIRnxW4GWIenx5XG5YZ2hRREsYP4Qp/CwgLCQppCbgGKAfLBR8DVwBe/P/4OvOo8Frv8usy65zpDeau5r/kjeTh6fLsCfBy9hL7L/9PBWwK3RHpFMgXBB1eHVUctxtRGHoUyBCDDqQNxwvnC3cK2QlJCF0DpQBE/Qf6aPiU9PTwEe7d6uvo8+Yw59jmU+Va5h7qc+5v8P31oftMAHEGFQxwEa0U+RiKG0sbbBu5GaMVqhM1EowR9A9FDSENpQovCH8GCgTDAAT97fny9tvymO6Z63fp++Z95bvlE+WW5BrnWeyF8PHzsfmK/v0BHAdQDL8SURZcGOkaBxvEGoYXjhQ2ExIRCg9VDjgOTQxPCuMIjQUoAuP+lfqg973zXvAw7WHqeumi5gnmV+Ub5EHlTugZ7bHvuvO3+fn+LwOTCEIOhBKRFQgZAhy8GUoZ4hdpEwsTqxCdDbAN1QwXDEEKCAjGBSwC1f8p/Vv46fPH8J3sVelM6PTn+OVY5Sfms+Zn6pDuvfFJ95T8BADCBPQI4w26Ev8U0BjzG+8Z1BgMFysUPxPGEX4QqQ4jDZ4KMwnJBzoDOACX/db3ufT48krvTO3K6QfoHOie5qnmR+ek6cbsUfCY9Gj55f5yASwGTA04EYgU4xe2GYgbABwwGhsZZxeSFOASVxAyDjANoAq0BvICBv9++uL2qfPk8cPtN+nx5/nl3+Tm5fjm2+ZW6MLrJu7f8Qz3svtFAO0EdAoBD58SyRWJGUcbtRtgHIIa7RgIFw4UDxGBDswLngjRA2n/NP2n+JPzx/Al7kjra+iI5lnlT+SU42TjSuUl6FHrmO9Z9ET4tvysATsGlgvRDwoTrBYKGNIYdhqbGdgXJBaiFK8T7RB7DXcLXAgRBHsB3P4R+7z2DPNG74rsfeuj6XvoNuh06DrpE+r/7GHwTPMu+SP9IAE+Bp4IzQuoDtgQFBMHE8wTyBPpENcOpQvlCxwMmQoDC78JHQi7BoADZgAc/iT6Dvh29rjzEvEb7+fte+1c7cDuxfAp8hf0e/b1+Qn87P60AWYD9wWnB5EI8gnrCmYMfQ2nDMcMYgtiClgKEQkcCVgIAggTB/wEVQQlAhMAHf8S/af66PfH9Zz1bPTU86b0Q/Qz9ev1AvfG+Pb5Pvz+/br/mwFEAw0GqwfmBw4JiQrfC90MZwxNDPQLKAqlCc4IhAdEB70GLAVlA+sB0wCf/5b9zvvU+qD5vPfC9oP2g/Zb9pH26PjS+hH6aPr8/EH+tf+IAWoD+ARNBQkHJQglCY0K6gpDC0QLBAtaCs8I0QdJB5YFkgSzA+sCPAIrAPj94fx6/Lb6RPnT+Mf4Gfgk96r3FvhB+TD69fu6/Xz9eP69/7sB0wLpAuMEEwZIBkQGuwZRBzQHkAamBmYGywSZBCwEkAP2Am0BKwBa/4f+Tf0h/Bf7gvkm+V/50fgH+QD5mvlc+vD5xvo//FT9Nf7l/p3/egD0AScDqgOBA3YDCwQZBA8EpQSzBNYDOQOvAi0CfwH//4D/5v46/gz+x/0+/fv7Lvt9+tT5Afkz+Xf5CPnJ+P34Ifqq+uf6ufsE/Tb+Sv+RALsBVAEMATwCHQNzA2ACHQIRAusA3AA0AS8B0QAXAHz/I/5i/bz9R/28/MD7m/tz+xv7JPur+n/6Xvrz+tz7cvyd/J/87Pwj/h3/l/8DAaABjwF9AXYBeAJhAh8CmQIYAq0BVAF7ADgAxP8t/xP/9/1n/Rn9Y/z1+277xvve+xT7avrV+Wz6Oft3+/T7/vs1/Bn82/xV/tn+SP/V/x0APgAAAVoBPwGUAQ4CpAF2AQMCFgEwAPP/Tf/t/l7/av+t/nn9I/0E/Xf8j/wx/Ef9Iv1g/Fv9TP2d/C78lvyj/Vz+Vv5X/gz++/0E/n7+Of8p/y7/J/9C/xEAYwBbAMD/d//D/9n+//3T/WD+Nf7K/aP9a/06/ej8NP2N/f797P38/AX9Jf3w/E783/sy/ID8rfwX/fX96/3z/UH+n/6W/wsAQQC5AMcAggCS/9P/8/+Y/xEASwB5/7T+of4U/gH+M/4f/pT9av0d/bz90/2Y/Zr9fP3u/aL99/1t/eL8If3B/Vn+Av6L/i//yP7E/pb/agClAC8BJgG+ANIAGgF2ARIByAA7APP/CwA3ADD/qf6p/g7+Ff4Y/sz+X/7b/fj90P5//zL/b/9b/5f+wf5f/xz/Vf9Q/6f/qf/Y/+YAjAAmALkAZQFdAVAB9AHSATYBDAHLAA8ByAA1ADcASQBI/5X+VP9v/wH/T/6C/jr/rf/e/uD+7P/d/8P/jP+l/3z/mf+z//z/YABfAGIAHwDk/+z/LQDPAHwBDAEPAhcCgQG5ARMB/QDi/18AeAC+AMIB4gC+/6D+ff8YAOL/SABIABoAnf/A/8L/Zv8HAHkAiACx/3r/zP83/4v/E/9h/58AjABWALv/UgA6AEYAkwAUAAIA7P/E/73+0f5Y/5L/FP/B/n/+OP7L/u3+wP57/kL/uf9+/4P/Bv9s/mf+Bv87/8z+7/5+/3r/Qv9m/6r/rP+g/6j/2P+y/9D+aP4x/8T/Sv8R/5j/jv8F/7r+/v63/8z/of8f/xf/f/89/4T+1f5A/6H+OP64/c397v05/en8WP3R/W7+cv5V/h/+f/2Q/eH9T/5O/nH+iP5j/iT+EP7h/vX+af6k/Tb+kf6T/ir/Qv/a/lD+gv5n/qf9bP24/Qr+of4Y/nv+If9W/sf9Kv1B/Tv+v/5F/23/8P69/nb+//7f/sP+IP8G/83/aP8d/1T/E//i/24AdAAcAJr/uf96/43/BP8Y//b+lf7s/t39O/6T/nn+gP6y/jP/Ev9C/7//kP+s/+X/LACMAFEAhwD//+3/WwD0/xwAhAChAGwAJwA1AUABjwB5AK8A4ABpAEQAOgBgAD4ADgAwAKQAUQAj/03/gwDqAOIAGAGPAJ//iP8BAKIAbgAbAGUAZQChANgASAGUAcUAqAAnAboAEwEFAagAlQCoAKUBnwEVAX8AYQAiAGP/4P98APP/5//a/7v/QQA8AEIAogBYAEsAVQC5/6D/Yf+Y/2kA5wA6AX8BzAEWAScA7P9EAGEACgBDAF4AmgC4AN0ABQHRAOQA6gDfAPMAiwAKADAAJACt/5z/3f8jAIYAyQAYASMBvwBxAK4AZQDl/7b/rP8+ACUAqv81/y3/t/9m/xj/SADVAG8AZQDiAAMB+gAEAWABtAIqAjIBWQFNAd4AlwBbAeQBQgH0ACUB3wFLAvkBoAEdAVsBBgK0Ai4DSAPaAoYCKAP8AskCMwN/A0gDXgMiBPUDiQMZAzUDEQO0AlICiQKBApgCQgLxAUICgwECAm4CxQF3AZwC+gLeAoACmAIDA94CUwPPAwoE6wM8BGEEaQRfBK8D8gIVA54DZwOzAuMCvAJoAqkCcAMlBB4DjALWAqkCTwNtA14DywIwAsACvgLFAvECLANcAyID5QK8AnIBGAGIAUwBxQCtAE0BVwFVADgADwFXAJ3/0P+UAKsAjv+v//YACgFPALT/ZAALARoAgf9Q/xz/dP7S/lkAMwHDAIUAlgCrANYA2QCmAYYB3gAvAAoABgCAAC4BVQH8ABEB4gGAAWoBmgFxAlIC2QE9AmICIwJHAm4C6wH2ATgCtgIfAqcB9gGhAToBiwFqAjMDhQJfAVEBTwEXAYwABQHxAZQBAwEZAf4AEQFbAfkB5wEiARMBygAKAewAEAGEAXcB2QBqALcAxgCbAM4AJAGxACkBlwHCARcBsQB2Aa8BrQGDARcCNwKoAYMBkwFuAbEASQCRAOAA9wDZAPcAxABqAJsA6gDkALUAfwDM/x0Auf9z/9wAewD8/2D/X/+T/1T/c/8T/4j+Yf4a/37/sf+K/3D/EP+8/rv+HP9r/4H/sf9x/5T/Mf/9/ub/ZgBMAJv/o/95//n+D//k/3n/Y/97/xT/+f85/wMAtv9E/03/rv+qAB0A3/9ZAJMA2f/m/+j/NQBZACAAEgBx/+P/vv9s/2YAGAA7/2r///84AAAADv9D/yT/4P6T/nD/rv/v/pz/Bv8+/6L/u//L/z8A1P9O/qb+fP+p/4r/9P9NAF4AowDP/w4AIADd/2IAtgC2AX8AdgGOADIAywB1/5YBTQB5AVMBfgGvAfwA9wGQAAYCYwElAqABaALXAucAfgHSAGQBhgFZAFkAJQDO/2ABdQAjAPX//v+CAA0A4/9uACoApf/8/w//Nf91/vb/mf8y/zAAHwBm/17/mP9+/b3+4P2r/af+0v2R/r7+cf+D/1f/uf/X/9f/Z/9M/yv+/P6A/vr9s/80/4//zv7p/hL+3/1/AE0AQwBu/4EAlf+t/kIB5P9WAE0A5P6Z/w7/kP/w/1EAJAG6AGUBfgABAXn/df/GAAUAAwKyAIoAAACSAAwAOv9/AKkAeQCdAIkAMwAtAT7/KQE5AeUA/AD7/lL///2z/lX/BQA5AcAAngADASQBBgFJAhICaAEJApIBaAHaASIB5AGjAjICfwJZAhMDQwO4BGsEiwSABOwDvQTeA0QDpAJ9AxUDOwPhAggEDATLApQDVgLiA7gD/wLiAvACYQJpAlIEOAQrBIwCHQPZAZwBYgJpAgMDUwOcBCYD7AIsAVYAKAHWAXkBPwHiAcECmAJIAUkBAADI/1YAs/8J/yAA2P/l/23/3/4W/vj9Yv6Y/FX87/yk/nD9Zf6s//j+9P6F/hL+YPwc+9r6/fx8/Zn8f/vA/NP9uf1y/rr8mfzV/JD8a/14/an9VP8eAJP/VgB6AX0AuQAaAakAjwCoAPMB0AG/AgYCLwOUBOMDEgNdAfABOwEEAtMAjgF0BPMDvwLiAtAD+gHEAVYCDwJ0AV4BAAMVAjgBegLTAswDuQMcAggCFQLtAG7/TABXAXH/aP4Y/x4AbP/G/kH/q/+6/TT9Vv8U//n9sf1V/un9yf4o/jv+uv0M/O/95Pzk+3n/bAG4/gv94fsf+6P72PtX/V4AbgE2/8X//gDS/gf8V/wh//r9Zf0r/Uz9dP8uAHcAdf8ZAc0B3P8c/n//dwCt/uT8aP6nAeYAn/5bAKoD7/9C/1P/P/5Z/aP6PfzU/A7+RQD1/6v9Qv12ADcA9fvf+Qf7APwr/vj84/vW/XD+jAO/AzgABf1J+jP7U/uo+pz85AD+ATQAMv7VAKX9vftI/Ub8Bf6S/gkBbv+MAN//9P4V/lb9Pv+J/BwB0AArAcYCOQAl/zv+0v75/l8BbwILABf+IgOZAxX+3P5LA3ECjP9U/4oBSQCx/xkDkAD1/90AqwCk/noB3wTT/9X8QgE0CDIH3wAgAI0A4QHgACj+ZP+v//EExwMpAHgBkAHi/wP8FP17/7r9tfw0ADYCcALq/0D/9v8x/Dz+wv2O+6b8w/xI/ln+sQAe/yD/cf9XAbD/UPnT/G/+xf0//bIBNAFoAZ8ATv/S/wT8Yf/XADYA0/5eANcCcgHq/kf9yf2IAGD/x/6+/5gBJQPaAHoCDAAE/fP+lwF5ARD+2AAjBc4EXwIhAlYARf0N/nH9c/7R/5sBngfRCEwDegKyApcArvoK/CcBjwGuAmYB/QENBCgDP/5i/Iv77v29/Bn9aAIxArIC2gBaAeQA9fv9/SkBtfq299n9CgN2AZX+ygKLApH/8/0K/cf8mft6AHADrwPuAPL99v0o/y8BZQAmAGIAoQSyATABqQG6AToFhwMTAm8DtQhXAXf+zQLfBJ8Djv9LARMFQwcFB6UG8wPQAM4AegSTA18AXQOyB1kEsQKoB94EzwAuAxwGVgCD/a0HSAqJAav6Lv+lARr/mP4rAE0CQQFkBE4GjwHx/B7/3P97+lX7/QBhA3oA6f0lAwIEkQAn/nz7xfze/tL/cQBf/0D9MgLiA7f/kP+t+rr5vP7O/uD6hf49Bl8FbAIqAZIB5fr39i/98gEIA5oCRQELAZkAAAAqA+j9zfiw/ucCqQIn/3b+VQDJ/sj/AgIn/T757f09AukD+gHP/2UDDAQPAHoAJv9R+oH8aQALBG8Cof8vBMAFef98+/r/QwE1/+L8zf/FA+IDbAA+/igAMQNrAvD6Cf3C/83+l/0RAOoDDwVPAmj9kP7Z/Lv7lwCrAzEAnP2wAF8ERgB7+qr6Dv3u/QMAAgFy/3P/tf0aALj/3P1SALX/SPwp/P7/hAM0AmX9p/78ARoGTwQv/nb6ffz7Aa4CVwMJAlgC+gLoAz4D/v1n++371v/u/4/83/6CBrQG4AEH/QH+wQKJ/jn8HvyT/zwDYwaPB2cCcf0i/h7/jvu1+1H8iQGgBdoHKQl6AGr7O/uR+Wv25PnfAW8Bcv6WAU0HiQRA/3T6TPvj/Xr6+Ppx/woDxwOqBFAE4AICAAT6mfTm9mb9pgAiAF8DmAQ8AQoDfgH7+kr1sPkQ//H/SgBH/2oC/QWsA13+T//R/ff5S/uO/zYAh/yl/xcEpwQkA9L/s/yQ/a78APgu+8//TAFCA74E/AEdAGwE5wFi9030G/hT+179GwBvBRoASP4yBO4F6f2o9Lz3afg6+Ij40v0DA9gDFATjAn7/efop9W/2Cvxn/KL+g/9K/cEAcgdfBCX+u/fE+Jj6gvae+sT/pAL7ATMCigUbAJT4b/fC+e/+i/3+/HYCDwQ1AB3+xP95/Xf5XvkB/ZT/eADiAGoAUAJ9AZf+AP11+CX7ov8a/9P/PgGA/1kAZQTLAhb+Xfii+wYBd/9w//T9Af7bAggFRwHP+qz31voL/9wA+P///gYA0f6t//L/If5G+jv4b/7EARb/j/0+/PH/eASv/+z7sPzX+436JP+7AC/+mP1VAe4F9QJi/m/63vfL+CAAyQRM/9L5QP1dBtgFmf27+/v9W/x4/Ez+0v7E/Un8j/+fAtgCzQGR//j83f4//9f+LwB//5/9+P5wA98DTP7J+JH9mAATAYcAfQEwBQkFMAT8/jz7Cvr5+4//QAEdANYAAwa7CDEHwP4Z+6j5cPlg/6oD0gPx/YL9jQR/BvsAIf5U/a77RPyl/54BvPzN+7YBBQbHBakB1f4V/m3+Zv4K+437mwEaBEYCPQKOA8EDDgCm/Vn+x/3Z/bP8nP0/BfUG5QOGBGgATv4p/bP+2gBc/Zr8of4JBjMIbAOO/8oANQGP+pb4mPpt/NX/dwcqCrYDR/5o//kArf4G/Kz6OfwfAFcEoAPLAKUB5AFFAK39wPwW/JT54/wKA18EqwGA/woB7QC9/Zj9nP6I/OD7UP9HBIMEnwI7AE/+vP7e/Ej+3v2P/jUCEwM8AU/+Fv2F/rr/1/7V/vL9EP2f/DsANwUlBPn93P04AmEDUgCT+6r5u/ukAT0HQwf9AGH8Tf50A7MDsP/G/in/sv6OAB0CAQIBAVUAnwD7AJIBKwHyAUcBDf81AFgE1QXkA9cB/P5s/bb+VwH8AuUDWwM6ABz+aP8ZAicBWf5R/8//zv9iAH0BwwNgAUz/YQHDAjYA//vW+xwAAgRABFgDTgTBArv+/v9pAqwCbv9f+4f+zAQxB1ADDP5d/5QC6wAeAboBFv9q/ZH+5wLyBJgB9wD8Ay8FXAJP/4wAaQFjAFQAEAKiAen/Yv87AdMCegGv/gL+MgAwAL/+3/+uAngBLv36/CcBIQJM/9H8l/7R/3P9Z/yB/cz/DQAu/8r/0/8h/pD9gv6p/gb9wvza/+cBBQF7/dX6yfyW/iD+D/3z++D8xACEAsQBSgDd/B77b/yv/gL/lfzq/LMBagPOAHT+Yf3O/F3+ZwHBAfT+Uv4RAiEEDgKm/6AA0v9J/s//1AHIAjoB6wDZAnMCW/+P/zUB+gDT/gf/0gHGAhcDAAKgAnUD9ADa/RL/dAEeAUsAZAHlAt4ByAFDAmMBPv5m/fT/8QA+AdQAUv6N/eD+lf8GAA//W/5q/ov+Jv/0/vn91/20/lkAnAE8AMv+qv9XAf8A6v9L/3T+wP5U/qr9jv+OAW4AigCBAYsCNQKa/3H+Uf6xAGEAxv+OAfYBfABq/tL/EQEkAJL+Vf/BAE3/Bv46/z0Acv0w/Pn+0AA1/ub7eP4TAJ/+xv1Z/0QAbf9z/lD+Hf/o/o/+rv25/M38mv2E/qv+ZP+D/pb8uf1h/oT7+fll+zv95v1E/+7/ff1/+1n7OP3Y/U/7XPln+of8kf6pAHQA/v7P/lP/jf9r/nX9i/zs/CD/KwBdAD0BgwJRAXP/wf4P/+D+Of5r/nEAMwMNBPECFwG4AIwA0v+0/yr//P1b/hYAcQL+Ad//t/9/APn/N/5Z/oD/XQDQ/0QAdQH7ABYATgDYAMX+Fv4eAL8BJgEVAHgBMAHd/zz/Wf9U/6v+g//PAMEBdQD//of+2/5I/xX/c/+Y/m/+z/9jAEr/5/1b/pwA2AEKAEr+Ff5E/pb+if5O/x0AQv+1/dr89/1Z/if+Z/5V/jH+avwF/H7+rwAYAJP/QQCU/kj9ff51/7P+O/16/Tf/jv9J/+L/nf+5/iv+ov4qAPr/2v6D/p7/AQFPAD3/jv44/t3+4P+wAN8Agv+B/rv/MgGuADj/Sf5Q/3YA5wBWAX4ACwAi/1P/7P+A/9f+U//OANMAOACR/wcAav+U/WD9Vv5C/+H/4P+5/8L+Of5K/70AWAAV/4v+av0N/nr/EwEzATgBjwFgAeAAiP9//zf/Qf+i/5IAeQDf/k/+4f97AQsBhv+z/h//TP+K/3L/Y/8aAPUAawCh/9z/ogB1ATUBnADSAJAA9P7U/t3/gwCvAKQAiAHcAQwBQgEtATr/ov2Z/Rz/iv8R/8//aAFHAZz/5P4d/3r/GP8J/+j+Qv9oAMIBegHaAOoAuQDf/6b+0v7U/0UAggCMAQ0CEwKpASMB9wDlAJwAbQDEAP8ASAB0AE4BGgEtAOj/qgGuAp0BRQBCAcMCKwITATsBzAGcAQABlgD1ABYBJAGeAUkChQLqAW4ADADqALsA8QBTAXcBJQFGAeIB8gHKAZQAYf/Z/8EAuwBwABMA5QDfAfoBawFDAe8AkwDfADYAEQBEAI8B8QJHA/4ClwKAAo4BFgLlASwAqP+kAAYCtwFtAEkAVgAQ/yn+sv5L/9r/lf/w/+QAQQA8/1r+I/7i/poA1QEBBf8FEwRxA7IB8wD4ANoBXQOAA4ECwQJtArYAKP43/A/+1f8TApIBiwF3AFX/vfxg/ff63PoZ+OH6wBFeDA4EaQUVAA/98vch+G8DkQaYBZcIWwmUBtX+svlG/LIA2AFdBYIItQoiCI8DZwBe/vf9M/4RAYsEFAggB4wF+QO/A5YEDv++/iUA5wBqAsIDLQTpAlT+jPyT+jP6V/ui/bsApAEEBD0BQ/4c+nP6sfc0+Bry7QEkFEkH3AU2BdIAafvn81/3zwHuArYEYQf+CBQGdv4F+qT8WP+2ASMF8gdHC4AI7QO4/47+0fyj/JP9qgD+Acv/If3V+m78yftO/bv9ygDK/mT+Nfoc+8nsivdoGNMHYwQ5BlkBlgEe99r1xgSOCZsIRQYHCJEHBwEO+2j95AQOCA8I4gi2Cp0G3gF2/cD+LQB4AXcDAgb6BAYCNv7k+1z8xPsF+3X74fvQ/iz+8Pxh/cv6nvd+8AXw/eTZAgYdJwkvCtAFF/6b+CrrMPE8BWQMhw5dDm4OoAn5/ET3rfseAuEHIgvOD/8R/Av6ATX7XPyr/kABzgPSBksEBPk28Yrr4fNI90P6dvv9AGP36u0I3krneykgG1MFJgmdA6ACAvAC5hwCcBFBC/cGEwfiCK39R++T8JEAwwaoCPkJExOCEP8FWPlU99P8OgHDA6sIjQ2ODBEDf/oD+SH5cvX29JX0PvIf9x/6I/sH9N72e+Ym6EbApQKwTK8SIhAQAoT8x/vG2EDc9QxPFtAUZw18ELcM3Pcv4DLqNQCQCrURaBjWKL8dbg+a9+P0pfyXAtEMiRP7GnYXegLf+DXwU+/N9nsCsAWDAzf4jugo6dfXUNhr0szTkLqoLP9/zyPrDUjyrObu4gC9ndd3J+I3aSfOEnMHjv2n2t/KoebKCeghqiqwKm806iFD78Dfke6GA1kRtBGnFpsYRP985AvPv9iS6SDwI/NI86LveN1v5IjXsBBI8Yj90ETmErgQGPxt67YEVPMX8KUMGxGeFwsIu/4Y/2n/E/aE/fMMphb3FiMRkRkOGdUNYAy/DRsLlQxWB0IFFgS8//3xLOlV6/Hzz+ue8Pjpu+hu4Orazt7h5OLRHergZthFBw7CCrTz+vQo2rTMNAG+J54hkBHoCTgKFPbU3FXnNwXrFKQX3R4pLl8sHhdK/k4JEg5RBhwDOAZ6DUULmfCn5VXqjO5W69zuO+5V6SLhd9lj5WXhIt8Qy3M2+m1OGqYTPgV79gTxhskn5WgeCCaTFY8OiBKnA57w6N8S8lMMsxm9G8QiUTRWN2sbHPm3+CIHugVu+nQGFBOH/TzmT9+A48fn6+c45OLvw+mX64/lXdoD2OjKgDsIXFogKyBLCnMEu+ovvEDmoRJTF5EWmg1EFNcJrPKd5MzuwwHHDhcYuywCPZ8u8xRwCq38lfcm9ij21wNUBXn90/Y65ZbboOac6L3mXOEB2M7qmei94gbGv/JcYM0yJhjNGrQGHgS51IfP8v/+Cf8PnwyEFuQhOwE78Dj4WgAUAuoIIR82OS81uCUBDfECDPyz8h/1tf4nAgr81Pd66R7bON+E4Tjm0Okj3c/nieRN2ZDFkQzuUsogKh8mI+YPt/+x1K3gpANF/oYAdAQ4FjIbJARk/lEIhwLIAJgICxyCLFUnDCMrGX0MfAJs9of4fvhg7vPzv/IJ497hE+a64+Xpv+PA6Oniut09we/tx0gCJE8aXyeYGjsOTOIx3SUA9vhM9A36Hwd5FWcE5AToFisTtgnDDXoeBSt5H9URsQ9tCnwB6vor9ub2GvRG8VPoedzs3n/aFeEM5XnpVOgE52nL+ubMPrweThJ+KC4bKBVy7gPkAQXE+D31IvmBAzkTlQK/BqkTLw5yC74S8x1wKrIeFBWSEbACSfRj7iLu6e7E8U30pu676B3eRNvc2aLaM9ws3zfcW949LssvqRBYKjYdjBg2AobqdAbHBMzvJfde+TwF5f/W/QsZgh3gFvYa5SVcKSYUHwlpDyYCVfiQ8irys/J451LmZe7j6Ufelt8s5jrlwNdM1ojMzwCDLmQTESqTNConOBj09pv7UgGi6w301vkt/n8A1fXkBd4QnQt0FYgqJzM6IXUYchamARDvF+EI4x3lkeZ96CTy0fRg58XgzuJ238XSoMu80AUMehetCIcn2SiwJUIYDgexFKAL+fhA+U7xWfD86a3uXAJmDKgUZiQMNdgsWSADHcYQCf8t8QvtN+hg4KnabtlW3SXi9+Hp69HvjOsY5ljdQf7oCPb8VQ8uGPobyhqoEhkethlZCRcGJP6K+8rzoe8w/9IDhQP7Eb4ZSyIIIcEaKR90EK3/+PEr5lreWtJJ0UDVutWh2iTdpt8g4pHlJQfMEF8KFRtiHoshiR7MEKoWtxVaB7wEWABTAZb/5fcW/iUHHQlnC9EO6xi7Gw8X8RQVD9sGMPru7M3mFuBk2oLbdtg02JrXa9h62s7r2f7IAfMJ2RP2GA4aFxl4HBkhmB1WG/YWKRA7CO39afiC94b3M/vuAIEIGRH7EZkOLwuNB54CVvvd9NPw8+kr40XflNqO2eHZPNqv5fbwZPW+/kIF4gt4Fb8WjRq8HhEeaR3RGOwUlg+eCL0C//2H/lP+1/wq//IAWgT2BeoEcgU2BIAA//kA9bzxFu4f6fvki+VF5Uvijubk77n1H/r6/dsCVgjAC74OQBR4F5cWlhUNErAPGw28CYoJiwV8AgIBAP8iAewAdQBFANT+J/1C+Zr3SPYD8u/wbPGa76/tV+vL6c/skO4c77H1Cfpl/p8C+wOcCMkMvg/6EK0QzQ/NDFsLBAlgBs0FUgRhBb0EGQTHBXQDpACQ/+78qPrO+JT1nvU297b0wfHh8Ozv8vCP8B3xS/ah+Ev6G/2s/qgAJQOjBR0JLgvyCkwMaAuDCQ0Jygg6By0FDwRXAj0DtQNuAy0DrgFu/3r9APxx+7/5RvX780rzJvJ+8dzwgPVd98H3E/rd+zH9ufs1/Cf/QQJNBMAFBgaaB04FpgP4BPIEjATCA5gEDATTAooBeAJvAqoAjgBLAt0BQQCB/yX9iPtm+o34l/j+9uz2RPnb+Av50/gI/JH9Vf11ANQDJQMKAggECgVzA8sBkANDBBkEeQLIAboBDgJkATgBUgKZATQAoP+UAOX/OACf/qv+yP5H/GX8B/rf+qL76vlS+nj65Pvr+439gv7I/wgBUwCEAdsB3gKxArwCjgSJAzsBqwHXAnsCaAGhACUCZAFY/6cAegEgAfsAUgA9ATkA+v0E//P8uPwq/WL8G/1w/Yr9Sf0N/M37PP7L/0QBEgHiA7IEEAPcAkkDSwN3AUYDbQN9AkYD7wHDAiEDlgH4AoABCwE4AVsBfAHiAMQAogAZAf3+8f42/kH+fP4A/VP+V/7f/jL/XQB+AQQBiQHQAeMCHgIDA/cDWQNHAsoC7gQPBKcCwALIAl//tP6d/0wCWgJeAVkD1AEiANr+sf+OAd0CuwAVAI0AxP4q/BD8lABTAK3+mgC9AbL/Tf+VALn/OwDIASADEAT7A8MDwAQJA0cBcQE5BLYElQF6AsYCqACg/m0A9AG/AcYBJALFAV8CzALqAZICaQGvAIn/ff+7/yn+nAAEAdX/iQA+/8z/rwC+ALcCLAM+AlUBJgFrAh0CzgJ9BBEDBQM3AsMBqQFEAZMB9QCFAicBDgJFA44CEQNxALUBLgLpAAUDFwJyAMn/SP4F/q/+SwAPAhUA8gBnAlsAXgEnAusCNQOaAwUETwPxAiUC6gAvAW8CRAEVAF4BIgI0/+v/UAHWAXgAEQBGAlIBnwDV/88A7wDe/jz/ygGRAVj/Cf/U/mYATgBJAVsC/v8iAU0ArgF2AwEDbAKOAf8BGAC5AMIBFwHxAGj/6P+6/rb+qf/RAbUB4/7SAKsBiwDv/XkAygDQ/vz+hgCXAQv9G/zW/nj/Qf63/rcApgHQ/3b+jANpADv+7gEaAQQBlgFUAa4ABf+I/q4AWf3GAbsBNgAnAQYA6wBr/54AcgCHAeT+xP+I/7L/vQEV/mf+FQA3ACP/AP5nAGgAn/4AAaYBsQHrANoBtAQ+AYcB2APWAcsCEQHsANAAn/+5AG7/kwDYAcP+X/7HAOv/rgA5AakC3gNb/l3/7wHw/tP+cf82AV7/xvwB/aP/8/4e+pAAGQTn/tQB+wN8AioCv/66AhsEh/6YAZMBbQFJAC79+ACe/oH73AD9APr+mgH+/60AlwHO/vIAdwJc/qn9l/5S/jv+1fzA/m3/mfx7/u7+Bv48AkcB5gEuAzwBVwFtATEBwgHqAskBswHUABICsgMhAuYDZwMAAQcDjwFf/4QAJP/A/WP8GPur+wL63Pio+aX14fbi+fP2DfpH/cL6r/tY/kL9Tf7eAAMFQgfhCIYNzQyIDYMPaA8eD+0MugsDBxoAKf8t/hP3AfXm8Ffs4Op657LkxOPS4mfgGO7o8v/tGf3iBBQDmg+zF08dYSXeJ4QpJCZmHJMYUhJpCcgDU/0++/72gPPS8hPy9ezy7PzlB+SH06DlY/qJ1Cnuvwmy7ef8QhcFFCYboBwfMOMq/A8ZJFIdPfyqBocDGfIs9uX14/xf97z46QAq+h3sKvDc2U3b/Pk1zlDbTP4130Puaw9fCEUZPiDNLSM1Thp6KwsnUQL/CxYGe+5h90v0Vvff9B35NQDR9kLybvUE3r3b6/930yjXyAKA4irpYw3PBwgSsh20LBQ3ghuiK40rUQJYCgAJL+w79CP02PQF8qT2vQHn9DPzV/kO5LjYlQR64A/SEAME6BTjhAg8B60MkBoCKKUyKRyCK+8s7Ae9DzcPBPH79qD2RPNT8X72uf1/89vyG/aa4+bWgQI/4ejQmwSo50Dg9QiDBWcIrxs4J/QseiE+LmwquA1xEtQOZfPC+Cj2kvFg8q/25fl88l70svGC46vbDwKL4J7VoAiA5DbinwynAgwEfBzLJVslMiD4LH4j3g0BFR4Ja/Mp/e717vFr9/f42Pc89db2gu9I43TeRv7P2+nX1AZ13nnl5Q2B/IME7R3GI1wjQiRELzUeHhDnF+UEgPVU/yvy4vFn92f2FPVk9j/2O+y65YzeufxU3vLYowWM3gvnaQzh+Z0Fax3qIKsfACXFLY8Y9RUSGaIB3vszAQDwafTS+EH1kvVK+Ez2aupo6OTc9/qK4VTYhgNB3j3mCApN+FAGHRz3H54hVSUOMsgW0hWqG+39Yf6yA4vtTfYN+VnyRPXb9OT2yerJ7FbdH/fm53HT0QEh4/DhEAmV+BQDvhnsGl8gsSFuMG0apRUKITQCTP5VB4vwNvZR/WHy2/gU9iX6Cuz6713ezu+89OPN4P1i7WLa3gRy+lj88xcIG9YgAR52L3skqg0RJV0MGvnWC+L2ifAqAafzhPlX9xL7l+8U7+7lK+PbAE/QX+4+/W/T1vvZAq71sRGyGiofOxy3J78tEA6XIm4XafokC4f9w+4KAej1x/eP+Xn3svgq7W3ywtpZ/hrkYdOUBzDZ3OPhCO7xzAJAGPkX7xp4Hc0vEBXzFsEhUv52B7sEj/KY/ev7QffZ/pD3Af6w8Eb11efm4nQEVc6T7Av/685T+yMCR/FZDqQVTRtMGBwkbic5DJoeSxM6/IsKtP6k9CL+Y/vL+pr8hADa/CvzsPn25JTsrfkC1lDxmvPN27j6sfpT+iMLPRWiG5UV7STdHkoOdRtRDhH/ywi4/kb3Pf/2AAr64wANBMP7aPkM+d7unesg9DHjNOpe7czmS/Ao9yr9ZwNMEFAW5xWzHs4aPBMmF6AN+ARkB4sAJvvp/8D+Pf56AbUDHQGQ/kz95fXz7DL1k+uI4CXxvOgJ5J/4bff7+EgJOQ+yEYgWiB2qFUoSzRSWB+0EHgSI/jz7Qv/IAnv78QK4BsX/tAXAAXr56/cK8hnzkuTD52TtvNwx75jziu13AZoF6gitEbMVThU6EXQW2g5KBEYL8AP7/fIDG/6t/zoEugSoAzUFTQaqABf+yPtG8mDwP/Ar5RLpYOhv5sntwvGT+aL++AbbDGgMVBRaEksO0RBdCskFXgQOAccAKwPOANoCVQW8BOkF/gfIBz0EhAJt/v33j/Sc8OfrkuZy6OXon+Zi8MnzRflqAl0GWAuUDf8QSBDzDeAP4gpkB8kH1ANJAHIC+v/6/XEB3wBnA38FkQgSCDMG1giZBY4CVwF8/CP3x/Nl8BfrMOlm6pPpe+uJ8VP00vgp/1gFZwoBD0QTWxQEF2gX+BShFcISQQ87DicIAANW/ur4FvNa7h7qJuOE3eXlp+W33gDxl/F578sDvQa+CAsWHxzOF+QaiR/EEj4P9A/G/1f6xPtx8aHvvPVK9IrzNPtr/mT8NAUYCrsGTQ3PDlUJ8ArwCtMFTAKnAA78AfgL+R33GfSn+NP4tfnH/0MB2QM6BzQL4gsEDcAOMQwdDZoLrAWXBJkBvv6y+7n6L/uq+JD6kvxc/PH/nQb+AaEJQA5ECHUPaQ3cCs8LiQjjBAoAPf/E+YT2yfiQ9ML0rvYg9lX3BvpU+8b87f9TAeYCGAaXBwAI3wr8CbcJyAsoCqsICAjpBI8Aaf+n+0f3bPXB8/nxOe8r8Fb0c+4O9wf96fXGBIcFlQNhDckO+g2HDpURegtGBUcI9f3Y+E78mfQu9Gz2Kfb19+38CwG9As0HlwtACwsNqA5mC7MKkAghBGwB1f9x+w74k/iS9b30xPcC+Gr4S/4fAEgBDwaDBkEGlAh6CtEHMgfPB8QD2AKLAsH+wv18/UT8NPxe/qz+TP5wAUMCkwKtBNMElQWeBpME4gNLAzoCKQIhAf8A8//x/8z+av1v/4f/xwCJAkYDbgTwBLMGrwfvBoMIiAajBL4F8wJZAhQBMgDr//3+Fv9G/tT+QQDj/+QABQKmAtQDVATQBe0Fywa6BU8FxwOXBCoA1AYABjf+6wtFAT8B+gl3A0wEEgQABA/9ZPxy/eny3PUH+IPvw/SF9fDzafvZ+78A2QMBBrcK8Qi6C4kKoAd5B5cBe/87+2X49vcR9Pv1AvfW91n7oP3f/yoCYgPlBSkHUAcQB6YENAMLAMz9rPs++U34L/ZX9Xj0bfVE9g74Uvsw+7H96/8kACMCOAKpAQgC0gCg/pv9b/sS+tP5Efmd+Hr3bvlp+QH6t/yp/DX+Cf+i/24AgwDw/wz+qv2Y/O75Ifti+cP3jPix9wr5f/lN+ur7p/1r/jT/0AAyAVgAbADMABkAMf/n/mH+Df4j/lb9qf40/y79Ff2K/DH7XfpD+Yj3Y/aF9Y7yf/Pr8N3y/PQ88/n5jPwP/fL/qwT9BKwEqwipBlYE5QVcATX+Xv2m+Wj22/Wn9tT0bvcW+x/81v99Ak4DbQUFB0UF6gP/A4QBkf/j/un83PmB+fL4b/fe+Fr5uflm/Ef/wP9aAT0EkwSIBFUFuwRPA4QDVgIkADn/jP6T/PH72v24/Rv++//kAIIBugIgBfYD7gP6BIYBDwAA/1/8aPv6+RP4r/af9qv3CvfT+cT7Cvxh/lEAWgA/ArUD2AHpAlgERwVbBBUHSAczBRIIOgfwBQUHjQWjAxYCSwAJ/R/4rvVc8UDtyes867LuNO7m9rUASf2BCwMQ3QkGE/8RNAw0CjgIIwEj+mz74/Uc8qH5PPqJ/K4F+AjjC6YPZxKADzcMSgs4A7/94PsR9h3yyvND9df12fpEAKICoQckC5cK3wolC/UGRgPXAq7+1/pf+sX5rPiq+5j+tQHiBMoKVQx/DYkSvA3+CzoLBAbjAD/+fPzf9xH4k/h29nL4kfos+kj8wf3b+2f5dvm/94LwC/m49W/y6wA5/QsBMgofCioMRwwbD3MKjwZDClkBxwIZBV4A+gPOBEAIDQntCXAOFgmFBpoEU/tW95vwBemi5YTfBOiu6GTqEgDjAAEG2BO2En4RGBHFDmsHd/7t/m/1w/Cg9232afqHA8EJ5w6EHJ4cNxzhH/MVeBCRCHQATPo886j0QPJ+83L6q/lA/GwAW/8v/m/9Jfuc9kP1B/JA7hX1IPJu9fsD3QGpBw0U/hJAEjsUfRcxDW0L4RHEBTMG0wmaBK8FdweJBfoDPAV/AXz5hPXQ8sPlcOHH2j7lm/BZ5EMIwg7O/10ZKhraDf0KRwx7B6nx9Ptn/YPsgfpB/oURyA6pHTE4NBznKEMsGxKMDyEB7/ti7EnhZ+qb2l/jPeQb593u2OyF6tL1AAIM8B7+IgpO+jv68AoyAeAEWAcCEkYWswmwIrofXRfOIx4ifhphFzIcFhO4CMUNCwB+7izvQuYC2+jSdNum0m/LSskcyvAEG9pc9Ao1BPlgD+IpLwxOCvoK1RSm/mj7tSBABjEITyglGdgZoyWFJbodLBFAH63+4PTG+KHdDuHs2xHcQNoO3p/d1dlu0vrxggIL5N0VqRnu+WMSOBP0CD8DeRDPG+gGLhxjJegURh+mIcMaFBU1HcgYCQfXCqwEZ+4I6Vfqht5p2GDeg+A=\" type=\"audio/wav\" />\n",
              "                    Your browser does not support the audio element.\n",
              "                </audio>\n",
              "              "
            ],
            "text/plain": [
              "<IPython.lib.display.Audio object>"
            ]
          },
          "metadata": {
            "tags": []
          },
          "execution_count": 16
        }
      ]
    },
    {
      "cell_type": "markdown",
      "metadata": {
        "id": "IAXg1BPBeYf-"
      },
      "source": [
        "#DataLoaders"
      ]
    },
    {
      "cell_type": "code",
      "metadata": {
        "id": "rbiNQiFbePVs"
      },
      "source": [
        "BATCH_SIZE = 16\n",
        "train_dl = torch.utils.data.DataLoader(train_set, batch_size=BATCH_SIZE, shuffle=True)\n",
        "val_dl = torch.utils.data.DataLoader(val_set, batch_size=BATCH_SIZE)\n",
        "test_dl = torch.utils.data.DataLoader(test_set, batch_size=BATCH_SIZE)"
      ],
      "execution_count": 17,
      "outputs": []
    },
    {
      "cell_type": "markdown",
      "metadata": {
        "id": "nwIsd6_rykZ8"
      },
      "source": [
        "# Network"
      ]
    },
    {
      "cell_type": "markdown",
      "metadata": {
        "id": "sRUaq5AMy0cY"
      },
      "source": [
        "U-NET"
      ]
    },
    {
      "cell_type": "code",
      "metadata": {
        "id": "fV8XXzhdysTo"
      },
      "source": [
        "from torchsummary import summary\n",
        "\n",
        "def double_conv(in_channels, out_channels):\n",
        "    return nn.Sequential(\n",
        "        nn.Conv2d(in_channels, out_channels,kernel_size=3, padding=1),\n",
        "        nn.LeakyReLU(inplace=True),\n",
        "        nn.Conv2d(out_channels, out_channels,kernel_size=3, padding=1),\n",
        "        nn.LeakyReLU(inplace=True)\n",
        "    )\n",
        "\n",
        "def single_conv(in_channels, out_channels):\n",
        "    return nn.Sequential(\n",
        "        nn.Conv2d(in_channels, out_channels,kernel_size=3, padding=1),\n",
        "        nn.LeakyReLU(inplace=True)\n",
        "    )\n",
        "\n",
        "class Unet(torch.nn.Module):\n",
        "    def __init__(self):\n",
        "        super(Unet, self).__init__()\n",
        "        nfilter = 16\n",
        "        self.dconv_down1 = double_conv(2, nfilter)\n",
        "        self.dconv_down2 = double_conv(nfilter, 2*nfilter)\n",
        "        self.dconv_down3 = double_conv(2*nfilter, 4*nfilter)\n",
        "        self.dconv_down4 = double_conv(4*nfilter, 8*nfilter)\n",
        "        self.dconv_down5 = double_conv(8*nfilter, 16*nfilter)\n",
        "\n",
        "        self.maxpool = torch.nn.MaxPool2d(kernel_size=(2,2))\n",
        "        self.drop = nn.Dropout(p=0.5) #inplace parameter set to false by default, make it true?\n",
        "        self.upsample = nn.Upsample(scale_factor=(2,2), mode='bilinear', align_corners=True)  # check extra parameters\n",
        "        \n",
        "        self.sconv_up4 = single_conv(16*nfilter, 8*nfilter)\n",
        "        self.dconv_up4 = double_conv(16*nfilter , 8*nfilter)\n",
        "        self.sconv_up3 = single_conv(8*nfilter, 4*nfilter)\n",
        "        self.dconv_up3 = double_conv(8*nfilter , 4*nfilter)\n",
        "        self.sconv_up2 = single_conv(4*nfilter, 2*nfilter)\n",
        "        self.dconv_up2 = double_conv(4*nfilter , 2*nfilter)\n",
        "        self.sconv_up1 = single_conv(2*nfilter, nfilter)\n",
        "        self.dconv_up1 = double_conv(2*nfilter , nfilter)\n",
        "        \n",
        "        self.sconv_plast = single_conv(nfilter, 2)\n",
        "        self.conv_last = nn.Conv2d(2,2,kernel_size=3, padding=1)\n",
        "    \n",
        "    def forward(self, x):\n",
        "        x = x.transpose(1,3)\n",
        "        conv1 = self.dconv_down1(x)\n",
        "        x = self.maxpool(conv1)\n",
        "\n",
        "        conv2 = self.dconv_down2(x)\n",
        "        x = self.maxpool(conv2)\n",
        "        \n",
        "        conv3 = self.dconv_down3(x)\n",
        "        x = self.maxpool(conv3)   \n",
        "        \n",
        "        x = self.dconv_down4(x)\n",
        "        drop4 = self.drop(x)\n",
        "        x = self.maxpool(drop4)\n",
        "\n",
        "        x = self.dconv_down5(x)\n",
        "        x = self.drop(x)\n",
        "\n",
        "        x = self.upsample(x)\n",
        "        x = self.sconv_up4(x)\n",
        "        x = torch.cat([x, drop4], dim=1)\n",
        "        x = self.dconv_up4(x)\n",
        "\n",
        "        x = self.upsample(x)\n",
        "        x = self.sconv_up3(x)\n",
        "        x = torch.cat([x, conv3], dim=1)\n",
        "        x = self.dconv_up3(x)\n",
        "\n",
        "        x = self.upsample(x)\n",
        "        x = self.sconv_up2(x)\n",
        "        x = torch.cat([x, conv2], dim=1)\n",
        "        x = self.dconv_up2(x)\n",
        "\n",
        "        x = self.upsample(x)\n",
        "        x = self.sconv_up1(x)\n",
        "        x = torch.cat([x, conv1], dim=1)\n",
        "        x = self.dconv_up1(x)\n",
        "        \n",
        "        x = self.sconv_plast(x)\n",
        "        x = self.conv_last(x)\n",
        "        # commenting the tanh layer\n",
        "        # x = torch.tanh(x)\n",
        "    \n",
        "        return x.transpose(1,3)\n",
        "\n"
      ],
      "execution_count": 18,
      "outputs": []
    },
    {
      "cell_type": "code",
      "metadata": {
        "id": "DMbu6Gg78tcU",
        "colab": {
          "base_uri": "https://localhost:8080/"
        },
        "outputId": "2dbd37f5-1a9e-4b39-fbf5-4464e4777932"
      },
      "source": [
        "input = torch.rand(16, 128, 128 , 2).to(device)\n",
        "unet = Unet().to(device)\n",
        "# summary(unet, input_size=(128, 128, 2))\n",
        "\n",
        "print(unet(input).shape)"
      ],
      "execution_count": 19,
      "outputs": [
        {
          "output_type": "stream",
          "text": [
            "torch.Size([16, 128, 128, 2])\n"
          ],
          "name": "stdout"
        }
      ]
    },
    {
      "cell_type": "markdown",
      "metadata": {
        "id": "dEmEOMnTy4GS"
      },
      "source": [
        "MULTI BAND DENSE NET"
      ]
    },
    {
      "cell_type": "code",
      "metadata": {
        "id": "2ziEHwdXK08f"
      },
      "source": [
        "def crop_center(h1, h2):\n",
        "    h1_shape = h1.size()\n",
        "    h2_shape = h2.size()\n",
        "\n",
        "    if h1_shape[3] == h2_shape[3]:\n",
        "        return h1\n",
        "    elif h1_shape[3] < h2_shape[3]:\n",
        "        raise ValueError('h1_shape[3] must be greater than h2_shape[3]')\n",
        "\n",
        "    # s_freq = (h2_shape[2] - h1_shape[2]) // 2\n",
        "    # e_freq = s_freq + h1_shape[2]\n",
        "    s_time = (h1_shape[3] - h2_shape[3]) // 2\n",
        "    e_time = s_time + h2_shape[3]\n",
        "    h1 = h1[:, :, :, s_time:e_time]\n",
        "\n",
        "    return h1"
      ],
      "execution_count": 20,
      "outputs": []
    },
    {
      "cell_type": "code",
      "metadata": {
        "id": "C5fOdR2wKkJu"
      },
      "source": [
        "class Conv2DBNActiv(nn.Module):\n",
        "\n",
        "    def __init__(self, nin, nout, ksize=3, stride=1, pad=1, dilation=1, activ=nn.ReLU):\n",
        "        super(Conv2DBNActiv, self).__init__()\n",
        "        self.conv = nn.Sequential(\n",
        "            nn.Conv2d(\n",
        "                nin, nout,\n",
        "                kernel_size=ksize,\n",
        "                stride=stride,\n",
        "                padding=pad,\n",
        "                dilation=dilation,\n",
        "                bias=False),\n",
        "            nn.BatchNorm2d(nout),\n",
        "            activ()\n",
        "        )\n",
        "\n",
        "    def __call__(self, x):\n",
        "        return self.conv(x)\n",
        "\n",
        "\n",
        "class SeperableConv2DBNActiv(nn.Module):\n",
        "\n",
        "    def __init__(self, nin, nout, ksize=3, stride=1, pad=1, dilation=1, activ=nn.ReLU):\n",
        "        super(SeperableConv2DBNActiv, self).__init__()\n",
        "        self.conv = nn.Sequential(\n",
        "            nn.Conv2d(\n",
        "                nin, nin,\n",
        "                kernel_size=ksize,\n",
        "                stride=stride,\n",
        "                padding=pad,\n",
        "                dilation=dilation,\n",
        "                groups=nin,\n",
        "                bias=False),\n",
        "            nn.Conv2d(\n",
        "                nin, nout,\n",
        "                kernel_size=1,\n",
        "                bias=False),\n",
        "            nn.BatchNorm2d(nout),\n",
        "            activ()\n",
        "        )\n",
        "\n",
        "    def __call__(self, x):\n",
        "        return self.conv(x)\n",
        "\n",
        "\n",
        "class Encoder(nn.Module):\n",
        "\n",
        "    def __init__(self, nin, nout, ksize=3, stride=1, pad=1, activ=nn.LeakyReLU):\n",
        "        super(Encoder, self).__init__()\n",
        "        self.conv1 = Conv2DBNActiv(nin, nout, ksize, 1, pad, activ=activ)\n",
        "        self.conv2 = Conv2DBNActiv(nout, nout, ksize, stride, pad, activ=activ)\n",
        "\n",
        "    def __call__(self, x):\n",
        "        skip = self.conv1(x)\n",
        "        h = self.conv2(skip)\n",
        "\n",
        "        return h, skip\n",
        "\n",
        "\n",
        "class Decoder(nn.Module):\n",
        "\n",
        "    def __init__(self, nin, nout, ksize=3, stride=1, pad=1, activ=nn.ReLU, dropout=False):\n",
        "        super(Decoder, self).__init__()\n",
        "        self.conv = Conv2DBNActiv(nin, nout, ksize, 1, pad, activ=activ)\n",
        "        self.dropout = nn.Dropout2d(0.1) if dropout else None\n",
        "\n",
        "    def __call__(self, x, skip=None):\n",
        "        x = F.interpolate(x, scale_factor=2, mode='bilinear', align_corners=True)\n",
        "        if skip is not None:\n",
        "            print(1, skip.shape, x.shape)\n",
        "            skip = crop_center(skip, x)\n",
        "            print(2, skip.shape, x.shape)\n",
        "            x = torch.cat([x, skip], dim=1)\n",
        "            print(3, skip.shape, x.shape)\n",
        "        h = self.conv(x)\n",
        "\n",
        "        if self.dropout is not None:\n",
        "            h = self.dropout(h)\n",
        "\n",
        "        return h\n",
        "\n",
        "\n",
        "class ASPPModule(nn.Module):\n",
        "\n",
        "    def __init__(self, nin, nout, dilations=(4, 8, 16), activ=nn.ReLU):\n",
        "        super(ASPPModule, self).__init__()\n",
        "        self.conv1 = nn.Sequential(\n",
        "            nn.AdaptiveAvgPool2d((1, None)),\n",
        "            Conv2DBNActiv(nin, nin, 1, 1, 0, activ=activ)\n",
        "        )\n",
        "        self.conv2 = Conv2DBNActiv(nin, nin, 1, 1, 0, activ=activ)\n",
        "        self.conv3 = SeperableConv2DBNActiv(\n",
        "            nin, nin, 3, 1, dilations[0], dilations[0], activ=activ)\n",
        "        self.conv4 = SeperableConv2DBNActiv(\n",
        "            nin, nin, 3, 1, dilations[1], dilations[1], activ=activ)\n",
        "        self.conv5 = SeperableConv2DBNActiv(\n",
        "            nin, nin, 3, 1, dilations[2], dilations[2], activ=activ)\n",
        "        self.bottleneck = nn.Sequential(\n",
        "            Conv2DBNActiv(nin * 5, nout, 1, 1, 0, activ=activ),\n",
        "            nn.Dropout2d(0.1)\n",
        "        )\n",
        "\n",
        "    def forward(self, x):\n",
        "        _, _, h, w = x.size()\n",
        "        feat1 = F.interpolate(self.conv1(x), size=(h, w), mode='bilinear', align_corners=True)\n",
        "        feat2 = self.conv2(x)\n",
        "        feat3 = self.conv3(x)\n",
        "        feat4 = self.conv4(x)\n",
        "        feat5 = self.conv5(x)\n",
        "        out = torch.cat((feat1, feat2, feat3, feat4, feat5), dim=1)\n",
        "        bottle = self.bottleneck(out)\n",
        "        return bottle\n"
      ],
      "execution_count": null,
      "outputs": []
    },
    {
      "cell_type": "code",
      "metadata": {
        "id": "yS3-ptghy6-H"
      },
      "source": [
        "class BaseASPPNet(nn.Module):\n",
        "\n",
        "    def __init__(self, nin, ch, dilations=(4, 8, 16)):\n",
        "        super(BaseASPPNet, self).__init__()\n",
        "        self.enc1 = Encoder(nin, ch, 3, 2, 1)\n",
        "        self.enc2 = Encoder(ch, ch * 2, 3, 2, 1)\n",
        "        self.enc3 = Encoder(ch * 2, ch * 4, 3, 2, 1)\n",
        "        self.enc4 = Encoder(ch * 4, ch * 8, 3, 2, 1)\n",
        "\n",
        "        self.aspp = ASPPModule(ch * 8, ch * 16, dilations)\n",
        "\n",
        "        self.dec4 = Decoder(ch * (8 + 16), ch * 8, 3, 1, 1)\n",
        "        self.dec3 = Decoder(ch * (4 + 8), ch * 4, 3, 1, 1)\n",
        "        self.dec2 = Decoder(ch * (2 + 4), ch * 2, 3, 1, 1)\n",
        "        self.dec1 = Decoder(ch * (1 + 2), ch, 3, 1, 1)\n",
        "\n",
        "    def __call__(self, x):\n",
        "        h, e1 = self.enc1(x)\n",
        "        print(x.shape, e1.shape)\n",
        "        h, e2 = self.enc2(h)\n",
        "        h, e3 = self.enc3(h)\n",
        "        h, e4 = self.enc4(h)\n",
        "\n",
        "        h = self.aspp(h)\n",
        "\n",
        "        h = self.dec4(h, e4)\n",
        "        h = self.dec3(h, e3)\n",
        "        h = self.dec2(h, e2)\n",
        "        h = self.dec1(h, e1)\n",
        "\n",
        "        return h\n",
        "\n",
        "\n",
        "class CascadedASPPNet(nn.Module):\n",
        "\n",
        "    def __init__(self, n_fft):\n",
        "        super(CascadedASPPNet, self).__init__()\n",
        "        self.stg1_low_band_net = BaseASPPNet(2, 16)\n",
        "        self.stg1_high_band_net = BaseASPPNet(2, 16)\n",
        "\n",
        "        self.stg2_bridge = Conv2DBNActiv(18, 8, 1, 1, 0)\n",
        "        self.stg2_full_band_net = BaseASPPNet(8, 16)\n",
        "\n",
        "        self.stg3_bridge = Conv2DBNActiv(34, 16, 1, 1, 0)\n",
        "        self.stg3_full_band_net = BaseASPPNet(16, 32)\n",
        "\n",
        "        self.out = nn.Conv2d(32, 2, 1, bias=False)\n",
        "        self.aux1_out = nn.Conv2d(16, 2, 1, bias=False)\n",
        "        self.aux2_out = nn.Conv2d(16, 2, 1, bias=False)\n",
        "\n",
        "        self.max_bin = n_fft // 2\n",
        "        self.output_bin = n_fft // 2 + 1\n",
        "\n",
        "        self.offset = 128\n",
        "\n",
        "    def forward(self, x):\n",
        "        mix = x.detach()\n",
        "        x = x.clone()\n",
        "\n",
        "        x = x[:, :, :self.max_bin]\n",
        "\n",
        "        print(\"stage1\",x.shape)\n",
        "        bandw = x.size()[2] // 2\n",
        "        aux1 = torch.cat([\n",
        "            self.stg1_low_band_net(x[:, :, :bandw]),\n",
        "            self.stg1_high_band_net(x[:, :, bandw:])\n",
        "        ], dim=2)\n",
        "        print(\"stage1: aux\",aux1.shape)\n",
        "        h = torch.cat([x, aux1], dim=1)\n",
        "        aux2 = self.stg2_full_band_net(self.stg2_bridge(h))\n",
        "\n",
        "        h = torch.cat([x, aux1, aux2], dim=1)\n",
        "        h = self.stg3_full_band_net(self.stg3_bridge(h))\n",
        "\n",
        "        mask = torch.sigmoid(self.out(h))\n",
        "        mask = F.pad(\n",
        "            input=mask,\n",
        "            pad=(0, 0, 0, self.output_bin - mask.size()[2]),\n",
        "            mode='replicate')\n",
        "\n",
        "        if self.training:\n",
        "            aux1 = torch.sigmoid(self.aux1_out(aux1))\n",
        "            aux1 = F.pad(\n",
        "                input=aux1,\n",
        "                pad=(0, 0, 0, self.output_bin - aux1.size()[2]),\n",
        "                mode='replicate')\n",
        "            aux2 = torch.sigmoid(self.aux2_out(aux2))\n",
        "            aux2 = F.pad(\n",
        "                input=aux2,\n",
        "                pad=(0, 0, 0, self.output_bin - aux2.size()[2]),\n",
        "                mode='replicate')\n",
        "            return mask * mix, aux1 * mix, aux2 * mix\n",
        "        else:\n",
        "            return mask * mix\n",
        "\n",
        "    def predict(self, x_mag):\n",
        "        h = self.forward(x_mag)\n",
        "\n",
        "        if self.offset > 0:\n",
        "            h = h[:, :, :, self.offset:-self.offset]\n",
        "            assert h.size()[3] > 0\n",
        "\n",
        "        return h"
      ],
      "execution_count": null,
      "outputs": []
    },
    {
      "cell_type": "code",
      "metadata": {
        "colab": {
          "base_uri": "https://localhost:8080/",
          "height": 375
        },
        "id": "sSwQADZgFzd-",
        "outputId": "df2503bf-3ce8-4672-e64a-2d409f6a425a"
      },
      "source": [
        "input = torch.rand(16, 2, 512 , 512).to(device)\n",
        "casaspnet = CascadedASPPNet(1023).to(device)\n",
        "print(casaspnet(input).shape)\n"
      ],
      "execution_count": null,
      "outputs": [
        {
          "output_type": "stream",
          "text": [
            "stage1 torch.Size([16, 2, 511, 512])\n"
          ],
          "name": "stdout"
        },
        {
          "output_type": "error",
          "ename": "RuntimeError",
          "evalue": "ignored",
          "traceback": [
            "\u001b[0;31m---------------------------------------------------------------------------\u001b[0m",
            "\u001b[0;31mRuntimeError\u001b[0m                              Traceback (most recent call last)",
            "\u001b[0;32m<ipython-input-10-93a67fff76bc>\u001b[0m in \u001b[0;36m<module>\u001b[0;34m()\u001b[0m\n\u001b[1;32m      1\u001b[0m \u001b[0minput\u001b[0m \u001b[0;34m=\u001b[0m \u001b[0mtorch\u001b[0m\u001b[0;34m.\u001b[0m\u001b[0mrand\u001b[0m\u001b[0;34m(\u001b[0m\u001b[0;36m16\u001b[0m\u001b[0;34m,\u001b[0m \u001b[0;36m2\u001b[0m\u001b[0;34m,\u001b[0m \u001b[0;36m512\u001b[0m \u001b[0;34m,\u001b[0m \u001b[0;36m512\u001b[0m\u001b[0;34m)\u001b[0m\u001b[0;34m.\u001b[0m\u001b[0mto\u001b[0m\u001b[0;34m(\u001b[0m\u001b[0mdevice\u001b[0m\u001b[0;34m)\u001b[0m\u001b[0;34m\u001b[0m\u001b[0;34m\u001b[0m\u001b[0m\n\u001b[1;32m      2\u001b[0m \u001b[0mcasaspnet\u001b[0m \u001b[0;34m=\u001b[0m \u001b[0mCascadedASPPNet\u001b[0m\u001b[0;34m(\u001b[0m\u001b[0;36m1023\u001b[0m\u001b[0;34m)\u001b[0m\u001b[0;34m.\u001b[0m\u001b[0mto\u001b[0m\u001b[0;34m(\u001b[0m\u001b[0mdevice\u001b[0m\u001b[0;34m)\u001b[0m\u001b[0;34m\u001b[0m\u001b[0;34m\u001b[0m\u001b[0m\n\u001b[0;32m----> 3\u001b[0;31m \u001b[0mprint\u001b[0m\u001b[0;34m(\u001b[0m\u001b[0mcasaspnet\u001b[0m\u001b[0;34m(\u001b[0m\u001b[0minput\u001b[0m\u001b[0;34m)\u001b[0m\u001b[0;34m.\u001b[0m\u001b[0mshape\u001b[0m\u001b[0;34m)\u001b[0m\u001b[0;34m\u001b[0m\u001b[0;34m\u001b[0m\u001b[0m\n\u001b[0m",
            "\u001b[0;32m/usr/local/lib/python3.7/dist-packages/torch/nn/modules/module.py\u001b[0m in \u001b[0;36m_call_impl\u001b[0;34m(self, *input, **kwargs)\u001b[0m\n\u001b[1;32m    887\u001b[0m             \u001b[0mresult\u001b[0m \u001b[0;34m=\u001b[0m \u001b[0mself\u001b[0m\u001b[0;34m.\u001b[0m\u001b[0m_slow_forward\u001b[0m\u001b[0;34m(\u001b[0m\u001b[0;34m*\u001b[0m\u001b[0minput\u001b[0m\u001b[0;34m,\u001b[0m \u001b[0;34m**\u001b[0m\u001b[0mkwargs\u001b[0m\u001b[0;34m)\u001b[0m\u001b[0;34m\u001b[0m\u001b[0;34m\u001b[0m\u001b[0m\n\u001b[1;32m    888\u001b[0m         \u001b[0;32melse\u001b[0m\u001b[0;34m:\u001b[0m\u001b[0;34m\u001b[0m\u001b[0;34m\u001b[0m\u001b[0m\n\u001b[0;32m--> 889\u001b[0;31m             \u001b[0mresult\u001b[0m \u001b[0;34m=\u001b[0m \u001b[0mself\u001b[0m\u001b[0;34m.\u001b[0m\u001b[0mforward\u001b[0m\u001b[0;34m(\u001b[0m\u001b[0;34m*\u001b[0m\u001b[0minput\u001b[0m\u001b[0;34m,\u001b[0m \u001b[0;34m**\u001b[0m\u001b[0mkwargs\u001b[0m\u001b[0;34m)\u001b[0m\u001b[0;34m\u001b[0m\u001b[0;34m\u001b[0m\u001b[0m\n\u001b[0m\u001b[1;32m    890\u001b[0m         for hook in itertools.chain(\n\u001b[1;32m    891\u001b[0m                 \u001b[0m_global_forward_hooks\u001b[0m\u001b[0;34m.\u001b[0m\u001b[0mvalues\u001b[0m\u001b[0;34m(\u001b[0m\u001b[0;34m)\u001b[0m\u001b[0;34m,\u001b[0m\u001b[0;34m\u001b[0m\u001b[0;34m\u001b[0m\u001b[0m\n",
            "\u001b[0;32m<ipython-input-7-cbe7a05e9ac7>\u001b[0m in \u001b[0;36mforward\u001b[0;34m(self, x)\u001b[0m\n\u001b[1;32m     63\u001b[0m         \u001b[0mbandw\u001b[0m \u001b[0;34m=\u001b[0m \u001b[0mx\u001b[0m\u001b[0;34m.\u001b[0m\u001b[0msize\u001b[0m\u001b[0;34m(\u001b[0m\u001b[0;34m)\u001b[0m\u001b[0;34m[\u001b[0m\u001b[0;36m2\u001b[0m\u001b[0;34m]\u001b[0m \u001b[0;34m//\u001b[0m \u001b[0;36m2\u001b[0m\u001b[0;34m\u001b[0m\u001b[0;34m\u001b[0m\u001b[0m\n\u001b[1;32m     64\u001b[0m         aux1 = torch.cat([\n\u001b[0;32m---> 65\u001b[0;31m             \u001b[0mself\u001b[0m\u001b[0;34m.\u001b[0m\u001b[0mstg1_low_band_net\u001b[0m\u001b[0;34m(\u001b[0m\u001b[0mx\u001b[0m\u001b[0;34m[\u001b[0m\u001b[0;34m:\u001b[0m\u001b[0;34m,\u001b[0m \u001b[0;34m:\u001b[0m\u001b[0;34m,\u001b[0m \u001b[0;34m:\u001b[0m\u001b[0mbandw\u001b[0m\u001b[0;34m]\u001b[0m\u001b[0;34m)\u001b[0m\u001b[0;34m,\u001b[0m\u001b[0;34m\u001b[0m\u001b[0;34m\u001b[0m\u001b[0m\n\u001b[0m\u001b[1;32m     66\u001b[0m             \u001b[0mself\u001b[0m\u001b[0;34m.\u001b[0m\u001b[0mstg1_high_band_net\u001b[0m\u001b[0;34m(\u001b[0m\u001b[0mx\u001b[0m\u001b[0;34m[\u001b[0m\u001b[0;34m:\u001b[0m\u001b[0;34m,\u001b[0m \u001b[0;34m:\u001b[0m\u001b[0;34m,\u001b[0m \u001b[0mbandw\u001b[0m\u001b[0;34m:\u001b[0m\u001b[0;34m]\u001b[0m\u001b[0;34m)\u001b[0m\u001b[0;34m\u001b[0m\u001b[0;34m\u001b[0m\u001b[0m\n\u001b[1;32m     67\u001b[0m         ], dim=2)\n",
            "\u001b[0;32m<ipython-input-7-cbe7a05e9ac7>\u001b[0m in \u001b[0;36m__call__\u001b[0;34m(self, x)\u001b[0m\n\u001b[1;32m     16\u001b[0m \u001b[0;34m\u001b[0m\u001b[0m\n\u001b[1;32m     17\u001b[0m     \u001b[0;32mdef\u001b[0m \u001b[0m__call__\u001b[0m\u001b[0;34m(\u001b[0m\u001b[0mself\u001b[0m\u001b[0;34m,\u001b[0m \u001b[0mx\u001b[0m\u001b[0;34m)\u001b[0m\u001b[0;34m:\u001b[0m\u001b[0;34m\u001b[0m\u001b[0;34m\u001b[0m\u001b[0m\n\u001b[0;32m---> 18\u001b[0;31m         \u001b[0mh\u001b[0m\u001b[0;34m,\u001b[0m \u001b[0me1\u001b[0m \u001b[0;34m=\u001b[0m \u001b[0mself\u001b[0m\u001b[0;34m.\u001b[0m\u001b[0menc1\u001b[0m\u001b[0;34m(\u001b[0m\u001b[0mx\u001b[0m\u001b[0;34m)\u001b[0m\u001b[0;34m\u001b[0m\u001b[0;34m\u001b[0m\u001b[0m\n\u001b[0m\u001b[1;32m     19\u001b[0m         \u001b[0mprint\u001b[0m\u001b[0;34m(\u001b[0m\u001b[0mx\u001b[0m\u001b[0;34m.\u001b[0m\u001b[0mshape\u001b[0m\u001b[0;34m,\u001b[0m \u001b[0me1\u001b[0m\u001b[0;34m.\u001b[0m\u001b[0mshape\u001b[0m\u001b[0;34m)\u001b[0m\u001b[0;34m\u001b[0m\u001b[0;34m\u001b[0m\u001b[0m\n\u001b[1;32m     20\u001b[0m         \u001b[0mh\u001b[0m\u001b[0;34m,\u001b[0m \u001b[0me2\u001b[0m \u001b[0;34m=\u001b[0m \u001b[0mself\u001b[0m\u001b[0;34m.\u001b[0m\u001b[0menc2\u001b[0m\u001b[0;34m(\u001b[0m\u001b[0mh\u001b[0m\u001b[0;34m)\u001b[0m\u001b[0;34m\u001b[0m\u001b[0;34m\u001b[0m\u001b[0m\n",
            "\u001b[0;32m<ipython-input-6-6c7317ae9444>\u001b[0m in \u001b[0;36m__call__\u001b[0;34m(self, x)\u001b[0m\n\u001b[1;32m     52\u001b[0m \u001b[0;34m\u001b[0m\u001b[0m\n\u001b[1;32m     53\u001b[0m     \u001b[0;32mdef\u001b[0m \u001b[0m__call__\u001b[0m\u001b[0;34m(\u001b[0m\u001b[0mself\u001b[0m\u001b[0;34m,\u001b[0m \u001b[0mx\u001b[0m\u001b[0;34m)\u001b[0m\u001b[0;34m:\u001b[0m\u001b[0;34m\u001b[0m\u001b[0;34m\u001b[0m\u001b[0m\n\u001b[0;32m---> 54\u001b[0;31m         \u001b[0mskip\u001b[0m \u001b[0;34m=\u001b[0m \u001b[0mself\u001b[0m\u001b[0;34m.\u001b[0m\u001b[0mconv1\u001b[0m\u001b[0;34m(\u001b[0m\u001b[0mx\u001b[0m\u001b[0;34m)\u001b[0m\u001b[0;34m\u001b[0m\u001b[0;34m\u001b[0m\u001b[0m\n\u001b[0m\u001b[1;32m     55\u001b[0m         \u001b[0mh\u001b[0m \u001b[0;34m=\u001b[0m \u001b[0mself\u001b[0m\u001b[0;34m.\u001b[0m\u001b[0mconv2\u001b[0m\u001b[0;34m(\u001b[0m\u001b[0mskip\u001b[0m\u001b[0;34m)\u001b[0m\u001b[0;34m\u001b[0m\u001b[0;34m\u001b[0m\u001b[0m\n\u001b[1;32m     56\u001b[0m \u001b[0;34m\u001b[0m\u001b[0m\n",
            "\u001b[0;32m<ipython-input-6-6c7317ae9444>\u001b[0m in \u001b[0;36m__call__\u001b[0;34m(self, x)\u001b[0m\n\u001b[1;32m     16\u001b[0m \u001b[0;34m\u001b[0m\u001b[0m\n\u001b[1;32m     17\u001b[0m     \u001b[0;32mdef\u001b[0m \u001b[0m__call__\u001b[0m\u001b[0;34m(\u001b[0m\u001b[0mself\u001b[0m\u001b[0;34m,\u001b[0m \u001b[0mx\u001b[0m\u001b[0;34m)\u001b[0m\u001b[0;34m:\u001b[0m\u001b[0;34m\u001b[0m\u001b[0;34m\u001b[0m\u001b[0m\n\u001b[0;32m---> 18\u001b[0;31m         \u001b[0;32mreturn\u001b[0m \u001b[0mself\u001b[0m\u001b[0;34m.\u001b[0m\u001b[0mconv\u001b[0m\u001b[0;34m(\u001b[0m\u001b[0mx\u001b[0m\u001b[0;34m)\u001b[0m\u001b[0;34m\u001b[0m\u001b[0;34m\u001b[0m\u001b[0m\n\u001b[0m\u001b[1;32m     19\u001b[0m \u001b[0;34m\u001b[0m\u001b[0m\n\u001b[1;32m     20\u001b[0m \u001b[0;34m\u001b[0m\u001b[0m\n",
            "\u001b[0;32m/usr/local/lib/python3.7/dist-packages/torch/nn/modules/module.py\u001b[0m in \u001b[0;36m_call_impl\u001b[0;34m(self, *input, **kwargs)\u001b[0m\n\u001b[1;32m    887\u001b[0m             \u001b[0mresult\u001b[0m \u001b[0;34m=\u001b[0m \u001b[0mself\u001b[0m\u001b[0;34m.\u001b[0m\u001b[0m_slow_forward\u001b[0m\u001b[0;34m(\u001b[0m\u001b[0;34m*\u001b[0m\u001b[0minput\u001b[0m\u001b[0;34m,\u001b[0m \u001b[0;34m**\u001b[0m\u001b[0mkwargs\u001b[0m\u001b[0;34m)\u001b[0m\u001b[0;34m\u001b[0m\u001b[0;34m\u001b[0m\u001b[0m\n\u001b[1;32m    888\u001b[0m         \u001b[0;32melse\u001b[0m\u001b[0;34m:\u001b[0m\u001b[0;34m\u001b[0m\u001b[0;34m\u001b[0m\u001b[0m\n\u001b[0;32m--> 889\u001b[0;31m             \u001b[0mresult\u001b[0m \u001b[0;34m=\u001b[0m \u001b[0mself\u001b[0m\u001b[0;34m.\u001b[0m\u001b[0mforward\u001b[0m\u001b[0;34m(\u001b[0m\u001b[0;34m*\u001b[0m\u001b[0minput\u001b[0m\u001b[0;34m,\u001b[0m \u001b[0;34m**\u001b[0m\u001b[0mkwargs\u001b[0m\u001b[0;34m)\u001b[0m\u001b[0;34m\u001b[0m\u001b[0;34m\u001b[0m\u001b[0m\n\u001b[0m\u001b[1;32m    890\u001b[0m         for hook in itertools.chain(\n\u001b[1;32m    891\u001b[0m                 \u001b[0m_global_forward_hooks\u001b[0m\u001b[0;34m.\u001b[0m\u001b[0mvalues\u001b[0m\u001b[0;34m(\u001b[0m\u001b[0;34m)\u001b[0m\u001b[0;34m,\u001b[0m\u001b[0;34m\u001b[0m\u001b[0;34m\u001b[0m\u001b[0m\n",
            "\u001b[0;32m/usr/local/lib/python3.7/dist-packages/torch/nn/modules/container.py\u001b[0m in \u001b[0;36mforward\u001b[0;34m(self, input)\u001b[0m\n\u001b[1;32m    117\u001b[0m     \u001b[0;32mdef\u001b[0m \u001b[0mforward\u001b[0m\u001b[0;34m(\u001b[0m\u001b[0mself\u001b[0m\u001b[0;34m,\u001b[0m \u001b[0minput\u001b[0m\u001b[0;34m)\u001b[0m\u001b[0;34m:\u001b[0m\u001b[0;34m\u001b[0m\u001b[0;34m\u001b[0m\u001b[0m\n\u001b[1;32m    118\u001b[0m         \u001b[0;32mfor\u001b[0m \u001b[0mmodule\u001b[0m \u001b[0;32min\u001b[0m \u001b[0mself\u001b[0m\u001b[0;34m:\u001b[0m\u001b[0;34m\u001b[0m\u001b[0;34m\u001b[0m\u001b[0m\n\u001b[0;32m--> 119\u001b[0;31m             \u001b[0minput\u001b[0m \u001b[0;34m=\u001b[0m \u001b[0mmodule\u001b[0m\u001b[0;34m(\u001b[0m\u001b[0minput\u001b[0m\u001b[0;34m)\u001b[0m\u001b[0;34m\u001b[0m\u001b[0;34m\u001b[0m\u001b[0m\n\u001b[0m\u001b[1;32m    120\u001b[0m         \u001b[0;32mreturn\u001b[0m \u001b[0minput\u001b[0m\u001b[0;34m\u001b[0m\u001b[0;34m\u001b[0m\u001b[0m\n\u001b[1;32m    121\u001b[0m \u001b[0;34m\u001b[0m\u001b[0m\n",
            "\u001b[0;32m/usr/local/lib/python3.7/dist-packages/torch/nn/modules/module.py\u001b[0m in \u001b[0;36m_call_impl\u001b[0;34m(self, *input, **kwargs)\u001b[0m\n\u001b[1;32m    887\u001b[0m             \u001b[0mresult\u001b[0m \u001b[0;34m=\u001b[0m \u001b[0mself\u001b[0m\u001b[0;34m.\u001b[0m\u001b[0m_slow_forward\u001b[0m\u001b[0;34m(\u001b[0m\u001b[0;34m*\u001b[0m\u001b[0minput\u001b[0m\u001b[0;34m,\u001b[0m \u001b[0;34m**\u001b[0m\u001b[0mkwargs\u001b[0m\u001b[0;34m)\u001b[0m\u001b[0;34m\u001b[0m\u001b[0;34m\u001b[0m\u001b[0m\n\u001b[1;32m    888\u001b[0m         \u001b[0;32melse\u001b[0m\u001b[0;34m:\u001b[0m\u001b[0;34m\u001b[0m\u001b[0;34m\u001b[0m\u001b[0m\n\u001b[0;32m--> 889\u001b[0;31m             \u001b[0mresult\u001b[0m \u001b[0;34m=\u001b[0m \u001b[0mself\u001b[0m\u001b[0;34m.\u001b[0m\u001b[0mforward\u001b[0m\u001b[0;34m(\u001b[0m\u001b[0;34m*\u001b[0m\u001b[0minput\u001b[0m\u001b[0;34m,\u001b[0m \u001b[0;34m**\u001b[0m\u001b[0mkwargs\u001b[0m\u001b[0;34m)\u001b[0m\u001b[0;34m\u001b[0m\u001b[0;34m\u001b[0m\u001b[0m\n\u001b[0m\u001b[1;32m    890\u001b[0m         for hook in itertools.chain(\n\u001b[1;32m    891\u001b[0m                 \u001b[0m_global_forward_hooks\u001b[0m\u001b[0;34m.\u001b[0m\u001b[0mvalues\u001b[0m\u001b[0;34m(\u001b[0m\u001b[0;34m)\u001b[0m\u001b[0;34m,\u001b[0m\u001b[0;34m\u001b[0m\u001b[0;34m\u001b[0m\u001b[0m\n",
            "\u001b[0;32m/usr/local/lib/python3.7/dist-packages/torch/nn/modules/activation.py\u001b[0m in \u001b[0;36mforward\u001b[0;34m(self, input)\u001b[0m\n\u001b[1;32m    712\u001b[0m \u001b[0;34m\u001b[0m\u001b[0m\n\u001b[1;32m    713\u001b[0m     \u001b[0;32mdef\u001b[0m \u001b[0mforward\u001b[0m\u001b[0;34m(\u001b[0m\u001b[0mself\u001b[0m\u001b[0;34m,\u001b[0m \u001b[0minput\u001b[0m\u001b[0;34m:\u001b[0m \u001b[0mTensor\u001b[0m\u001b[0;34m)\u001b[0m \u001b[0;34m->\u001b[0m \u001b[0mTensor\u001b[0m\u001b[0;34m:\u001b[0m\u001b[0;34m\u001b[0m\u001b[0;34m\u001b[0m\u001b[0m\n\u001b[0;32m--> 714\u001b[0;31m         \u001b[0;32mreturn\u001b[0m \u001b[0mF\u001b[0m\u001b[0;34m.\u001b[0m\u001b[0mleaky_relu\u001b[0m\u001b[0;34m(\u001b[0m\u001b[0minput\u001b[0m\u001b[0;34m,\u001b[0m \u001b[0mself\u001b[0m\u001b[0;34m.\u001b[0m\u001b[0mnegative_slope\u001b[0m\u001b[0;34m,\u001b[0m \u001b[0mself\u001b[0m\u001b[0;34m.\u001b[0m\u001b[0minplace\u001b[0m\u001b[0;34m)\u001b[0m\u001b[0;34m\u001b[0m\u001b[0;34m\u001b[0m\u001b[0m\n\u001b[0m\u001b[1;32m    715\u001b[0m \u001b[0;34m\u001b[0m\u001b[0m\n\u001b[1;32m    716\u001b[0m     \u001b[0;32mdef\u001b[0m \u001b[0mextra_repr\u001b[0m\u001b[0;34m(\u001b[0m\u001b[0mself\u001b[0m\u001b[0;34m)\u001b[0m \u001b[0;34m->\u001b[0m \u001b[0mstr\u001b[0m\u001b[0;34m:\u001b[0m\u001b[0;34m\u001b[0m\u001b[0;34m\u001b[0m\u001b[0m\n",
            "\u001b[0;32m/usr/local/lib/python3.7/dist-packages/torch/nn/functional.py\u001b[0m in \u001b[0;36mleaky_relu\u001b[0;34m(input, negative_slope, inplace)\u001b[0m\n\u001b[1;32m   1376\u001b[0m         \u001b[0mresult\u001b[0m \u001b[0;34m=\u001b[0m \u001b[0mtorch\u001b[0m\u001b[0;34m.\u001b[0m\u001b[0m_C\u001b[0m\u001b[0;34m.\u001b[0m\u001b[0m_nn\u001b[0m\u001b[0;34m.\u001b[0m\u001b[0mleaky_relu_\u001b[0m\u001b[0;34m(\u001b[0m\u001b[0minput\u001b[0m\u001b[0;34m,\u001b[0m \u001b[0mnegative_slope\u001b[0m\u001b[0;34m)\u001b[0m\u001b[0;34m\u001b[0m\u001b[0;34m\u001b[0m\u001b[0m\n\u001b[1;32m   1377\u001b[0m     \u001b[0;32melse\u001b[0m\u001b[0;34m:\u001b[0m\u001b[0;34m\u001b[0m\u001b[0;34m\u001b[0m\u001b[0m\n\u001b[0;32m-> 1378\u001b[0;31m         \u001b[0mresult\u001b[0m \u001b[0;34m=\u001b[0m \u001b[0mtorch\u001b[0m\u001b[0;34m.\u001b[0m\u001b[0m_C\u001b[0m\u001b[0;34m.\u001b[0m\u001b[0m_nn\u001b[0m\u001b[0;34m.\u001b[0m\u001b[0mleaky_relu\u001b[0m\u001b[0;34m(\u001b[0m\u001b[0minput\u001b[0m\u001b[0;34m,\u001b[0m \u001b[0mnegative_slope\u001b[0m\u001b[0;34m)\u001b[0m\u001b[0;34m\u001b[0m\u001b[0;34m\u001b[0m\u001b[0m\n\u001b[0m\u001b[1;32m   1379\u001b[0m     \u001b[0;32mreturn\u001b[0m \u001b[0mresult\u001b[0m\u001b[0;34m\u001b[0m\u001b[0;34m\u001b[0m\u001b[0m\n\u001b[1;32m   1380\u001b[0m \u001b[0;34m\u001b[0m\u001b[0m\n",
            "\u001b[0;31mRuntimeError\u001b[0m: CUDA out of memory. Tried to allocate 128.00 MiB (GPU 0; 14.76 GiB total capacity; 13.44 GiB already allocated; 107.75 MiB free; 13.62 GiB reserved in total by PyTorch)"
          ]
        }
      ]
    },
    {
      "cell_type": "markdown",
      "metadata": {
        "id": "3p2vV9vr8d2P"
      },
      "source": [
        "# TRAINING"
      ]
    },
    {
      "cell_type": "code",
      "metadata": {
        "id": "CDWVMcDl8mTi"
      },
      "source": [
        "##RE-RUN THIS CODE TO GET A \"NEW\" NETWORK\n",
        "\n",
        "LEARNING_RATE = 0.001\n",
        "\n",
        "## Create an instance of our network\n",
        "net = Unet()\n",
        "\n",
        "## Move it to the GPU\n",
        "net = net.to(device)\n",
        "\n",
        "# L1 loss\n",
        "criterion = torch.nn.SmoothL1Loss()\n",
        "\n",
        "# Adam optimizer\n",
        "optimizer = torch.optim.Adam(net.parameters(), lr=LEARNING_RATE)"
      ],
      "execution_count": 21,
      "outputs": []
    },
    {
      "cell_type": "code",
      "metadata": {
        "id": "fF80I7oEDdIe",
        "colab": {
          "base_uri": "https://localhost:8080/",
          "height": 1000,
          "referenced_widgets": [
            "e5654abced1e4aac840d8a00454a8c81",
            "a6e2cd29b752460aa7e50580186f3cf4",
            "07dcd5cd9fc64af7b512da0ae0bdc3f1",
            "09602268fbe74529af574249a6af566a",
            "7b5d9f6a1aaf4530a4e3a7bd3d3c1db5",
            "e96c9f7f48884802b28660fe177a4414",
            "4ee0072d5aa34677a80b5c9a4b9033dd",
            "7d055fcf135e49a5a06bb07be8cc1b36",
            "62d2b03ee8904c638a4bae704898d5ed",
            "5c7e798f9ab14b83b82f458b5fb56623",
            "9041abba7e4349d7b801e8cd46952f0a",
            "9bb3853bd66c47569119a527e7d7b86b",
            "eef79f36d42e4ccbbdfa26be7e61aeb4",
            "2601b3bc8c794d6b974aece7a2c7cce2",
            "e39f00617333449cafec237ec49ab07a",
            "6c6673132d264a5d8a347cbf8140523d",
            "98f2a42654324c31a11c609c2495d749",
            "50715d9041414fc5a4639b4e0ea222b1",
            "bb34188c46bb4b75babfc4c056f6b10f",
            "ed342874dc8d42de9bbedd8dd2489fc5",
            "6a4a78c98b0748c4800a2340fe60a838",
            "dd12592a188a46ab87626a01da165741",
            "49b056e2401646b9b853e860b3859de0",
            "b1fc19610a3448329324cf0f21f43024",
            "54d6376fdaf84070b931751e82b1a622",
            "6837ec9647b645cdaa3e1521b3d12dbe",
            "d32bbce5185d427ea74f99199f27aa4d",
            "684a93755f07412cad776fd575b7283c",
            "5765cff286ba4185afb7af67756ccced",
            "7f63cadf015e42bdb84f4f19e4d555c7",
            "ffd43338c5b745f29ac228e75db0c959",
            "2b28fee1bdba46bf8cc89fceb6bd8a88",
            "ffe36e94ec2f4897ad3db341f3174d3c",
            "87efbe319e25469f96019f40f06cb2d1",
            "84f9cccf85fe467fbbd53dd87fe94b56",
            "ceddb59bca0d400ab2c96cb735d13b77",
            "07417af07c33497dbf6b9dcfa32b92fc",
            "b872da4dc97a4a33a754987d9b119fe1",
            "854003f995114e26bcf4755880566ced",
            "3d7eb595cf86473687886e1dc32dd580",
            "1903edd3ca954ebf835db49135d51ecc",
            "5c5f855e643d472ba63a2d6e87785026",
            "ccff68d6b7834568ab7793864b385239",
            "48073f7fee314732a384f22fa7e48fb1",
            "b0a611af0fdd464aaf9ab1337dc07397",
            "ab21ab86b0b1418695c5240a03271eb1",
            "896c55457ced43eca7f15fb5d235b481",
            "657f1cee441148b1847a1467201f6104",
            "37a28e7c887b48d392cbc9665861ebfd",
            "5ea071611e86417eb4730b7c3c8e369f",
            "636ba896320d4e358022883e12e4a697",
            "2bba9c567f42473f957eac3bab2889b2",
            "66c03ac2b52e47df94dad5d20db0f035",
            "0443f21eba3b4f8a9ea57af439cbbe3b",
            "9732a393ecc040deaf8361646bd911eb",
            "63096a74e6574b5ba246a50d4ad73ecd",
            "4a1124d957734b7ca71456392198e742",
            "b3119190a94e4cb480751de605880617",
            "c5355fdf230c43bbbc40ace9c329c938",
            "45c4813248604720a8761013cb55d8b5",
            "59a18b01e2c8423c8cca3aa492a0132b",
            "f2cad8709c704c269649ca567e7bce63",
            "91b406e98a1740529d002e0d532595e9",
            "404baf31855c4fbca9d489a9a0639c9d",
            "9256096121644219b3b615a523d55618",
            "22c29206e6c1486782e5ee5924394fa5",
            "44250b920060456281b1b24b50a6077d",
            "262dbaa7acae48729373f55da46b4e97",
            "1039d8b134b84db4acc8e2fd6cfdf7b0",
            "0a0413f99f934c2c9c4adb4874c668a5",
            "27766f4014414f989b0c197fea50eccc",
            "217ced33ac9943fd989d09d4738202da",
            "90175ef6fe304877b229d629ef4b0e03",
            "56ac9f9960904b9db178383536b72324",
            "119235c06d5f427bb5ad4a30f5447fbe",
            "038d338fe6b849b38c5c4cb55ee5845a",
            "2a752bc8cde14b38949efe52ce2d5ba6",
            "9acdc69e96fd4297b9dce16fdae51b29",
            "3611f1c6269447fa9ab1c4d7be1e9205",
            "09dd639d019048799f5747b814fe471e",
            "9b9174bf193c456d93c884a4393f9951",
            "a526a30db0fc4a04bb60662a965e095b",
            "832141675195413d922719eda15858c5",
            "a3827dd4bd1d400ca3e96dd6819de038",
            "7e585568dbc640d38579f56061498c72",
            "cccf2a30cff8436c9714ab6bc8e3a0c8",
            "2e40c44fb48045da851e25de086275a9",
            "4fa86a52d9074be289a0196af2304406",
            "59fb64e22ad44adabda6605cfdcefbb3",
            "9dc23556601d422482c0146f0f8d0068",
            "32ebcc1ffe9f409f9d804ce13a79b53f",
            "0157b2010cbc487fbc054b9ebad99874",
            "608a6970519541118fef3dbab05bdc17",
            "23dd847707484feea71e63d8d76b2bba",
            "bd25f7e36a7847ea98967e5434d46043",
            "45e403c252ad4badb3ccc1be0b4b6580",
            "c21d91c5be1841f1bc1d223450b2a37a",
            "1bbef020f7d94a628ffca353ea0c1268",
            "74d7fcf0f4534a8aa28562c7cb38bc8f",
            "c5aff9915491483a94daa32e64eda7a3",
            "d1463c68119148de987107e2289bbfd3",
            "3a1d165ee1a74ea3ba5252d3f9c6a027",
            "e47c390ae77243b1aaff89228ac23ca6",
            "8b82ae9a6bcd411b9d6422d81f57d9b8",
            "2fffacff19604b88a996dbbd63141f91",
            "2995cbe0b58041d79284fc88c74a0991",
            "fca4b630cc874ccc904761a8302325a0",
            "d0e81931a6ab49a6ba507fd68cd6e4ac",
            "be9f17c6a9e24a52969f3c8abb08824e",
            "7a2e541220f044db8cb9a82d2ce8b187",
            "7656076fad3548338da4e0d3979c8895",
            "e845d9c03215414f9ff0f5fc84fdcccb",
            "722b31cc7a844004875013a80ca30daa",
            "390613063a7842b9a1126d3666477639",
            "08611ffb0afb4af2a58b62fa5b3028d6",
            "ab7900e628f14ff6ba9d2008fda3fcf4",
            "803fbbe8ef814468a2c52cef5962ff71",
            "d673f52712244c30a2a124deb762c8c5",
            "68aa8fa2170b404dafd29c90bd13579f",
            "b614842ad3d24b2d863dcc1ccd0ab1b2",
            "a34c4a7b19104a3ca5ee10df1d8851d0",
            "3f185a9aca8740cd8b451480ad7d7d9e",
            "d3c39dae05d0406fba17b789304fb3ac",
            "09cf82ad96f84d609952b183b294f0bd",
            "781e93b190be4478874affded379750c",
            "781effb37b9448578e52be33eac7646e",
            "34c0b45e7a7d4887830ccd60b2b6b82f",
            "ac3caa402b0d4e9da51cbc67e42ddb24",
            "4babeb0fce994f609e870569ee91df40",
            "8fbd8eaf0acd4ec6b5f5b6777f07e062",
            "9180742788914fbbb797fb9f326ba8b2",
            "e3f8f2828bf0447c8021c40cc772b9af",
            "84026dd80c894aaf875d7b8c74a31b89",
            "c14a9cb9432a4d55bbd3d0e78998782e",
            "5268a487f98549ccb82d1773fdeeaca2",
            "a4e965ac970e4ea08a1b69bca79e9c6e",
            "5eee1b42d6f84ca3b60d5570259c6270",
            "bb0fa544565a4f99954541cbb19794f7",
            "8f6a251364764b76ad150021feb9c2e7",
            "8f1219d73f6e4d3fbaffe2c866b8a2be",
            "390cc376c87f43a88591412f659378b9",
            "1357001ba77f427a982241cf15c62be3",
            "714fce9f49184010ba8fd9d6527022c0",
            "a10d52f979484776bc851ddbb15b8e71",
            "25b0a629a348412db5aa34a49825d99a",
            "1106849799a7464b9c5acacd15050e39",
            "a29314b51f7a4fc28de95787652840c9",
            "f6cbedd14288405482f19712f37d862b",
            "f6af95dc08d8447bbb6699c6bc2167ae",
            "e6bfdf9c38fb42e488479d8d7ea4c786",
            "3820bf2e33544936ae3271ff0fba09bf",
            "1d728fe3630d45fda8cd5538704072ec",
            "1fbf51da96e145cb8047d3f144c6a393",
            "3c9e58d9e2154c6ea95f7a42fe06c178",
            "6a62ec59276d44c4b4a6d9df95d6ed1c",
            "399ce567e94c428fbda322806c9bcdea",
            "f866850379fb4e3eb488a92fdc6f139c",
            "f960211a13ae45f79752f706054be7f6",
            "3a436f71210d4dc6a9c2852878aab1c6",
            "2413ea208c714f37a0fd516507b50cb3"
          ]
        },
        "outputId": "2f0f152b-6f93-4ae7-de18-c2c41b4cf834"
      },
      "source": [
        "from tqdm import tqdm_notebook\n",
        "\n",
        "## NUMBER OF EPOCHS TO TRAIN\n",
        "N_EPOCHS = 20\n",
        "\n",
        "epoch_loss, epoch_val_loss = [], []\n",
        "\n",
        "\n",
        "for e in range(N_EPOCHS):\n",
        "  \n",
        "    print(\"EPOCH:\",e)\n",
        "\n",
        "    ### TRAINING LOOP\n",
        "    running_loss = 0\n",
        "\n",
        "    ## Put the network in training mode\n",
        "    net.train()\n",
        "\n",
        "    for i, batch in enumerate(tqdm_notebook(train_dl)):\n",
        "\n",
        "        # Get a batch from the dataloader\n",
        "        x = batch[0]\n",
        "        noises = batch[2]\n",
        "\n",
        "        # move the batch to GPU\n",
        "        x = x.to(device)\n",
        "        noises = noises.to(device)\n",
        "        \n",
        "        # Compute the network output\n",
        "        y = net(x)\n",
        "\n",
        "        # Compute the loss\n",
        "        loss = criterion(y, noises)\n",
        "\n",
        "        # Reset the gradients\n",
        "        optimizer.zero_grad()\n",
        "\n",
        "        # Compute the gradients\n",
        "        loss.backward()\n",
        "\n",
        "        # Apply one step of the descent algorithm to update the weights\n",
        "        optimizer.step()\n",
        "\n",
        "        ## Compute some statistics\n",
        "        with torch.no_grad():\n",
        "            running_loss += loss.item()\n",
        "\n",
        "    print(\"Training loss:\", running_loss/float(len(train_set)))\n",
        "\n",
        "    epoch_loss.append(running_loss/len(train_set))\n",
        "    \n",
        "    ### Validation LOOP\n",
        "    running_val_loss = 0\n",
        "  \n",
        "    ## Put the network in validation mode\n",
        "    net.eval()\n",
        "\n",
        "    for i, batch in enumerate(val_dl):\n",
        "      with torch.no_grad():\n",
        "\n",
        "        # Get a batch from the dataloader\n",
        "        x = batch[0]\n",
        "        noises = batch[2]\n",
        "\n",
        "        # move the batch to GPU\n",
        "        x = x.to(device)\n",
        "        noises = noises.to(device)\n",
        "        \n",
        "        # Compute the network output\n",
        "        y = net(x)\n",
        "\n",
        "        # Compute the loss\n",
        "        loss = criterion(y, noises)\n",
        "\n",
        "        ## Compute some statistics\n",
        "        running_val_loss += loss.item()\n",
        "\n",
        "    print(\"Validation loss:\", running_val_loss/float(len(val_set)))\n",
        "\n",
        "    epoch_val_loss.append(running_val_loss/len(val_set))\n",
        "    \n"
      ],
      "execution_count": 22,
      "outputs": [
        {
          "output_type": "stream",
          "text": [
            "EPOCH: 0\n"
          ],
          "name": "stdout"
        },
        {
          "output_type": "stream",
          "text": [
            "/usr/local/lib/python3.7/dist-packages/ipykernel_launcher.py:19: TqdmDeprecationWarning: This function will be removed in tqdm==5.0.0\n",
            "Please use `tqdm.notebook.tqdm` instead of `tqdm.tqdm_notebook`\n"
          ],
          "name": "stderr"
        },
        {
          "output_type": "display_data",
          "data": {
            "application/vnd.jupyter.widget-view+json": {
              "model_id": "e5654abced1e4aac840d8a00454a8c81",
              "version_minor": 0,
              "version_major": 2
            },
            "text/plain": [
              "HBox(children=(FloatProgress(value=0.0, max=250.0), HTML(value='')))"
            ]
          },
          "metadata": {
            "tags": []
          }
        },
        {
          "output_type": "stream",
          "text": [
            "\n",
            "Training loss: 0.003261625253595412\n",
            "Validation loss: 0.003219231478869915\n",
            "EPOCH: 1\n"
          ],
          "name": "stdout"
        },
        {
          "output_type": "display_data",
          "data": {
            "application/vnd.jupyter.widget-view+json": {
              "model_id": "62d2b03ee8904c638a4bae704898d5ed",
              "version_minor": 0,
              "version_major": 2
            },
            "text/plain": [
              "HBox(children=(FloatProgress(value=0.0, max=250.0), HTML(value='')))"
            ]
          },
          "metadata": {
            "tags": []
          }
        },
        {
          "output_type": "stream",
          "text": [
            "\n",
            "Training loss: 0.002981277071638033\n",
            "Validation loss: 0.0030572851821780204\n",
            "EPOCH: 2\n"
          ],
          "name": "stdout"
        },
        {
          "output_type": "display_data",
          "data": {
            "application/vnd.jupyter.widget-view+json": {
              "model_id": "98f2a42654324c31a11c609c2495d749",
              "version_minor": 0,
              "version_major": 2
            },
            "text/plain": [
              "HBox(children=(FloatProgress(value=0.0, max=250.0), HTML(value='')))"
            ]
          },
          "metadata": {
            "tags": []
          }
        },
        {
          "output_type": "stream",
          "text": [
            "\n",
            "Training loss: 0.002677824999205768\n",
            "Validation loss: 0.0025278902575373648\n",
            "EPOCH: 3\n"
          ],
          "name": "stdout"
        },
        {
          "output_type": "display_data",
          "data": {
            "application/vnd.jupyter.widget-view+json": {
              "model_id": "54d6376fdaf84070b931751e82b1a622",
              "version_minor": 0,
              "version_major": 2
            },
            "text/plain": [
              "HBox(children=(FloatProgress(value=0.0, max=250.0), HTML(value='')))"
            ]
          },
          "metadata": {
            "tags": []
          }
        },
        {
          "output_type": "stream",
          "text": [
            "\n",
            "Training loss: 0.0024142349483445287\n",
            "Validation loss: 0.0023925266340374947\n",
            "EPOCH: 4\n"
          ],
          "name": "stdout"
        },
        {
          "output_type": "display_data",
          "data": {
            "application/vnd.jupyter.widget-view+json": {
              "model_id": "ffe36e94ec2f4897ad3db341f3174d3c",
              "version_minor": 0,
              "version_major": 2
            },
            "text/plain": [
              "HBox(children=(FloatProgress(value=0.0, max=250.0), HTML(value='')))"
            ]
          },
          "metadata": {
            "tags": []
          }
        },
        {
          "output_type": "stream",
          "text": [
            "\n",
            "Training loss: 0.00216560472571291\n",
            "Validation loss: 0.0023034831658005715\n",
            "EPOCH: 5\n"
          ],
          "name": "stdout"
        },
        {
          "output_type": "display_data",
          "data": {
            "application/vnd.jupyter.widget-view+json": {
              "model_id": "1903edd3ca954ebf835db49135d51ecc",
              "version_minor": 0,
              "version_major": 2
            },
            "text/plain": [
              "HBox(children=(FloatProgress(value=0.0, max=250.0), HTML(value='')))"
            ]
          },
          "metadata": {
            "tags": []
          }
        },
        {
          "output_type": "stream",
          "text": [
            "\n",
            "Training loss: 0.0019892417630180716\n",
            "Validation loss: 0.0018884588442742824\n",
            "EPOCH: 6\n"
          ],
          "name": "stdout"
        },
        {
          "output_type": "display_data",
          "data": {
            "application/vnd.jupyter.widget-view+json": {
              "model_id": "37a28e7c887b48d392cbc9665861ebfd",
              "version_minor": 0,
              "version_major": 2
            },
            "text/plain": [
              "HBox(children=(FloatProgress(value=0.0, max=250.0), HTML(value='')))"
            ]
          },
          "metadata": {
            "tags": []
          }
        },
        {
          "output_type": "stream",
          "text": [
            "\n",
            "Training loss: 0.0017202317439951004\n",
            "Validation loss: 0.0018898379318416118\n",
            "EPOCH: 7\n"
          ],
          "name": "stdout"
        },
        {
          "output_type": "display_data",
          "data": {
            "application/vnd.jupyter.widget-view+json": {
              "model_id": "4a1124d957734b7ca71456392198e742",
              "version_minor": 0,
              "version_major": 2
            },
            "text/plain": [
              "HBox(children=(FloatProgress(value=0.0, max=250.0), HTML(value='')))"
            ]
          },
          "metadata": {
            "tags": []
          }
        },
        {
          "output_type": "stream",
          "text": [
            "\n",
            "Training loss: 0.001572375836665742\n",
            "Validation loss: 0.001569435929879546\n",
            "EPOCH: 8\n"
          ],
          "name": "stdout"
        },
        {
          "output_type": "display_data",
          "data": {
            "application/vnd.jupyter.widget-view+json": {
              "model_id": "9256096121644219b3b615a523d55618",
              "version_minor": 0,
              "version_major": 2
            },
            "text/plain": [
              "HBox(children=(FloatProgress(value=0.0, max=250.0), HTML(value='')))"
            ]
          },
          "metadata": {
            "tags": []
          }
        },
        {
          "output_type": "stream",
          "text": [
            "\n",
            "Training loss: 0.0015058860152494162\n",
            "Validation loss: 0.0014656572919338941\n",
            "EPOCH: 9\n"
          ],
          "name": "stdout"
        },
        {
          "output_type": "display_data",
          "data": {
            "application/vnd.jupyter.widget-view+json": {
              "model_id": "90175ef6fe304877b229d629ef4b0e03",
              "version_minor": 0,
              "version_major": 2
            },
            "text/plain": [
              "HBox(children=(FloatProgress(value=0.0, max=250.0), HTML(value='')))"
            ]
          },
          "metadata": {
            "tags": []
          }
        },
        {
          "output_type": "stream",
          "text": [
            "\n",
            "Training loss: 0.0013820958082797006\n",
            "Validation loss: 0.0013912218119949103\n",
            "EPOCH: 10\n"
          ],
          "name": "stdout"
        },
        {
          "output_type": "display_data",
          "data": {
            "application/vnd.jupyter.widget-view+json": {
              "model_id": "9b9174bf193c456d93c884a4393f9951",
              "version_minor": 0,
              "version_major": 2
            },
            "text/plain": [
              "HBox(children=(FloatProgress(value=0.0, max=250.0), HTML(value='')))"
            ]
          },
          "metadata": {
            "tags": []
          }
        },
        {
          "output_type": "stream",
          "text": [
            "\n",
            "Training loss: 0.0013839282570406795\n",
            "Validation loss: 0.0013200184386223555\n",
            "EPOCH: 11\n"
          ],
          "name": "stdout"
        },
        {
          "output_type": "display_data",
          "data": {
            "application/vnd.jupyter.widget-view+json": {
              "model_id": "59fb64e22ad44adabda6605cfdcefbb3",
              "version_minor": 0,
              "version_major": 2
            },
            "text/plain": [
              "HBox(children=(FloatProgress(value=0.0, max=250.0), HTML(value='')))"
            ]
          },
          "metadata": {
            "tags": []
          }
        },
        {
          "output_type": "stream",
          "text": [
            "\n",
            "Training loss: 0.0012529045700794086\n",
            "Validation loss: 0.0013711651414632798\n",
            "EPOCH: 12\n"
          ],
          "name": "stdout"
        },
        {
          "output_type": "display_data",
          "data": {
            "application/vnd.jupyter.widget-view+json": {
              "model_id": "c21d91c5be1841f1bc1d223450b2a37a",
              "version_minor": 0,
              "version_major": 2
            },
            "text/plain": [
              "HBox(children=(FloatProgress(value=0.0, max=250.0), HTML(value='')))"
            ]
          },
          "metadata": {
            "tags": []
          }
        },
        {
          "output_type": "stream",
          "text": [
            "\n",
            "Training loss: 0.001207875220105052\n",
            "Validation loss: 0.001277232736349106\n",
            "EPOCH: 13\n"
          ],
          "name": "stdout"
        },
        {
          "output_type": "display_data",
          "data": {
            "application/vnd.jupyter.widget-view+json": {
              "model_id": "2fffacff19604b88a996dbbd63141f91",
              "version_minor": 0,
              "version_major": 2
            },
            "text/plain": [
              "HBox(children=(FloatProgress(value=0.0, max=250.0), HTML(value='')))"
            ]
          },
          "metadata": {
            "tags": []
          }
        },
        {
          "output_type": "stream",
          "text": [
            "\n",
            "Training loss: 0.0011900282299611717\n",
            "Validation loss: 0.0011917704697698354\n",
            "EPOCH: 14\n"
          ],
          "name": "stdout"
        },
        {
          "output_type": "display_data",
          "data": {
            "application/vnd.jupyter.widget-view+json": {
              "model_id": "722b31cc7a844004875013a80ca30daa",
              "version_minor": 0,
              "version_major": 2
            },
            "text/plain": [
              "HBox(children=(FloatProgress(value=0.0, max=250.0), HTML(value='')))"
            ]
          },
          "metadata": {
            "tags": []
          }
        },
        {
          "output_type": "stream",
          "text": [
            "\n",
            "Training loss: 0.0011226223804987967\n",
            "Validation loss: 0.0012812992250546813\n",
            "EPOCH: 15\n"
          ],
          "name": "stdout"
        },
        {
          "output_type": "display_data",
          "data": {
            "application/vnd.jupyter.widget-view+json": {
              "model_id": "a34c4a7b19104a3ca5ee10df1d8851d0",
              "version_minor": 0,
              "version_major": 2
            },
            "text/plain": [
              "HBox(children=(FloatProgress(value=0.0, max=250.0), HTML(value='')))"
            ]
          },
          "metadata": {
            "tags": []
          }
        },
        {
          "output_type": "stream",
          "text": [
            "\n",
            "Training loss: 0.0010719488384202122\n",
            "Validation loss: 0.0011953754890710116\n",
            "EPOCH: 16\n"
          ],
          "name": "stdout"
        },
        {
          "output_type": "display_data",
          "data": {
            "application/vnd.jupyter.widget-view+json": {
              "model_id": "4babeb0fce994f609e870569ee91df40",
              "version_minor": 0,
              "version_major": 2
            },
            "text/plain": [
              "HBox(children=(FloatProgress(value=0.0, max=250.0), HTML(value='')))"
            ]
          },
          "metadata": {
            "tags": []
          }
        },
        {
          "output_type": "stream",
          "text": [
            "\n",
            "Training loss: 0.001082854659180157\n",
            "Validation loss: 0.001166339415125549\n",
            "EPOCH: 17\n"
          ],
          "name": "stdout"
        },
        {
          "output_type": "display_data",
          "data": {
            "application/vnd.jupyter.widget-view+json": {
              "model_id": "5eee1b42d6f84ca3b60d5570259c6270",
              "version_minor": 0,
              "version_major": 2
            },
            "text/plain": [
              "HBox(children=(FloatProgress(value=0.0, max=250.0), HTML(value='')))"
            ]
          },
          "metadata": {
            "tags": []
          }
        },
        {
          "output_type": "stream",
          "text": [
            "\n",
            "Training loss: 0.0010816263948800042\n",
            "Validation loss: 0.0011426247600466012\n",
            "EPOCH: 18\n"
          ],
          "name": "stdout"
        },
        {
          "output_type": "display_data",
          "data": {
            "application/vnd.jupyter.widget-view+json": {
              "model_id": "25b0a629a348412db5aa34a49825d99a",
              "version_minor": 0,
              "version_major": 2
            },
            "text/plain": [
              "HBox(children=(FloatProgress(value=0.0, max=250.0), HTML(value='')))"
            ]
          },
          "metadata": {
            "tags": []
          }
        },
        {
          "output_type": "stream",
          "text": [
            "\n",
            "Training loss: 0.0010575317012844606\n",
            "Validation loss: 0.0011065260665491224\n",
            "EPOCH: 19\n"
          ],
          "name": "stdout"
        },
        {
          "output_type": "display_data",
          "data": {
            "application/vnd.jupyter.widget-view+json": {
              "model_id": "1fbf51da96e145cb8047d3f144c6a393",
              "version_minor": 0,
              "version_major": 2
            },
            "text/plain": [
              "HBox(children=(FloatProgress(value=0.0, max=250.0), HTML(value='')))"
            ]
          },
          "metadata": {
            "tags": []
          }
        },
        {
          "output_type": "stream",
          "text": [
            "\n",
            "Training loss: 0.0010355338335502893\n",
            "Validation loss: 0.0012010118858888745\n"
          ],
          "name": "stdout"
        }
      ]
    },
    {
      "cell_type": "markdown",
      "metadata": {
        "id": "TGFn9GrWHXhy"
      },
      "source": [
        "#Plots"
      ]
    },
    {
      "cell_type": "code",
      "metadata": {
        "colab": {
          "base_uri": "https://localhost:8080/",
          "height": 281
        },
        "id": "zXF8peO6HWjR",
        "outputId": "db1ebca3-c71e-4cfc-e204-eb2c2159c80c"
      },
      "source": [
        "epochs = range(1,len(epoch_loss)+1)\n",
        "plt.plot(epochs,epoch_loss,label='Training Loss')\n",
        "plt.plot(epochs,epoch_val_loss,label='Validation Loss')\n",
        "plt.title('Loss')\n",
        "plt.legend()\n",
        "plt.show()"
      ],
      "execution_count": 23,
      "outputs": [
        {
          "output_type": "display_data",
          "data": {
            "image/png": "[encoded data removed]",
            "text/plain": [
              "<Figure size 432x288 with 1 Axes>"
            ]
          },
          "metadata": {
            "tags": [],
            "needs_background": "light"
          }
        }
      ]
    },
    {
      "cell_type": "markdown",
      "metadata": {
        "id": "DC-oJa6AJqKV"
      },
      "source": [
        "#Testing"
      ]
    },
    {
      "cell_type": "code",
      "metadata": {
        "colab": {
          "base_uri": "https://localhost:8080/"
        },
        "id": "U3VcmB_hJpgb",
        "outputId": "d566a0df-b23e-40b5-bc00-10ecbd263053"
      },
      "source": [
        "\n",
        "\n",
        "# for now test on val set\n",
        "net.eval()\n",
        "test_loss = 0\n",
        "test_sdr = 0\n",
        "\n",
        "for i,batch in enumerate(test_dl):\n",
        "  with torch.no_grad():\n",
        "    # Get a batch from the dataloader\n",
        "    x = batch[0]\n",
        "    noises = batch[2]\n",
        "\n",
        "    # move the batch to GPU\n",
        "    x = x.to(device)\n",
        "    noises = noises.to(device)\n",
        "    \n",
        "    # Compute the network output\n",
        "    y = net(x)\n",
        "\n",
        "    # Compute the loss\n",
        "    loss = criterion(y, noises)\n",
        "    test_loss += loss.item()\n",
        "    dim = n_fft//2 + 1\n",
        "    reference = noises.to('cpu').detach().numpy()\n",
        "    reference = np.sqrt(reference[:,:,:,0]**2 + reference[:,:,:,1]**2)\n",
        "    reference = reference.reshape((x.shape[0],dim*dim))\n",
        "\n",
        "    estimation = y.to('cpu').detach().numpy()\n",
        "    estimation = np.sqrt(estimation[:,:,:,0]**2 + estimation[:,:,:,1]**2)\n",
        "    estimation = estimation.reshape((x.shape[0],dim*dim))\n",
        "\n",
        "    sdr = si_sdr(reference,estimation)\n",
        "    test_sdr += np.sum(sdr)\n",
        "\n",
        "test_loss = test_loss/len(test_set)\n",
        "test_sdr = test_sdr/len(test_set)\n",
        "\n",
        "print('Test Loss',test_loss)\n",
        "print('Test SDR',test_sdr)\n"
      ],
      "execution_count": null,
      "outputs": [
        {
          "output_type": "stream",
          "text": [
            "Test Loss 0.0011434288546442986\n",
            "Test SDR 1.36243759059906\n"
          ],
          "name": "stdout"
        }
      ]
    },
    {
      "cell_type": "code",
      "metadata": {
        "id": "yfpnYr7thka5",
        "colab": {
          "base_uri": "https://localhost:8080/"
        },
        "outputId": "54284f5b-ce8d-46f2-cf7b-22d0d1fa7fa3"
      },
      "source": [
        "!pip3 install https://github.com/schmiph2/pysepm/archive/master.zip"
      ],
      "execution_count": 24,
      "outputs": [
        {
          "output_type": "stream",
          "text": [
            "Collecting https://github.com/schmiph2/pysepm/archive/master.zip\n",
            "\u001b[?25l  Downloading https://github.com/schmiph2/pysepm/archive/master.zip\n",
            "\u001b[K     / 2.1MB 3.1MB/s\n",
            "\u001b[?25h  Installing build dependencies ... \u001b[?25l\u001b[?25hdone\n",
            "  Getting requirements to build wheel ... \u001b[?25l\u001b[?25hdone\n",
            "    Preparing wheel metadata ... \u001b[?25l\u001b[?25hdone\n",
            "Requirement already satisfied: numba in /usr/local/lib/python3.7/dist-packages (from pysepm==0.1) (0.51.2)\n",
            "Requirement already satisfied: numpy in /usr/local/lib/python3.7/dist-packages (from pysepm==0.1) (1.19.5)\n",
            "Collecting pystoi\n",
            "  Downloading https://files.pythonhosted.org/packages/4c/d8/58a5deefb57e3ca78d6421d2ec536880a29ac0e497b2d1baded6f2153beb/pystoi-0.3.3.tar.gz\n",
            "Collecting pesq@ https://github.com/ludlows/python-pesq/archive/master.zip#egg=pesq\n",
            "\u001b[?25l  Downloading https://github.com/ludlows/python-pesq/archive/master.zip\n",
            "\u001b[K     \\ 307kB 51.7MB/s\n",
            "\u001b[?25hCollecting SRMRpy@ https://github.com/jfsantos/SRMRpy/archive/master.zip#egg=SRMRpy\n",
            "\u001b[?25l  Downloading https://github.com/jfsantos/SRMRpy/archive/master.zip\n",
            "\u001b[K     | 71kB 52.7MB/s\n",
            "\u001b[?25hRequirement already satisfied: scipy in /usr/local/lib/python3.7/dist-packages (from pysepm==0.1) (1.4.1)\n",
            "Requirement already satisfied: llvmlite<0.35,>=0.34.0.dev0 in /usr/local/lib/python3.7/dist-packages (from numba->pysepm==0.1) (0.34.0)\n",
            "Requirement already satisfied: setuptools in /usr/local/lib/python3.7/dist-packages (from numba->pysepm==0.1) (56.1.0)\n",
            "Collecting Gammatone@ https://github.com/detly/gammatone/archive/master.zip#egg=Gammatone\n",
            "\u001b[?25l  Downloading https://github.com/detly/gammatone/archive/master.zip\n",
            "\u001b[K     | 65.4MB 46kB/s\n",
            "\u001b[?25hCollecting nose\n",
            "\u001b[?25l  Downloading https://files.pythonhosted.org/packages/15/d8/dd071918c040f50fa1cf80da16423af51ff8ce4a0f2399b7bf8de45ac3d9/nose-1.3.7-py3-none-any.whl (154kB)\n",
            "\u001b[K     |████████████████████████████████| 163kB 36.2MB/s \n",
            "\u001b[?25hCollecting mock\n",
            "  Downloading https://files.pythonhosted.org/packages/5c/03/b7e605db4a57c0f6fba744b11ef3ddf4ddebcada35022927a2b5fc623fdf/mock-4.0.3-py3-none-any.whl\n",
            "Requirement already satisfied: matplotlib in /usr/local/lib/python3.7/dist-packages (from Gammatone@ https://github.com/detly/gammatone/archive/master.zip#egg=Gammatone->SRMRpy@ https://github.com/jfsantos/SRMRpy/archive/master.zip#egg=SRMRpy->pysepm==0.1) (3.2.2)\n",
            "Requirement already satisfied: cycler>=0.10 in /usr/local/lib/python3.7/dist-packages (from matplotlib->Gammatone@ https://github.com/detly/gammatone/archive/master.zip#egg=Gammatone->SRMRpy@ https://github.com/jfsantos/SRMRpy/archive/master.zip#egg=SRMRpy->pysepm==0.1) (0.10.0)\n",
            "Requirement already satisfied: kiwisolver>=1.0.1 in /usr/local/lib/python3.7/dist-packages (from matplotlib->Gammatone@ https://github.com/detly/gammatone/archive/master.zip#egg=Gammatone->SRMRpy@ https://github.com/jfsantos/SRMRpy/archive/master.zip#egg=SRMRpy->pysepm==0.1) (1.3.1)\n",
            "Requirement already satisfied: python-dateutil>=2.1 in /usr/local/lib/python3.7/dist-packages (from matplotlib->Gammatone@ https://github.com/detly/gammatone/archive/master.zip#egg=Gammatone->SRMRpy@ https://github.com/jfsantos/SRMRpy/archive/master.zip#egg=SRMRpy->pysepm==0.1) (2.8.1)\n",
            "Requirement already satisfied: pyparsing!=2.0.4,!=2.1.2,!=2.1.6,>=2.0.1 in /usr/local/lib/python3.7/dist-packages (from matplotlib->Gammatone@ https://github.com/detly/gammatone/archive/master.zip#egg=Gammatone->SRMRpy@ https://github.com/jfsantos/SRMRpy/archive/master.zip#egg=SRMRpy->pysepm==0.1) (2.4.7)\n",
            "Requirement already satisfied: six in /usr/local/lib/python3.7/dist-packages (from cycler>=0.10->matplotlib->Gammatone@ https://github.com/detly/gammatone/archive/master.zip#egg=Gammatone->SRMRpy@ https://github.com/jfsantos/SRMRpy/archive/master.zip#egg=SRMRpy->pysepm==0.1) (1.15.0)\n",
            "Building wheels for collected packages: pysepm\n",
            "  Building wheel for pysepm (PEP 517) ... \u001b[?25l\u001b[?25hdone\n",
            "  Created wheel for pysepm: filename=pysepm-0.1-cp37-none-any.whl size=24291 sha256=e8f80e0ef9d9f4554060d5f0b2ddea78fa029a3ba176dd8a3d93a931925175ba\n",
            "  Stored in directory: /tmp/pip-ephem-wheel-cache-48s97743/wheels/17/75/23/17712e0da834688ac430e0cf826dd1f7450d0b4873e0269f7c\n",
            "Successfully built pysepm\n",
            "Building wheels for collected packages: pystoi, pesq, SRMRpy, Gammatone\n",
            "  Building wheel for pystoi (setup.py) ... \u001b[?25l\u001b[?25hdone\n",
            "  Created wheel for pystoi: filename=pystoi-0.3.3-py2.py3-none-any.whl size=7781 sha256=c41f639ced57a839e517ef68844a9ea5938d46a0f83a06a0e6c5637097eceaf3\n",
            "  Stored in directory: /root/.cache/pip/wheels/6b/6c/b2/d49af4b7ee4ce275cf2511484b043e09b9cb7ae90c1accb17a\n",
            "  Building wheel for pesq (setup.py) ... \u001b[?25l\u001b[?25hdone\n",
            "  Created wheel for pesq: filename=pesq-0.0.2-cp37-cp37m-linux_x86_64.whl size=210738 sha256=77aa7d52f8aad0e8a29a3bbb349dadd229010e64ea0b23ec2f7ecf0128b7add3\n",
            "  Stored in directory: /tmp/pip-ephem-wheel-cache-48s97743/wheels/85/91/09/5ae7677a054a05d49111dc8f3b282e886b3852348384893a32\n",
            "  Building wheel for SRMRpy (setup.py) ... \u001b[?25l\u001b[?25hdone\n",
            "  Created wheel for SRMRpy: filename=SRMRpy-1.0-cp37-none-any.whl size=9397 sha256=374d8b0f630c02dc6c2fae3a99b154d3f744136c5f05f75ff5ae43678072495e\n",
            "  Stored in directory: /tmp/pip-ephem-wheel-cache-48s97743/wheels/ef/f1/00/7c2aef84fdfd2c195486371d26b18f72c5bda5fe8442ef4c00\n",
            "  Building wheel for Gammatone (setup.py) ... \u001b[?25l\u001b[?25hdone\n",
            "  Created wheel for Gammatone: filename=Gammatone-1.0-cp37-none-any.whl size=21794 sha256=84d3f89a5a221531f145232170406f0c54af7b8b0e0d06ae9371771238454a00\n",
            "  Stored in directory: /tmp/pip-ephem-wheel-cache-48s97743/wheels/5d/4e/82/7c9805980228587ad8097173a82199c0082f292fdfb6c80878\n",
            "Successfully built pystoi pesq SRMRpy Gammatone\n",
            "Installing collected packages: pystoi, pesq, nose, mock, Gammatone, SRMRpy, pysepm\n",
            "Successfully installed Gammatone-1.0 SRMRpy-1.0 mock-4.0.3 nose-1.3.7 pesq-0.0.2 pysepm-0.1 pystoi-0.3.3\n"
          ],
          "name": "stdout"
        }
      ]
    },
    {
      "cell_type": "code",
      "metadata": {
        "colab": {
          "base_uri": "https://localhost:8080/"
        },
        "id": "uyoepK44sg5u",
        "outputId": "3ca75919-a954-453d-c578-2bd9bfceb742"
      },
      "source": [
        "import pysepm\n",
        "net.eval()\n",
        "test_loss = 0\n",
        "test_sdr = 0\n",
        "\n",
        "for i,batch in enumerate(test_dl):\n",
        "  with torch.no_grad():\n",
        "    # Get a batch from the dataloader\n",
        "    x = batch[0]\n",
        "    noises = batch[2]\n",
        "\n",
        "    # move the batch to GPU\n",
        "    x = x.to(device)\n",
        "    noises = noises.to(device)\n",
        "    \n",
        "    # Compute the network output\n",
        "    y = net(x)\n",
        "\n",
        "    # Compute the loss\n",
        "    loss = criterion(y, noises)\n",
        "    test_loss += loss.item()\n",
        "    n1=len(x)\n",
        "    # y1 = y.to('cpu').detach().numpy()\n",
        "    # x1 = x.to('cpu').detach().numpy()\n",
        "    for j in range(n1):\n",
        "      # n_fft=255,hop_length=63,length=8064,return_complex=False\n",
        "      a1=torch.istft(y[j],n_fft=n_fft,hop_length=hop_length_fft,length=8064,return_complex=False)\n",
        "      a2=torch.istft(x[j],n_fft=n_fft,hop_length=hop_length_fft,length=8064,return_complex=False)\n",
        "      # print(a2.shape,a1.shape)\n",
        "      a3=a1.to('cpu').detach().numpy()\n",
        "      a4=a2.to('cpu').detach().numpy()\n",
        "      test_sdr+=pysepm.fwSNRseg(a4,a3,sample_rate)\n",
        "    # torch.istft(input, n_fft, hop_length=None, win_length=None, window=None, center=True, normalized=False, onesided=None, length=None, return_complex=False)\n",
        "    # dim = n_fft//2 + 1\n",
        "    # reference = noises.to('cpu').detach().numpy()\n",
        "    # reference = np.sqrt(reference[:,:,:,0]**2 + reference[:,:,:,1]**2)\n",
        "    # reference = reference.reshape((x.shape[0],dim*dim))\n",
        "\n",
        "    \n",
        "    # estimation = np.sqrt(estimation[:,:,:,0]**2 + estimation[:,:,:,1]**2)\n",
        "    # estimation = estimation.reshape((x.shape[0],dim*dim))\n",
        "\n",
        "    # sdr = si_sdr(reference,estimation)\n",
        "    # test_sdr += np.sum(sdr)\n",
        "\n",
        "test_loss = test_loss/len(test_set)\n",
        "test_sdr = test_sdr/len(test_set)\n",
        "\n",
        "print('Test Loss',test_loss)\n",
        "print('Test SDR',test_sdr)"
      ],
      "execution_count": 37,
      "outputs": [
        {
          "output_type": "stream",
          "text": [
            "Test Loss 0.001029152509290725\n",
            "Test SDR 6.787722219555663\n"
          ],
          "name": "stdout"
        }
      ]
    },
    {
      "cell_type": "markdown",
      "metadata": {
        "id": "6Rp9MiJMOzG0"
      },
      "source": [
        "#Inference"
      ]
    },
    {
      "cell_type": "code",
      "metadata": {
        "id": "_OENP5yfOi33",
        "colab": {
          "base_uri": "https://localhost:8080/",
          "height": 1000
        },
        "outputId": "5a51e0d3-0b3f-4256-b1a4-efca23c8c6d8"
      },
      "source": [
        "import librosa.display\n",
        "import pysepm\n",
        "\n",
        "test_file = '/content/drive/Shareddrives/ASRproject/data/noisy_voice/4070.wav'\n",
        "\n",
        "def plot_spec(spec,title):\n",
        "  plt.figure()\n",
        "  plt.subplot(2, 1, 1)\n",
        "  plt.title(f'{title}(real)')\n",
        "  librosa.display.specshow(spec[:,:,0], x_axis='time', y_axis='linear',sr=sample_rate, hop_length=hop_length_fft)\n",
        "  plt.colorbar()\n",
        "\n",
        "  plt.subplot(2, 1, 2)\n",
        "  plt.title(f'{title}(imaginary)')\n",
        "  librosa.display.specshow(spec[:,:,1], x_axis='time', y_axis='linear',sr=sample_rate, hop_length=hop_length_fft)\n",
        "  plt.colorbar()\n",
        "\n",
        "  plt.tight_layout()\n",
        "\n",
        "\n",
        "def infer_true_voice(noisy_voice_file):\n",
        "  wavs = audios_to_tensor([noisy_voice_file],sample_rate,frame_length,hop_length_frame,0)\n",
        "  specs = torch.stft(wavs,n_fft=n_fft,hop_length=hop_length_fft,return_complex=False)\n",
        "  \n",
        "  net.eval()\n",
        "  x = specs\n",
        "  x = x.to(device)\n",
        "  y = net(x)\n",
        "  print(x.shape,y.shape)\n",
        "  noise = y.to('cpu')\n",
        "  noisy_voice = x.to('cpu')\n",
        "  voice = noisy_voice - noise\n",
        "\n",
        "  plot_spec(noisy_voice[0].detach().numpy(),'Noisy Voice')\n",
        "  plot_spec(voice[0].detach().numpy(),'Predicted Voice')\n",
        "  plot_spec(noise[0].detach().numpy(),'Predicted Noise')\n",
        "\n",
        "  noisy_voice_wav = torch.istft(noisy_voice,n_fft=n_fft,hop_length=hop_length_fft,length=frame_length,return_complex=False)\n",
        "  voice_wav = torch.istft(voice,n_fft=n_fft,hop_length=hop_length_fft,length=frame_length,return_complex=False)\n",
        "  noise_wav = torch.istft(noise,n_fft=n_fft,hop_length=hop_length_fft,length=frame_length,return_complex=False)\n",
        "\n",
        "  # print(torch.sum(noise))\n",
        "  return noisy_voice_wav.detach().numpy(),voice_wav.detach().numpy(),noise_wav.detach().numpy()\n",
        "\n",
        "nv_wav,v_wav,n_wav = infer_true_voice(test_file)\n",
        "\n",
        "print('Noisy Voice')\n",
        "display(IPython.display.Audio(nv_wav,rate=sample_rate))\n",
        "print('Predicted Voice')\n",
        "display(IPython.display.Audio(v_wav,rate=sample_rate))\n",
        "print('Predicted Noise')\n",
        "display(IPython.display.Audio(n_wav,rate=sample_rate))"
      ],
      "execution_count": null,
      "outputs": [
        {
          "output_type": "stream",
          "text": [
            "Converting Audio to Tensor\n"
          ],
          "name": "stdout"
        },
        {
          "output_type": "display_data",
          "data": {
            "text/plain": [
              "1/1"
            ]
          },
          "metadata": {
            "tags": []
          }
        },
        {
          "output_type": "stream",
          "text": [
            "torch.Size([1, 128, 128, 2]) torch.Size([1, 128, 128, 2])\n",
            "Noisy Voice\n"
          ],
          "name": "stdout"
        },
        {
          "output_type": "display_data",
          "data": {
            "text/html": [
              "\n",
              "                <audio controls=\"controls\" >\n",
              "                    <source src=\"data:audio/wav;base64,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\" type=\"audio/wav\" />\n",
              "                    Your browser does not support the audio element.\n",
              "                </audio>\n",
              "              "
            ],
            "text/plain": [
              "<IPython.lib.display.Audio object>"
            ]
          },
          "metadata": {
            "tags": []
          }
        },
        {
          "output_type": "stream",
          "text": [
            "Predicted Voice\n"
          ],
          "name": "stdout"
        },
        {
          "output_type": "display_data",
          "data": {
            "text/html": [
              "\n",
              "                <audio controls=\"controls\" >\n",
              "                    <source src=\"data:audio/wav;base64,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\" type=\"audio/wav\" />\n",
              "                    Your browser does not support the audio element.\n",
              "                </audio>\n",
              "              "
            ],
            "text/plain": [
              "<IPython.lib.display.Audio object>"
            ]
          },
          "metadata": {
            "tags": []
          }
        },
        {
          "output_type": "stream",
          "text": [
            "Predicted Noise\n"
          ],
          "name": "stdout"
        },
        {
          "output_type": "display_data",
          "data": {
            "text/html": [
              "\n",
              "                <audio controls=\"controls\" >\n",
              "                    <source src=\"data:audio/wav;base64,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\" type=\"audio/wav\" />\n",
              "                    Your browser does not support the audio element.\n",
              "                </audio>\n",
              "              "
            ],
            "text/plain": [
              "<IPython.lib.display.Audio object>"
            ]
          },
          "metadata": {
            "tags": []
          }
        },
        {
          "output_type": "display_data",
          "data": {
            "image/png": "[encoded data removed]",
            "text/plain": [
              "<Figure size 432x288 with 4 Axes>"
            ]
          },
          "metadata": {
            "tags": [],
            "needs_background": "light"
          }
        },
        {
          "output_type": "display_data",
          "data": {
            "image/png": "[encoded data removed]",
            "text/plain": [
              "<Figure size 432x288 with 4 Axes>"
            ]
          },
          "metadata": {
            "tags": [],
            "needs_background": "light"
          }
        },
        {
          "output_type": "display_data",
          "data": {
            "image/png": "[encoded data removed]",
            "text/plain": [
              "<Figure size 432x288 with 4 Axes>"
            ]
          },
          "metadata": {
            "tags": [],
            "needs_background": "light"
          }
        }
      ]
    },
    {
      "cell_type": "code",
      "metadata": {
        "id": "AAhPEF3OSIRf"
      },
      "source": [
        "# torch.save(net.state_dict(),'./new_model')"
      ],
      "execution_count": null,
      "outputs": []
    }
  ]
}