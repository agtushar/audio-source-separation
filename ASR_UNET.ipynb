{
  "nbformat": 4,
  "nbformat_minor": 0,
  "metadata": {
    "colab": {
      "name": "ASR_UNET",
      "provenance": [],
      "collapsed_sections": []
    },
    "kernelspec": {
      "display_name": "Python 3",
      "name": "python3"
    },
    "language_info": {
      "name": "python"
    },
    "widgets": {
      "application/vnd.jupyter.widget-state+json": {
        "524b0122d8e34e0fb729369a6f4dc84e": {
          "model_module": "@jupyter-widgets/controls",
          "model_name": "HBoxModel",
          "state": {
            "_dom_classes": [],
            "_model_module": "@jupyter-widgets/controls",
            "_model_module_version": "1.5.0",
            "_model_name": "HBoxModel",
            "_view_count": null,
            "_view_module": "@jupyter-widgets/controls",
            "_view_module_version": "1.5.0",
            "_view_name": "HBoxView",
            "box_style": "",
            "children": [
              "IPY_MODEL_8c61f585379949e29def3e9545791269",
              "IPY_MODEL_164373ef195542178b6863f5bf8c2f9f"
            ],
            "layout": "IPY_MODEL_ec6a737d6ee34585b86a69e646c24a84"
          }
        },
        "8c61f585379949e29def3e9545791269": {
          "model_module": "@jupyter-widgets/controls",
          "model_name": "FloatProgressModel",
          "state": {
            "_dom_classes": [],
            "_model_module": "@jupyter-widgets/controls",
            "_model_module_version": "1.5.0",
            "_model_name": "FloatProgressModel",
            "_view_count": null,
            "_view_module": "@jupyter-widgets/controls",
            "_view_module_version": "1.5.0",
            "_view_name": "ProgressView",
            "bar_style": "success",
            "description": "100%",
            "description_tooltip": null,
            "layout": "IPY_MODEL_ae8073c1426c42949f411ff5be661564",
            "max": 6387309499,
            "min": 0,
            "orientation": "horizontal",
            "style": "IPY_MODEL_f9139ed7c31641ecb9178b61f5ea5289",
            "value": 6387309499
          }
        },
        "164373ef195542178b6863f5bf8c2f9f": {
          "model_module": "@jupyter-widgets/controls",
          "model_name": "HTMLModel",
          "state": {
            "_dom_classes": [],
            "_model_module": "@jupyter-widgets/controls",
            "_model_module_version": "1.5.0",
            "_model_name": "HTMLModel",
            "_view_count": null,
            "_view_module": "@jupyter-widgets/controls",
            "_view_module_version": "1.5.0",
            "_view_name": "HTMLView",
            "description": "",
            "description_tooltip": null,
            "layout": "IPY_MODEL_7b2945987d17484d97e557b05625f03a",
            "placeholder": "​",
            "style": "IPY_MODEL_3298b3b676104ecc8a51e09eabdfa670",
            "value": " 5.95G/5.95G [04:45&lt;00:00, 22.4MB/s]"
          }
        },
        "ec6a737d6ee34585b86a69e646c24a84": {
          "model_module": "@jupyter-widgets/base",
          "model_name": "LayoutModel",
          "state": {
            "_model_module": "@jupyter-widgets/base",
            "_model_module_version": "1.2.0",
            "_model_name": "LayoutModel",
            "_view_count": null,
            "_view_module": "@jupyter-widgets/base",
            "_view_module_version": "1.2.0",
            "_view_name": "LayoutView",
            "align_content": null,
            "align_items": null,
            "align_self": null,
            "border": null,
            "bottom": null,
            "display": null,
            "flex": null,
            "flex_flow": null,
            "grid_area": null,
            "grid_auto_columns": null,
            "grid_auto_flow": null,
            "grid_auto_rows": null,
            "grid_column": null,
            "grid_gap": null,
            "grid_row": null,
            "grid_template_areas": null,
            "grid_template_columns": null,
            "grid_template_rows": null,
            "height": null,
            "justify_content": null,
            "justify_items": null,
            "left": null,
            "margin": null,
            "max_height": null,
            "max_width": null,
            "min_height": null,
            "min_width": null,
            "object_fit": null,
            "object_position": null,
            "order": null,
            "overflow": null,
            "overflow_x": null,
            "overflow_y": null,
            "padding": null,
            "right": null,
            "top": null,
            "visibility": null,
            "width": null
          }
        },
        "ae8073c1426c42949f411ff5be661564": {
          "model_module": "@jupyter-widgets/base",
          "model_name": "LayoutModel",
          "state": {
            "_model_module": "@jupyter-widgets/base",
            "_model_module_version": "1.2.0",
            "_model_name": "LayoutModel",
            "_view_count": null,
            "_view_module": "@jupyter-widgets/base",
            "_view_module_version": "1.2.0",
            "_view_name": "LayoutView",
            "align_content": null,
            "align_items": null,
            "align_self": null,
            "border": null,
            "bottom": null,
            "display": null,
            "flex": null,
            "flex_flow": null,
            "grid_area": null,
            "grid_auto_columns": null,
            "grid_auto_flow": null,
            "grid_auto_rows": null,
            "grid_column": null,
            "grid_gap": null,
            "grid_row": null,
            "grid_template_areas": null,
            "grid_template_columns": null,
            "grid_template_rows": null,
            "height": null,
            "justify_content": null,
            "justify_items": null,
            "left": null,
            "margin": null,
            "max_height": null,
            "max_width": null,
            "min_height": null,
            "min_width": null,
            "object_fit": null,
            "object_position": null,
            "order": null,
            "overflow": null,
            "overflow_x": null,
            "overflow_y": null,
            "padding": null,
            "right": null,
            "top": null,
            "visibility": null,
            "width": null
          }
        },
        "f9139ed7c31641ecb9178b61f5ea5289": {
          "model_module": "@jupyter-widgets/controls",
          "model_name": "ProgressStyleModel",
          "state": {
            "_model_module": "@jupyter-widgets/controls",
            "_model_module_version": "1.5.0",
            "_model_name": "ProgressStyleModel",
            "_view_count": null,
            "_view_module": "@jupyter-widgets/base",
            "_view_module_version": "1.2.0",
            "_view_name": "StyleView",
            "bar_color": null,
            "description_width": "initial"
          }
        },
        "7b2945987d17484d97e557b05625f03a": {
          "model_module": "@jupyter-widgets/base",
          "model_name": "LayoutModel",
          "state": {
            "_model_module": "@jupyter-widgets/base",
            "_model_module_version": "1.2.0",
            "_model_name": "LayoutModel",
            "_view_count": null,
            "_view_module": "@jupyter-widgets/base",
            "_view_module_version": "1.2.0",
            "_view_name": "LayoutView",
            "align_content": null,
            "align_items": null,
            "align_self": null,
            "border": null,
            "bottom": null,
            "display": null,
            "flex": null,
            "flex_flow": null,
            "grid_area": null,
            "grid_auto_columns": null,
            "grid_auto_flow": null,
            "grid_auto_rows": null,
            "grid_column": null,
            "grid_gap": null,
            "grid_row": null,
            "grid_template_areas": null,
            "grid_template_columns": null,
            "grid_template_rows": null,
            "height": null,
            "justify_content": null,
            "justify_items": null,
            "left": null,
            "margin": null,
            "max_height": null,
            "max_width": null,
            "min_height": null,
            "min_width": null,
            "object_fit": null,
            "object_position": null,
            "order": null,
            "overflow": null,
            "overflow_x": null,
            "overflow_y": null,
            "padding": null,
            "right": null,
            "top": null,
            "visibility": null,
            "width": null
          }
        },
        "3298b3b676104ecc8a51e09eabdfa670": {
          "model_module": "@jupyter-widgets/controls",
          "model_name": "DescriptionStyleModel",
          "state": {
            "_model_module": "@jupyter-widgets/controls",
            "_model_module_version": "1.5.0",
            "_model_name": "DescriptionStyleModel",
            "_view_count": null,
            "_view_module": "@jupyter-widgets/base",
            "_view_module_version": "1.2.0",
            "_view_name": "StyleView",
            "description_width": ""
          }
        },
        "4dec04caa2c245be976506da8d0a6d61": {
          "model_module": "@jupyter-widgets/controls",
          "model_name": "HBoxModel",
          "state": {
            "_dom_classes": [],
            "_model_module": "@jupyter-widgets/controls",
            "_model_module_version": "1.5.0",
            "_model_name": "HBoxModel",
            "_view_count": null,
            "_view_module": "@jupyter-widgets/controls",
            "_view_module_version": "1.5.0",
            "_view_name": "HBoxView",
            "box_style": "",
            "children": [
              "IPY_MODEL_5df03367a1814973945ed4b15b2f20ee",
              "IPY_MODEL_b62c8b6c8f374c21bf3f8e54729df71d"
            ],
            "layout": "IPY_MODEL_60ff32eb5ad94531a72e7d3de41751a6"
          }
        },
        "5df03367a1814973945ed4b15b2f20ee": {
          "model_module": "@jupyter-widgets/controls",
          "model_name": "FloatProgressModel",
          "state": {
            "_dom_classes": [],
            "_model_module": "@jupyter-widgets/controls",
            "_model_module_version": "1.5.0",
            "_model_name": "FloatProgressModel",
            "_view_count": null,
            "_view_module": "@jupyter-widgets/controls",
            "_view_module_version": "1.5.0",
            "_view_name": "ProgressView",
            "bar_style": "success",
            "description": "100%",
            "description_tooltip": null,
            "layout": "IPY_MODEL_0063f3fc342f40c5b144dae1691ccdaa",
            "max": 250,
            "min": 0,
            "orientation": "horizontal",
            "style": "IPY_MODEL_56fd672f22ee4c969d20ae365bf91fb3",
            "value": 250
          }
        },
        "b62c8b6c8f374c21bf3f8e54729df71d": {
          "model_module": "@jupyter-widgets/controls",
          "model_name": "HTMLModel",
          "state": {
            "_dom_classes": [],
            "_model_module": "@jupyter-widgets/controls",
            "_model_module_version": "1.5.0",
            "_model_name": "HTMLModel",
            "_view_count": null,
            "_view_module": "@jupyter-widgets/controls",
            "_view_module_version": "1.5.0",
            "_view_name": "HTMLView",
            "description": "",
            "description_tooltip": null,
            "layout": "IPY_MODEL_708a4172cd1d4a6ea3c48f9af2d50d37",
            "placeholder": "​",
            "style": "IPY_MODEL_9ddc127f08b34f32a8e2bb912c0b211e",
            "value": " 250/250 [06:40&lt;00:00,  1.60s/it]"
          }
        },
        "60ff32eb5ad94531a72e7d3de41751a6": {
          "model_module": "@jupyter-widgets/base",
          "model_name": "LayoutModel",
          "state": {
            "_model_module": "@jupyter-widgets/base",
            "_model_module_version": "1.2.0",
            "_model_name": "LayoutModel",
            "_view_count": null,
            "_view_module": "@jupyter-widgets/base",
            "_view_module_version": "1.2.0",
            "_view_name": "LayoutView",
            "align_content": null,
            "align_items": null,
            "align_self": null,
            "border": null,
            "bottom": null,
            "display": null,
            "flex": null,
            "flex_flow": null,
            "grid_area": null,
            "grid_auto_columns": null,
            "grid_auto_flow": null,
            "grid_auto_rows": null,
            "grid_column": null,
            "grid_gap": null,
            "grid_row": null,
            "grid_template_areas": null,
            "grid_template_columns": null,
            "grid_template_rows": null,
            "height": null,
            "justify_content": null,
            "justify_items": null,
            "left": null,
            "margin": null,
            "max_height": null,
            "max_width": null,
            "min_height": null,
            "min_width": null,
            "object_fit": null,
            "object_position": null,
            "order": null,
            "overflow": null,
            "overflow_x": null,
            "overflow_y": null,
            "padding": null,
            "right": null,
            "top": null,
            "visibility": null,
            "width": null
          }
        },
        "0063f3fc342f40c5b144dae1691ccdaa": {
          "model_module": "@jupyter-widgets/base",
          "model_name": "LayoutModel",
          "state": {
            "_model_module": "@jupyter-widgets/base",
            "_model_module_version": "1.2.0",
            "_model_name": "LayoutModel",
            "_view_count": null,
            "_view_module": "@jupyter-widgets/base",
            "_view_module_version": "1.2.0",
            "_view_name": "LayoutView",
            "align_content": null,
            "align_items": null,
            "align_self": null,
            "border": null,
            "bottom": null,
            "display": null,
            "flex": null,
            "flex_flow": null,
            "grid_area": null,
            "grid_auto_columns": null,
            "grid_auto_flow": null,
            "grid_auto_rows": null,
            "grid_column": null,
            "grid_gap": null,
            "grid_row": null,
            "grid_template_areas": null,
            "grid_template_columns": null,
            "grid_template_rows": null,
            "height": null,
            "justify_content": null,
            "justify_items": null,
            "left": null,
            "margin": null,
            "max_height": null,
            "max_width": null,
            "min_height": null,
            "min_width": null,
            "object_fit": null,
            "object_position": null,
            "order": null,
            "overflow": null,
            "overflow_x": null,
            "overflow_y": null,
            "padding": null,
            "right": null,
            "top": null,
            "visibility": null,
            "width": null
          }
        },
        "56fd672f22ee4c969d20ae365bf91fb3": {
          "model_module": "@jupyter-widgets/controls",
          "model_name": "ProgressStyleModel",
          "state": {
            "_model_module": "@jupyter-widgets/controls",
            "_model_module_version": "1.5.0",
            "_model_name": "ProgressStyleModel",
            "_view_count": null,
            "_view_module": "@jupyter-widgets/base",
            "_view_module_version": "1.2.0",
            "_view_name": "StyleView",
            "bar_color": null,
            "description_width": "initial"
          }
        },
        "708a4172cd1d4a6ea3c48f9af2d50d37": {
          "model_module": "@jupyter-widgets/base",
          "model_name": "LayoutModel",
          "state": {
            "_model_module": "@jupyter-widgets/base",
            "_model_module_version": "1.2.0",
            "_model_name": "LayoutModel",
            "_view_count": null,
            "_view_module": "@jupyter-widgets/base",
            "_view_module_version": "1.2.0",
            "_view_name": "LayoutView",
            "align_content": null,
            "align_items": null,
            "align_self": null,
            "border": null,
            "bottom": null,
            "display": null,
            "flex": null,
            "flex_flow": null,
            "grid_area": null,
            "grid_auto_columns": null,
            "grid_auto_flow": null,
            "grid_auto_rows": null,
            "grid_column": null,
            "grid_gap": null,
            "grid_row": null,
            "grid_template_areas": null,
            "grid_template_columns": null,
            "grid_template_rows": null,
            "height": null,
            "justify_content": null,
            "justify_items": null,
            "left": null,
            "margin": null,
            "max_height": null,
            "max_width": null,
            "min_height": null,
            "min_width": null,
            "object_fit": null,
            "object_position": null,
            "order": null,
            "overflow": null,
            "overflow_x": null,
            "overflow_y": null,
            "padding": null,
            "right": null,
            "top": null,
            "visibility": null,
            "width": null
          }
        },
        "9ddc127f08b34f32a8e2bb912c0b211e": {
          "model_module": "@jupyter-widgets/controls",
          "model_name": "DescriptionStyleModel",
          "state": {
            "_model_module": "@jupyter-widgets/controls",
            "_model_module_version": "1.5.0",
            "_model_name": "DescriptionStyleModel",
            "_view_count": null,
            "_view_module": "@jupyter-widgets/base",
            "_view_module_version": "1.2.0",
            "_view_name": "StyleView",
            "description_width": ""
          }
        },
        "72517acc059b4cfe898b8b2ee440ad56": {
          "model_module": "@jupyter-widgets/controls",
          "model_name": "HBoxModel",
          "state": {
            "_dom_classes": [],
            "_model_module": "@jupyter-widgets/controls",
            "_model_module_version": "1.5.0",
            "_model_name": "HBoxModel",
            "_view_count": null,
            "_view_module": "@jupyter-widgets/controls",
            "_view_module_version": "1.5.0",
            "_view_name": "HBoxView",
            "box_style": "",
            "children": [
              "IPY_MODEL_70a1eb4cad494b64a5f6d6e1af7deed0",
              "IPY_MODEL_0beee9676b9640d3af48a2ca1daa51cd"
            ],
            "layout": "IPY_MODEL_cab696463ef146b2aa0e91e192945e8a"
          }
        },
        "70a1eb4cad494b64a5f6d6e1af7deed0": {
          "model_module": "@jupyter-widgets/controls",
          "model_name": "FloatProgressModel",
          "state": {
            "_dom_classes": [],
            "_model_module": "@jupyter-widgets/controls",
            "_model_module_version": "1.5.0",
            "_model_name": "FloatProgressModel",
            "_view_count": null,
            "_view_module": "@jupyter-widgets/controls",
            "_view_module_version": "1.5.0",
            "_view_name": "ProgressView",
            "bar_style": "success",
            "description": "100%",
            "description_tooltip": null,
            "layout": "IPY_MODEL_ed530aa387134369b735e9c458b38c12",
            "max": 250,
            "min": 0,
            "orientation": "horizontal",
            "style": "IPY_MODEL_cae0951081e246679243c7054ea1756e",
            "value": 250
          }
        },
        "0beee9676b9640d3af48a2ca1daa51cd": {
          "model_module": "@jupyter-widgets/controls",
          "model_name": "HTMLModel",
          "state": {
            "_dom_classes": [],
            "_model_module": "@jupyter-widgets/controls",
            "_model_module_version": "1.5.0",
            "_model_name": "HTMLModel",
            "_view_count": null,
            "_view_module": "@jupyter-widgets/controls",
            "_view_module_version": "1.5.0",
            "_view_name": "HTMLView",
            "description": "",
            "description_tooltip": null,
            "layout": "IPY_MODEL_4311087adbe1441687ad3bcec25b7208",
            "placeholder": "​",
            "style": "IPY_MODEL_9bf1e916d9e343a791f50ae56d49929b",
            "value": " 250/250 [00:23&lt;00:00, 10.76it/s]"
          }
        },
        "cab696463ef146b2aa0e91e192945e8a": {
          "model_module": "@jupyter-widgets/base",
          "model_name": "LayoutModel",
          "state": {
            "_model_module": "@jupyter-widgets/base",
            "_model_module_version": "1.2.0",
            "_model_name": "LayoutModel",
            "_view_count": null,
            "_view_module": "@jupyter-widgets/base",
            "_view_module_version": "1.2.0",
            "_view_name": "LayoutView",
            "align_content": null,
            "align_items": null,
            "align_self": null,
            "border": null,
            "bottom": null,
            "display": null,
            "flex": null,
            "flex_flow": null,
            "grid_area": null,
            "grid_auto_columns": null,
            "grid_auto_flow": null,
            "grid_auto_rows": null,
            "grid_column": null,
            "grid_gap": null,
            "grid_row": null,
            "grid_template_areas": null,
            "grid_template_columns": null,
            "grid_template_rows": null,
            "height": null,
            "justify_content": null,
            "justify_items": null,
            "left": null,
            "margin": null,
            "max_height": null,
            "max_width": null,
            "min_height": null,
            "min_width": null,
            "object_fit": null,
            "object_position": null,
            "order": null,
            "overflow": null,
            "overflow_x": null,
            "overflow_y": null,
            "padding": null,
            "right": null,
            "top": null,
            "visibility": null,
            "width": null
          }
        },
        "ed530aa387134369b735e9c458b38c12": {
          "model_module": "@jupyter-widgets/base",
          "model_name": "LayoutModel",
          "state": {
            "_model_module": "@jupyter-widgets/base",
            "_model_module_version": "1.2.0",
            "_model_name": "LayoutModel",
            "_view_count": null,
            "_view_module": "@jupyter-widgets/base",
            "_view_module_version": "1.2.0",
            "_view_name": "LayoutView",
            "align_content": null,
            "align_items": null,
            "align_self": null,
            "border": null,
            "bottom": null,
            "display": null,
            "flex": null,
            "flex_flow": null,
            "grid_area": null,
            "grid_auto_columns": null,
            "grid_auto_flow": null,
            "grid_auto_rows": null,
            "grid_column": null,
            "grid_gap": null,
            "grid_row": null,
            "grid_template_areas": null,
            "grid_template_columns": null,
            "grid_template_rows": null,
            "height": null,
            "justify_content": null,
            "justify_items": null,
            "left": null,
            "margin": null,
            "max_height": null,
            "max_width": null,
            "min_height": null,
            "min_width": null,
            "object_fit": null,
            "object_position": null,
            "order": null,
            "overflow": null,
            "overflow_x": null,
            "overflow_y": null,
            "padding": null,
            "right": null,
            "top": null,
            "visibility": null,
            "width": null
          }
        },
        "cae0951081e246679243c7054ea1756e": {
          "model_module": "@jupyter-widgets/controls",
          "model_name": "ProgressStyleModel",
          "state": {
            "_model_module": "@jupyter-widgets/controls",
            "_model_module_version": "1.5.0",
            "_model_name": "ProgressStyleModel",
            "_view_count": null,
            "_view_module": "@jupyter-widgets/base",
            "_view_module_version": "1.2.0",
            "_view_name": "StyleView",
            "bar_color": null,
            "description_width": "initial"
          }
        },
        "4311087adbe1441687ad3bcec25b7208": {
          "model_module": "@jupyter-widgets/base",
          "model_name": "LayoutModel",
          "state": {
            "_model_module": "@jupyter-widgets/base",
            "_model_module_version": "1.2.0",
            "_model_name": "LayoutModel",
            "_view_count": null,
            "_view_module": "@jupyter-widgets/base",
            "_view_module_version": "1.2.0",
            "_view_name": "LayoutView",
            "align_content": null,
            "align_items": null,
            "align_self": null,
            "border": null,
            "bottom": null,
            "display": null,
            "flex": null,
            "flex_flow": null,
            "grid_area": null,
            "grid_auto_columns": null,
            "grid_auto_flow": null,
            "grid_auto_rows": null,
            "grid_column": null,
            "grid_gap": null,
            "grid_row": null,
            "grid_template_areas": null,
            "grid_template_columns": null,
            "grid_template_rows": null,
            "height": null,
            "justify_content": null,
            "justify_items": null,
            "left": null,
            "margin": null,
            "max_height": null,
            "max_width": null,
            "min_height": null,
            "min_width": null,
            "object_fit": null,
            "object_position": null,
            "order": null,
            "overflow": null,
            "overflow_x": null,
            "overflow_y": null,
            "padding": null,
            "right": null,
            "top": null,
            "visibility": null,
            "width": null
          }
        },
        "9bf1e916d9e343a791f50ae56d49929b": {
          "model_module": "@jupyter-widgets/controls",
          "model_name": "DescriptionStyleModel",
          "state": {
            "_model_module": "@jupyter-widgets/controls",
            "_model_module_version": "1.5.0",
            "_model_name": "DescriptionStyleModel",
            "_view_count": null,
            "_view_module": "@jupyter-widgets/base",
            "_view_module_version": "1.2.0",
            "_view_name": "StyleView",
            "description_width": ""
          }
        },
        "4e302948be9d4f19ab2df9d4fbc0760f": {
          "model_module": "@jupyter-widgets/controls",
          "model_name": "HBoxModel",
          "state": {
            "_dom_classes": [],
            "_model_module": "@jupyter-widgets/controls",
            "_model_module_version": "1.5.0",
            "_model_name": "HBoxModel",
            "_view_count": null,
            "_view_module": "@jupyter-widgets/controls",
            "_view_module_version": "1.5.0",
            "_view_name": "HBoxView",
            "box_style": "",
            "children": [
              "IPY_MODEL_ad18240bb3f14b0187b7291aeb672ded",
              "IPY_MODEL_93e3ced928724fb2b81889e4ef9761b8"
            ],
            "layout": "IPY_MODEL_e2092da80f71428081e6f81d518f7382"
          }
        },
        "ad18240bb3f14b0187b7291aeb672ded": {
          "model_module": "@jupyter-widgets/controls",
          "model_name": "FloatProgressModel",
          "state": {
            "_dom_classes": [],
            "_model_module": "@jupyter-widgets/controls",
            "_model_module_version": "1.5.0",
            "_model_name": "FloatProgressModel",
            "_view_count": null,
            "_view_module": "@jupyter-widgets/controls",
            "_view_module_version": "1.5.0",
            "_view_name": "ProgressView",
            "bar_style": "success",
            "description": "100%",
            "description_tooltip": null,
            "layout": "IPY_MODEL_b5cc293e14f34befb761028c6e25bab7",
            "max": 250,
            "min": 0,
            "orientation": "horizontal",
            "style": "IPY_MODEL_417ba3bbc9794596b998efd0ee3f0099",
            "value": 250
          }
        },
        "93e3ced928724fb2b81889e4ef9761b8": {
          "model_module": "@jupyter-widgets/controls",
          "model_name": "HTMLModel",
          "state": {
            "_dom_classes": [],
            "_model_module": "@jupyter-widgets/controls",
            "_model_module_version": "1.5.0",
            "_model_name": "HTMLModel",
            "_view_count": null,
            "_view_module": "@jupyter-widgets/controls",
            "_view_module_version": "1.5.0",
            "_view_name": "HTMLView",
            "description": "",
            "description_tooltip": null,
            "layout": "IPY_MODEL_1af4cf0831e9498194e96c472e601f57",
            "placeholder": "​",
            "style": "IPY_MODEL_e6b9620d56bf44ccbbd78df265cc2158",
            "value": " 250/250 [00:13&lt;00:00, 18.82it/s]"
          }
        },
        "e2092da80f71428081e6f81d518f7382": {
          "model_module": "@jupyter-widgets/base",
          "model_name": "LayoutModel",
          "state": {
            "_model_module": "@jupyter-widgets/base",
            "_model_module_version": "1.2.0",
            "_model_name": "LayoutModel",
            "_view_count": null,
            "_view_module": "@jupyter-widgets/base",
            "_view_module_version": "1.2.0",
            "_view_name": "LayoutView",
            "align_content": null,
            "align_items": null,
            "align_self": null,
            "border": null,
            "bottom": null,
            "display": null,
            "flex": null,
            "flex_flow": null,
            "grid_area": null,
            "grid_auto_columns": null,
            "grid_auto_flow": null,
            "grid_auto_rows": null,
            "grid_column": null,
            "grid_gap": null,
            "grid_row": null,
            "grid_template_areas": null,
            "grid_template_columns": null,
            "grid_template_rows": null,
            "height": null,
            "justify_content": null,
            "justify_items": null,
            "left": null,
            "margin": null,
            "max_height": null,
            "max_width": null,
            "min_height": null,
            "min_width": null,
            "object_fit": null,
            "object_position": null,
            "order": null,
            "overflow": null,
            "overflow_x": null,
            "overflow_y": null,
            "padding": null,
            "right": null,
            "top": null,
            "visibility": null,
            "width": null
          }
        },
        "b5cc293e14f34befb761028c6e25bab7": {
          "model_module": "@jupyter-widgets/base",
          "model_name": "LayoutModel",
          "state": {
            "_model_module": "@jupyter-widgets/base",
            "_model_module_version": "1.2.0",
            "_model_name": "LayoutModel",
            "_view_count": null,
            "_view_module": "@jupyter-widgets/base",
            "_view_module_version": "1.2.0",
            "_view_name": "LayoutView",
            "align_content": null,
            "align_items": null,
            "align_self": null,
            "border": null,
            "bottom": null,
            "display": null,
            "flex": null,
            "flex_flow": null,
            "grid_area": null,
            "grid_auto_columns": null,
            "grid_auto_flow": null,
            "grid_auto_rows": null,
            "grid_column": null,
            "grid_gap": null,
            "grid_row": null,
            "grid_template_areas": null,
            "grid_template_columns": null,
            "grid_template_rows": null,
            "height": null,
            "justify_content": null,
            "justify_items": null,
            "left": null,
            "margin": null,
            "max_height": null,
            "max_width": null,
            "min_height": null,
            "min_width": null,
            "object_fit": null,
            "object_position": null,
            "order": null,
            "overflow": null,
            "overflow_x": null,
            "overflow_y": null,
            "padding": null,
            "right": null,
            "top": null,
            "visibility": null,
            "width": null
          }
        },
        "417ba3bbc9794596b998efd0ee3f0099": {
          "model_module": "@jupyter-widgets/controls",
          "model_name": "ProgressStyleModel",
          "state": {
            "_model_module": "@jupyter-widgets/controls",
            "_model_module_version": "1.5.0",
            "_model_name": "ProgressStyleModel",
            "_view_count": null,
            "_view_module": "@jupyter-widgets/base",
            "_view_module_version": "1.2.0",
            "_view_name": "StyleView",
            "bar_color": null,
            "description_width": "initial"
          }
        },
        "1af4cf0831e9498194e96c472e601f57": {
          "model_module": "@jupyter-widgets/base",
          "model_name": "LayoutModel",
          "state": {
            "_model_module": "@jupyter-widgets/base",
            "_model_module_version": "1.2.0",
            "_model_name": "LayoutModel",
            "_view_count": null,
            "_view_module": "@jupyter-widgets/base",
            "_view_module_version": "1.2.0",
            "_view_name": "LayoutView",
            "align_content": null,
            "align_items": null,
            "align_self": null,
            "border": null,
            "bottom": null,
            "display": null,
            "flex": null,
            "flex_flow": null,
            "grid_area": null,
            "grid_auto_columns": null,
            "grid_auto_flow": null,
            "grid_auto_rows": null,
            "grid_column": null,
            "grid_gap": null,
            "grid_row": null,
            "grid_template_areas": null,
            "grid_template_columns": null,
            "grid_template_rows": null,
            "height": null,
            "justify_content": null,
            "justify_items": null,
            "left": null,
            "margin": null,
            "max_height": null,
            "max_width": null,
            "min_height": null,
            "min_width": null,
            "object_fit": null,
            "object_position": null,
            "order": null,
            "overflow": null,
            "overflow_x": null,
            "overflow_y": null,
            "padding": null,
            "right": null,
            "top": null,
            "visibility": null,
            "width": null
          }
        },
        "e6b9620d56bf44ccbbd78df265cc2158": {
          "model_module": "@jupyter-widgets/controls",
          "model_name": "DescriptionStyleModel",
          "state": {
            "_model_module": "@jupyter-widgets/controls",
            "_model_module_version": "1.5.0",
            "_model_name": "DescriptionStyleModel",
            "_view_count": null,
            "_view_module": "@jupyter-widgets/base",
            "_view_module_version": "1.2.0",
            "_view_name": "StyleView",
            "description_width": ""
          }
        },
        "073a7c1e291b4ab1ab90976ba6a06e55": {
          "model_module": "@jupyter-widgets/controls",
          "model_name": "HBoxModel",
          "state": {
            "_dom_classes": [],
            "_model_module": "@jupyter-widgets/controls",
            "_model_module_version": "1.5.0",
            "_model_name": "HBoxModel",
            "_view_count": null,
            "_view_module": "@jupyter-widgets/controls",
            "_view_module_version": "1.5.0",
            "_view_name": "HBoxView",
            "box_style": "",
            "children": [
              "IPY_MODEL_9f5c8ceb585b4d6f8b4f75b9345939b9",
              "IPY_MODEL_7cd95404ff8c4d2fb94858c00596db75"
            ],
            "layout": "IPY_MODEL_6aa502997964426d96d2dc7058e4008a"
          }
        },
        "9f5c8ceb585b4d6f8b4f75b9345939b9": {
          "model_module": "@jupyter-widgets/controls",
          "model_name": "FloatProgressModel",
          "state": {
            "_dom_classes": [],
            "_model_module": "@jupyter-widgets/controls",
            "_model_module_version": "1.5.0",
            "_model_name": "FloatProgressModel",
            "_view_count": null,
            "_view_module": "@jupyter-widgets/controls",
            "_view_module_version": "1.5.0",
            "_view_name": "ProgressView",
            "bar_style": "success",
            "description": "100%",
            "description_tooltip": null,
            "layout": "IPY_MODEL_68dcd3f5b00f44879828c5349beae5ec",
            "max": 250,
            "min": 0,
            "orientation": "horizontal",
            "style": "IPY_MODEL_3276e302c4c047e3b83bd30cca1fd2cd",
            "value": 250
          }
        },
        "7cd95404ff8c4d2fb94858c00596db75": {
          "model_module": "@jupyter-widgets/controls",
          "model_name": "HTMLModel",
          "state": {
            "_dom_classes": [],
            "_model_module": "@jupyter-widgets/controls",
            "_model_module_version": "1.5.0",
            "_model_name": "HTMLModel",
            "_view_count": null,
            "_view_module": "@jupyter-widgets/controls",
            "_view_module_version": "1.5.0",
            "_view_name": "HTMLView",
            "description": "",
            "description_tooltip": null,
            "layout": "IPY_MODEL_f38c63b67b6e478a8b1807f09ebef845",
            "placeholder": "​",
            "style": "IPY_MODEL_39d24e55c0244c88832b63b3b573b9d7",
            "value": " 250/250 [06:10&lt;00:00,  1.48s/it]"
          }
        },
        "6aa502997964426d96d2dc7058e4008a": {
          "model_module": "@jupyter-widgets/base",
          "model_name": "LayoutModel",
          "state": {
            "_model_module": "@jupyter-widgets/base",
            "_model_module_version": "1.2.0",
            "_model_name": "LayoutModel",
            "_view_count": null,
            "_view_module": "@jupyter-widgets/base",
            "_view_module_version": "1.2.0",
            "_view_name": "LayoutView",
            "align_content": null,
            "align_items": null,
            "align_self": null,
            "border": null,
            "bottom": null,
            "display": null,
            "flex": null,
            "flex_flow": null,
            "grid_area": null,
            "grid_auto_columns": null,
            "grid_auto_flow": null,
            "grid_auto_rows": null,
            "grid_column": null,
            "grid_gap": null,
            "grid_row": null,
            "grid_template_areas": null,
            "grid_template_columns": null,
            "grid_template_rows": null,
            "height": null,
            "justify_content": null,
            "justify_items": null,
            "left": null,
            "margin": null,
            "max_height": null,
            "max_width": null,
            "min_height": null,
            "min_width": null,
            "object_fit": null,
            "object_position": null,
            "order": null,
            "overflow": null,
            "overflow_x": null,
            "overflow_y": null,
            "padding": null,
            "right": null,
            "top": null,
            "visibility": null,
            "width": null
          }
        },
        "68dcd3f5b00f44879828c5349beae5ec": {
          "model_module": "@jupyter-widgets/base",
          "model_name": "LayoutModel",
          "state": {
            "_model_module": "@jupyter-widgets/base",
            "_model_module_version": "1.2.0",
            "_model_name": "LayoutModel",
            "_view_count": null,
            "_view_module": "@jupyter-widgets/base",
            "_view_module_version": "1.2.0",
            "_view_name": "LayoutView",
            "align_content": null,
            "align_items": null,
            "align_self": null,
            "border": null,
            "bottom": null,
            "display": null,
            "flex": null,
            "flex_flow": null,
            "grid_area": null,
            "grid_auto_columns": null,
            "grid_auto_flow": null,
            "grid_auto_rows": null,
            "grid_column": null,
            "grid_gap": null,
            "grid_row": null,
            "grid_template_areas": null,
            "grid_template_columns": null,
            "grid_template_rows": null,
            "height": null,
            "justify_content": null,
            "justify_items": null,
            "left": null,
            "margin": null,
            "max_height": null,
            "max_width": null,
            "min_height": null,
            "min_width": null,
            "object_fit": null,
            "object_position": null,
            "order": null,
            "overflow": null,
            "overflow_x": null,
            "overflow_y": null,
            "padding": null,
            "right": null,
            "top": null,
            "visibility": null,
            "width": null
          }
        },
        "3276e302c4c047e3b83bd30cca1fd2cd": {
          "model_module": "@jupyter-widgets/controls",
          "model_name": "ProgressStyleModel",
          "state": {
            "_model_module": "@jupyter-widgets/controls",
            "_model_module_version": "1.5.0",
            "_model_name": "ProgressStyleModel",
            "_view_count": null,
            "_view_module": "@jupyter-widgets/base",
            "_view_module_version": "1.2.0",
            "_view_name": "StyleView",
            "bar_color": null,
            "description_width": "initial"
          }
        },
        "f38c63b67b6e478a8b1807f09ebef845": {
          "model_module": "@jupyter-widgets/base",
          "model_name": "LayoutModel",
          "state": {
            "_model_module": "@jupyter-widgets/base",
            "_model_module_version": "1.2.0",
            "_model_name": "LayoutModel",
            "_view_count": null,
            "_view_module": "@jupyter-widgets/base",
            "_view_module_version": "1.2.0",
            "_view_name": "LayoutView",
            "align_content": null,
            "align_items": null,
            "align_self": null,
            "border": null,
            "bottom": null,
            "display": null,
            "flex": null,
            "flex_flow": null,
            "grid_area": null,
            "grid_auto_columns": null,
            "grid_auto_flow": null,
            "grid_auto_rows": null,
            "grid_column": null,
            "grid_gap": null,
            "grid_row": null,
            "grid_template_areas": null,
            "grid_template_columns": null,
            "grid_template_rows": null,
            "height": null,
            "justify_content": null,
            "justify_items": null,
            "left": null,
            "margin": null,
            "max_height": null,
            "max_width": null,
            "min_height": null,
            "min_width": null,
            "object_fit": null,
            "object_position": null,
            "order": null,
            "overflow": null,
            "overflow_x": null,
            "overflow_y": null,
            "padding": null,
            "right": null,
            "top": null,
            "visibility": null,
            "width": null
          }
        },
        "39d24e55c0244c88832b63b3b573b9d7": {
          "model_module": "@jupyter-widgets/controls",
          "model_name": "DescriptionStyleModel",
          "state": {
            "_model_module": "@jupyter-widgets/controls",
            "_model_module_version": "1.5.0",
            "_model_name": "DescriptionStyleModel",
            "_view_count": null,
            "_view_module": "@jupyter-widgets/base",
            "_view_module_version": "1.2.0",
            "_view_name": "StyleView",
            "description_width": ""
          }
        },
        "b9a3f6b050734d189521e720a67827dd": {
          "model_module": "@jupyter-widgets/controls",
          "model_name": "HBoxModel",
          "state": {
            "_dom_classes": [],
            "_model_module": "@jupyter-widgets/controls",
            "_model_module_version": "1.5.0",
            "_model_name": "HBoxModel",
            "_view_count": null,
            "_view_module": "@jupyter-widgets/controls",
            "_view_module_version": "1.5.0",
            "_view_name": "HBoxView",
            "box_style": "",
            "children": [
              "IPY_MODEL_a3fdf18f4c2647428be62a6cc9a7f52b",
              "IPY_MODEL_6af76293e88a4c6eb5d763e28fb87172"
            ],
            "layout": "IPY_MODEL_23162482efb944738bb4a538af693060"
          }
        },
        "a3fdf18f4c2647428be62a6cc9a7f52b": {
          "model_module": "@jupyter-widgets/controls",
          "model_name": "FloatProgressModel",
          "state": {
            "_dom_classes": [],
            "_model_module": "@jupyter-widgets/controls",
            "_model_module_version": "1.5.0",
            "_model_name": "FloatProgressModel",
            "_view_count": null,
            "_view_module": "@jupyter-widgets/controls",
            "_view_module_version": "1.5.0",
            "_view_name": "ProgressView",
            "bar_style": "success",
            "description": "100%",
            "description_tooltip": null,
            "layout": "IPY_MODEL_7b216b6c2cb34fcf8910d2354cf291cb",
            "max": 250,
            "min": 0,
            "orientation": "horizontal",
            "style": "IPY_MODEL_64c448ac08c44f15bc846a0800d0d842",
            "value": 250
          }
        },
        "6af76293e88a4c6eb5d763e28fb87172": {
          "model_module": "@jupyter-widgets/controls",
          "model_name": "HTMLModel",
          "state": {
            "_dom_classes": [],
            "_model_module": "@jupyter-widgets/controls",
            "_model_module_version": "1.5.0",
            "_model_name": "HTMLModel",
            "_view_count": null,
            "_view_module": "@jupyter-widgets/controls",
            "_view_module_version": "1.5.0",
            "_view_name": "HTMLView",
            "description": "",
            "description_tooltip": null,
            "layout": "IPY_MODEL_3e80fd2fb5d946d3939944416d1c7cdc",
            "placeholder": "​",
            "style": "IPY_MODEL_d335b548f9604ceeac5dd8ca1d2dd740",
            "value": " 250/250 [00:29&lt;00:00,  8.35it/s]"
          }
        },
        "23162482efb944738bb4a538af693060": {
          "model_module": "@jupyter-widgets/base",
          "model_name": "LayoutModel",
          "state": {
            "_model_module": "@jupyter-widgets/base",
            "_model_module_version": "1.2.0",
            "_model_name": "LayoutModel",
            "_view_count": null,
            "_view_module": "@jupyter-widgets/base",
            "_view_module_version": "1.2.0",
            "_view_name": "LayoutView",
            "align_content": null,
            "align_items": null,
            "align_self": null,
            "border": null,
            "bottom": null,
            "display": null,
            "flex": null,
            "flex_flow": null,
            "grid_area": null,
            "grid_auto_columns": null,
            "grid_auto_flow": null,
            "grid_auto_rows": null,
            "grid_column": null,
            "grid_gap": null,
            "grid_row": null,
            "grid_template_areas": null,
            "grid_template_columns": null,
            "grid_template_rows": null,
            "height": null,
            "justify_content": null,
            "justify_items": null,
            "left": null,
            "margin": null,
            "max_height": null,
            "max_width": null,
            "min_height": null,
            "min_width": null,
            "object_fit": null,
            "object_position": null,
            "order": null,
            "overflow": null,
            "overflow_x": null,
            "overflow_y": null,
            "padding": null,
            "right": null,
            "top": null,
            "visibility": null,
            "width": null
          }
        },
        "7b216b6c2cb34fcf8910d2354cf291cb": {
          "model_module": "@jupyter-widgets/base",
          "model_name": "LayoutModel",
          "state": {
            "_model_module": "@jupyter-widgets/base",
            "_model_module_version": "1.2.0",
            "_model_name": "LayoutModel",
            "_view_count": null,
            "_view_module": "@jupyter-widgets/base",
            "_view_module_version": "1.2.0",
            "_view_name": "LayoutView",
            "align_content": null,
            "align_items": null,
            "align_self": null,
            "border": null,
            "bottom": null,
            "display": null,
            "flex": null,
            "flex_flow": null,
            "grid_area": null,
            "grid_auto_columns": null,
            "grid_auto_flow": null,
            "grid_auto_rows": null,
            "grid_column": null,
            "grid_gap": null,
            "grid_row": null,
            "grid_template_areas": null,
            "grid_template_columns": null,
            "grid_template_rows": null,
            "height": null,
            "justify_content": null,
            "justify_items": null,
            "left": null,
            "margin": null,
            "max_height": null,
            "max_width": null,
            "min_height": null,
            "min_width": null,
            "object_fit": null,
            "object_position": null,
            "order": null,
            "overflow": null,
            "overflow_x": null,
            "overflow_y": null,
            "padding": null,
            "right": null,
            "top": null,
            "visibility": null,
            "width": null
          }
        },
        "64c448ac08c44f15bc846a0800d0d842": {
          "model_module": "@jupyter-widgets/controls",
          "model_name": "ProgressStyleModel",
          "state": {
            "_model_module": "@jupyter-widgets/controls",
            "_model_module_version": "1.5.0",
            "_model_name": "ProgressStyleModel",
            "_view_count": null,
            "_view_module": "@jupyter-widgets/base",
            "_view_module_version": "1.2.0",
            "_view_name": "StyleView",
            "bar_color": null,
            "description_width": "initial"
          }
        },
        "3e80fd2fb5d946d3939944416d1c7cdc": {
          "model_module": "@jupyter-widgets/base",
          "model_name": "LayoutModel",
          "state": {
            "_model_module": "@jupyter-widgets/base",
            "_model_module_version": "1.2.0",
            "_model_name": "LayoutModel",
            "_view_count": null,
            "_view_module": "@jupyter-widgets/base",
            "_view_module_version": "1.2.0",
            "_view_name": "LayoutView",
            "align_content": null,
            "align_items": null,
            "align_self": null,
            "border": null,
            "bottom": null,
            "display": null,
            "flex": null,
            "flex_flow": null,
            "grid_area": null,
            "grid_auto_columns": null,
            "grid_auto_flow": null,
            "grid_auto_rows": null,
            "grid_column": null,
            "grid_gap": null,
            "grid_row": null,
            "grid_template_areas": null,
            "grid_template_columns": null,
            "grid_template_rows": null,
            "height": null,
            "justify_content": null,
            "justify_items": null,
            "left": null,
            "margin": null,
            "max_height": null,
            "max_width": null,
            "min_height": null,
            "min_width": null,
            "object_fit": null,
            "object_position": null,
            "order": null,
            "overflow": null,
            "overflow_x": null,
            "overflow_y": null,
            "padding": null,
            "right": null,
            "top": null,
            "visibility": null,
            "width": null
          }
        },
        "d335b548f9604ceeac5dd8ca1d2dd740": {
          "model_module": "@jupyter-widgets/controls",
          "model_name": "DescriptionStyleModel",
          "state": {
            "_model_module": "@jupyter-widgets/controls",
            "_model_module_version": "1.5.0",
            "_model_name": "DescriptionStyleModel",
            "_view_count": null,
            "_view_module": "@jupyter-widgets/base",
            "_view_module_version": "1.2.0",
            "_view_name": "StyleView",
            "description_width": ""
          }
        },
        "57c35411d15447f6893a3ebfa7f4a234": {
          "model_module": "@jupyter-widgets/controls",
          "model_name": "HBoxModel",
          "state": {
            "_dom_classes": [],
            "_model_module": "@jupyter-widgets/controls",
            "_model_module_version": "1.5.0",
            "_model_name": "HBoxModel",
            "_view_count": null,
            "_view_module": "@jupyter-widgets/controls",
            "_view_module_version": "1.5.0",
            "_view_name": "HBoxView",
            "box_style": "",
            "children": [
              "IPY_MODEL_c67d73c262d841efa35f8f60f5607331",
              "IPY_MODEL_cb23ab635e4d4f7193e89c64474b21e8"
            ],
            "layout": "IPY_MODEL_d7ea02ff88974420bca1e194636c159b"
          }
        },
        "c67d73c262d841efa35f8f60f5607331": {
          "model_module": "@jupyter-widgets/controls",
          "model_name": "FloatProgressModel",
          "state": {
            "_dom_classes": [],
            "_model_module": "@jupyter-widgets/controls",
            "_model_module_version": "1.5.0",
            "_model_name": "FloatProgressModel",
            "_view_count": null,
            "_view_module": "@jupyter-widgets/controls",
            "_view_module_version": "1.5.0",
            "_view_name": "ProgressView",
            "bar_style": "success",
            "description": "100%",
            "description_tooltip": null,
            "layout": "IPY_MODEL_366ecdd9d5b349e09e025893e996f157",
            "max": 250,
            "min": 0,
            "orientation": "horizontal",
            "style": "IPY_MODEL_26b06a0e942547ff822219d92afe38d2",
            "value": 250
          }
        },
        "cb23ab635e4d4f7193e89c64474b21e8": {
          "model_module": "@jupyter-widgets/controls",
          "model_name": "HTMLModel",
          "state": {
            "_dom_classes": [],
            "_model_module": "@jupyter-widgets/controls",
            "_model_module_version": "1.5.0",
            "_model_name": "HTMLModel",
            "_view_count": null,
            "_view_module": "@jupyter-widgets/controls",
            "_view_module_version": "1.5.0",
            "_view_name": "HTMLView",
            "description": "",
            "description_tooltip": null,
            "layout": "IPY_MODEL_9abbd663d4ba49a581d6a014be921db5",
            "placeholder": "​",
            "style": "IPY_MODEL_36af03a2f7ef4566a81834427711bdbf",
            "value": " 250/250 [00:19&lt;00:00, 12.53it/s]"
          }
        },
        "d7ea02ff88974420bca1e194636c159b": {
          "model_module": "@jupyter-widgets/base",
          "model_name": "LayoutModel",
          "state": {
            "_model_module": "@jupyter-widgets/base",
            "_model_module_version": "1.2.0",
            "_model_name": "LayoutModel",
            "_view_count": null,
            "_view_module": "@jupyter-widgets/base",
            "_view_module_version": "1.2.0",
            "_view_name": "LayoutView",
            "align_content": null,
            "align_items": null,
            "align_self": null,
            "border": null,
            "bottom": null,
            "display": null,
            "flex": null,
            "flex_flow": null,
            "grid_area": null,
            "grid_auto_columns": null,
            "grid_auto_flow": null,
            "grid_auto_rows": null,
            "grid_column": null,
            "grid_gap": null,
            "grid_row": null,
            "grid_template_areas": null,
            "grid_template_columns": null,
            "grid_template_rows": null,
            "height": null,
            "justify_content": null,
            "justify_items": null,
            "left": null,
            "margin": null,
            "max_height": null,
            "max_width": null,
            "min_height": null,
            "min_width": null,
            "object_fit": null,
            "object_position": null,
            "order": null,
            "overflow": null,
            "overflow_x": null,
            "overflow_y": null,
            "padding": null,
            "right": null,
            "top": null,
            "visibility": null,
            "width": null
          }
        },
        "366ecdd9d5b349e09e025893e996f157": {
          "model_module": "@jupyter-widgets/base",
          "model_name": "LayoutModel",
          "state": {
            "_model_module": "@jupyter-widgets/base",
            "_model_module_version": "1.2.0",
            "_model_name": "LayoutModel",
            "_view_count": null,
            "_view_module": "@jupyter-widgets/base",
            "_view_module_version": "1.2.0",
            "_view_name": "LayoutView",
            "align_content": null,
            "align_items": null,
            "align_self": null,
            "border": null,
            "bottom": null,
            "display": null,
            "flex": null,
            "flex_flow": null,
            "grid_area": null,
            "grid_auto_columns": null,
            "grid_auto_flow": null,
            "grid_auto_rows": null,
            "grid_column": null,
            "grid_gap": null,
            "grid_row": null,
            "grid_template_areas": null,
            "grid_template_columns": null,
            "grid_template_rows": null,
            "height": null,
            "justify_content": null,
            "justify_items": null,
            "left": null,
            "margin": null,
            "max_height": null,
            "max_width": null,
            "min_height": null,
            "min_width": null,
            "object_fit": null,
            "object_position": null,
            "order": null,
            "overflow": null,
            "overflow_x": null,
            "overflow_y": null,
            "padding": null,
            "right": null,
            "top": null,
            "visibility": null,
            "width": null
          }
        },
        "26b06a0e942547ff822219d92afe38d2": {
          "model_module": "@jupyter-widgets/controls",
          "model_name": "ProgressStyleModel",
          "state": {
            "_model_module": "@jupyter-widgets/controls",
            "_model_module_version": "1.5.0",
            "_model_name": "ProgressStyleModel",
            "_view_count": null,
            "_view_module": "@jupyter-widgets/base",
            "_view_module_version": "1.2.0",
            "_view_name": "StyleView",
            "bar_color": null,
            "description_width": "initial"
          }
        },
        "9abbd663d4ba49a581d6a014be921db5": {
          "model_module": "@jupyter-widgets/base",
          "model_name": "LayoutModel",
          "state": {
            "_model_module": "@jupyter-widgets/base",
            "_model_module_version": "1.2.0",
            "_model_name": "LayoutModel",
            "_view_count": null,
            "_view_module": "@jupyter-widgets/base",
            "_view_module_version": "1.2.0",
            "_view_name": "LayoutView",
            "align_content": null,
            "align_items": null,
            "align_self": null,
            "border": null,
            "bottom": null,
            "display": null,
            "flex": null,
            "flex_flow": null,
            "grid_area": null,
            "grid_auto_columns": null,
            "grid_auto_flow": null,
            "grid_auto_rows": null,
            "grid_column": null,
            "grid_gap": null,
            "grid_row": null,
            "grid_template_areas": null,
            "grid_template_columns": null,
            "grid_template_rows": null,
            "height": null,
            "justify_content": null,
            "justify_items": null,
            "left": null,
            "margin": null,
            "max_height": null,
            "max_width": null,
            "min_height": null,
            "min_width": null,
            "object_fit": null,
            "object_position": null,
            "order": null,
            "overflow": null,
            "overflow_x": null,
            "overflow_y": null,
            "padding": null,
            "right": null,
            "top": null,
            "visibility": null,
            "width": null
          }
        },
        "36af03a2f7ef4566a81834427711bdbf": {
          "model_module": "@jupyter-widgets/controls",
          "model_name": "DescriptionStyleModel",
          "state": {
            "_model_module": "@jupyter-widgets/controls",
            "_model_module_version": "1.5.0",
            "_model_name": "DescriptionStyleModel",
            "_view_count": null,
            "_view_module": "@jupyter-widgets/base",
            "_view_module_version": "1.2.0",
            "_view_name": "StyleView",
            "description_width": ""
          }
        },
        "fe509def9ca945bcbcacb86034ee5b4c": {
          "model_module": "@jupyter-widgets/controls",
          "model_name": "HBoxModel",
          "state": {
            "_dom_classes": [],
            "_model_module": "@jupyter-widgets/controls",
            "_model_module_version": "1.5.0",
            "_model_name": "HBoxModel",
            "_view_count": null,
            "_view_module": "@jupyter-widgets/controls",
            "_view_module_version": "1.5.0",
            "_view_name": "HBoxView",
            "box_style": "",
            "children": [
              "IPY_MODEL_2afaf0b30c6a497eb951cb4107f6e024",
              "IPY_MODEL_5bc44290e9254fc98c6a9a02f1202d4c"
            ],
            "layout": "IPY_MODEL_24d62a645b50423986938a0ce51c8258"
          }
        },
        "2afaf0b30c6a497eb951cb4107f6e024": {
          "model_module": "@jupyter-widgets/controls",
          "model_name": "FloatProgressModel",
          "state": {
            "_dom_classes": [],
            "_model_module": "@jupyter-widgets/controls",
            "_model_module_version": "1.5.0",
            "_model_name": "FloatProgressModel",
            "_view_count": null,
            "_view_module": "@jupyter-widgets/controls",
            "_view_module_version": "1.5.0",
            "_view_name": "ProgressView",
            "bar_style": "success",
            "description": "100%",
            "description_tooltip": null,
            "layout": "IPY_MODEL_da1b365414374cb8b73b80ef3c1b4f95",
            "max": 250,
            "min": 0,
            "orientation": "horizontal",
            "style": "IPY_MODEL_3daf94a5c8e5450ba9b11ba1ff286ed1",
            "value": 250
          }
        },
        "5bc44290e9254fc98c6a9a02f1202d4c": {
          "model_module": "@jupyter-widgets/controls",
          "model_name": "HTMLModel",
          "state": {
            "_dom_classes": [],
            "_model_module": "@jupyter-widgets/controls",
            "_model_module_version": "1.5.0",
            "_model_name": "HTMLModel",
            "_view_count": null,
            "_view_module": "@jupyter-widgets/controls",
            "_view_module_version": "1.5.0",
            "_view_name": "HTMLView",
            "description": "",
            "description_tooltip": null,
            "layout": "IPY_MODEL_00b9ccfa16764cd2a4b48c378b81ce2a",
            "placeholder": "​",
            "style": "IPY_MODEL_78f8f85b590f49cd9dd1f785fcea345f",
            "value": " 250/250 [00:10&lt;00:00, 24.93it/s]"
          }
        },
        "24d62a645b50423986938a0ce51c8258": {
          "model_module": "@jupyter-widgets/base",
          "model_name": "LayoutModel",
          "state": {
            "_model_module": "@jupyter-widgets/base",
            "_model_module_version": "1.2.0",
            "_model_name": "LayoutModel",
            "_view_count": null,
            "_view_module": "@jupyter-widgets/base",
            "_view_module_version": "1.2.0",
            "_view_name": "LayoutView",
            "align_content": null,
            "align_items": null,
            "align_self": null,
            "border": null,
            "bottom": null,
            "display": null,
            "flex": null,
            "flex_flow": null,
            "grid_area": null,
            "grid_auto_columns": null,
            "grid_auto_flow": null,
            "grid_auto_rows": null,
            "grid_column": null,
            "grid_gap": null,
            "grid_row": null,
            "grid_template_areas": null,
            "grid_template_columns": null,
            "grid_template_rows": null,
            "height": null,
            "justify_content": null,
            "justify_items": null,
            "left": null,
            "margin": null,
            "max_height": null,
            "max_width": null,
            "min_height": null,
            "min_width": null,
            "object_fit": null,
            "object_position": null,
            "order": null,
            "overflow": null,
            "overflow_x": null,
            "overflow_y": null,
            "padding": null,
            "right": null,
            "top": null,
            "visibility": null,
            "width": null
          }
        },
        "da1b365414374cb8b73b80ef3c1b4f95": {
          "model_module": "@jupyter-widgets/base",
          "model_name": "LayoutModel",
          "state": {
            "_model_module": "@jupyter-widgets/base",
            "_model_module_version": "1.2.0",
            "_model_name": "LayoutModel",
            "_view_count": null,
            "_view_module": "@jupyter-widgets/base",
            "_view_module_version": "1.2.0",
            "_view_name": "LayoutView",
            "align_content": null,
            "align_items": null,
            "align_self": null,
            "border": null,
            "bottom": null,
            "display": null,
            "flex": null,
            "flex_flow": null,
            "grid_area": null,
            "grid_auto_columns": null,
            "grid_auto_flow": null,
            "grid_auto_rows": null,
            "grid_column": null,
            "grid_gap": null,
            "grid_row": null,
            "grid_template_areas": null,
            "grid_template_columns": null,
            "grid_template_rows": null,
            "height": null,
            "justify_content": null,
            "justify_items": null,
            "left": null,
            "margin": null,
            "max_height": null,
            "max_width": null,
            "min_height": null,
            "min_width": null,
            "object_fit": null,
            "object_position": null,
            "order": null,
            "overflow": null,
            "overflow_x": null,
            "overflow_y": null,
            "padding": null,
            "right": null,
            "top": null,
            "visibility": null,
            "width": null
          }
        },
        "3daf94a5c8e5450ba9b11ba1ff286ed1": {
          "model_module": "@jupyter-widgets/controls",
          "model_name": "ProgressStyleModel",
          "state": {
            "_model_module": "@jupyter-widgets/controls",
            "_model_module_version": "1.5.0",
            "_model_name": "ProgressStyleModel",
            "_view_count": null,
            "_view_module": "@jupyter-widgets/base",
            "_view_module_version": "1.2.0",
            "_view_name": "StyleView",
            "bar_color": null,
            "description_width": "initial"
          }
        },
        "00b9ccfa16764cd2a4b48c378b81ce2a": {
          "model_module": "@jupyter-widgets/base",
          "model_name": "LayoutModel",
          "state": {
            "_model_module": "@jupyter-widgets/base",
            "_model_module_version": "1.2.0",
            "_model_name": "LayoutModel",
            "_view_count": null,
            "_view_module": "@jupyter-widgets/base",
            "_view_module_version": "1.2.0",
            "_view_name": "LayoutView",
            "align_content": null,
            "align_items": null,
            "align_self": null,
            "border": null,
            "bottom": null,
            "display": null,
            "flex": null,
            "flex_flow": null,
            "grid_area": null,
            "grid_auto_columns": null,
            "grid_auto_flow": null,
            "grid_auto_rows": null,
            "grid_column": null,
            "grid_gap": null,
            "grid_row": null,
            "grid_template_areas": null,
            "grid_template_columns": null,
            "grid_template_rows": null,
            "height": null,
            "justify_content": null,
            "justify_items": null,
            "left": null,
            "margin": null,
            "max_height": null,
            "max_width": null,
            "min_height": null,
            "min_width": null,
            "object_fit": null,
            "object_position": null,
            "order": null,
            "overflow": null,
            "overflow_x": null,
            "overflow_y": null,
            "padding": null,
            "right": null,
            "top": null,
            "visibility": null,
            "width": null
          }
        },
        "78f8f85b590f49cd9dd1f785fcea345f": {
          "model_module": "@jupyter-widgets/controls",
          "model_name": "DescriptionStyleModel",
          "state": {
            "_model_module": "@jupyter-widgets/controls",
            "_model_module_version": "1.5.0",
            "_model_name": "DescriptionStyleModel",
            "_view_count": null,
            "_view_module": "@jupyter-widgets/base",
            "_view_module_version": "1.2.0",
            "_view_name": "StyleView",
            "description_width": ""
          }
        },
        "d3af0fb0842144bdac952c04da3e64dc": {
          "model_module": "@jupyter-widgets/controls",
          "model_name": "HBoxModel",
          "state": {
            "_dom_classes": [],
            "_model_module": "@jupyter-widgets/controls",
            "_model_module_version": "1.5.0",
            "_model_name": "HBoxModel",
            "_view_count": null,
            "_view_module": "@jupyter-widgets/controls",
            "_view_module_version": "1.5.0",
            "_view_name": "HBoxView",
            "box_style": "",
            "children": [
              "IPY_MODEL_e5a11d1a9ae84157bfa45d42e8ea2c25",
              "IPY_MODEL_9593d695c07e434288a1f76dfb808aca"
            ],
            "layout": "IPY_MODEL_b5cc14e578e743489475ff4b99d87672"
          }
        },
        "e5a11d1a9ae84157bfa45d42e8ea2c25": {
          "model_module": "@jupyter-widgets/controls",
          "model_name": "FloatProgressModel",
          "state": {
            "_dom_classes": [],
            "_model_module": "@jupyter-widgets/controls",
            "_model_module_version": "1.5.0",
            "_model_name": "FloatProgressModel",
            "_view_count": null,
            "_view_module": "@jupyter-widgets/controls",
            "_view_module_version": "1.5.0",
            "_view_name": "ProgressView",
            "bar_style": "success",
            "description": "100%",
            "description_tooltip": null,
            "layout": "IPY_MODEL_cf520c99302e401f88f7ecb79d2db6a9",
            "max": 250,
            "min": 0,
            "orientation": "horizontal",
            "style": "IPY_MODEL_2cdf7a11211444259c5a6377dab56cc2",
            "value": 250
          }
        },
        "9593d695c07e434288a1f76dfb808aca": {
          "model_module": "@jupyter-widgets/controls",
          "model_name": "HTMLModel",
          "state": {
            "_dom_classes": [],
            "_model_module": "@jupyter-widgets/controls",
            "_model_module_version": "1.5.0",
            "_model_name": "HTMLModel",
            "_view_count": null,
            "_view_module": "@jupyter-widgets/controls",
            "_view_module_version": "1.5.0",
            "_view_name": "HTMLView",
            "description": "",
            "description_tooltip": null,
            "layout": "IPY_MODEL_fc8e6247011b4262a7af5475dadb0bee",
            "placeholder": "​",
            "style": "IPY_MODEL_406408fa947147e3a2c9db352383b579",
            "value": " 250/250 [05:30&lt;00:00,  1.32s/it]"
          }
        },
        "b5cc14e578e743489475ff4b99d87672": {
          "model_module": "@jupyter-widgets/base",
          "model_name": "LayoutModel",
          "state": {
            "_model_module": "@jupyter-widgets/base",
            "_model_module_version": "1.2.0",
            "_model_name": "LayoutModel",
            "_view_count": null,
            "_view_module": "@jupyter-widgets/base",
            "_view_module_version": "1.2.0",
            "_view_name": "LayoutView",
            "align_content": null,
            "align_items": null,
            "align_self": null,
            "border": null,
            "bottom": null,
            "display": null,
            "flex": null,
            "flex_flow": null,
            "grid_area": null,
            "grid_auto_columns": null,
            "grid_auto_flow": null,
            "grid_auto_rows": null,
            "grid_column": null,
            "grid_gap": null,
            "grid_row": null,
            "grid_template_areas": null,
            "grid_template_columns": null,
            "grid_template_rows": null,
            "height": null,
            "justify_content": null,
            "justify_items": null,
            "left": null,
            "margin": null,
            "max_height": null,
            "max_width": null,
            "min_height": null,
            "min_width": null,
            "object_fit": null,
            "object_position": null,
            "order": null,
            "overflow": null,
            "overflow_x": null,
            "overflow_y": null,
            "padding": null,
            "right": null,
            "top": null,
            "visibility": null,
            "width": null
          }
        },
        "cf520c99302e401f88f7ecb79d2db6a9": {
          "model_module": "@jupyter-widgets/base",
          "model_name": "LayoutModel",
          "state": {
            "_model_module": "@jupyter-widgets/base",
            "_model_module_version": "1.2.0",
            "_model_name": "LayoutModel",
            "_view_count": null,
            "_view_module": "@jupyter-widgets/base",
            "_view_module_version": "1.2.0",
            "_view_name": "LayoutView",
            "align_content": null,
            "align_items": null,
            "align_self": null,
            "border": null,
            "bottom": null,
            "display": null,
            "flex": null,
            "flex_flow": null,
            "grid_area": null,
            "grid_auto_columns": null,
            "grid_auto_flow": null,
            "grid_auto_rows": null,
            "grid_column": null,
            "grid_gap": null,
            "grid_row": null,
            "grid_template_areas": null,
            "grid_template_columns": null,
            "grid_template_rows": null,
            "height": null,
            "justify_content": null,
            "justify_items": null,
            "left": null,
            "margin": null,
            "max_height": null,
            "max_width": null,
            "min_height": null,
            "min_width": null,
            "object_fit": null,
            "object_position": null,
            "order": null,
            "overflow": null,
            "overflow_x": null,
            "overflow_y": null,
            "padding": null,
            "right": null,
            "top": null,
            "visibility": null,
            "width": null
          }
        },
        "2cdf7a11211444259c5a6377dab56cc2": {
          "model_module": "@jupyter-widgets/controls",
          "model_name": "ProgressStyleModel",
          "state": {
            "_model_module": "@jupyter-widgets/controls",
            "_model_module_version": "1.5.0",
            "_model_name": "ProgressStyleModel",
            "_view_count": null,
            "_view_module": "@jupyter-widgets/base",
            "_view_module_version": "1.2.0",
            "_view_name": "StyleView",
            "bar_color": null,
            "description_width": "initial"
          }
        },
        "fc8e6247011b4262a7af5475dadb0bee": {
          "model_module": "@jupyter-widgets/base",
          "model_name": "LayoutModel",
          "state": {
            "_model_module": "@jupyter-widgets/base",
            "_model_module_version": "1.2.0",
            "_model_name": "LayoutModel",
            "_view_count": null,
            "_view_module": "@jupyter-widgets/base",
            "_view_module_version": "1.2.0",
            "_view_name": "LayoutView",
            "align_content": null,
            "align_items": null,
            "align_self": null,
            "border": null,
            "bottom": null,
            "display": null,
            "flex": null,
            "flex_flow": null,
            "grid_area": null,
            "grid_auto_columns": null,
            "grid_auto_flow": null,
            "grid_auto_rows": null,
            "grid_column": null,
            "grid_gap": null,
            "grid_row": null,
            "grid_template_areas": null,
            "grid_template_columns": null,
            "grid_template_rows": null,
            "height": null,
            "justify_content": null,
            "justify_items": null,
            "left": null,
            "margin": null,
            "max_height": null,
            "max_width": null,
            "min_height": null,
            "min_width": null,
            "object_fit": null,
            "object_position": null,
            "order": null,
            "overflow": null,
            "overflow_x": null,
            "overflow_y": null,
            "padding": null,
            "right": null,
            "top": null,
            "visibility": null,
            "width": null
          }
        },
        "406408fa947147e3a2c9db352383b579": {
          "model_module": "@jupyter-widgets/controls",
          "model_name": "DescriptionStyleModel",
          "state": {
            "_model_module": "@jupyter-widgets/controls",
            "_model_module_version": "1.5.0",
            "_model_name": "DescriptionStyleModel",
            "_view_count": null,
            "_view_module": "@jupyter-widgets/base",
            "_view_module_version": "1.2.0",
            "_view_name": "StyleView",
            "description_width": ""
          }
        },
        "ffdbaf60db30406c9bb2696529ae1548": {
          "model_module": "@jupyter-widgets/controls",
          "model_name": "HBoxModel",
          "state": {
            "_dom_classes": [],
            "_model_module": "@jupyter-widgets/controls",
            "_model_module_version": "1.5.0",
            "_model_name": "HBoxModel",
            "_view_count": null,
            "_view_module": "@jupyter-widgets/controls",
            "_view_module_version": "1.5.0",
            "_view_name": "HBoxView",
            "box_style": "",
            "children": [
              "IPY_MODEL_6a954f774fd74d3c828250f513b3198c",
              "IPY_MODEL_044821f2de4a4aab90a4b98f985d7bed"
            ],
            "layout": "IPY_MODEL_fb1639d2329b41e9b075404a9cd8c6d9"
          }
        },
        "6a954f774fd74d3c828250f513b3198c": {
          "model_module": "@jupyter-widgets/controls",
          "model_name": "FloatProgressModel",
          "state": {
            "_dom_classes": [],
            "_model_module": "@jupyter-widgets/controls",
            "_model_module_version": "1.5.0",
            "_model_name": "FloatProgressModel",
            "_view_count": null,
            "_view_module": "@jupyter-widgets/controls",
            "_view_module_version": "1.5.0",
            "_view_name": "ProgressView",
            "bar_style": "success",
            "description": "100%",
            "description_tooltip": null,
            "layout": "IPY_MODEL_73859ec06c7b400b825fcf0bbfb242dc",
            "max": 250,
            "min": 0,
            "orientation": "horizontal",
            "style": "IPY_MODEL_eb021cc4c9724ce69f1a1cb9e4b2a9ec",
            "value": 250
          }
        },
        "044821f2de4a4aab90a4b98f985d7bed": {
          "model_module": "@jupyter-widgets/controls",
          "model_name": "HTMLModel",
          "state": {
            "_dom_classes": [],
            "_model_module": "@jupyter-widgets/controls",
            "_model_module_version": "1.5.0",
            "_model_name": "HTMLModel",
            "_view_count": null,
            "_view_module": "@jupyter-widgets/controls",
            "_view_module_version": "1.5.0",
            "_view_name": "HTMLView",
            "description": "",
            "description_tooltip": null,
            "layout": "IPY_MODEL_7928e5e10847401892bccce367531e8b",
            "placeholder": "​",
            "style": "IPY_MODEL_73ca06249d1a4013babbd05589109a67",
            "value": " 250/250 [00:20&lt;00:00, 12.33it/s]"
          }
        },
        "fb1639d2329b41e9b075404a9cd8c6d9": {
          "model_module": "@jupyter-widgets/base",
          "model_name": "LayoutModel",
          "state": {
            "_model_module": "@jupyter-widgets/base",
            "_model_module_version": "1.2.0",
            "_model_name": "LayoutModel",
            "_view_count": null,
            "_view_module": "@jupyter-widgets/base",
            "_view_module_version": "1.2.0",
            "_view_name": "LayoutView",
            "align_content": null,
            "align_items": null,
            "align_self": null,
            "border": null,
            "bottom": null,
            "display": null,
            "flex": null,
            "flex_flow": null,
            "grid_area": null,
            "grid_auto_columns": null,
            "grid_auto_flow": null,
            "grid_auto_rows": null,
            "grid_column": null,
            "grid_gap": null,
            "grid_row": null,
            "grid_template_areas": null,
            "grid_template_columns": null,
            "grid_template_rows": null,
            "height": null,
            "justify_content": null,
            "justify_items": null,
            "left": null,
            "margin": null,
            "max_height": null,
            "max_width": null,
            "min_height": null,
            "min_width": null,
            "object_fit": null,
            "object_position": null,
            "order": null,
            "overflow": null,
            "overflow_x": null,
            "overflow_y": null,
            "padding": null,
            "right": null,
            "top": null,
            "visibility": null,
            "width": null
          }
        },
        "73859ec06c7b400b825fcf0bbfb242dc": {
          "model_module": "@jupyter-widgets/base",
          "model_name": "LayoutModel",
          "state": {
            "_model_module": "@jupyter-widgets/base",
            "_model_module_version": "1.2.0",
            "_model_name": "LayoutModel",
            "_view_count": null,
            "_view_module": "@jupyter-widgets/base",
            "_view_module_version": "1.2.0",
            "_view_name": "LayoutView",
            "align_content": null,
            "align_items": null,
            "align_self": null,
            "border": null,
            "bottom": null,
            "display": null,
            "flex": null,
            "flex_flow": null,
            "grid_area": null,
            "grid_auto_columns": null,
            "grid_auto_flow": null,
            "grid_auto_rows": null,
            "grid_column": null,
            "grid_gap": null,
            "grid_row": null,
            "grid_template_areas": null,
            "grid_template_columns": null,
            "grid_template_rows": null,
            "height": null,
            "justify_content": null,
            "justify_items": null,
            "left": null,
            "margin": null,
            "max_height": null,
            "max_width": null,
            "min_height": null,
            "min_width": null,
            "object_fit": null,
            "object_position": null,
            "order": null,
            "overflow": null,
            "overflow_x": null,
            "overflow_y": null,
            "padding": null,
            "right": null,
            "top": null,
            "visibility": null,
            "width": null
          }
        },
        "eb021cc4c9724ce69f1a1cb9e4b2a9ec": {
          "model_module": "@jupyter-widgets/controls",
          "model_name": "ProgressStyleModel",
          "state": {
            "_model_module": "@jupyter-widgets/controls",
            "_model_module_version": "1.5.0",
            "_model_name": "ProgressStyleModel",
            "_view_count": null,
            "_view_module": "@jupyter-widgets/base",
            "_view_module_version": "1.2.0",
            "_view_name": "StyleView",
            "bar_color": null,
            "description_width": "initial"
          }
        },
        "7928e5e10847401892bccce367531e8b": {
          "model_module": "@jupyter-widgets/base",
          "model_name": "LayoutModel",
          "state": {
            "_model_module": "@jupyter-widgets/base",
            "_model_module_version": "1.2.0",
            "_model_name": "LayoutModel",
            "_view_count": null,
            "_view_module": "@jupyter-widgets/base",
            "_view_module_version": "1.2.0",
            "_view_name": "LayoutView",
            "align_content": null,
            "align_items": null,
            "align_self": null,
            "border": null,
            "bottom": null,
            "display": null,
            "flex": null,
            "flex_flow": null,
            "grid_area": null,
            "grid_auto_columns": null,
            "grid_auto_flow": null,
            "grid_auto_rows": null,
            "grid_column": null,
            "grid_gap": null,
            "grid_row": null,
            "grid_template_areas": null,
            "grid_template_columns": null,
            "grid_template_rows": null,
            "height": null,
            "justify_content": null,
            "justify_items": null,
            "left": null,
            "margin": null,
            "max_height": null,
            "max_width": null,
            "min_height": null,
            "min_width": null,
            "object_fit": null,
            "object_position": null,
            "order": null,
            "overflow": null,
            "overflow_x": null,
            "overflow_y": null,
            "padding": null,
            "right": null,
            "top": null,
            "visibility": null,
            "width": null
          }
        },
        "73ca06249d1a4013babbd05589109a67": {
          "model_module": "@jupyter-widgets/controls",
          "model_name": "DescriptionStyleModel",
          "state": {
            "_model_module": "@jupyter-widgets/controls",
            "_model_module_version": "1.5.0",
            "_model_name": "DescriptionStyleModel",
            "_view_count": null,
            "_view_module": "@jupyter-widgets/base",
            "_view_module_version": "1.2.0",
            "_view_name": "StyleView",
            "description_width": ""
          }
        },
        "7c3178ab44404394a9e97c8ca5924261": {
          "model_module": "@jupyter-widgets/controls",
          "model_name": "HBoxModel",
          "state": {
            "_dom_classes": [],
            "_model_module": "@jupyter-widgets/controls",
            "_model_module_version": "1.5.0",
            "_model_name": "HBoxModel",
            "_view_count": null,
            "_view_module": "@jupyter-widgets/controls",
            "_view_module_version": "1.5.0",
            "_view_name": "HBoxView",
            "box_style": "",
            "children": [
              "IPY_MODEL_125dfdef7d9a47bcb4f1a71d048cdfe1",
              "IPY_MODEL_6ada026c00e64922b62c10598b7544e2"
            ],
            "layout": "IPY_MODEL_f9d65e006bf14edc9e66f59004d616c6"
          }
        },
        "125dfdef7d9a47bcb4f1a71d048cdfe1": {
          "model_module": "@jupyter-widgets/controls",
          "model_name": "FloatProgressModel",
          "state": {
            "_dom_classes": [],
            "_model_module": "@jupyter-widgets/controls",
            "_model_module_version": "1.5.0",
            "_model_name": "FloatProgressModel",
            "_view_count": null,
            "_view_module": "@jupyter-widgets/controls",
            "_view_module_version": "1.5.0",
            "_view_name": "ProgressView",
            "bar_style": "success",
            "description": "100%",
            "description_tooltip": null,
            "layout": "IPY_MODEL_07d9f31172104b12a4a75ab89ee9e4b7",
            "max": 250,
            "min": 0,
            "orientation": "horizontal",
            "style": "IPY_MODEL_21026d3a02384762a2d040cf699d9a3d",
            "value": 250
          }
        },
        "6ada026c00e64922b62c10598b7544e2": {
          "model_module": "@jupyter-widgets/controls",
          "model_name": "HTMLModel",
          "state": {
            "_dom_classes": [],
            "_model_module": "@jupyter-widgets/controls",
            "_model_module_version": "1.5.0",
            "_model_name": "HTMLModel",
            "_view_count": null,
            "_view_module": "@jupyter-widgets/controls",
            "_view_module_version": "1.5.0",
            "_view_name": "HTMLView",
            "description": "",
            "description_tooltip": null,
            "layout": "IPY_MODEL_4900af3ea83f4c25a4ebdc69469596b6",
            "placeholder": "​",
            "style": "IPY_MODEL_4355fd0b6bda40798cfe7363e09217d4",
            "value": " 250/250 [00:10&lt;00:00, 24.34it/s]"
          }
        },
        "f9d65e006bf14edc9e66f59004d616c6": {
          "model_module": "@jupyter-widgets/base",
          "model_name": "LayoutModel",
          "state": {
            "_model_module": "@jupyter-widgets/base",
            "_model_module_version": "1.2.0",
            "_model_name": "LayoutModel",
            "_view_count": null,
            "_view_module": "@jupyter-widgets/base",
            "_view_module_version": "1.2.0",
            "_view_name": "LayoutView",
            "align_content": null,
            "align_items": null,
            "align_self": null,
            "border": null,
            "bottom": null,
            "display": null,
            "flex": null,
            "flex_flow": null,
            "grid_area": null,
            "grid_auto_columns": null,
            "grid_auto_flow": null,
            "grid_auto_rows": null,
            "grid_column": null,
            "grid_gap": null,
            "grid_row": null,
            "grid_template_areas": null,
            "grid_template_columns": null,
            "grid_template_rows": null,
            "height": null,
            "justify_content": null,
            "justify_items": null,
            "left": null,
            "margin": null,
            "max_height": null,
            "max_width": null,
            "min_height": null,
            "min_width": null,
            "object_fit": null,
            "object_position": null,
            "order": null,
            "overflow": null,
            "overflow_x": null,
            "overflow_y": null,
            "padding": null,
            "right": null,
            "top": null,
            "visibility": null,
            "width": null
          }
        },
        "07d9f31172104b12a4a75ab89ee9e4b7": {
          "model_module": "@jupyter-widgets/base",
          "model_name": "LayoutModel",
          "state": {
            "_model_module": "@jupyter-widgets/base",
            "_model_module_version": "1.2.0",
            "_model_name": "LayoutModel",
            "_view_count": null,
            "_view_module": "@jupyter-widgets/base",
            "_view_module_version": "1.2.0",
            "_view_name": "LayoutView",
            "align_content": null,
            "align_items": null,
            "align_self": null,
            "border": null,
            "bottom": null,
            "display": null,
            "flex": null,
            "flex_flow": null,
            "grid_area": null,
            "grid_auto_columns": null,
            "grid_auto_flow": null,
            "grid_auto_rows": null,
            "grid_column": null,
            "grid_gap": null,
            "grid_row": null,
            "grid_template_areas": null,
            "grid_template_columns": null,
            "grid_template_rows": null,
            "height": null,
            "justify_content": null,
            "justify_items": null,
            "left": null,
            "margin": null,
            "max_height": null,
            "max_width": null,
            "min_height": null,
            "min_width": null,
            "object_fit": null,
            "object_position": null,
            "order": null,
            "overflow": null,
            "overflow_x": null,
            "overflow_y": null,
            "padding": null,
            "right": null,
            "top": null,
            "visibility": null,
            "width": null
          }
        },
        "21026d3a02384762a2d040cf699d9a3d": {
          "model_module": "@jupyter-widgets/controls",
          "model_name": "ProgressStyleModel",
          "state": {
            "_model_module": "@jupyter-widgets/controls",
            "_model_module_version": "1.5.0",
            "_model_name": "ProgressStyleModel",
            "_view_count": null,
            "_view_module": "@jupyter-widgets/base",
            "_view_module_version": "1.2.0",
            "_view_name": "StyleView",
            "bar_color": null,
            "description_width": "initial"
          }
        },
        "4900af3ea83f4c25a4ebdc69469596b6": {
          "model_module": "@jupyter-widgets/base",
          "model_name": "LayoutModel",
          "state": {
            "_model_module": "@jupyter-widgets/base",
            "_model_module_version": "1.2.0",
            "_model_name": "LayoutModel",
            "_view_count": null,
            "_view_module": "@jupyter-widgets/base",
            "_view_module_version": "1.2.0",
            "_view_name": "LayoutView",
            "align_content": null,
            "align_items": null,
            "align_self": null,
            "border": null,
            "bottom": null,
            "display": null,
            "flex": null,
            "flex_flow": null,
            "grid_area": null,
            "grid_auto_columns": null,
            "grid_auto_flow": null,
            "grid_auto_rows": null,
            "grid_column": null,
            "grid_gap": null,
            "grid_row": null,
            "grid_template_areas": null,
            "grid_template_columns": null,
            "grid_template_rows": null,
            "height": null,
            "justify_content": null,
            "justify_items": null,
            "left": null,
            "margin": null,
            "max_height": null,
            "max_width": null,
            "min_height": null,
            "min_width": null,
            "object_fit": null,
            "object_position": null,
            "order": null,
            "overflow": null,
            "overflow_x": null,
            "overflow_y": null,
            "padding": null,
            "right": null,
            "top": null,
            "visibility": null,
            "width": null
          }
        },
        "4355fd0b6bda40798cfe7363e09217d4": {
          "model_module": "@jupyter-widgets/controls",
          "model_name": "DescriptionStyleModel",
          "state": {
            "_model_module": "@jupyter-widgets/controls",
            "_model_module_version": "1.5.0",
            "_model_name": "DescriptionStyleModel",
            "_view_count": null,
            "_view_module": "@jupyter-widgets/base",
            "_view_module_version": "1.2.0",
            "_view_name": "StyleView",
            "description_width": ""
          }
        },
        "b05a6f1a0cea48d3898bd18f20fe9080": {
          "model_module": "@jupyter-widgets/controls",
          "model_name": "HBoxModel",
          "state": {
            "_dom_classes": [],
            "_model_module": "@jupyter-widgets/controls",
            "_model_module_version": "1.5.0",
            "_model_name": "HBoxModel",
            "_view_count": null,
            "_view_module": "@jupyter-widgets/controls",
            "_view_module_version": "1.5.0",
            "_view_name": "HBoxView",
            "box_style": "",
            "children": [
              "IPY_MODEL_8419a0ae90cd4667aee5fa28abc251bf",
              "IPY_MODEL_1d3b0bbc656c4b9ea4cddb09d2b339cb"
            ],
            "layout": "IPY_MODEL_09b750b297ee42abb0749240ceb7267b"
          }
        },
        "8419a0ae90cd4667aee5fa28abc251bf": {
          "model_module": "@jupyter-widgets/controls",
          "model_name": "FloatProgressModel",
          "state": {
            "_dom_classes": [],
            "_model_module": "@jupyter-widgets/controls",
            "_model_module_version": "1.5.0",
            "_model_name": "FloatProgressModel",
            "_view_count": null,
            "_view_module": "@jupyter-widgets/controls",
            "_view_module_version": "1.5.0",
            "_view_name": "ProgressView",
            "bar_style": "success",
            "description": "100%",
            "description_tooltip": null,
            "layout": "IPY_MODEL_95438bf61d0f4ee2bd703a90063d0b6b",
            "max": 250,
            "min": 0,
            "orientation": "horizontal",
            "style": "IPY_MODEL_8553442c58c0446b90a022b642cbb43b",
            "value": 250
          }
        },
        "1d3b0bbc656c4b9ea4cddb09d2b339cb": {
          "model_module": "@jupyter-widgets/controls",
          "model_name": "HTMLModel",
          "state": {
            "_dom_classes": [],
            "_model_module": "@jupyter-widgets/controls",
            "_model_module_version": "1.5.0",
            "_model_name": "HTMLModel",
            "_view_count": null,
            "_view_module": "@jupyter-widgets/controls",
            "_view_module_version": "1.5.0",
            "_view_name": "HTMLView",
            "description": "",
            "description_tooltip": null,
            "layout": "IPY_MODEL_c627d4817d004bb78f8540a260ee4eaf",
            "placeholder": "​",
            "style": "IPY_MODEL_731dbee56c944d22ad828f313a6f1d6f",
            "value": " 250/250 [05:00&lt;00:00,  1.20s/it]"
          }
        },
        "09b750b297ee42abb0749240ceb7267b": {
          "model_module": "@jupyter-widgets/base",
          "model_name": "LayoutModel",
          "state": {
            "_model_module": "@jupyter-widgets/base",
            "_model_module_version": "1.2.0",
            "_model_name": "LayoutModel",
            "_view_count": null,
            "_view_module": "@jupyter-widgets/base",
            "_view_module_version": "1.2.0",
            "_view_name": "LayoutView",
            "align_content": null,
            "align_items": null,
            "align_self": null,
            "border": null,
            "bottom": null,
            "display": null,
            "flex": null,
            "flex_flow": null,
            "grid_area": null,
            "grid_auto_columns": null,
            "grid_auto_flow": null,
            "grid_auto_rows": null,
            "grid_column": null,
            "grid_gap": null,
            "grid_row": null,
            "grid_template_areas": null,
            "grid_template_columns": null,
            "grid_template_rows": null,
            "height": null,
            "justify_content": null,
            "justify_items": null,
            "left": null,
            "margin": null,
            "max_height": null,
            "max_width": null,
            "min_height": null,
            "min_width": null,
            "object_fit": null,
            "object_position": null,
            "order": null,
            "overflow": null,
            "overflow_x": null,
            "overflow_y": null,
            "padding": null,
            "right": null,
            "top": null,
            "visibility": null,
            "width": null
          }
        },
        "95438bf61d0f4ee2bd703a90063d0b6b": {
          "model_module": "@jupyter-widgets/base",
          "model_name": "LayoutModel",
          "state": {
            "_model_module": "@jupyter-widgets/base",
            "_model_module_version": "1.2.0",
            "_model_name": "LayoutModel",
            "_view_count": null,
            "_view_module": "@jupyter-widgets/base",
            "_view_module_version": "1.2.0",
            "_view_name": "LayoutView",
            "align_content": null,
            "align_items": null,
            "align_self": null,
            "border": null,
            "bottom": null,
            "display": null,
            "flex": null,
            "flex_flow": null,
            "grid_area": null,
            "grid_auto_columns": null,
            "grid_auto_flow": null,
            "grid_auto_rows": null,
            "grid_column": null,
            "grid_gap": null,
            "grid_row": null,
            "grid_template_areas": null,
            "grid_template_columns": null,
            "grid_template_rows": null,
            "height": null,
            "justify_content": null,
            "justify_items": null,
            "left": null,
            "margin": null,
            "max_height": null,
            "max_width": null,
            "min_height": null,
            "min_width": null,
            "object_fit": null,
            "object_position": null,
            "order": null,
            "overflow": null,
            "overflow_x": null,
            "overflow_y": null,
            "padding": null,
            "right": null,
            "top": null,
            "visibility": null,
            "width": null
          }
        },
        "8553442c58c0446b90a022b642cbb43b": {
          "model_module": "@jupyter-widgets/controls",
          "model_name": "ProgressStyleModel",
          "state": {
            "_model_module": "@jupyter-widgets/controls",
            "_model_module_version": "1.5.0",
            "_model_name": "ProgressStyleModel",
            "_view_count": null,
            "_view_module": "@jupyter-widgets/base",
            "_view_module_version": "1.2.0",
            "_view_name": "StyleView",
            "bar_color": null,
            "description_width": "initial"
          }
        },
        "c627d4817d004bb78f8540a260ee4eaf": {
          "model_module": "@jupyter-widgets/base",
          "model_name": "LayoutModel",
          "state": {
            "_model_module": "@jupyter-widgets/base",
            "_model_module_version": "1.2.0",
            "_model_name": "LayoutModel",
            "_view_count": null,
            "_view_module": "@jupyter-widgets/base",
            "_view_module_version": "1.2.0",
            "_view_name": "LayoutView",
            "align_content": null,
            "align_items": null,
            "align_self": null,
            "border": null,
            "bottom": null,
            "display": null,
            "flex": null,
            "flex_flow": null,
            "grid_area": null,
            "grid_auto_columns": null,
            "grid_auto_flow": null,
            "grid_auto_rows": null,
            "grid_column": null,
            "grid_gap": null,
            "grid_row": null,
            "grid_template_areas": null,
            "grid_template_columns": null,
            "grid_template_rows": null,
            "height": null,
            "justify_content": null,
            "justify_items": null,
            "left": null,
            "margin": null,
            "max_height": null,
            "max_width": null,
            "min_height": null,
            "min_width": null,
            "object_fit": null,
            "object_position": null,
            "order": null,
            "overflow": null,
            "overflow_x": null,
            "overflow_y": null,
            "padding": null,
            "right": null,
            "top": null,
            "visibility": null,
            "width": null
          }
        },
        "731dbee56c944d22ad828f313a6f1d6f": {
          "model_module": "@jupyter-widgets/controls",
          "model_name": "DescriptionStyleModel",
          "state": {
            "_model_module": "@jupyter-widgets/controls",
            "_model_module_version": "1.5.0",
            "_model_name": "DescriptionStyleModel",
            "_view_count": null,
            "_view_module": "@jupyter-widgets/base",
            "_view_module_version": "1.2.0",
            "_view_name": "StyleView",
            "description_width": ""
          }
        },
        "83f8d27191cf4afb81adce58e8b60283": {
          "model_module": "@jupyter-widgets/controls",
          "model_name": "HBoxModel",
          "state": {
            "_dom_classes": [],
            "_model_module": "@jupyter-widgets/controls",
            "_model_module_version": "1.5.0",
            "_model_name": "HBoxModel",
            "_view_count": null,
            "_view_module": "@jupyter-widgets/controls",
            "_view_module_version": "1.5.0",
            "_view_name": "HBoxView",
            "box_style": "",
            "children": [
              "IPY_MODEL_9bef6d8c95464740ac60c98a7bd7dad3",
              "IPY_MODEL_86ebe8354bb94c1fb9ccde892c0de6c1"
            ],
            "layout": "IPY_MODEL_8ea26f677b7a4899a9b16ac8230126dd"
          }
        },
        "9bef6d8c95464740ac60c98a7bd7dad3": {
          "model_module": "@jupyter-widgets/controls",
          "model_name": "FloatProgressModel",
          "state": {
            "_dom_classes": [],
            "_model_module": "@jupyter-widgets/controls",
            "_model_module_version": "1.5.0",
            "_model_name": "FloatProgressModel",
            "_view_count": null,
            "_view_module": "@jupyter-widgets/controls",
            "_view_module_version": "1.5.0",
            "_view_name": "ProgressView",
            "bar_style": "success",
            "description": "100%",
            "description_tooltip": null,
            "layout": "IPY_MODEL_e922d8559ffc4f8bb774edeef0d5eeac",
            "max": 250,
            "min": 0,
            "orientation": "horizontal",
            "style": "IPY_MODEL_1d9c325324b449c7b45b57d15adac385",
            "value": 250
          }
        },
        "86ebe8354bb94c1fb9ccde892c0de6c1": {
          "model_module": "@jupyter-widgets/controls",
          "model_name": "HTMLModel",
          "state": {
            "_dom_classes": [],
            "_model_module": "@jupyter-widgets/controls",
            "_model_module_version": "1.5.0",
            "_model_name": "HTMLModel",
            "_view_count": null,
            "_view_module": "@jupyter-widgets/controls",
            "_view_module_version": "1.5.0",
            "_view_name": "HTMLView",
            "description": "",
            "description_tooltip": null,
            "layout": "IPY_MODEL_7dcd73d637a5465eb3293a45388a4e01",
            "placeholder": "​",
            "style": "IPY_MODEL_663302d8ea2048a491f60f618da68edd",
            "value": " 250/250 [00:20&lt;00:00, 12.32it/s]"
          }
        },
        "8ea26f677b7a4899a9b16ac8230126dd": {
          "model_module": "@jupyter-widgets/base",
          "model_name": "LayoutModel",
          "state": {
            "_model_module": "@jupyter-widgets/base",
            "_model_module_version": "1.2.0",
            "_model_name": "LayoutModel",
            "_view_count": null,
            "_view_module": "@jupyter-widgets/base",
            "_view_module_version": "1.2.0",
            "_view_name": "LayoutView",
            "align_content": null,
            "align_items": null,
            "align_self": null,
            "border": null,
            "bottom": null,
            "display": null,
            "flex": null,
            "flex_flow": null,
            "grid_area": null,
            "grid_auto_columns": null,
            "grid_auto_flow": null,
            "grid_auto_rows": null,
            "grid_column": null,
            "grid_gap": null,
            "grid_row": null,
            "grid_template_areas": null,
            "grid_template_columns": null,
            "grid_template_rows": null,
            "height": null,
            "justify_content": null,
            "justify_items": null,
            "left": null,
            "margin": null,
            "max_height": null,
            "max_width": null,
            "min_height": null,
            "min_width": null,
            "object_fit": null,
            "object_position": null,
            "order": null,
            "overflow": null,
            "overflow_x": null,
            "overflow_y": null,
            "padding": null,
            "right": null,
            "top": null,
            "visibility": null,
            "width": null
          }
        },
        "e922d8559ffc4f8bb774edeef0d5eeac": {
          "model_module": "@jupyter-widgets/base",
          "model_name": "LayoutModel",
          "state": {
            "_model_module": "@jupyter-widgets/base",
            "_model_module_version": "1.2.0",
            "_model_name": "LayoutModel",
            "_view_count": null,
            "_view_module": "@jupyter-widgets/base",
            "_view_module_version": "1.2.0",
            "_view_name": "LayoutView",
            "align_content": null,
            "align_items": null,
            "align_self": null,
            "border": null,
            "bottom": null,
            "display": null,
            "flex": null,
            "flex_flow": null,
            "grid_area": null,
            "grid_auto_columns": null,
            "grid_auto_flow": null,
            "grid_auto_rows": null,
            "grid_column": null,
            "grid_gap": null,
            "grid_row": null,
            "grid_template_areas": null,
            "grid_template_columns": null,
            "grid_template_rows": null,
            "height": null,
            "justify_content": null,
            "justify_items": null,
            "left": null,
            "margin": null,
            "max_height": null,
            "max_width": null,
            "min_height": null,
            "min_width": null,
            "object_fit": null,
            "object_position": null,
            "order": null,
            "overflow": null,
            "overflow_x": null,
            "overflow_y": null,
            "padding": null,
            "right": null,
            "top": null,
            "visibility": null,
            "width": null
          }
        },
        "1d9c325324b449c7b45b57d15adac385": {
          "model_module": "@jupyter-widgets/controls",
          "model_name": "ProgressStyleModel",
          "state": {
            "_model_module": "@jupyter-widgets/controls",
            "_model_module_version": "1.5.0",
            "_model_name": "ProgressStyleModel",
            "_view_count": null,
            "_view_module": "@jupyter-widgets/base",
            "_view_module_version": "1.2.0",
            "_view_name": "StyleView",
            "bar_color": null,
            "description_width": "initial"
          }
        },
        "7dcd73d637a5465eb3293a45388a4e01": {
          "model_module": "@jupyter-widgets/base",
          "model_name": "LayoutModel",
          "state": {
            "_model_module": "@jupyter-widgets/base",
            "_model_module_version": "1.2.0",
            "_model_name": "LayoutModel",
            "_view_count": null,
            "_view_module": "@jupyter-widgets/base",
            "_view_module_version": "1.2.0",
            "_view_name": "LayoutView",
            "align_content": null,
            "align_items": null,
            "align_self": null,
            "border": null,
            "bottom": null,
            "display": null,
            "flex": null,
            "flex_flow": null,
            "grid_area": null,
            "grid_auto_columns": null,
            "grid_auto_flow": null,
            "grid_auto_rows": null,
            "grid_column": null,
            "grid_gap": null,
            "grid_row": null,
            "grid_template_areas": null,
            "grid_template_columns": null,
            "grid_template_rows": null,
            "height": null,
            "justify_content": null,
            "justify_items": null,
            "left": null,
            "margin": null,
            "max_height": null,
            "max_width": null,
            "min_height": null,
            "min_width": null,
            "object_fit": null,
            "object_position": null,
            "order": null,
            "overflow": null,
            "overflow_x": null,
            "overflow_y": null,
            "padding": null,
            "right": null,
            "top": null,
            "visibility": null,
            "width": null
          }
        },
        "663302d8ea2048a491f60f618da68edd": {
          "model_module": "@jupyter-widgets/controls",
          "model_name": "DescriptionStyleModel",
          "state": {
            "_model_module": "@jupyter-widgets/controls",
            "_model_module_version": "1.5.0",
            "_model_name": "DescriptionStyleModel",
            "_view_count": null,
            "_view_module": "@jupyter-widgets/base",
            "_view_module_version": "1.2.0",
            "_view_name": "StyleView",
            "description_width": ""
          }
        },
        "ec314886c2de4d40aed35407a9796aa9": {
          "model_module": "@jupyter-widgets/controls",
          "model_name": "HBoxModel",
          "state": {
            "_dom_classes": [],
            "_model_module": "@jupyter-widgets/controls",
            "_model_module_version": "1.5.0",
            "_model_name": "HBoxModel",
            "_view_count": null,
            "_view_module": "@jupyter-widgets/controls",
            "_view_module_version": "1.5.0",
            "_view_name": "HBoxView",
            "box_style": "",
            "children": [
              "IPY_MODEL_199b5afae6964ee5975693c34285d045",
              "IPY_MODEL_2261a294cf6645d78f288bcfbcef7198"
            ],
            "layout": "IPY_MODEL_a565c6a7458342d28c49121a5b69e664"
          }
        },
        "199b5afae6964ee5975693c34285d045": {
          "model_module": "@jupyter-widgets/controls",
          "model_name": "FloatProgressModel",
          "state": {
            "_dom_classes": [],
            "_model_module": "@jupyter-widgets/controls",
            "_model_module_version": "1.5.0",
            "_model_name": "FloatProgressModel",
            "_view_count": null,
            "_view_module": "@jupyter-widgets/controls",
            "_view_module_version": "1.5.0",
            "_view_name": "ProgressView",
            "bar_style": "success",
            "description": "100%",
            "description_tooltip": null,
            "layout": "IPY_MODEL_72ac58bbdebb432a908f3a7a954e6230",
            "max": 250,
            "min": 0,
            "orientation": "horizontal",
            "style": "IPY_MODEL_0f7c74ba55b24faeae3ca90a37ecd30a",
            "value": 250
          }
        },
        "2261a294cf6645d78f288bcfbcef7198": {
          "model_module": "@jupyter-widgets/controls",
          "model_name": "HTMLModel",
          "state": {
            "_dom_classes": [],
            "_model_module": "@jupyter-widgets/controls",
            "_model_module_version": "1.5.0",
            "_model_name": "HTMLModel",
            "_view_count": null,
            "_view_module": "@jupyter-widgets/controls",
            "_view_module_version": "1.5.0",
            "_view_name": "HTMLView",
            "description": "",
            "description_tooltip": null,
            "layout": "IPY_MODEL_9099bb36b810408dbff0544e9456e38f",
            "placeholder": "​",
            "style": "IPY_MODEL_cc0b2c916a1b4f4b9ea9a0d8411d78dd",
            "value": " 250/250 [00:10&lt;00:00, 24.38it/s]"
          }
        },
        "a565c6a7458342d28c49121a5b69e664": {
          "model_module": "@jupyter-widgets/base",
          "model_name": "LayoutModel",
          "state": {
            "_model_module": "@jupyter-widgets/base",
            "_model_module_version": "1.2.0",
            "_model_name": "LayoutModel",
            "_view_count": null,
            "_view_module": "@jupyter-widgets/base",
            "_view_module_version": "1.2.0",
            "_view_name": "LayoutView",
            "align_content": null,
            "align_items": null,
            "align_self": null,
            "border": null,
            "bottom": null,
            "display": null,
            "flex": null,
            "flex_flow": null,
            "grid_area": null,
            "grid_auto_columns": null,
            "grid_auto_flow": null,
            "grid_auto_rows": null,
            "grid_column": null,
            "grid_gap": null,
            "grid_row": null,
            "grid_template_areas": null,
            "grid_template_columns": null,
            "grid_template_rows": null,
            "height": null,
            "justify_content": null,
            "justify_items": null,
            "left": null,
            "margin": null,
            "max_height": null,
            "max_width": null,
            "min_height": null,
            "min_width": null,
            "object_fit": null,
            "object_position": null,
            "order": null,
            "overflow": null,
            "overflow_x": null,
            "overflow_y": null,
            "padding": null,
            "right": null,
            "top": null,
            "visibility": null,
            "width": null
          }
        },
        "72ac58bbdebb432a908f3a7a954e6230": {
          "model_module": "@jupyter-widgets/base",
          "model_name": "LayoutModel",
          "state": {
            "_model_module": "@jupyter-widgets/base",
            "_model_module_version": "1.2.0",
            "_model_name": "LayoutModel",
            "_view_count": null,
            "_view_module": "@jupyter-widgets/base",
            "_view_module_version": "1.2.0",
            "_view_name": "LayoutView",
            "align_content": null,
            "align_items": null,
            "align_self": null,
            "border": null,
            "bottom": null,
            "display": null,
            "flex": null,
            "flex_flow": null,
            "grid_area": null,
            "grid_auto_columns": null,
            "grid_auto_flow": null,
            "grid_auto_rows": null,
            "grid_column": null,
            "grid_gap": null,
            "grid_row": null,
            "grid_template_areas": null,
            "grid_template_columns": null,
            "grid_template_rows": null,
            "height": null,
            "justify_content": null,
            "justify_items": null,
            "left": null,
            "margin": null,
            "max_height": null,
            "max_width": null,
            "min_height": null,
            "min_width": null,
            "object_fit": null,
            "object_position": null,
            "order": null,
            "overflow": null,
            "overflow_x": null,
            "overflow_y": null,
            "padding": null,
            "right": null,
            "top": null,
            "visibility": null,
            "width": null
          }
        },
        "0f7c74ba55b24faeae3ca90a37ecd30a": {
          "model_module": "@jupyter-widgets/controls",
          "model_name": "ProgressStyleModel",
          "state": {
            "_model_module": "@jupyter-widgets/controls",
            "_model_module_version": "1.5.0",
            "_model_name": "ProgressStyleModel",
            "_view_count": null,
            "_view_module": "@jupyter-widgets/base",
            "_view_module_version": "1.2.0",
            "_view_name": "StyleView",
            "bar_color": null,
            "description_width": "initial"
          }
        },
        "9099bb36b810408dbff0544e9456e38f": {
          "model_module": "@jupyter-widgets/base",
          "model_name": "LayoutModel",
          "state": {
            "_model_module": "@jupyter-widgets/base",
            "_model_module_version": "1.2.0",
            "_model_name": "LayoutModel",
            "_view_count": null,
            "_view_module": "@jupyter-widgets/base",
            "_view_module_version": "1.2.0",
            "_view_name": "LayoutView",
            "align_content": null,
            "align_items": null,
            "align_self": null,
            "border": null,
            "bottom": null,
            "display": null,
            "flex": null,
            "flex_flow": null,
            "grid_area": null,
            "grid_auto_columns": null,
            "grid_auto_flow": null,
            "grid_auto_rows": null,
            "grid_column": null,
            "grid_gap": null,
            "grid_row": null,
            "grid_template_areas": null,
            "grid_template_columns": null,
            "grid_template_rows": null,
            "height": null,
            "justify_content": null,
            "justify_items": null,
            "left": null,
            "margin": null,
            "max_height": null,
            "max_width": null,
            "min_height": null,
            "min_width": null,
            "object_fit": null,
            "object_position": null,
            "order": null,
            "overflow": null,
            "overflow_x": null,
            "overflow_y": null,
            "padding": null,
            "right": null,
            "top": null,
            "visibility": null,
            "width": null
          }
        },
        "cc0b2c916a1b4f4b9ea9a0d8411d78dd": {
          "model_module": "@jupyter-widgets/controls",
          "model_name": "DescriptionStyleModel",
          "state": {
            "_model_module": "@jupyter-widgets/controls",
            "_model_module_version": "1.5.0",
            "_model_name": "DescriptionStyleModel",
            "_view_count": null,
            "_view_module": "@jupyter-widgets/base",
            "_view_module_version": "1.2.0",
            "_view_name": "StyleView",
            "description_width": ""
          }
        },
        "7bd624adeb9a4c8cb3f65b9f35ae3fb9": {
          "model_module": "@jupyter-widgets/controls",
          "model_name": "HBoxModel",
          "state": {
            "_dom_classes": [],
            "_model_module": "@jupyter-widgets/controls",
            "_model_module_version": "1.5.0",
            "_model_name": "HBoxModel",
            "_view_count": null,
            "_view_module": "@jupyter-widgets/controls",
            "_view_module_version": "1.5.0",
            "_view_name": "HBoxView",
            "box_style": "",
            "children": [
              "IPY_MODEL_c5ffd5c94cc14a5eb84d94a83daa877e",
              "IPY_MODEL_c3001ee7d6944a0d998af3f7b99d20c3"
            ],
            "layout": "IPY_MODEL_59cf51fd4f0446a0aa3713bda979c673"
          }
        },
        "c5ffd5c94cc14a5eb84d94a83daa877e": {
          "model_module": "@jupyter-widgets/controls",
          "model_name": "FloatProgressModel",
          "state": {
            "_dom_classes": [],
            "_model_module": "@jupyter-widgets/controls",
            "_model_module_version": "1.5.0",
            "_model_name": "FloatProgressModel",
            "_view_count": null,
            "_view_module": "@jupyter-widgets/controls",
            "_view_module_version": "1.5.0",
            "_view_name": "ProgressView",
            "bar_style": "success",
            "description": "100%",
            "description_tooltip": null,
            "layout": "IPY_MODEL_ac7c4e7eb16744bcb9ef43e0fbd63642",
            "max": 250,
            "min": 0,
            "orientation": "horizontal",
            "style": "IPY_MODEL_a4b795bc122f4ef7a261fa0f5d600472",
            "value": 250
          }
        },
        "c3001ee7d6944a0d998af3f7b99d20c3": {
          "model_module": "@jupyter-widgets/controls",
          "model_name": "HTMLModel",
          "state": {
            "_dom_classes": [],
            "_model_module": "@jupyter-widgets/controls",
            "_model_module_version": "1.5.0",
            "_model_name": "HTMLModel",
            "_view_count": null,
            "_view_module": "@jupyter-widgets/controls",
            "_view_module_version": "1.5.0",
            "_view_name": "HTMLView",
            "description": "",
            "description_tooltip": null,
            "layout": "IPY_MODEL_f209fb8c681646cf8bee8e35e04abe96",
            "placeholder": "​",
            "style": "IPY_MODEL_d53a98cd231c42c0bf5f7f36e2b48241",
            "value": " 250/250 [04:30&lt;00:00,  1.08s/it]"
          }
        },
        "59cf51fd4f0446a0aa3713bda979c673": {
          "model_module": "@jupyter-widgets/base",
          "model_name": "LayoutModel",
          "state": {
            "_model_module": "@jupyter-widgets/base",
            "_model_module_version": "1.2.0",
            "_model_name": "LayoutModel",
            "_view_count": null,
            "_view_module": "@jupyter-widgets/base",
            "_view_module_version": "1.2.0",
            "_view_name": "LayoutView",
            "align_content": null,
            "align_items": null,
            "align_self": null,
            "border": null,
            "bottom": null,
            "display": null,
            "flex": null,
            "flex_flow": null,
            "grid_area": null,
            "grid_auto_columns": null,
            "grid_auto_flow": null,
            "grid_auto_rows": null,
            "grid_column": null,
            "grid_gap": null,
            "grid_row": null,
            "grid_template_areas": null,
            "grid_template_columns": null,
            "grid_template_rows": null,
            "height": null,
            "justify_content": null,
            "justify_items": null,
            "left": null,
            "margin": null,
            "max_height": null,
            "max_width": null,
            "min_height": null,
            "min_width": null,
            "object_fit": null,
            "object_position": null,
            "order": null,
            "overflow": null,
            "overflow_x": null,
            "overflow_y": null,
            "padding": null,
            "right": null,
            "top": null,
            "visibility": null,
            "width": null
          }
        },
        "ac7c4e7eb16744bcb9ef43e0fbd63642": {
          "model_module": "@jupyter-widgets/base",
          "model_name": "LayoutModel",
          "state": {
            "_model_module": "@jupyter-widgets/base",
            "_model_module_version": "1.2.0",
            "_model_name": "LayoutModel",
            "_view_count": null,
            "_view_module": "@jupyter-widgets/base",
            "_view_module_version": "1.2.0",
            "_view_name": "LayoutView",
            "align_content": null,
            "align_items": null,
            "align_self": null,
            "border": null,
            "bottom": null,
            "display": null,
            "flex": null,
            "flex_flow": null,
            "grid_area": null,
            "grid_auto_columns": null,
            "grid_auto_flow": null,
            "grid_auto_rows": null,
            "grid_column": null,
            "grid_gap": null,
            "grid_row": null,
            "grid_template_areas": null,
            "grid_template_columns": null,
            "grid_template_rows": null,
            "height": null,
            "justify_content": null,
            "justify_items": null,
            "left": null,
            "margin": null,
            "max_height": null,
            "max_width": null,
            "min_height": null,
            "min_width": null,
            "object_fit": null,
            "object_position": null,
            "order": null,
            "overflow": null,
            "overflow_x": null,
            "overflow_y": null,
            "padding": null,
            "right": null,
            "top": null,
            "visibility": null,
            "width": null
          }
        },
        "a4b795bc122f4ef7a261fa0f5d600472": {
          "model_module": "@jupyter-widgets/controls",
          "model_name": "ProgressStyleModel",
          "state": {
            "_model_module": "@jupyter-widgets/controls",
            "_model_module_version": "1.5.0",
            "_model_name": "ProgressStyleModel",
            "_view_count": null,
            "_view_module": "@jupyter-widgets/base",
            "_view_module_version": "1.2.0",
            "_view_name": "StyleView",
            "bar_color": null,
            "description_width": "initial"
          }
        },
        "f209fb8c681646cf8bee8e35e04abe96": {
          "model_module": "@jupyter-widgets/base",
          "model_name": "LayoutModel",
          "state": {
            "_model_module": "@jupyter-widgets/base",
            "_model_module_version": "1.2.0",
            "_model_name": "LayoutModel",
            "_view_count": null,
            "_view_module": "@jupyter-widgets/base",
            "_view_module_version": "1.2.0",
            "_view_name": "LayoutView",
            "align_content": null,
            "align_items": null,
            "align_self": null,
            "border": null,
            "bottom": null,
            "display": null,
            "flex": null,
            "flex_flow": null,
            "grid_area": null,
            "grid_auto_columns": null,
            "grid_auto_flow": null,
            "grid_auto_rows": null,
            "grid_column": null,
            "grid_gap": null,
            "grid_row": null,
            "grid_template_areas": null,
            "grid_template_columns": null,
            "grid_template_rows": null,
            "height": null,
            "justify_content": null,
            "justify_items": null,
            "left": null,
            "margin": null,
            "max_height": null,
            "max_width": null,
            "min_height": null,
            "min_width": null,
            "object_fit": null,
            "object_position": null,
            "order": null,
            "overflow": null,
            "overflow_x": null,
            "overflow_y": null,
            "padding": null,
            "right": null,
            "top": null,
            "visibility": null,
            "width": null
          }
        },
        "d53a98cd231c42c0bf5f7f36e2b48241": {
          "model_module": "@jupyter-widgets/controls",
          "model_name": "DescriptionStyleModel",
          "state": {
            "_model_module": "@jupyter-widgets/controls",
            "_model_module_version": "1.5.0",
            "_model_name": "DescriptionStyleModel",
            "_view_count": null,
            "_view_module": "@jupyter-widgets/base",
            "_view_module_version": "1.2.0",
            "_view_name": "StyleView",
            "description_width": ""
          }
        },
        "641829518d5f4ea7b8a16272a44c1369": {
          "model_module": "@jupyter-widgets/controls",
          "model_name": "HBoxModel",
          "state": {
            "_dom_classes": [],
            "_model_module": "@jupyter-widgets/controls",
            "_model_module_version": "1.5.0",
            "_model_name": "HBoxModel",
            "_view_count": null,
            "_view_module": "@jupyter-widgets/controls",
            "_view_module_version": "1.5.0",
            "_view_name": "HBoxView",
            "box_style": "",
            "children": [
              "IPY_MODEL_4be6d73df3e044cea445bfbe4d948fea",
              "IPY_MODEL_c0317d54e1194791a5512399246f2de8"
            ],
            "layout": "IPY_MODEL_5e082e4ff17f40949d1d79c3fb53f47e"
          }
        },
        "4be6d73df3e044cea445bfbe4d948fea": {
          "model_module": "@jupyter-widgets/controls",
          "model_name": "FloatProgressModel",
          "state": {
            "_dom_classes": [],
            "_model_module": "@jupyter-widgets/controls",
            "_model_module_version": "1.5.0",
            "_model_name": "FloatProgressModel",
            "_view_count": null,
            "_view_module": "@jupyter-widgets/controls",
            "_view_module_version": "1.5.0",
            "_view_name": "ProgressView",
            "bar_style": "success",
            "description": "100%",
            "description_tooltip": null,
            "layout": "IPY_MODEL_a7ead6e10106479387a139bd9ccfc806",
            "max": 250,
            "min": 0,
            "orientation": "horizontal",
            "style": "IPY_MODEL_c745036156fd4faabadacd73d954a0c2",
            "value": 250
          }
        },
        "c0317d54e1194791a5512399246f2de8": {
          "model_module": "@jupyter-widgets/controls",
          "model_name": "HTMLModel",
          "state": {
            "_dom_classes": [],
            "_model_module": "@jupyter-widgets/controls",
            "_model_module_version": "1.5.0",
            "_model_name": "HTMLModel",
            "_view_count": null,
            "_view_module": "@jupyter-widgets/controls",
            "_view_module_version": "1.5.0",
            "_view_name": "HTMLView",
            "description": "",
            "description_tooltip": null,
            "layout": "IPY_MODEL_5131456214c0484b9c57809912b33a7c",
            "placeholder": "​",
            "style": "IPY_MODEL_109dbc1e12a1492096e8e25237a7b2e6",
            "value": " 250/250 [00:21&lt;00:00, 11.87it/s]"
          }
        },
        "5e082e4ff17f40949d1d79c3fb53f47e": {
          "model_module": "@jupyter-widgets/base",
          "model_name": "LayoutModel",
          "state": {
            "_model_module": "@jupyter-widgets/base",
            "_model_module_version": "1.2.0",
            "_model_name": "LayoutModel",
            "_view_count": null,
            "_view_module": "@jupyter-widgets/base",
            "_view_module_version": "1.2.0",
            "_view_name": "LayoutView",
            "align_content": null,
            "align_items": null,
            "align_self": null,
            "border": null,
            "bottom": null,
            "display": null,
            "flex": null,
            "flex_flow": null,
            "grid_area": null,
            "grid_auto_columns": null,
            "grid_auto_flow": null,
            "grid_auto_rows": null,
            "grid_column": null,
            "grid_gap": null,
            "grid_row": null,
            "grid_template_areas": null,
            "grid_template_columns": null,
            "grid_template_rows": null,
            "height": null,
            "justify_content": null,
            "justify_items": null,
            "left": null,
            "margin": null,
            "max_height": null,
            "max_width": null,
            "min_height": null,
            "min_width": null,
            "object_fit": null,
            "object_position": null,
            "order": null,
            "overflow": null,
            "overflow_x": null,
            "overflow_y": null,
            "padding": null,
            "right": null,
            "top": null,
            "visibility": null,
            "width": null
          }
        },
        "a7ead6e10106479387a139bd9ccfc806": {
          "model_module": "@jupyter-widgets/base",
          "model_name": "LayoutModel",
          "state": {
            "_model_module": "@jupyter-widgets/base",
            "_model_module_version": "1.2.0",
            "_model_name": "LayoutModel",
            "_view_count": null,
            "_view_module": "@jupyter-widgets/base",
            "_view_module_version": "1.2.0",
            "_view_name": "LayoutView",
            "align_content": null,
            "align_items": null,
            "align_self": null,
            "border": null,
            "bottom": null,
            "display": null,
            "flex": null,
            "flex_flow": null,
            "grid_area": null,
            "grid_auto_columns": null,
            "grid_auto_flow": null,
            "grid_auto_rows": null,
            "grid_column": null,
            "grid_gap": null,
            "grid_row": null,
            "grid_template_areas": null,
            "grid_template_columns": null,
            "grid_template_rows": null,
            "height": null,
            "justify_content": null,
            "justify_items": null,
            "left": null,
            "margin": null,
            "max_height": null,
            "max_width": null,
            "min_height": null,
            "min_width": null,
            "object_fit": null,
            "object_position": null,
            "order": null,
            "overflow": null,
            "overflow_x": null,
            "overflow_y": null,
            "padding": null,
            "right": null,
            "top": null,
            "visibility": null,
            "width": null
          }
        },
        "c745036156fd4faabadacd73d954a0c2": {
          "model_module": "@jupyter-widgets/controls",
          "model_name": "ProgressStyleModel",
          "state": {
            "_model_module": "@jupyter-widgets/controls",
            "_model_module_version": "1.5.0",
            "_model_name": "ProgressStyleModel",
            "_view_count": null,
            "_view_module": "@jupyter-widgets/base",
            "_view_module_version": "1.2.0",
            "_view_name": "StyleView",
            "bar_color": null,
            "description_width": "initial"
          }
        },
        "5131456214c0484b9c57809912b33a7c": {
          "model_module": "@jupyter-widgets/base",
          "model_name": "LayoutModel",
          "state": {
            "_model_module": "@jupyter-widgets/base",
            "_model_module_version": "1.2.0",
            "_model_name": "LayoutModel",
            "_view_count": null,
            "_view_module": "@jupyter-widgets/base",
            "_view_module_version": "1.2.0",
            "_view_name": "LayoutView",
            "align_content": null,
            "align_items": null,
            "align_self": null,
            "border": null,
            "bottom": null,
            "display": null,
            "flex": null,
            "flex_flow": null,
            "grid_area": null,
            "grid_auto_columns": null,
            "grid_auto_flow": null,
            "grid_auto_rows": null,
            "grid_column": null,
            "grid_gap": null,
            "grid_row": null,
            "grid_template_areas": null,
            "grid_template_columns": null,
            "grid_template_rows": null,
            "height": null,
            "justify_content": null,
            "justify_items": null,
            "left": null,
            "margin": null,
            "max_height": null,
            "max_width": null,
            "min_height": null,
            "min_width": null,
            "object_fit": null,
            "object_position": null,
            "order": null,
            "overflow": null,
            "overflow_x": null,
            "overflow_y": null,
            "padding": null,
            "right": null,
            "top": null,
            "visibility": null,
            "width": null
          }
        },
        "109dbc1e12a1492096e8e25237a7b2e6": {
          "model_module": "@jupyter-widgets/controls",
          "model_name": "DescriptionStyleModel",
          "state": {
            "_model_module": "@jupyter-widgets/controls",
            "_model_module_version": "1.5.0",
            "_model_name": "DescriptionStyleModel",
            "_view_count": null,
            "_view_module": "@jupyter-widgets/base",
            "_view_module_version": "1.2.0",
            "_view_name": "StyleView",
            "description_width": ""
          }
        },
        "fd437ecc042c4508a58ac5e1e035bed0": {
          "model_module": "@jupyter-widgets/controls",
          "model_name": "HBoxModel",
          "state": {
            "_dom_classes": [],
            "_model_module": "@jupyter-widgets/controls",
            "_model_module_version": "1.5.0",
            "_model_name": "HBoxModel",
            "_view_count": null,
            "_view_module": "@jupyter-widgets/controls",
            "_view_module_version": "1.5.0",
            "_view_name": "HBoxView",
            "box_style": "",
            "children": [
              "IPY_MODEL_4bb8b1729bfd47d38bb8c82726149cc9",
              "IPY_MODEL_7b390665faa5403c937a3dd9ab16fa0f"
            ],
            "layout": "IPY_MODEL_cacaddabf2b94a6faeb78ebfe8528fc5"
          }
        },
        "4bb8b1729bfd47d38bb8c82726149cc9": {
          "model_module": "@jupyter-widgets/controls",
          "model_name": "FloatProgressModel",
          "state": {
            "_dom_classes": [],
            "_model_module": "@jupyter-widgets/controls",
            "_model_module_version": "1.5.0",
            "_model_name": "FloatProgressModel",
            "_view_count": null,
            "_view_module": "@jupyter-widgets/controls",
            "_view_module_version": "1.5.0",
            "_view_name": "ProgressView",
            "bar_style": "success",
            "description": "100%",
            "description_tooltip": null,
            "layout": "IPY_MODEL_2587deffbf22496e84bc4a8e5799ed2d",
            "max": 250,
            "min": 0,
            "orientation": "horizontal",
            "style": "IPY_MODEL_05fdab11aa304668a05d4348db718567",
            "value": 250
          }
        },
        "7b390665faa5403c937a3dd9ab16fa0f": {
          "model_module": "@jupyter-widgets/controls",
          "model_name": "HTMLModel",
          "state": {
            "_dom_classes": [],
            "_model_module": "@jupyter-widgets/controls",
            "_model_module_version": "1.5.0",
            "_model_name": "HTMLModel",
            "_view_count": null,
            "_view_module": "@jupyter-widgets/controls",
            "_view_module_version": "1.5.0",
            "_view_name": "HTMLView",
            "description": "",
            "description_tooltip": null,
            "layout": "IPY_MODEL_b38d8165e6fe402db68fffe9d65e07d2",
            "placeholder": "​",
            "style": "IPY_MODEL_549cb8199fd5439a9cf3923e2f2679e4",
            "value": " 250/250 [00:10&lt;00:00, 22.80it/s]"
          }
        },
        "cacaddabf2b94a6faeb78ebfe8528fc5": {
          "model_module": "@jupyter-widgets/base",
          "model_name": "LayoutModel",
          "state": {
            "_model_module": "@jupyter-widgets/base",
            "_model_module_version": "1.2.0",
            "_model_name": "LayoutModel",
            "_view_count": null,
            "_view_module": "@jupyter-widgets/base",
            "_view_module_version": "1.2.0",
            "_view_name": "LayoutView",
            "align_content": null,
            "align_items": null,
            "align_self": null,
            "border": null,
            "bottom": null,
            "display": null,
            "flex": null,
            "flex_flow": null,
            "grid_area": null,
            "grid_auto_columns": null,
            "grid_auto_flow": null,
            "grid_auto_rows": null,
            "grid_column": null,
            "grid_gap": null,
            "grid_row": null,
            "grid_template_areas": null,
            "grid_template_columns": null,
            "grid_template_rows": null,
            "height": null,
            "justify_content": null,
            "justify_items": null,
            "left": null,
            "margin": null,
            "max_height": null,
            "max_width": null,
            "min_height": null,
            "min_width": null,
            "object_fit": null,
            "object_position": null,
            "order": null,
            "overflow": null,
            "overflow_x": null,
            "overflow_y": null,
            "padding": null,
            "right": null,
            "top": null,
            "visibility": null,
            "width": null
          }
        },
        "2587deffbf22496e84bc4a8e5799ed2d": {
          "model_module": "@jupyter-widgets/base",
          "model_name": "LayoutModel",
          "state": {
            "_model_module": "@jupyter-widgets/base",
            "_model_module_version": "1.2.0",
            "_model_name": "LayoutModel",
            "_view_count": null,
            "_view_module": "@jupyter-widgets/base",
            "_view_module_version": "1.2.0",
            "_view_name": "LayoutView",
            "align_content": null,
            "align_items": null,
            "align_self": null,
            "border": null,
            "bottom": null,
            "display": null,
            "flex": null,
            "flex_flow": null,
            "grid_area": null,
            "grid_auto_columns": null,
            "grid_auto_flow": null,
            "grid_auto_rows": null,
            "grid_column": null,
            "grid_gap": null,
            "grid_row": null,
            "grid_template_areas": null,
            "grid_template_columns": null,
            "grid_template_rows": null,
            "height": null,
            "justify_content": null,
            "justify_items": null,
            "left": null,
            "margin": null,
            "max_height": null,
            "max_width": null,
            "min_height": null,
            "min_width": null,
            "object_fit": null,
            "object_position": null,
            "order": null,
            "overflow": null,
            "overflow_x": null,
            "overflow_y": null,
            "padding": null,
            "right": null,
            "top": null,
            "visibility": null,
            "width": null
          }
        },
        "05fdab11aa304668a05d4348db718567": {
          "model_module": "@jupyter-widgets/controls",
          "model_name": "ProgressStyleModel",
          "state": {
            "_model_module": "@jupyter-widgets/controls",
            "_model_module_version": "1.5.0",
            "_model_name": "ProgressStyleModel",
            "_view_count": null,
            "_view_module": "@jupyter-widgets/base",
            "_view_module_version": "1.2.0",
            "_view_name": "StyleView",
            "bar_color": null,
            "description_width": "initial"
          }
        },
        "b38d8165e6fe402db68fffe9d65e07d2": {
          "model_module": "@jupyter-widgets/base",
          "model_name": "LayoutModel",
          "state": {
            "_model_module": "@jupyter-widgets/base",
            "_model_module_version": "1.2.0",
            "_model_name": "LayoutModel",
            "_view_count": null,
            "_view_module": "@jupyter-widgets/base",
            "_view_module_version": "1.2.0",
            "_view_name": "LayoutView",
            "align_content": null,
            "align_items": null,
            "align_self": null,
            "border": null,
            "bottom": null,
            "display": null,
            "flex": null,
            "flex_flow": null,
            "grid_area": null,
            "grid_auto_columns": null,
            "grid_auto_flow": null,
            "grid_auto_rows": null,
            "grid_column": null,
            "grid_gap": null,
            "grid_row": null,
            "grid_template_areas": null,
            "grid_template_columns": null,
            "grid_template_rows": null,
            "height": null,
            "justify_content": null,
            "justify_items": null,
            "left": null,
            "margin": null,
            "max_height": null,
            "max_width": null,
            "min_height": null,
            "min_width": null,
            "object_fit": null,
            "object_position": null,
            "order": null,
            "overflow": null,
            "overflow_x": null,
            "overflow_y": null,
            "padding": null,
            "right": null,
            "top": null,
            "visibility": null,
            "width": null
          }
        },
        "549cb8199fd5439a9cf3923e2f2679e4": {
          "model_module": "@jupyter-widgets/controls",
          "model_name": "DescriptionStyleModel",
          "state": {
            "_model_module": "@jupyter-widgets/controls",
            "_model_module_version": "1.5.0",
            "_model_name": "DescriptionStyleModel",
            "_view_count": null,
            "_view_module": "@jupyter-widgets/base",
            "_view_module_version": "1.2.0",
            "_view_name": "StyleView",
            "description_width": ""
          }
        },
        "cecfedb09b614672a9e4da47bc89e4cd": {
          "model_module": "@jupyter-widgets/controls",
          "model_name": "HBoxModel",
          "state": {
            "_dom_classes": [],
            "_model_module": "@jupyter-widgets/controls",
            "_model_module_version": "1.5.0",
            "_model_name": "HBoxModel",
            "_view_count": null,
            "_view_module": "@jupyter-widgets/controls",
            "_view_module_version": "1.5.0",
            "_view_name": "HBoxView",
            "box_style": "",
            "children": [
              "IPY_MODEL_3e7e9296a9f54f4b958cefde97c2926f",
              "IPY_MODEL_746e90bdf1644c02af4b71f7d181483a"
            ],
            "layout": "IPY_MODEL_a07a02b48fac4e58b2dde53af339087e"
          }
        },
        "3e7e9296a9f54f4b958cefde97c2926f": {
          "model_module": "@jupyter-widgets/controls",
          "model_name": "FloatProgressModel",
          "state": {
            "_dom_classes": [],
            "_model_module": "@jupyter-widgets/controls",
            "_model_module_version": "1.5.0",
            "_model_name": "FloatProgressModel",
            "_view_count": null,
            "_view_module": "@jupyter-widgets/controls",
            "_view_module_version": "1.5.0",
            "_view_name": "ProgressView",
            "bar_style": "success",
            "description": "100%",
            "description_tooltip": null,
            "layout": "IPY_MODEL_441c5b62ac3e4795aa5fa52bcad716d8",
            "max": 250,
            "min": 0,
            "orientation": "horizontal",
            "style": "IPY_MODEL_3e4df91b5a3c45da8bc26ef63f846d26",
            "value": 250
          }
        },
        "746e90bdf1644c02af4b71f7d181483a": {
          "model_module": "@jupyter-widgets/controls",
          "model_name": "HTMLModel",
          "state": {
            "_dom_classes": [],
            "_model_module": "@jupyter-widgets/controls",
            "_model_module_version": "1.5.0",
            "_model_name": "HTMLModel",
            "_view_count": null,
            "_view_module": "@jupyter-widgets/controls",
            "_view_module_version": "1.5.0",
            "_view_name": "HTMLView",
            "description": "",
            "description_tooltip": null,
            "layout": "IPY_MODEL_bd6eecffe96543488b13e7bdac85437c",
            "placeholder": "​",
            "style": "IPY_MODEL_561de5b92d4d4ec5b1de3e5babe64859",
            "value": " 250/250 [04:00&lt;00:00,  1.04it/s]"
          }
        },
        "a07a02b48fac4e58b2dde53af339087e": {
          "model_module": "@jupyter-widgets/base",
          "model_name": "LayoutModel",
          "state": {
            "_model_module": "@jupyter-widgets/base",
            "_model_module_version": "1.2.0",
            "_model_name": "LayoutModel",
            "_view_count": null,
            "_view_module": "@jupyter-widgets/base",
            "_view_module_version": "1.2.0",
            "_view_name": "LayoutView",
            "align_content": null,
            "align_items": null,
            "align_self": null,
            "border": null,
            "bottom": null,
            "display": null,
            "flex": null,
            "flex_flow": null,
            "grid_area": null,
            "grid_auto_columns": null,
            "grid_auto_flow": null,
            "grid_auto_rows": null,
            "grid_column": null,
            "grid_gap": null,
            "grid_row": null,
            "grid_template_areas": null,
            "grid_template_columns": null,
            "grid_template_rows": null,
            "height": null,
            "justify_content": null,
            "justify_items": null,
            "left": null,
            "margin": null,
            "max_height": null,
            "max_width": null,
            "min_height": null,
            "min_width": null,
            "object_fit": null,
            "object_position": null,
            "order": null,
            "overflow": null,
            "overflow_x": null,
            "overflow_y": null,
            "padding": null,
            "right": null,
            "top": null,
            "visibility": null,
            "width": null
          }
        },
        "441c5b62ac3e4795aa5fa52bcad716d8": {
          "model_module": "@jupyter-widgets/base",
          "model_name": "LayoutModel",
          "state": {
            "_model_module": "@jupyter-widgets/base",
            "_model_module_version": "1.2.0",
            "_model_name": "LayoutModel",
            "_view_count": null,
            "_view_module": "@jupyter-widgets/base",
            "_view_module_version": "1.2.0",
            "_view_name": "LayoutView",
            "align_content": null,
            "align_items": null,
            "align_self": null,
            "border": null,
            "bottom": null,
            "display": null,
            "flex": null,
            "flex_flow": null,
            "grid_area": null,
            "grid_auto_columns": null,
            "grid_auto_flow": null,
            "grid_auto_rows": null,
            "grid_column": null,
            "grid_gap": null,
            "grid_row": null,
            "grid_template_areas": null,
            "grid_template_columns": null,
            "grid_template_rows": null,
            "height": null,
            "justify_content": null,
            "justify_items": null,
            "left": null,
            "margin": null,
            "max_height": null,
            "max_width": null,
            "min_height": null,
            "min_width": null,
            "object_fit": null,
            "object_position": null,
            "order": null,
            "overflow": null,
            "overflow_x": null,
            "overflow_y": null,
            "padding": null,
            "right": null,
            "top": null,
            "visibility": null,
            "width": null
          }
        },
        "3e4df91b5a3c45da8bc26ef63f846d26": {
          "model_module": "@jupyter-widgets/controls",
          "model_name": "ProgressStyleModel",
          "state": {
            "_model_module": "@jupyter-widgets/controls",
            "_model_module_version": "1.5.0",
            "_model_name": "ProgressStyleModel",
            "_view_count": null,
            "_view_module": "@jupyter-widgets/base",
            "_view_module_version": "1.2.0",
            "_view_name": "StyleView",
            "bar_color": null,
            "description_width": "initial"
          }
        },
        "bd6eecffe96543488b13e7bdac85437c": {
          "model_module": "@jupyter-widgets/base",
          "model_name": "LayoutModel",
          "state": {
            "_model_module": "@jupyter-widgets/base",
            "_model_module_version": "1.2.0",
            "_model_name": "LayoutModel",
            "_view_count": null,
            "_view_module": "@jupyter-widgets/base",
            "_view_module_version": "1.2.0",
            "_view_name": "LayoutView",
            "align_content": null,
            "align_items": null,
            "align_self": null,
            "border": null,
            "bottom": null,
            "display": null,
            "flex": null,
            "flex_flow": null,
            "grid_area": null,
            "grid_auto_columns": null,
            "grid_auto_flow": null,
            "grid_auto_rows": null,
            "grid_column": null,
            "grid_gap": null,
            "grid_row": null,
            "grid_template_areas": null,
            "grid_template_columns": null,
            "grid_template_rows": null,
            "height": null,
            "justify_content": null,
            "justify_items": null,
            "left": null,
            "margin": null,
            "max_height": null,
            "max_width": null,
            "min_height": null,
            "min_width": null,
            "object_fit": null,
            "object_position": null,
            "order": null,
            "overflow": null,
            "overflow_x": null,
            "overflow_y": null,
            "padding": null,
            "right": null,
            "top": null,
            "visibility": null,
            "width": null
          }
        },
        "561de5b92d4d4ec5b1de3e5babe64859": {
          "model_module": "@jupyter-widgets/controls",
          "model_name": "DescriptionStyleModel",
          "state": {
            "_model_module": "@jupyter-widgets/controls",
            "_model_module_version": "1.5.0",
            "_model_name": "DescriptionStyleModel",
            "_view_count": null,
            "_view_module": "@jupyter-widgets/base",
            "_view_module_version": "1.2.0",
            "_view_name": "StyleView",
            "description_width": ""
          }
        },
        "23aef34e68484aa9b26afe23f7385be5": {
          "model_module": "@jupyter-widgets/controls",
          "model_name": "HBoxModel",
          "state": {
            "_dom_classes": [],
            "_model_module": "@jupyter-widgets/controls",
            "_model_module_version": "1.5.0",
            "_model_name": "HBoxModel",
            "_view_count": null,
            "_view_module": "@jupyter-widgets/controls",
            "_view_module_version": "1.5.0",
            "_view_name": "HBoxView",
            "box_style": "",
            "children": [
              "IPY_MODEL_90cd71d7c105427f96f70c3dcd3ef876",
              "IPY_MODEL_98b29a0685344303896b2fc70d6b2fbe"
            ],
            "layout": "IPY_MODEL_8cd1bef669db4a659a7183a4759335db"
          }
        },
        "90cd71d7c105427f96f70c3dcd3ef876": {
          "model_module": "@jupyter-widgets/controls",
          "model_name": "FloatProgressModel",
          "state": {
            "_dom_classes": [],
            "_model_module": "@jupyter-widgets/controls",
            "_model_module_version": "1.5.0",
            "_model_name": "FloatProgressModel",
            "_view_count": null,
            "_view_module": "@jupyter-widgets/controls",
            "_view_module_version": "1.5.0",
            "_view_name": "ProgressView",
            "bar_style": "success",
            "description": "100%",
            "description_tooltip": null,
            "layout": "IPY_MODEL_b7f8bf051eb24f239e5e1fb3cfb9916c",
            "max": 250,
            "min": 0,
            "orientation": "horizontal",
            "style": "IPY_MODEL_65115b81efc04cbe88724c1d1eb5b812",
            "value": 250
          }
        },
        "98b29a0685344303896b2fc70d6b2fbe": {
          "model_module": "@jupyter-widgets/controls",
          "model_name": "HTMLModel",
          "state": {
            "_dom_classes": [],
            "_model_module": "@jupyter-widgets/controls",
            "_model_module_version": "1.5.0",
            "_model_name": "HTMLModel",
            "_view_count": null,
            "_view_module": "@jupyter-widgets/controls",
            "_view_module_version": "1.5.0",
            "_view_name": "HTMLView",
            "description": "",
            "description_tooltip": null,
            "layout": "IPY_MODEL_c72048e0b4f243e5baf389b82a18730c",
            "placeholder": "​",
            "style": "IPY_MODEL_96a1cf8551754343956d1d626a24d012",
            "value": " 250/250 [00:21&lt;00:00, 11.41it/s]"
          }
        },
        "8cd1bef669db4a659a7183a4759335db": {
          "model_module": "@jupyter-widgets/base",
          "model_name": "LayoutModel",
          "state": {
            "_model_module": "@jupyter-widgets/base",
            "_model_module_version": "1.2.0",
            "_model_name": "LayoutModel",
            "_view_count": null,
            "_view_module": "@jupyter-widgets/base",
            "_view_module_version": "1.2.0",
            "_view_name": "LayoutView",
            "align_content": null,
            "align_items": null,
            "align_self": null,
            "border": null,
            "bottom": null,
            "display": null,
            "flex": null,
            "flex_flow": null,
            "grid_area": null,
            "grid_auto_columns": null,
            "grid_auto_flow": null,
            "grid_auto_rows": null,
            "grid_column": null,
            "grid_gap": null,
            "grid_row": null,
            "grid_template_areas": null,
            "grid_template_columns": null,
            "grid_template_rows": null,
            "height": null,
            "justify_content": null,
            "justify_items": null,
            "left": null,
            "margin": null,
            "max_height": null,
            "max_width": null,
            "min_height": null,
            "min_width": null,
            "object_fit": null,
            "object_position": null,
            "order": null,
            "overflow": null,
            "overflow_x": null,
            "overflow_y": null,
            "padding": null,
            "right": null,
            "top": null,
            "visibility": null,
            "width": null
          }
        },
        "b7f8bf051eb24f239e5e1fb3cfb9916c": {
          "model_module": "@jupyter-widgets/base",
          "model_name": "LayoutModel",
          "state": {
            "_model_module": "@jupyter-widgets/base",
            "_model_module_version": "1.2.0",
            "_model_name": "LayoutModel",
            "_view_count": null,
            "_view_module": "@jupyter-widgets/base",
            "_view_module_version": "1.2.0",
            "_view_name": "LayoutView",
            "align_content": null,
            "align_items": null,
            "align_self": null,
            "border": null,
            "bottom": null,
            "display": null,
            "flex": null,
            "flex_flow": null,
            "grid_area": null,
            "grid_auto_columns": null,
            "grid_auto_flow": null,
            "grid_auto_rows": null,
            "grid_column": null,
            "grid_gap": null,
            "grid_row": null,
            "grid_template_areas": null,
            "grid_template_columns": null,
            "grid_template_rows": null,
            "height": null,
            "justify_content": null,
            "justify_items": null,
            "left": null,
            "margin": null,
            "max_height": null,
            "max_width": null,
            "min_height": null,
            "min_width": null,
            "object_fit": null,
            "object_position": null,
            "order": null,
            "overflow": null,
            "overflow_x": null,
            "overflow_y": null,
            "padding": null,
            "right": null,
            "top": null,
            "visibility": null,
            "width": null
          }
        },
        "65115b81efc04cbe88724c1d1eb5b812": {
          "model_module": "@jupyter-widgets/controls",
          "model_name": "ProgressStyleModel",
          "state": {
            "_model_module": "@jupyter-widgets/controls",
            "_model_module_version": "1.5.0",
            "_model_name": "ProgressStyleModel",
            "_view_count": null,
            "_view_module": "@jupyter-widgets/base",
            "_view_module_version": "1.2.0",
            "_view_name": "StyleView",
            "bar_color": null,
            "description_width": "initial"
          }
        },
        "c72048e0b4f243e5baf389b82a18730c": {
          "model_module": "@jupyter-widgets/base",
          "model_name": "LayoutModel",
          "state": {
            "_model_module": "@jupyter-widgets/base",
            "_model_module_version": "1.2.0",
            "_model_name": "LayoutModel",
            "_view_count": null,
            "_view_module": "@jupyter-widgets/base",
            "_view_module_version": "1.2.0",
            "_view_name": "LayoutView",
            "align_content": null,
            "align_items": null,
            "align_self": null,
            "border": null,
            "bottom": null,
            "display": null,
            "flex": null,
            "flex_flow": null,
            "grid_area": null,
            "grid_auto_columns": null,
            "grid_auto_flow": null,
            "grid_auto_rows": null,
            "grid_column": null,
            "grid_gap": null,
            "grid_row": null,
            "grid_template_areas": null,
            "grid_template_columns": null,
            "grid_template_rows": null,
            "height": null,
            "justify_content": null,
            "justify_items": null,
            "left": null,
            "margin": null,
            "max_height": null,
            "max_width": null,
            "min_height": null,
            "min_width": null,
            "object_fit": null,
            "object_position": null,
            "order": null,
            "overflow": null,
            "overflow_x": null,
            "overflow_y": null,
            "padding": null,
            "right": null,
            "top": null,
            "visibility": null,
            "width": null
          }
        },
        "96a1cf8551754343956d1d626a24d012": {
          "model_module": "@jupyter-widgets/controls",
          "model_name": "DescriptionStyleModel",
          "state": {
            "_model_module": "@jupyter-widgets/controls",
            "_model_module_version": "1.5.0",
            "_model_name": "DescriptionStyleModel",
            "_view_count": null,
            "_view_module": "@jupyter-widgets/base",
            "_view_module_version": "1.2.0",
            "_view_name": "StyleView",
            "description_width": ""
          }
        },
        "79c810ae51774b66b79bf783b426efb6": {
          "model_module": "@jupyter-widgets/controls",
          "model_name": "HBoxModel",
          "state": {
            "_dom_classes": [],
            "_model_module": "@jupyter-widgets/controls",
            "_model_module_version": "1.5.0",
            "_model_name": "HBoxModel",
            "_view_count": null,
            "_view_module": "@jupyter-widgets/controls",
            "_view_module_version": "1.5.0",
            "_view_name": "HBoxView",
            "box_style": "",
            "children": [
              "IPY_MODEL_5f6744cf70ce4ea3995c0c2e976aa052",
              "IPY_MODEL_a773ef91596d45dc997d0eb37a9a7348"
            ],
            "layout": "IPY_MODEL_1213e7f1000746f7a7c2228ccca68874"
          }
        },
        "5f6744cf70ce4ea3995c0c2e976aa052": {
          "model_module": "@jupyter-widgets/controls",
          "model_name": "FloatProgressModel",
          "state": {
            "_dom_classes": [],
            "_model_module": "@jupyter-widgets/controls",
            "_model_module_version": "1.5.0",
            "_model_name": "FloatProgressModel",
            "_view_count": null,
            "_view_module": "@jupyter-widgets/controls",
            "_view_module_version": "1.5.0",
            "_view_name": "ProgressView",
            "bar_style": "success",
            "description": "100%",
            "description_tooltip": null,
            "layout": "IPY_MODEL_52b11fb16021420eaa5801dfb6d8d021",
            "max": 250,
            "min": 0,
            "orientation": "horizontal",
            "style": "IPY_MODEL_d654f5f6df584807b85a779d71c49d34",
            "value": 250
          }
        },
        "a773ef91596d45dc997d0eb37a9a7348": {
          "model_module": "@jupyter-widgets/controls",
          "model_name": "HTMLModel",
          "state": {
            "_dom_classes": [],
            "_model_module": "@jupyter-widgets/controls",
            "_model_module_version": "1.5.0",
            "_model_name": "HTMLModel",
            "_view_count": null,
            "_view_module": "@jupyter-widgets/controls",
            "_view_module_version": "1.5.0",
            "_view_name": "HTMLView",
            "description": "",
            "description_tooltip": null,
            "layout": "IPY_MODEL_cefeaaa868964f99a6ab2badbeb8478d",
            "placeholder": "​",
            "style": "IPY_MODEL_454b3d560dd24351a169e96deee48e96",
            "value": " 250/250 [00:11&lt;00:00, 21.20it/s]"
          }
        },
        "1213e7f1000746f7a7c2228ccca68874": {
          "model_module": "@jupyter-widgets/base",
          "model_name": "LayoutModel",
          "state": {
            "_model_module": "@jupyter-widgets/base",
            "_model_module_version": "1.2.0",
            "_model_name": "LayoutModel",
            "_view_count": null,
            "_view_module": "@jupyter-widgets/base",
            "_view_module_version": "1.2.0",
            "_view_name": "LayoutView",
            "align_content": null,
            "align_items": null,
            "align_self": null,
            "border": null,
            "bottom": null,
            "display": null,
            "flex": null,
            "flex_flow": null,
            "grid_area": null,
            "grid_auto_columns": null,
            "grid_auto_flow": null,
            "grid_auto_rows": null,
            "grid_column": null,
            "grid_gap": null,
            "grid_row": null,
            "grid_template_areas": null,
            "grid_template_columns": null,
            "grid_template_rows": null,
            "height": null,
            "justify_content": null,
            "justify_items": null,
            "left": null,
            "margin": null,
            "max_height": null,
            "max_width": null,
            "min_height": null,
            "min_width": null,
            "object_fit": null,
            "object_position": null,
            "order": null,
            "overflow": null,
            "overflow_x": null,
            "overflow_y": null,
            "padding": null,
            "right": null,
            "top": null,
            "visibility": null,
            "width": null
          }
        },
        "52b11fb16021420eaa5801dfb6d8d021": {
          "model_module": "@jupyter-widgets/base",
          "model_name": "LayoutModel",
          "state": {
            "_model_module": "@jupyter-widgets/base",
            "_model_module_version": "1.2.0",
            "_model_name": "LayoutModel",
            "_view_count": null,
            "_view_module": "@jupyter-widgets/base",
            "_view_module_version": "1.2.0",
            "_view_name": "LayoutView",
            "align_content": null,
            "align_items": null,
            "align_self": null,
            "border": null,
            "bottom": null,
            "display": null,
            "flex": null,
            "flex_flow": null,
            "grid_area": null,
            "grid_auto_columns": null,
            "grid_auto_flow": null,
            "grid_auto_rows": null,
            "grid_column": null,
            "grid_gap": null,
            "grid_row": null,
            "grid_template_areas": null,
            "grid_template_columns": null,
            "grid_template_rows": null,
            "height": null,
            "justify_content": null,
            "justify_items": null,
            "left": null,
            "margin": null,
            "max_height": null,
            "max_width": null,
            "min_height": null,
            "min_width": null,
            "object_fit": null,
            "object_position": null,
            "order": null,
            "overflow": null,
            "overflow_x": null,
            "overflow_y": null,
            "padding": null,
            "right": null,
            "top": null,
            "visibility": null,
            "width": null
          }
        },
        "d654f5f6df584807b85a779d71c49d34": {
          "model_module": "@jupyter-widgets/controls",
          "model_name": "ProgressStyleModel",
          "state": {
            "_model_module": "@jupyter-widgets/controls",
            "_model_module_version": "1.5.0",
            "_model_name": "ProgressStyleModel",
            "_view_count": null,
            "_view_module": "@jupyter-widgets/base",
            "_view_module_version": "1.2.0",
            "_view_name": "StyleView",
            "bar_color": null,
            "description_width": "initial"
          }
        },
        "cefeaaa868964f99a6ab2badbeb8478d": {
          "model_module": "@jupyter-widgets/base",
          "model_name": "LayoutModel",
          "state": {
            "_model_module": "@jupyter-widgets/base",
            "_model_module_version": "1.2.0",
            "_model_name": "LayoutModel",
            "_view_count": null,
            "_view_module": "@jupyter-widgets/base",
            "_view_module_version": "1.2.0",
            "_view_name": "LayoutView",
            "align_content": null,
            "align_items": null,
            "align_self": null,
            "border": null,
            "bottom": null,
            "display": null,
            "flex": null,
            "flex_flow": null,
            "grid_area": null,
            "grid_auto_columns": null,
            "grid_auto_flow": null,
            "grid_auto_rows": null,
            "grid_column": null,
            "grid_gap": null,
            "grid_row": null,
            "grid_template_areas": null,
            "grid_template_columns": null,
            "grid_template_rows": null,
            "height": null,
            "justify_content": null,
            "justify_items": null,
            "left": null,
            "margin": null,
            "max_height": null,
            "max_width": null,
            "min_height": null,
            "min_width": null,
            "object_fit": null,
            "object_position": null,
            "order": null,
            "overflow": null,
            "overflow_x": null,
            "overflow_y": null,
            "padding": null,
            "right": null,
            "top": null,
            "visibility": null,
            "width": null
          }
        },
        "454b3d560dd24351a169e96deee48e96": {
          "model_module": "@jupyter-widgets/controls",
          "model_name": "DescriptionStyleModel",
          "state": {
            "_model_module": "@jupyter-widgets/controls",
            "_model_module_version": "1.5.0",
            "_model_name": "DescriptionStyleModel",
            "_view_count": null,
            "_view_module": "@jupyter-widgets/base",
            "_view_module_version": "1.2.0",
            "_view_name": "StyleView",
            "description_width": ""
          }
        },
        "2c6099b1a8924674a31491449d757db0": {
          "model_module": "@jupyter-widgets/controls",
          "model_name": "HBoxModel",
          "state": {
            "_dom_classes": [],
            "_model_module": "@jupyter-widgets/controls",
            "_model_module_version": "1.5.0",
            "_model_name": "HBoxModel",
            "_view_count": null,
            "_view_module": "@jupyter-widgets/controls",
            "_view_module_version": "1.5.0",
            "_view_name": "HBoxView",
            "box_style": "",
            "children": [
              "IPY_MODEL_e05b56682b78402581f7c195320bd578",
              "IPY_MODEL_71c35900208d496d8ccdbc57c13f8a0f"
            ],
            "layout": "IPY_MODEL_5b665c7ff86847238e3d7cae6ef898de"
          }
        },
        "e05b56682b78402581f7c195320bd578": {
          "model_module": "@jupyter-widgets/controls",
          "model_name": "FloatProgressModel",
          "state": {
            "_dom_classes": [],
            "_model_module": "@jupyter-widgets/controls",
            "_model_module_version": "1.5.0",
            "_model_name": "FloatProgressModel",
            "_view_count": null,
            "_view_module": "@jupyter-widgets/controls",
            "_view_module_version": "1.5.0",
            "_view_name": "ProgressView",
            "bar_style": "success",
            "description": "100%",
            "description_tooltip": null,
            "layout": "IPY_MODEL_42b2cf984d774f3ebc2017b401d512e6",
            "max": 250,
            "min": 0,
            "orientation": "horizontal",
            "style": "IPY_MODEL_39daf7ee2387407fb5ce166154721453",
            "value": 250
          }
        },
        "71c35900208d496d8ccdbc57c13f8a0f": {
          "model_module": "@jupyter-widgets/controls",
          "model_name": "HTMLModel",
          "state": {
            "_dom_classes": [],
            "_model_module": "@jupyter-widgets/controls",
            "_model_module_version": "1.5.0",
            "_model_name": "HTMLModel",
            "_view_count": null,
            "_view_module": "@jupyter-widgets/controls",
            "_view_module_version": "1.5.0",
            "_view_name": "HTMLView",
            "description": "",
            "description_tooltip": null,
            "layout": "IPY_MODEL_c2c56a1d86604622be2922033ab6d841",
            "placeholder": "​",
            "style": "IPY_MODEL_d13cddcce7de43a7acc9c65c155496af",
            "value": " 250/250 [03:30&lt;00:00,  1.19it/s]"
          }
        },
        "5b665c7ff86847238e3d7cae6ef898de": {
          "model_module": "@jupyter-widgets/base",
          "model_name": "LayoutModel",
          "state": {
            "_model_module": "@jupyter-widgets/base",
            "_model_module_version": "1.2.0",
            "_model_name": "LayoutModel",
            "_view_count": null,
            "_view_module": "@jupyter-widgets/base",
            "_view_module_version": "1.2.0",
            "_view_name": "LayoutView",
            "align_content": null,
            "align_items": null,
            "align_self": null,
            "border": null,
            "bottom": null,
            "display": null,
            "flex": null,
            "flex_flow": null,
            "grid_area": null,
            "grid_auto_columns": null,
            "grid_auto_flow": null,
            "grid_auto_rows": null,
            "grid_column": null,
            "grid_gap": null,
            "grid_row": null,
            "grid_template_areas": null,
            "grid_template_columns": null,
            "grid_template_rows": null,
            "height": null,
            "justify_content": null,
            "justify_items": null,
            "left": null,
            "margin": null,
            "max_height": null,
            "max_width": null,
            "min_height": null,
            "min_width": null,
            "object_fit": null,
            "object_position": null,
            "order": null,
            "overflow": null,
            "overflow_x": null,
            "overflow_y": null,
            "padding": null,
            "right": null,
            "top": null,
            "visibility": null,
            "width": null
          }
        },
        "42b2cf984d774f3ebc2017b401d512e6": {
          "model_module": "@jupyter-widgets/base",
          "model_name": "LayoutModel",
          "state": {
            "_model_module": "@jupyter-widgets/base",
            "_model_module_version": "1.2.0",
            "_model_name": "LayoutModel",
            "_view_count": null,
            "_view_module": "@jupyter-widgets/base",
            "_view_module_version": "1.2.0",
            "_view_name": "LayoutView",
            "align_content": null,
            "align_items": null,
            "align_self": null,
            "border": null,
            "bottom": null,
            "display": null,
            "flex": null,
            "flex_flow": null,
            "grid_area": null,
            "grid_auto_columns": null,
            "grid_auto_flow": null,
            "grid_auto_rows": null,
            "grid_column": null,
            "grid_gap": null,
            "grid_row": null,
            "grid_template_areas": null,
            "grid_template_columns": null,
            "grid_template_rows": null,
            "height": null,
            "justify_content": null,
            "justify_items": null,
            "left": null,
            "margin": null,
            "max_height": null,
            "max_width": null,
            "min_height": null,
            "min_width": null,
            "object_fit": null,
            "object_position": null,
            "order": null,
            "overflow": null,
            "overflow_x": null,
            "overflow_y": null,
            "padding": null,
            "right": null,
            "top": null,
            "visibility": null,
            "width": null
          }
        },
        "39daf7ee2387407fb5ce166154721453": {
          "model_module": "@jupyter-widgets/controls",
          "model_name": "ProgressStyleModel",
          "state": {
            "_model_module": "@jupyter-widgets/controls",
            "_model_module_version": "1.5.0",
            "_model_name": "ProgressStyleModel",
            "_view_count": null,
            "_view_module": "@jupyter-widgets/base",
            "_view_module_version": "1.2.0",
            "_view_name": "StyleView",
            "bar_color": null,
            "description_width": "initial"
          }
        },
        "c2c56a1d86604622be2922033ab6d841": {
          "model_module": "@jupyter-widgets/base",
          "model_name": "LayoutModel",
          "state": {
            "_model_module": "@jupyter-widgets/base",
            "_model_module_version": "1.2.0",
            "_model_name": "LayoutModel",
            "_view_count": null,
            "_view_module": "@jupyter-widgets/base",
            "_view_module_version": "1.2.0",
            "_view_name": "LayoutView",
            "align_content": null,
            "align_items": null,
            "align_self": null,
            "border": null,
            "bottom": null,
            "display": null,
            "flex": null,
            "flex_flow": null,
            "grid_area": null,
            "grid_auto_columns": null,
            "grid_auto_flow": null,
            "grid_auto_rows": null,
            "grid_column": null,
            "grid_gap": null,
            "grid_row": null,
            "grid_template_areas": null,
            "grid_template_columns": null,
            "grid_template_rows": null,
            "height": null,
            "justify_content": null,
            "justify_items": null,
            "left": null,
            "margin": null,
            "max_height": null,
            "max_width": null,
            "min_height": null,
            "min_width": null,
            "object_fit": null,
            "object_position": null,
            "order": null,
            "overflow": null,
            "overflow_x": null,
            "overflow_y": null,
            "padding": null,
            "right": null,
            "top": null,
            "visibility": null,
            "width": null
          }
        },
        "d13cddcce7de43a7acc9c65c155496af": {
          "model_module": "@jupyter-widgets/controls",
          "model_name": "DescriptionStyleModel",
          "state": {
            "_model_module": "@jupyter-widgets/controls",
            "_model_module_version": "1.5.0",
            "_model_name": "DescriptionStyleModel",
            "_view_count": null,
            "_view_module": "@jupyter-widgets/base",
            "_view_module_version": "1.2.0",
            "_view_name": "StyleView",
            "description_width": ""
          }
        }
      }
    }
  },
  "cells": [
    {
      "cell_type": "markdown",
      "metadata": {
        "id": "TDJ7qg0yLBLK"
      },
      "source": [
        "#Imports"
      ]
    },
    {
      "cell_type": "code",
      "metadata": {
        "id": "CNtTNC3TLJmg"
      },
      "source": [
        "%matplotlib inline"
      ],
      "execution_count": null,
      "outputs": []
    },
    {
      "cell_type": "code",
      "metadata": {
        "colab": {
          "base_uri": "https://localhost:8080/"
        },
        "id": "hbKtpHA50Ama",
        "outputId": "79c75859-dcdb-47cf-cc87-9a814eed3786"
      },
      "source": [
        "# FOR GPU\n",
        "!pip install torch torchvision torchaudio\n",
        "\n",
        "import torch\n",
        "import torch.nn as nn\n",
        "import torch.nn.functional as F\n",
        "import torch.optim as optim\n",
        "import torchaudio\n",
        "import librosa\n",
        "\n",
        "import matplotlib.pyplot as plt\n",
        "import soundfile as sf\n",
        "import numpy as np\n",
        "import os\n",
        "import csv\n",
        "import IPython\n",
        "\n",
        "\n"
      ],
      "execution_count": null,
      "outputs": [
        {
          "output_type": "stream",
          "text": [
            "Requirement already satisfied: torch in /usr/local/lib/python3.7/dist-packages (1.8.1+cu101)\n",
            "Requirement already satisfied: torchvision in /usr/local/lib/python3.7/dist-packages (0.9.1+cu101)\n",
            "Collecting torchaudio\n",
            "\u001b[?25l  Downloading https://files.pythonhosted.org/packages/aa/55/01ad9244bcd595e39cea5ce30726a7fe02fd963d07daeb136bfe7e23f0a5/torchaudio-0.8.1-cp37-cp37m-manylinux1_x86_64.whl (1.9MB)\n",
            "\u001b[K     |████████████████████████████████| 1.9MB 6.4MB/s \n",
            "\u001b[?25hRequirement already satisfied: numpy in /usr/local/lib/python3.7/dist-packages (from torch) (1.19.5)\n",
            "Requirement already satisfied: typing-extensions in /usr/local/lib/python3.7/dist-packages (from torch) (3.7.4.3)\n",
            "Requirement already satisfied: pillow>=4.1.1 in /usr/local/lib/python3.7/dist-packages (from torchvision) (7.1.2)\n",
            "Installing collected packages: torchaudio\n",
            "Successfully installed torchaudio-0.8.1\n"
          ],
          "name": "stdout"
        }
      ]
    },
    {
      "cell_type": "code",
      "metadata": {
        "colab": {
          "base_uri": "https://localhost:8080/"
        },
        "id": "XnWouZs1Em3C",
        "outputId": "da44a5b6-271a-4bfc-d887-43c6265287a5"
      },
      "source": [
        "device = torch.device(\"cuda\" if torch.cuda.is_available() else \"cpu\")\n",
        "print(device)"
      ],
      "execution_count": null,
      "outputs": [
        {
          "output_type": "stream",
          "text": [
            "cuda\n"
          ],
          "name": "stdout"
        }
      ]
    },
    {
      "cell_type": "markdown",
      "metadata": {
        "id": "g8HGWfUwPyns"
      },
      "source": [
        "#Generating Data"
      ]
    },
    {
      "cell_type": "code",
      "metadata": {
        "colab": {
          "base_uri": "https://localhost:8080/"
        },
        "id": "fn6XpqJ6YiG_",
        "outputId": "70862119-22af-4e65-b03d-c854bf01e554"
      },
      "source": [
        "from google.colab import drive\n",
        "drive.mount('/content/drive')"
      ],
      "execution_count": null,
      "outputs": [
        {
          "output_type": "stream",
          "text": [
            "Mounted at /content/drive\n"
          ],
          "name": "stdout"
        }
      ]
    },
    {
      "cell_type": "code",
      "metadata": {
        "colab": {
          "base_uri": "https://localhost:8080/"
        },
        "id": "dPM4HLgnD39w",
        "outputId": "776fcad3-40e6-4cf2-a5c8-e48eefbbc8b7"
      },
      "source": [
        "!ls /content/drive/Shareddrives/ASRproject/"
      ],
      "execution_count": null,
      "outputs": [
        {
          "output_type": "stream",
          "text": [
            "data\t     noise_tensor.pt\t     urbannoise.gz\n",
            "dataset      train-clean-100.tar.gz  UrbanSound8K\n",
            "LibriSpeech  urbannoise\t\t     voice_tensor.pt\n"
          ],
          "name": "stdout"
        }
      ]
    },
    {
      "cell_type": "code",
      "metadata": {
        "colab": {
          "base_uri": "https://localhost:8080/",
          "height": 67,
          "referenced_widgets": [
            "524b0122d8e34e0fb729369a6f4dc84e",
            "8c61f585379949e29def3e9545791269",
            "164373ef195542178b6863f5bf8c2f9f",
            "ec6a737d6ee34585b86a69e646c24a84",
            "ae8073c1426c42949f411ff5be661564",
            "f9139ed7c31641ecb9178b61f5ea5289",
            "7b2945987d17484d97e557b05625f03a",
            "3298b3b676104ecc8a51e09eabdfa670"
          ]
        },
        "id": "PUfsviQe8o6X",
        "outputId": "4ef20d2a-89f4-4be9-e4a6-f6952e2836df"
      },
      "source": [
        "from torchaudio.datasets import LIBRISPEECH\n",
        "librispeech_dataset = LIBRISPEECH(\"/content/drive/Shareddrives/ASRproject\",download=True)"
      ],
      "execution_count": null,
      "outputs": [
        {
          "output_type": "display_data",
          "data": {
            "application/vnd.jupyter.widget-view+json": {
              "model_id": "524b0122d8e34e0fb729369a6f4dc84e",
              "version_major": 2,
              "version_minor": 0
            },
            "text/plain": [
              "HBox(children=(FloatProgress(value=0.0, max=6387309499.0), HTML(value='')))"
            ]
          },
          "metadata": {
            "tags": []
          }
        },
        {
          "output_type": "stream",
          "text": [
            "\n"
          ],
          "name": "stdout"
        }
      ]
    },
    {
      "cell_type": "code",
      "metadata": {
        "colab": {
          "base_uri": "https://localhost:8080/"
        },
        "id": "th5Fnp24Ijdj",
        "outputId": "ad82c4e1-a544-42a3-8b32-491d6d1f7890"
      },
      "source": [
        "% cd /content/drive/Shareddrives/ASRproject/\n",
        "!ls"
      ],
      "execution_count": null,
      "outputs": [
        {
          "output_type": "stream",
          "text": [
            "/content/drive/Shareddrives/ASRproject\n",
            "data\t     noise_tensor.pt\t     urbannoise.gz\n",
            "dataset      train-clean-100.tar.gz  UrbanSound8K\n",
            "LibriSpeech  urbannoise\t\t     voice_tensor.pt\n"
          ],
          "name": "stdout"
        }
      ]
    },
    {
      "cell_type": "code",
      "metadata": {
        "id": "eEKCh4QCZXYQ"
      },
      "source": [
        "# generate_data.py\n",
        "\n",
        "# # global params\n",
        "\n",
        "# Sample rate to read audio\n",
        "sample_rate = 8000\n",
        "# Minimum duration of audio files to consider\n",
        "min_duration = 1.5\n",
        "#Frame length for training data\n",
        "frame_length = 8064\n",
        "# hop length for clean voice files\n",
        "hop_length_frame = 8064\n",
        "# hop length for noise files\n",
        "hop_length_frame_noise = 5000\n",
        "\n",
        "#nb of points for fft(for spectrogram computation)\n",
        "n_fft = 255\n",
        "#hop length for fft\n",
        "hop_length_fft = 63\n",
        "\n",
        "\n",
        "def subsample_list(l,n):\n",
        "    indices = torch.randperm(len(l))[:n]\n",
        "    new_l = []\n",
        "    for i in indices:\n",
        "        new_l.append(l[i])\n",
        "    return new_l\n",
        "\n",
        "\n",
        "def get_voice_files(vdir,num_samples):\n",
        "    \"\"\"\n",
        "        returns all the voice files in librispeech\n",
        "    \"\"\"\n",
        "    voice_files = []\n",
        "\n",
        "    for r,d,files in os.walk(vdir):\n",
        "        for f in files:\n",
        "            if f.endswith(('.mp3','.flac','.wav')):\n",
        "                voice_files.append(os.path.join(r,f))\n",
        "    \n",
        "    return subsample_list(voice_files,num_samples)\n",
        "\n",
        "def get_noise_files(ndir,classIds,num_samples):\n",
        "    \"\"\"\n",
        "        returns all the noise files in urbannoise8k \n",
        "        filters based on classIds\n",
        "    \"\"\"\n",
        "    noise_files = []\n",
        "    \n",
        "    for r,d,files in os.walk(ndir):\n",
        "        for f in files:\n",
        "            if f.endswith(('.mp3','.flac','.wav')) and f.split('-')[1] in classIds:\n",
        "                noise_files.append(os.path.join(r,f))\n",
        "    \n",
        "    return subsample_list(noise_files,num_samples)\n",
        "\n",
        "\n",
        "\n",
        "def audios_to_tensor(audio_files,sample_rate,frame_len,hop_len,min_dur):\n",
        "    \"\"\"\n",
        "        return torch tensor for audio files \n",
        "    \"\"\"\n",
        "    print(\"Converting Audio to Tensor\")\n",
        "    out = display(IPython.display.Pretty('Starting'),display_id=True)\n",
        "    ret_tensor = []\n",
        "    for i,f in enumerate(audio_files):\n",
        "        # print(i,'/',len(audio_files),end='\\r')\n",
        "        out.update(IPython.display.Pretty(f'{i+1}/{len(audio_files)}'))\n",
        "        \n",
        "        waveform,_= librosa.load(str(f),sr=sample_rate)\n",
        "        waveform = torch.tensor(waveform)\n",
        "        dur = librosa.get_duration(y=waveform,sr=sample_rate)\n",
        "        if dur >= min_dur:\n",
        "            waveform_segments = [waveform[i:i+frame_len] for i in range(\n",
        "                0,waveform.shape[0]-frame_len+1,hop_len\n",
        "            )]\n",
        "            waveform_segments = torch.vstack(waveform_segments)\n",
        "            ret_tensor.append(waveform_segments)\n",
        "            \n",
        "        else :\n",
        "            print(\"Skip File: \"+f)\n",
        "    \n",
        "    return torch.vstack(ret_tensor)\n",
        "\n",
        "\n",
        "\n",
        "\n",
        "def create_data(voice_tensor,noise_tensor,num_samples,sample_rate,savePath=None):\n",
        "    \"\"\"\n",
        "        generates voice,noise,noisy_voice data by randomly mixing \n",
        "        voice and noise data\n",
        "    \"\"\"\n",
        "    flen = voice_tensor.shape[1]\n",
        "    # voice = torch.zeros((num_samples,flen))\n",
        "    # noise = torch.zeros((num_samples,flen))\n",
        "    # noisy_voice = torch.zeros((num_samples,flen))\n",
        "    print('Creating Data')\n",
        "    out = display(IPython.display.Pretty('Starting'),display_id=True)\n",
        "    for i in range(num_samples):\n",
        "        # print(i,'/',num_samples,end='\\r')\n",
        "        out.update(IPython.display.Pretty(f'{i+1}/{num_samples}'))\n",
        "\n",
        "        id_voice = np.random.randint(0, voice_tensor.shape[0])\n",
        "        id_noise = np.random.randint(0, noise_tensor.shape[0])\n",
        "        level_noise = np.random.uniform(0.2,0.8)\n",
        "        # voice[i,:] = voice_tensor[id_voice,:]\n",
        "        # noise[i,:] = level_noise * noise_tensor[id_noise,:]\n",
        "        # noisy_voice[i:] = voice[i,:] + noise[i,:]\n",
        "        \n",
        "        voice = voice_tensor[id_voice,:]\n",
        "        noise = level_noise * noise_tensor[id_noise,:]\n",
        "        noisy_voice = voice + noise\n",
        "        \n",
        "        if savePath is not None:\n",
        "            file_name = str(i) + '.wav'\n",
        "            sf.write(os.path.join(savePath,'voice',file_name),voice,sample_rate,'PCM_24')\n",
        "            sf.write(os.path.join(savePath,'noise',file_name),noise,sample_rate,'PCM_24')\n",
        "            sf.write(os.path.join(savePath,'noisy_voice',file_name),noisy_voice,sample_rate,'PCM_24')\n",
        "\n",
        "\n",
        "\n",
        "\n",
        "\n",
        "\n"
      ],
      "execution_count": null,
      "outputs": []
    },
    {
      "cell_type": "code",
      "metadata": {
        "colab": {
          "base_uri": "https://localhost:8080/"
        },
        "id": "0xo7NIezK7xD",
        "outputId": "f17ba0db-9f00-4e46-9e14-9e5111d9f6be"
      },
      "source": [
        "voice_dir = './LibriSpeech/train-clean-100/'\n",
        "noise_dir = './UrbanSound8K/audio/'\n",
        "num_voice = 10000\n",
        "num_noise = 1000\n",
        "\n",
        "# classes to consider\n",
        "classId_map = {\n",
        "    'dog_bark':'3'\n",
        "}\n",
        "\n",
        "\n",
        "voice_files = get_voice_files(voice_dir,num_voice)\n",
        "noise_files = get_noise_files(noise_dir,[classId_map['dog_bark']],num_noise)\n",
        "\n",
        "\n",
        "print('#voice files',len(voice_files))\n",
        "print('#noise files',len(noise_files))\n",
        "\n",
        "\n"
      ],
      "execution_count": null,
      "outputs": [
        {
          "output_type": "stream",
          "text": [
            "#voice files 10000\n",
            "#noise files 1000\n"
          ],
          "name": "stdout"
        }
      ]
    },
    {
      "cell_type": "code",
      "metadata": {
        "id": "H51NAmjPK_KU"
      },
      "source": [
        "voice_tensor = audios_to_tensor(voice_files,sample_rate,frame_length,hop_length_frame,min_duration)\n",
        "noise_tensor = audios_to_tensor(noise_files,sample_rate,frame_length,hop_length_frame_noise,min_duration)\n",
        "\n",
        "print('Voice Tensor Shape',voice_tensor.shape)\n",
        "print('Noise Tensor Shape',noise_tensor.shape)\n",
        "\n",
        "\n"
      ],
      "execution_count": null,
      "outputs": []
    },
    {
      "cell_type": "code",
      "metadata": {
        "colab": {
          "base_uri": "https://localhost:8080/",
          "height": 72
        },
        "id": "fXkSczeoK_-D",
        "outputId": "21d88b71-68e1-49b4-88be-15e8996375c6"
      },
      "source": [
        "num_samples=5000\n",
        "output_dir = './data/'\n",
        "print('Removing old data',os.system(f'rm -r {output_dir}'))\n",
        "os.makedirs(output_dir)\n",
        "os.makedirs(os.path.join(output_dir,'voice'))\n",
        "os.makedirs(os.path.join(output_dir,'noise'))\n",
        "os.makedirs(os.path.join(output_dir,'noisy_voice'))\n",
        "\n",
        "create_data(voice_tensor,noise_tensor,num_samples,sample_rate,output_dir)\n"
      ],
      "execution_count": null,
      "outputs": [
        {
          "output_type": "stream",
          "text": [
            "Removing old data 0\n",
            "Creating Data\n"
          ],
          "name": "stdout"
        },
        {
          "output_type": "display_data",
          "data": {
            "text/plain": [
              "4999/5000"
            ]
          },
          "metadata": {
            "tags": []
          }
        }
      ]
    },
    {
      "cell_type": "code",
      "metadata": {
        "id": "KcSllJpDbiTr"
      },
      "source": [
        "# save tensors\n",
        "torch.save(voice_tensor,'voice_tensor.pt')\n",
        "torch.save(noise_tensor,'noise_tensor.pt')"
      ],
      "execution_count": null,
      "outputs": []
    },
    {
      "cell_type": "code",
      "metadata": {
        "colab": {
          "base_uri": "https://localhost:8080/"
        },
        "id": "zqbwNJNCcyxP",
        "outputId": "38835af4-702e-4009-d931-185a8b491616"
      },
      "source": [
        "!ls"
      ],
      "execution_count": null,
      "outputs": [
        {
          "output_type": "stream",
          "text": [
            "data\t     noise_tensor.pt\t     urbannoise.gz\n",
            "dataset      train-clean-100.tar.gz  UrbanSound8K\n",
            "LibriSpeech  urbannoise\t\t     voice_tensor.pt\n"
          ],
          "name": "stdout"
        }
      ]
    },
    {
      "cell_type": "markdown",
      "metadata": {
        "id": "nrsacIu7QMDC"
      },
      "source": [
        "#Speech Dataset Class\n"
      ]
    },
    {
      "cell_type": "code",
      "metadata": {
        "id": "XYExv6X-RW6P"
      },
      "source": [
        "class SpeechDataset(torch.utils.data.Dataset):\n",
        "  \n",
        "  def __init__(self, file_list,sample_rate=sample_rate,n_fft=n_fft,hop_length_fft=hop_length_fft):\n",
        "    \n",
        "    # store the file names\n",
        "    self.samples = file_list\n",
        "    \n",
        "    noisy_voice_waveforms = torch.vstack([torch.tensor(librosa.load(nvf,sr=sample_rate)[0]) for nvf,_,_ in file_list])\n",
        "    self.noisy_voice_spectograms = torch.stft(noisy_voice_waveforms,n_fft=n_fft,hop_length=hop_length_fft,return_complex=False)\n",
        "\n",
        "    voice_waveforms = torch.vstack([torch.tensor(librosa.load(vf,sr=sample_rate)[0]) for _,vf,_ in file_list])\n",
        "    self.voice_spectograms = torch.stft(voice_waveforms,n_fft=n_fft,hop_length=hop_length_fft,return_complex=False)\n",
        "\n",
        "    noise_waveforms = torch.vstack([torch.tensor(librosa.load(nf,sr=sample_rate)[0]) for _,_,nf in file_list])\n",
        "    self.noise_spectograms = torch.stft(noise_waveforms,n_fft=n_fft,hop_length=hop_length_fft,return_complex=False)\n",
        "\n",
        "    \n",
        "\n",
        "  def __len__(self):\n",
        "    return len(self.samples)\n",
        "    \n",
        "  def __getitem__(self,i):\n",
        "    return self.noisy_voice_spectograms[i],self.voice_spectograms[i],self.noise_spectograms[i]\n",
        "\n"
      ],
      "execution_count": null,
      "outputs": []
    },
    {
      "cell_type": "markdown",
      "metadata": {
        "id": "0Oi5OOJBZVFP"
      },
      "source": [
        "#Prepare Training,Validation,Testing List"
      ]
    },
    {
      "cell_type": "code",
      "metadata": {
        "colab": {
          "base_uri": "https://localhost:8080/"
        },
        "id": "_mI2UrR7ZCgQ",
        "outputId": "41670f33-834d-45c3-86a8-f02a8848d67e"
      },
      "source": [
        "dataset_dir = '/content/drive/Shareddrives/ASRproject/data/'\n",
        "\n",
        "file_list = [(os.path.join(dataset_dir,'noisy_voice',f'{i}.wav'),\n",
        "              os.path.join(dataset_dir,'voice',f'{i}.wav'),\n",
        "              os.path.join(dataset_dir,'noise',f'{i}.wav')\n",
        "              ) for i in range(5000)]\n",
        "print(file_list[0])\n"
      ],
      "execution_count": null,
      "outputs": [
        {
          "output_type": "stream",
          "text": [
            "('/content/drive/Shareddrives/ASRproject/data/noisy_voice/0.wav', '/content/drive/Shareddrives/ASRproject/data/voice/0.wav', '/content/drive/Shareddrives/ASRproject/data/noise/0.wav')\n"
          ],
          "name": "stdout"
        }
      ]
    },
    {
      "cell_type": "code",
      "metadata": {
        "colab": {
          "base_uri": "https://localhost:8080/",
          "height": 75
        },
        "id": "KXiEQ8Q4qMlg",
        "outputId": "7b7ea3ef-969b-4044-f517-1ec150d6bbc2"
      },
      "source": [
        "# %cd  '/content/drive/Shareddrives/ASRproject/'\n",
        "# # %cd urbannoise\n",
        "# !file --mime-type urbannoise\n",
        "IPython.display.Audio(file_list[0][0],rate=sample_rate)"
      ],
      "execution_count": null,
      "outputs": [
        {
          "output_type": "execute_result",
          "data": {
            "text/html": [
              "\n",
              "                <audio controls=\"controls\" >\n",
              "                    <source src=\"data:audio/x-wav;base64,UklGRqReAABXQVZFZm10IBAAAAABAAEAQB8AAMBdAAADABgAZGF0YYBeAABE3Pf1FfutNv9SHQTX1wmcVRDjHhIBdwzk/QNwa/2Bx/jgRfWStfOgifP7ZfQ87ffNaP5DtwRV1gldow8uDRFGDQtQIAPyNf2bL/lCbfb97fTt9PNTwfRcAvgVov1/TgR/fwvWChIM1xE1NwutbQM64/3nwfmYIPYyo/Q/x/QwBvb6y/f3A/zX1QHeBwkbNg+9Og/XJArSlQNTpv8EIfx4UPjV7/WET/ZzmPdPT/liO/4TAQSlbAojWw58jw2i2wfAzgFGEf+SsPsYjvhSqvbQU/fbdvj+Q/o7hP32xQFirgjPcQyMqAoQFQYD3QJ03v/C9ftHU/n/Rfjz8vms5vwbWf/gOP9c7gFV0gcs7wnslAdrqQMcMAHScv2LTvonhvhK2vcct/oCAgBrtQLZ4gDmgQH0cwQxDAbrOwS1qwGl3/81JP3WIvsoVfoBBv2IJgEbVgSv0APjPAGdVQHX1wI4hQPaqgDHbv0yXPtFdPoZtvlGXPut7QHslgdXLgeKWwKSPACPSgCE3wDD7P96j/1+J/s6+fnzNPv2Ffx5/gBhBgkoiA3coQlffgEH6v67SP99U/3BevkqJfjfDvgpj/a7avjKSP9dUQnUbBCacw8LHggasQAn4/2Dtf3RNvsn4/Yp+vUNdfeTifmxS/6uLQj7BxD0kA5aGwmt+QNsNAAobfy+Qfl48PX++/Ke+PPyRvdkQP6unwcBLg8LkQ89+QgjdgTfXwB4R/t9+/ek0fZ3BvYeUvSS5faKmv3PlAeG6Q/mHhG02gsTEgX/WwBVLPpHE/X4vvJaCPPST/UaLPrEwv9N1wUChgySew7HEQxX+QYVQgKaKftBa/VVd/OOpfFiUPWBWf1qJwTvCwjeEQwSLA05GQtDiwcFngAmYPgTwPP5uPIqx/Deo/WjP/8BBQbohAgFFQrrgQyleQqPqgW6OP2P0vQkGvKNhPJWqvQel/s9eQSNTAkDJQpotApUZwvtqAkWqQV91/vxtvH+ce0jte2F4PWb+gFP8QhLnQlTCAlLTgt/Mw1HQApSnAGCnPVEHe4K++pA6u2ibfv42we9SQvh2QjH4glmYQ7b2AwKAgekiP0Yh/O1re3gBe5pzPQGTvyShQJfogV1bQcAcgyx/g9qggxiLwTp0vonOPGf4uzYb/JTB/qm0v1qMf/Y/wKX5gqPUBFh+hAZ4QitVf/yBviQHPNVXPWCe/s1ofwv7fjUp/apnv1fKQpNjxJkOBAZYQWfx/wVbPdv1Pavvft3y/5N1/oZwvMEM/XarwDBTQ3EzxHywAwtbQTMVfs9qPfxwPzuOwIwnQAW5ffG/PIjY/gsUgJXaQkgCAoFFAdqJQH1T/zWVf78PgNxYAPOzvsCmPSpCPXpaPyUFAVd6wm30gmRgAXv7v++MP7GQQIzkwSwqwBrgvp3zPc24fp/DABbkwP2sgSJcgNRJQB1yf7DFAKyZQaclwPgRvtbnvbeE/l6GwCGLQN+VgJ6qQFBKgHtmADjkAEE7QbOOwghcgAXMvgadPcLNv6xdwRb7gRYIQI44/4EmfswcvoaLv+dSAaBqQXWCv4tPfmIEvzgUQJTUgX2lQPnLv9Bg/uGTPuq5P5pdwPH4gSrDQDoqPnPYPqsKAKwbgj0QAjDQQSPYv4Mgfkm4PiCYP31gQEPQf/jbvrravl7wv/nXgadWwfNjQUDYAM6sQB0lvw5ovsNa/4/av4MePlGjvfjWP1afQVgHAqXsgmlQgbxIwLH7P9cAv9tQf4UYf2idvnVlPRKY/Z2rf4Y4wVaewg0GwgsEAdA3gTd7wFPg//FW/0PCfsJrffecPaJYfvvdQNYHwiclgeh/AWLxgWTCQUOYAMlnAHkUf4FVvlGofV8V/bmWPvKUQH6vQTemwUTJwZjpwUQQgNuIwGTJwCINP31yfgSTfe+tPqlrf9nMgLlrQPUFwUkRgYaWAVhEQPADAIhWwDbfPwfIfhYIveWHfoTiv4NxAHLcAIv2ALlYQTgqwTK3gIcLwE73P7J+vohL/gF5/ii6vy05AGMuAVS2AV7oQP9zgFhCwEOGgGWFgGdgQBHmP1zKvqOsflwtfvyA//60wLD8QR/6wSDNgPpDAGcdf+8T/1quvuyg/uZgvwjqP3DDP4tDwD+5QLHSwTzEAULywXZcAVsCQLD/vxrHfg4FfZtf/r5TwL5pAZYpwSvIQB0Bv3rsP0FNgFGjwNFdgJxzP4uPfoBJfhlevvq7gDTNgWFGAcC2gY6dwSSsQEtYwDY5f6hbPyGNPmTAveGc/gO1v0+nQNHeAfySgjksQZNVwU9HgSEiQJaOgAqc/yFYvcR6PLmC/NtP/gYuv6gPwTfowcEMgmuHQq2/QknPAdlewKWNv6gh/qqqfiNnfkNkfo1FfoBifq9xP1azQGj2gSr2Qah9gWfAgJzq/4olP5WNgABhQAbXf9scf0K8/t0s/1pCQIeNQXFdwO8HP7Z4fpBH/t1zf3sZQG9WASBOwTpIwHyVP/kHQDvKQLJMANGgQHG7/xTqflEGvsWK/7Rfv+Twf5VHP4+8f26z/7OugHnIAVtTgYQEQOOTf7bOvyGvf1DsgBhbwJq2AFWW/8KdP21Pf7NcgBz5QCfTP98Ev2qI/xPY/24rP947QFVaQNWdAMIhgE/hP9vif9NIAFgfgHS4f/usv5a3v6uJv8vG/9At//CjgDY4wA1PwFeqwEqAwJEaQE2Qf+rWf0Y2vwte/26pf3GSP7klAAovAL4oAPO/QI2GgJk8ACBif/9U/4UC/6mCf8n9P/qPQFC4gEl9QDJjv+VMQBu7AEJ6wHdzQDHs/6id/1aRv7ybf99zf9bPAD/kgA8yP9Mdv9WSgH23QNQKwQWYQKXJAD+4/0nOf1WMf8XBAGhcgB32f4BCf6ibv8oyAFumwK9FgK7gwA0hv1x7fooIvyo1f8p/QHfbgLB2AIiUQOTJwOdwwKYYQJ/fgCPiv3O4Puplft1JPy9NP0Lkv+l+wHMXAJhTwKqpAMcPATa5AHfLf+ZYf6MXf7yfv3s1/27i/+vQwC9+f8mkgDrVALKKAN2WgKQCwHbHwAV8P4pJf5VyP3I7P1Hxf7VLf9j6P6nqP8lAgKXqQMvqwKtZwDvMf9grv4un/6wcf8ezQCFsgAOWv9EG/4s5P1zt//+KwERZAC1bv8cxP+vjP/sZP6QVf9ZLgJK1wK2AwEU2f8lu/8lCv/Lhv5Gxf5lZv5+Wf2q6PwHYf0sCAApqALJKQJ8qQFBigK4cAHwNf4wwf2glf9Qiv8Ztv1Wl/0Ekf89YQARDABGCACdcf8re/7b0P20Nv50+/7ztP3MeP2bswB8VQNEaAG34v8OMgII+gJ0HgH5sv8vWf9QZP6gu/w51PvDQPvaq/qAfPsPWf8mxAOj8gNcegJHbwPY0wORbQAOV/43GwDiFgCNAf5WBf480v/8XwBsjgAH2AGzgQHNAf+4dP5aAAC2ev9nlP3Dyf533wBx3//lRP+f2AE+2QNdwgIETQFzPwEayQCKO/+zb/6btP1wAv3V2v3TF/8q2/9W7gBkBgOg4ANe8QLsnwGASABy3f/PMADmXf9T6fwDF/yTbP7h7f8YNv+ABQEPOQKnNwAtCQDujwIvtAFkwf9ThQF56ABTFf9uvP/AhQEi9v881v1Hdv+w//+twv8d4/+jt/4XQP4BXP/lZQD8kf/73QEJMwTBuQDoIQBSLwL7oAEDOv249fyLQwCLIwAaGv9F5P3MlP654f8hswCaQwEtHQSjsgSdOQEr3f/EKAEUCQBKiPsKrvrQiP5ewAJ1jwAfqP0E9gBFMAPt2v+1Kv8fvAKmOwMLnv+UJv6SLf/QFv7a4P90OAOFAgLf8P323/+z4QPQYAIQXv9o2P47sQA/0QHaDQCYsPs7wPr82gHbogYbUwDi9vvxaQK0aAZsTf7IRfplEQDx9AOqQQLfsPwrwfvHmwQSUggTVP8HEPtIQwQGkAaC4vqFWPgHOwFgHQZ/uAB/N/vjqPxIBARgWgbsmf1u8vi5KgBu7QXCUv9HlfuROAEY/ATTSAHroP0Cdv5I2wJLVAbLmwFB0/m4xfvD5gM6GAHMtvs8Qf4sEQMbuAIXmv7ZfP10aP97lAO7IgOJUvvCe/rkNgOq5wI7OPtMAvt27wK3ngWiuv4/nfroYgHq3QcgNAEyxfgSLf/0oQjLkf/H1/Ulhv25kwa8OgKuGPiG2vlovwW1mQULmfmpYPghdAbmsAncrPp8/vWc6ANyxwrW/v/itfWTF/x68wmN7QPpjPQGzvmjHQuvCweMTvafWfkEzgnKHQrDXfr9p/RU+AFQrwpX0vto6fDxTABuwQ4bRgCfvvDfcv2NxA4GVAavFfWTB/pLrAuLOQfAsPJMkfWB+guA4Qt4fvTMSfJn/gqqkBHkx/mTk+/NBgXY+g9c9fcX5unr5wIChhOGLPwX8eq7QwJauRkfPgYgcuvQbfoSZBRrkATDq+XpDvTwHBZpRgnKF+ondfY1+Bc0zRP/vvHF3u7mHxAb8hOfIOupb+E8DQuCYxeIa/EhA+hvig8LBR6mbvtrlOiOKQRZNhr3ovotCduxyvvKBx7YqgAx6uJSTQNAgSW97wcyPOb2tfwNSBpEPgQbA9zrIu1f6xju7AsgBuQZIPXWKiV8BBhLweii6PMJxxpT6wp7KNvMDePFuhRqRhFPz+fsze/gviFnaCEBF/Eaeu85Jhjz5xPPRd9zatqTBQ/E+RQt0ejxGepEmB+x9ygQ1/QLxOpTaxVYHRZW8uAvCdXGkAiL9xPWFOkKU+iMWR6EoCsVUfttdu9NzBYuoxeHfeDKC9Sx+QdHBBC9W+Wa1ui9mSG+ViwL5vsCTvX+qBtYHxWcndvaW9N/HweosAlmRd79OOghaiUMPS1CQvvzePmXMCIEehZjztdJZtW18AfGwAAjM9m+QO2r1ShcTii6mf7m9gMFBSOrmg4299g7Dt9pTwNLFPQgttlmjPY1nyWQ2xw9YAJGew/1HyId4gNeVdudH+qlI/v7LeYuU99mZQWcnCFENRQuhQxi+hqZqRh/nfiEs+j5nPRPlfGvUeKGPe0TFAz6MxQ3ggyyQxSnVx54HAxMw++kg/I9dfXOhOSTP+L/XfwZjw3Cugn4wQ+/Vh34khfv9PziQvVd8v4UKfEHL99NqO3sMwf2iQUSWwG7tRar1iXipg1t5O0bwPpXZAFV0eUwhN2JRf8GMBHAWv5ACgCn+BrdXSFHL/yDG+wxi/6kKPeswuJyse7x2AsU8gyAbAAuewpNFh5nQRLALu9BLvIt6P7TQO8w7uZeW/sSSg/qNwPiXv5atRcSRyWHgAQIauNVeOMsQO3NV/p1vAWhAgZZrwQHsAkN0BBlPQ9g6//n4u2HF+5p2ADHsQVHw/bxmfFg9QiZPBL8o/h5dfOVBRxNcCWF1fDbPNgNNvFCxQhOIAZp8Pd4HvksQgahBQqagARNT//ljP7CaQWygQJhtvnNIPlHkft80Peh5fhpcwRWZArCLgwdQQiD8gKHAPvZsvRuKfTaa/7FIgoscvw2ku6ivvmSdBF+1xkwHwfYjvOzA/ts1gMQ9fSPFeNHPO1AGhf9NiPXQv234evyKgxovxi+OvaB+uA4y/l6FxFFCQH5dvRx2wBUfw2lOwnHevxiJvfFr/ULffTY5wTO9hUCFwou0vWlT/cPbQr9rgIyJuDAaujsZho+YSR01/sTq+ftEv5U7xK02gW6eO60h/YPpgso4AZFcvNgwuj+z/gqpRpexBtqvQJEGPl8sgFWRP8lw+QBmttEygY+Wyjz1wtTg+04fQDYFBZJGPwlLOFdffkZESGSvRO/v+n7g+ZH1gTVABTA/Ps7G+S3dgOHDyjIhg9e8eW5muSZ0gR4QBgDQAp/N/Jla/AS6/5/QQK5GfvDSf/iBRH+iBVFBwCURPGEMPbl7uxI6e9zPxTBoB1wbwTaVvOt8vzc6gxEAf0Y7e0vewX1wRRYr/6mK+b/autYZwGAXBTBMBkFhgsGUvwUzfGUJviBwv7HvvS3ePqfhQ4I3w6+RPmKD+6Cp/RQFAfcWhufuBRgwfuaLu0Fufd+9QFj4fR6DfL67Q1JYRukvv8HfuidQvHqwQ22th+f3wugselgHetlbgT/eQP79ez5Qvoh6CBdvxuB5/HCreM/VfdL3AnRMQ+E6QSeFPvJOvtJbf4XJ/u4yPkBWgIT+hBjUxEnNPrgH+e+iOuoOAwDWSHMJAsABOqhUOtQnAaAiwuVs/cn1PgqsxPdNRYMYPTbNt98APGrSBNvvxzMEAGmMelZYfJb3AraXwwD7vydpP+kyA10hAbJ6/DN9ObMzPOjRhIcQiAoXAlFg+yAEvJySgStvwHGs/k1OQR8fhChSwej4vMNrOjW2vQfehNybh6CJAfHFO3/9e44Nf1uLP2sxvz5/wnDHxdDDgxlIfJuTuQfZPOKzREvARg0bQLupvGIIP6x+gXTHvArHuwWeQ6X0STrBQhC7uUHoOw2vf4V1AP9RAoBLhG0GwXiPvde5vmKLPtJC+5fGvGQhw7o2Bk7wQkbqfmfS/gA6Pqwrf8WjgbalwAeqvZaDf0K5wY2gPukmux+bvvQvBhkKhmiiPwko+vLoPiGPgR4gv46avtxAQVRHQugBgKXWfSpUPHNffH4VwEuZyE4aBzWkfiFZeIXn/fdChKz8QMGQO6v0vij/A1IGwYlou/XDupwQget9yMFYhr+qfWFDeHNtfOvRQkfBAUkUPp72AFJyAt6nPxq1Ol4n+4Vigjx6SMdJx3JkvnhzeDmMu3CiwXnHQtO/P4y4/i2vQNGjQKjY/fhe/JdtQH71B1rGiBqrvrh3903++rJTQA/8ARsGP6u7gKeWAyu5AVWCPnik/Ks7v3JbxiiAhwDWvfS/9jV/ejN2wcUlQon4QBkkgWZFg2vrQQpcfX2qe8+xADVGxihZhNsR/I6I92l9u5LLQfJAgozHgfgqA1QOwzSC/sBuOsEMe9+WwVVURrYaxYpg/aIrN9WYe2cjQMl+waZHAZpeQwJMA68IgAJL+2As+3RywUlNhhdqhAEw/XEp+UQ1vGB2v4yPQInkwpPvBQH4ww8oveteup2W/DAgQnusBj8PAtxYfVTJu2sbvLOsPp6KQSseA+fOhIczQLcxvLNRfF39fcKdgeYthIeegnx8vSd7u1blfk3egBjaAEv2wYe5w0qEAgkmPZ4hO8OAfpvOgwXaBGDhgKqBfFSS/GqEv17agNWbgaI9AhyGQewOf+LtPYqlfOZcfpchgqM2hK+dwQbn/DDWfComPxx0QRG7Qb3DQbw1gLtKf40xPtHDvsYaP3fgQht5w+wtAEFse2Aue+SR/4lsQfd+AuceQk+PQIczPu5vvtKzvycc/t8PAEXJw3P5Qfl9e9mKux+mf60EQyrXw3eRAeu2wBMQf0A0Pq7hPc+ivrSQQeyGg91JwM2WPDF6+9Sf/8HGQvLOA340wb0+/t4pfoKJwAst/1bf/lyTANPrw6p7QK38u7QSPC6JgCA9gmA8gvTWwdtuP36oPvQYv7W//vU7fnkpwOr2w+rBgWWc+/OAe8KFv+XRwjnTAvwtgl1DADYDvxXQf0/8Pq60vmqmgJoBQ5D1wZ//fKOc+0N5PxLnAlcMgoU1QZJdwCIZP8vxP+pVvpiH/f2DwCBPQ0WQwkZo/d7rvIh+v9aogco+wO3TwKAnQNgmgMpz/+qpfhc5/RCbv18Gwycow0JM/7h5vMPV/vWwAIMEABSxf4EQQS2IggLwQIryvccXvSH/vv5Kgc17QyBcATi/vlLZPtSlv+lDv7LUvoLtgBG0Qvn/QmodfsX/PJmgvzm6QEx8wBkBgUuogRQ6gEMUPyE7PrZevyPa/p4tAPBkgv0tAToiProyPkUfQM9NgII+vkBfv3QbwTUfgVlGAAfjvsqcP41JATomAHMXPiMv/kzwwSBWAhRXwDupfwnjgKYqP7offaXE/09tAZ+TQfD/QLpHv/qt/ySFfn/Yfo1FQNNZwa9WgQoQQK2Hv5UA/6bY/7GEPn9Wfpn1gPRLwuHugbA//pTbPyzLQNdsP6Sm/iL/fxH9AU8XgcusgGEUPz2s/6DawTahwHqgfleqfnGTwNtsAh5XAT2mv4Wx/3HJf0nefmoh/uYtQGheAbB2AswkgiE8fsFMPUGkfqTCALKUwEHGv/01wKxFQZ8cQFORfvKy/hWr/wPbAVeowgF8gJWHPsD2vzo+gFM9//sWP8aSQVE0gePMv+9hPfwQvlWQf47FALxRAKIFQEhlv9myP7OvgDQvAB5KP8lD/+j6v5Pwf9sjQBb0f9FIP9dpP/5aQEPZAHVLP8DQ//WWgHj4ADZTv4UfPykn/4CqAOU8QDdmPkPkvnQVgG1XAf9OgGrTfymtAF7kAPwR/424Pl6g/yU0AM1mQUwbP8uqftOav0JIgE9vAFrYvze1fvp5QCnmAC2If6S4v1goP6tQgIZfwZZJQY9DgCA3/r5/PzRvv/HgvwHhfy2bAGB2AI4Yv/7Ufqt6vuLIgJ5hgaCLQUkYP7PQ/3t/f//s//79P1rDf8wGgS4rgOElv/80P10RfxoKPwutf45IALpvf9SpPx1CgCjIAPp0AHcJP47mv+zNwM1qQCvAv8B5f+Xhv/Gp/+fV/+40f0wgPuCvvxWhQHKawKUegCyjf84fgIKmQMTuP1bD/y29v8ffQR1WQSjkf+JY/57j/4S0f5ysAAxhAGTeP9A5/xqk/yoY/zfCPuPUP9hnAcjCwlWpQMXGP7TDf+qRgHNtQAt6QPIsgKzYPw+mPjb0/ek9vtYcf5ORf/LUQNFxgX5JgU10gNlIAN4lgNlAgNsJgIxoABHuf0izfqtofjHb/yO3AEdrQFFG/3ZGfuCGv7Fyv8ojgAyBgTqlghH+AhqmAX99gB7G/7k2/wZRvx2Yv+RLQARHf1pXfw9O/5CQf+H1f2dtv6xXQKsEgRTiwNCcwJZrAQOiwaf5QICmv2vmPv3u/2omv5Gwf1Ec/0mQP5yff2n3/dLsfZqw/0QcwfvOg6ipwsQpgXSJQNy2wHXg/8iXvxox/vEaf13UP6t3vzwTPlIm/fhNvtA4ADZGgTBZQWdcgf3SAc0VgT0cwLSrQB4u/4BV/tBBvsCkPzHr/t3Hf1z5v1FffwjTvtLvf1OzQMlMwfJVQjTDgq46QhyTwOz6/1kvvnmrvnQ5fyK+P20F/0oI/rv5PlVD/1HNwELoQWPBQjiRgot6wgHMgMGRv9EZP6w7f21c/xwuPwbOf1h0vyWcPsHPPq1fP1OpQGrOARcwgYkvwdl4ARLkQCs1wAe3QTUgAUovAACUPzvrftpB/s46/g9v/hRl/ypHgJ47gK7uwPxyAje5Qh2JQUJgf8q6Pvapfw2NvyxAP9/QQEqUf/qffx4+vr7dPtPavxYbgKQ2Al7gQvvsAV0F/6VyfzXzP1mcv7p7v557wDZJAM0UADv0/tMafhzvfgCjP/t1AVKUgejOgOzDv5frP19K/9vqADIYP6/8P1GZQJGTQIvu/01F/viY/2JqwDkAQOWSAPrewKnxAKYPwKvZQLG/ACRGf6B2v6BMgFx+wG+f//YNPxnyP7mnAD/kP5EU/2lefxLZv1tCv5gzP21b/9CZgC4Hf+82P9zxwHNewF0AAAVhQCh9gQ9CAnu4gWfcf5Iqf0awAFWOARzWwboSgZ03wX6LAPwPPyjR/hxRfVd+vP1efakqfi2kfikSvTBOfAYovjyngMw/ActKA+YDBXNIxRlUA0MTQNE+vwRv/uumPsX4/x2PvpNivf/cPr/BAALAwbkrwpwWwsHoQrf7whAngJxYfezNe/BDfETw/DK6eu7Sum/3/JpfPzquf9rMQwvjBayChXL2hS1DRUe2wzLI/+N1/YeT/qw7/prl/D1Lez4ffXPGvtdGP48oQUP9wxwThBNWg7obAwXzAy6bgZQQwCMc/xKBvPQFuvKyOUPUuSjpessUfivZfuvdf6ykQwWTBOlcA4czgyxKg+yWxBr3AiIbP0Hwvt5xvqq8fSxR/TcbfctXvkzof27mwLbAgWOZgQWdQX0oAkjRwqHGAimpAYThwbkcAfdF/314vP0ffOsFOswcOMmcetDvPNdRvInuveKjQXIVA/rsw+aChGFWBmRkxty6Q/rmQZYvwPUu/kZY++IWOwWgOvzVeyUg++UevbPugHXwwjP2g3vXhbGixtGZBm+sRU0Mg4HuwQkT/lfAuo/T+QhTeB9EdlDrNt5F+yhrffNDf4Cygt7XxkPsx/2Ch75dhgJ9BbWXhAM8/6KjfX/VvPqnu6UR+wZc+8fBPdUOP0cHADzLQXduAwLygycdgeMXQ1ZcBOUsgrlugH+Xv3sB/25tfmvRvH72fKGg/ffLvJjie7vM/Exve8MJvZApwFckgZ/jApm9gyMSw7OwRMfHROdIw37NxG9BRFaIASiBvc0/+1WRe6Duu1xCu5tifLOI/k9XQSMLQtbQA3/qRMo4hzafBxZmxK95gQ+VPd+he5GxedNVNtbotse7Ohh+Ok7b/Ct5v4vsgh0Ixc5Ax3vKhhO5xh22BW4yAmtLwOXM/+8kvnrbfaDoPRNHPNamvZd7Pzjdv4ugAVscQmRqgaREgg/FwbodwTPrASpBQDB1/u+oPmvNff0WPVub/DC2vjzV/7OefQiAfd7H/66yf/gHQCC/AAaOgS+/wvETgyuYwYJuwliGA5/6wz45wfWRALH5v0xN/2OGvnFVfFBRPcMgf81DQK28gHUbwHqzwcQQQtQyAW8rv1V1/rQ7fu/fvNOXem2i/DJKffzdvcYPP2DaP+3xQLj1AjA7QbMPQYi3wnDQwiaEQUq9wRfigFZxv4+YAJnFQGcZwBoJwOtn/+ShgCOxgPjNwA5XwBTfwBRUf3wJv/kMf50ZfvkFv/LNv9Rd/uZjfzIvvrnZvxAbQHtaPu3BvuOgv/TO/zavfw5OP/F//8bpAUoQglJAQQligI5EAbhNATN4/53Lf3HJwA+NgCGrP1P9/3xWwJcTga1UAfJSAU3eQKcMQSNbwRmi/8TAvvTUfrBQfkk5PUTzvXpI/sxlgFT8wQrVAVljQHmFf9C5v5f6Pz8jvvu6/omL/t7f/qkA/v+7P2MRwMXOwkm/wqw1QixiwVjVwTH5AK2fwCuqP57EP9O+P3Y+PsKh/wgNP/bcQQnwQbSTwX8EgJPigAg5/7jgftowvh8cfjQUPpHufiSn/bSQvmX0wA0nAZsiAWtcQH/hv/SU/8xdf49lf1y0/2T2f9b8ACcK//4Av9d1ANNwwipdwtuOgpCsAQazgBQo/57vf1tHf72rP0gz/+qNgFHUv8EhP++qAJEowQA6wDjhvqCyPVcffRlavdQ0PpqtPt1uPz5hP4xsP+0xQLTRAjS0AtN5wdqrAAsg/0c1/0wPP0zl/yO3f9y3wMFewal1QZzhwWbZAZudAkzIAcnj/49MPjgJvY00fVPAvegp/muhfw9HgAj3QLFsgTdhwW0SwWsdgOA6PzitvTqCvG8L/L0PPbF6vvNuwFluQdW5wtRWg2zIw9U7BDGcQ5aTgW4w/hsPPBloe8GFfS6nPkdWv8BWgVMjAkcpQt17w39rQ4ZUQtfXAKCpPVBIuzfV+rsI+3TbPKa+fi26P+y+AaW2QkFTAxbKQzbTweU8wCTOfguo/EATvBAwfR7B/3yewRKagjx7Atq0g+DXBPq9g8YqgRh5fvkI/clpPUQ7/ZDSvhpLPh3pvpfDgGP7wgVtQ0s2Qu1uQMVX/qS1/WGlPPxhPR1jPamivRtMfJfWPajfQHL0AviJg5uhgnHmAZvNAYbaQTxvwG9g/6ChvuRj/hi6PfJO/2g6QNuQAe2SQdb9wXFaQZrUAZfswQwCwKrQfz5a/dIWvaZwfgT0vu9/fuFJPwSM/2aKQDMeQOBqQMBpwTdoQJiGPsxXvWNDPZTfPsdtf5VSf+vTAGYXQVm/QfoiAnodgsrbAs/LAaxev0LzPjB2/nvJf2Os/0TEv3NHf9WYQL47AXwBgnUhQnG/QV+7/8byvnqAPcrnfX7tPSayfV4O/iNRf296ACB1gOK9gUQ2AQv0AHfdP8YuAGGPwQ66QFwzv1xGvxpx/4adwJivwRAPAjXCQkJOQZsGQLo7P95ywE8MQFcn/44L/3UZf1kYv92g/9wWP8rDQFpcgGQkP1cPPjpP/kGCf3JFf1Hf/w1ef28ff9gzP6Tr/zUAP9WfAOq/AXVyQQdpgJhuwIWhgNftALMLAATqgCF/gJMzwL6owFIHQLJIALarP/A+/3HAwC/DAPe5QOeAgJkcf/+2/7um/1k4vtBJ/qZ4flORvrdzvhPtfoorf5oXgHAAQGjlf4RWv/QfgAv5QFVmwI0kgIx9AKYpgDNvP0ygv2GTgBBxgL1BQTgVgRBPgM0mgFBlADYtQCSYgF2pP/M5P2DIP5bYP6SGf/6pv3zkfza8/2Xff1vkfxsDf1Oxv2tFv2H+/rPevqvofoVePw2a/+XVAKFJAZxDQjx5AZ5SQQfmQJlbgGcg/9pQf5lHP86pwD5XwLYyAPJkwWp8QYSZwbQYQRKLQAplP06kf3S7PxQ8Psxm/np//bXSfbCDfj67/sFx/+EJAO0MgQn7gJw7QBkrP1VH/pLNPq+Qf5s7QMzKwde0wWSGAOr7QA37ABIwgFSzAPUpQVGWARoGwHEg/602f/jtQKIzAS1+gWWtwX0SwOGQP+wE/xbePk/FfcK0fNhEfJRuPQ4L/ptGQFViAY+Zwi0QgYc7AJn8AC2kQFlAgINuf91Zvy/w/r0tvwivv0fMP/glQHLDwUTuQibrwmSGQrksQiFCQWtwv9+D/yvIPyYj/5Puv+oZP5EEvwbi/mB7Pftv/aAv/do4foI6/361P4H1P4sc/++LQA+/v/Llv/ciQD6pwKDZQU5tAZy3gaoCQRo+/4tcvugVPwmfQBXTgSzmQXsZQYl8AU9MwOqkQF+ZgJgwARr1gN9BgB5vvti1PkOGPhblfTGZfK4w/QncPkO9/7IcQOGTwW/4QMCGAAzRv6L3v/F1gOz+QXcXgbS+gT16gIwegAjn/8E1P//MwGBmQG2lAGyQQLdmAJFYQM2oAO0RgXrmQUBNAVPQwOVxgCwVfxrPPZoqPGvZu88+fFRn/bzifwpDQN7XAcZDQdJxARjeAIlKwLmoARhmAbEiwaTPAMrLv9z5/t+EfzZHv5ltAHVqwTibwVQ1gTAZwP7NwOLegIPcwPnswNoBASC6AHq3P+oRfwLYvfAPvNnkfBV9/NxNfi3Ff7LTAEhoQIOPAGFmAA+RgKQ4gWhngpecgtrUAlo8gOowP71j/rRsfouK/xG2f7XmAKMGgNd1wORkgT5xgSQtAY5QQjvjwdRTgVdhwCvE/q35vN6re8uveyR8O9wK/bu1PyKTwPmdwXdyQRBrwOyrAONZgYi6AoSFwuHewj9JQNUif39O/q8+vvmdf8BtALSeAKqFv+p6fwL7f7XlgJF/gbMtgk3LwgnBwYWigK+Lf6WhPjkovKrH+wGe+49+fJs8vp8xwHIrAMUxAKvHwOuqwaE3QuRqxCvNg7Opgh6ewGTOvuSH/kvG/sUC/2N0P42o/3qx/ySWP+LbQQstweS4An0vAcVpATFTAJvHAD8ifrwmPRmYuvK5uiUa+/GQ/gfzwIyQAbmdgUEsgMvLQfkigqd+Q9uyQ0SvAanb/4IU/n55PdJ//vDKP5Dlv0iaf/tt/28VgK2cwZjRgn8Ogh9xAbQBgTWxgILEgEN//hhJPHGn+fFLOYA9+6CafraUQPtDQatWgMKxQKFtwgggg+B7BJl+A1GXAPPXfoZnvcVHfl1DfyCWPxHRPnMCPnOrPxWDANZNwrwBwu9uwfbJgQYYQOO1AOiywRWJ/0nVvERxOWsKeK9D+/d3ftqTAUIMwRdB/9MTv9jWAjgmBHEFBTKtQyKbgBlFPk/MPoVoP2xZP8R2/t91/Z7pfdnJ/0ehgXykgqxugiGVAR01QLZdAXxhgijowalTPrXTO1cc+RDx+XGKPQo4/uEVwAH2/01Qf6TFwWzoBBktRUEcBK9Rwi1bv7ZMP04G/5cxf7Ovflb7vV/1vQ7Efv3PQMYbAcRIAhwPwaIgAal6wiY8wqS0waf3gA+7POu8OuHf+ifNemSK/US6/j4cv77nwDZegT4XwqPrhDS2BFStA7r/AfqZAHD6/+9gP0nFfzkjPhcPPltPvroN//ZaAMWeAQ3rQXxhwUsDwdG3QcE2gh7LATwlQAVc/dZDfJAje1y4+mxJ/ST4/fe3f7YSwCn9QEbrAd6oA4zEhE42g7v1Ai72gPieALOr/8aB/66l/k2kPmh1fqjLv8z2AIgRQMfZQMjnwTMdgfxRwoLWgk3WAN9/v7Q6/XFGvMk7OtJzumruPJSv/Vwov65TAC+nwOYtwmxUg64KhB51w5ILgnqhAfWGwQhDQAvnvxg/vfNF/r+WfsrPwDe3wGmqAEV2gINtwSXMwfUSAlB2wdPtwOJ/P+5+PUH4fFGeOmZROq5A/WXBPo/tAEdugHaUAM51QnrZQ4rChEtUg8AQweLFQYlVgK+Mf8E4Px9GvnId/sUSP7WlgBfBwI+pwAnuQJN3AUHWwb6eQeDDwXBKwDSOP6pGfb/T/Ooy+zUzOx4w/bG1fnr2QDILgCaSwP/jwmphwzo7AwgXQv8YgZ0QwcsuATQGwEJ3f5X8vt1zP9z8AEh0AHJQQDzWf9KJAGw4QSYbAWsKQbL9gKa///BpvwJCPUDWvRRwe3cW/HiA/ctOfnGLP+i9/0V7ATnsgqkhgtqAwzviAgAcgaoGQq1fQWndgJXQ/zdNvo7twEEsADzIAItAv9Nnv68DQRLBASSPQWq2AWVgwI7KQIdM/yHn/TRBfPSLO1eqfN/n/eg0/cfpPzsdPzjlASrCgrOZwji2wg9gwZgBger2Qok0ARmAgJCH/9sTP5x5wNfAQGUNAFXIgGePgBH5gNl5QIQOQOmnwSn4QAJdv9IQ/ttDvWSY/bxhO99kvKgFvdgcvhLov+2afxqyQClwgVHJAUzPQgTJwb6EgTbWwcxEgT7qgRUyQNAqQDlPARqDALSLQOp7QSosACbdQHxjgC8YQC2/ALcRABYJP7siPoQCPbtzfeXIfOsmvK3h/gtf/kErf87z/1UDv2xgQJxfwJNdgXmUAQZmQF9PgTZugOKXAVZKQV5TAGl0gQtKwYuKQbcrAXpqgAQzgFCcQE/5v/hqAAqaf2u8vuZuvv84vh3mfcZ+fTKMvR4w/ri9fzfxP4NXv3KTfqhwf4nRwE+mQMZugKWtv7hfgEQ2gMDAwUlOwZJVQQckQeGmAia3wR8agJy//7MPACL8AF/bABCR/7KY/tIZ/wuuP17fP5vk/wB2PqX8PpOKfn9zvhqRvf2OfmUs/wEq/2ZwP0qAf1+Pf9OFAPFmwMAVgQp/wR4AwbEEAi/FAWU9wOMAAMRAwNwoQTROAGsXf6xlP1aE/9ykAFzjAEzNQDkcQB8RgCbjv5Y7fokMfa7mfWzRPrAvPshAvpPPPnCpvpSC//UjQH3TwM8lAJ/ygDwWwHUJwI3+gGZtADYrgJI3gWMtQT1MgNaHwI89AIVwQX9bAbF7wV5uwC5qf10FP/95v5gJvyhEPkJhfpJRPx43vu4GPnr8fieqP6bLgTrPQXYdP7icPi7PvsA9v5ZIv2SNfqTyvv0LALPXwV/xwGcCgPE/QjRWw5EiQ0KqgQnyf6aDAAInQFqFP85e/lE1/mdoALS3gM9RP/bdP5vXgNF5AgZ0gJT0/m7zPdVIfr+W/wi1fd8dfLKMPc20v1sb/4zb/3cWAHXjwr4DQv/fQXgtgKMVQOcIgRSegCA9vtRb/7OhwJpMQGA3v+CzARRwAwiPAsp5QVP/gHF0QOz8gEe9/hZH/SWxvaqef6qsfl8F/Q/kvzxTwg8HQYk6PlqhviRwgF1UgTyhPvzRfSPvPl9iwTxmQLmvPsueQOEEhGzng72+/+Iv/39rQls8g0DOwIbxvesLf3UbQad3wKDevrRPAESpAq7uQRfu/euOffDDgTEzgVLu/n4JvK7bvdE9v6kvvtVd/l1Wf/oeAIvm/564vl3v//VUAlTWggfEwATqf7bPgSK4gRI5QOMiglgJgonMwE/xvo2qgAylAqTlwjYyv4N1fqfPwGHdgLVd/yJgP5oQQcZagAMQPAHse0MxftXMwegbP4zbfJtiPTPj/9cFwEouP60AQVURggRsfzfMvK+afp15wsD6A6ILAH4RvtkaAMGTwpqNgcxFgnSwg6TAAbqy/Rl7fG0xQLroA63+ANqXfPa+PMV/v8PLAV2nQIHqAFmEwC6TfYVcuz+y/I0TQLCpAWPaflVJPERfPdFMQXimw5Omw3dLgXm6f4atPyj3/0qtATeIAsehwdycf132PjOvP99vg+RZRWV2Qfyyfi6FPiKzv1jMgAoP/5PhfxNEvr2nfQKrPTUPgHmRg73YgTInPFtZe/lCvsmAwOI1v8Q6v0w2PxGTflcX/g1TQbZ6xeqrw2b+vbhGfbprgZk0A4MjATDq/6HVgNVTwHzXvr+YALo3RYd1A53/fLiW+uonv7fnQywXQDA5vRMkvjZ9/pl5vT1OPrGow0iegrvIvGe++YWbPz0shCLTwS00PXC7PnrRADGl/zYawEIVhScuxIecPiBRu6PtAOdshbotwrT9Pmqq/wSgwGRC/wCQ/9uBBEiHw++pPTZ4+ZcoPyvwRNCYQY7a/HMyfJrAfy0ePkTNPnj8AamngcLcvPes+jIv/wJfRME7Aqeg/it1Pb24P8Q+AGj6AH/kwtpRAuFgvrxmfDzMAKBuxdNKRBLZP3PV/c9K/5K3gBV6gGpwQRvbACY5/Qmpu5sNv4reg1XtQjS7Pn+5PKZ2vU2ffoyvv/2owBAbvvfqPSX8vM94wLDzA6t+gkQiADBWfnoS/wrPQL2GQmwKAfX+f0G//mM2f3TAwsEtQ8xXwpQogG65vpOhPndt/6B2wS4jf3n+fFLl/EGUPz9PwcMywbLNwO2Zf7hlvcn8fT+jPv31QK1eflQPu4ZAPLvwwGBExD1+A6keAhc2AX0bQCg4P3MMQQ6fAgrr/4rDPDLpvVfsQdhHBGWWw4LFgdvjwO+Ef3AoviMsgB+bQN7MfUoneYFBOuZpAIKLAwf5wMGaf/AGQA5efwAK/j5zv4/QQYOLPsB6OsoHfNX8QlcSBYXCRCjfAjdCgaOdAFxDAB4MgfIewnDt/u+Z+ytbfNfsQnRWhPxEwyCewPNMf8KXfpP3vdJuP/AtP+Jm/HsYeVdTu0hwATfoA96Lgzn4AI77fsWJPlVx/tFVwZagQY2wfc7i+887vnZPg9dDxqmjRa06A39RgMStPvbc/0iogjYOQj9TfWY4unC9/POMwh5xhLXzwzLNgHY5ve63/H3EfQSOv7itgBVLvGt7uTKGe8O5QQEDBUaYxMnEwh2Vf1vsPitl/+xmQ20UQ6Epv76NPOjLvn2NQ0NfRlB8xf+wwjxY/l4F/M04Ped7AdIVAf1MfUzyujxz+1y1v9oDBCrCA7ck/2PKu37OuiIE/MaigEkvAZ8bvmfWe8/YvTU1AUXKhyh6SBtHhBPpPr9+/RgNv4lOw1ATg7ZMP7wlvN+GvUQwgLqAxhH2h2aLQysavJz4OYTpPFXAgE1dALljfABn+Lb3uZ/tfbw8Q2zBxc3NAZcdfJRF+wxJvZohwluTxJhuQqKZP0b3PfrOQZm4h/4/CYhuQ9BXPIVtustHfdDYgSoJQsTXQOZnffO2vGvJvZE0g7WXRmzzQRH+ONBqtOkWOXF/voGDgdeZgBlbPKm8fShOAKs9BpjkyXwfRJv6vqAau503PQbjQUBBBPXag9wB/4rh/LQav2vsxojuyRvGw3wge95bemfovHDqfgRiALPOAGOuPJhYt5ov+AHeAbl5xhMAQSG5OZ2AuXyCP6P9Qz8HxFYnxAILQlafALGxwOKqhrNqSa8UA09xevvg+GkOvO2mwYktQl8ZAO1N/2uNfxICQXp3xVQFRgvIAABHuPn4dOrv9mugOVRjez6MvpFxQYB6AuVdA1bgA2PLBYysxlKvg1BOvnh/+wMNPzedA4mCA2u4PQPGOXvpgFJPSpI1Ck1gwQhxusD4/TMgf1L2+2M0+EEfPEdLgUc+/bpneAiSegBPv8lLxAVPgegtvhpB/rCLftWhgTz1BLMpBXOqAOLxPJw6QfX+SbTXRYgrekP89WthO5tLhVSRRD8L/264AFg7xUyXyB+UQaLN+ZVI+TRGvCOBe7lteF0AdVOftg+teshnwJViRji7h84cyTWpijsqxpmiQf1V/S+YfAUgP+nUQC/w/qNqu+ghOpNVPscphCgixdYnw/h6go6rgiSJfsJLvCEo+8E5ffqjP0QiOpr+eMv1+UeceExHvIS4guAGSUTaB7az/gdCO6rwQMU4h65rxu73gw1bRSGGA4tje5p99lqp+lKEhH4ZR/yQww50Pu74fch//4PUgRvhgTX8AOdT/2FGOjIfsyT2NGbu+9GYQXF9gqObQqYghAp3A69axLhdB09bx2AixKDfvzh8u03j+k9n+lFN/YIOQun+xZ7Mh7vlxfJVwB8yvocmgxspRj8Lgriwe73X+By9tp+V8h4tc38qPGCahGLhR1dUQww/QQUYg0gVhUbJB/9GRVmKw3Ocwmu+/clEPLATfAoUfjfZQWOAgj/Gw92rgcTOf58mgjVVxdR+x1tZA7k6/5jufRdNuKGlNCgMc4eWes+BAKM9fz/svCwffal8BbCKytjGycFFh2TyhdW9RDkAv4Lxe1rB/AFK/rxHAI0LAPmZ/6clfmfy/v1ew+VuyFAvCLXxxTSTAToxvmAn+o8eNbqQ8jSJtiMivu4rwdQOfw7vvMZHQV4EB1hZhvDRBrWiSD1ThtOlQfsYezhDekHPvh1AgQTBgtbMQkf+gaUQgSu4f8CUAkyThWRHhFEWgIK9fQfQPPuZu1k2NV5FtW0Bu+nUv3cwPzgB/uH9xBUaiIeMhKILgX/jAzA1xOUHAdRY/YMrvo+tgYb2wQIufdld/dysAqj3gy4YgTsZwrBphfKqRrPjP/peOX+keQyp+7QqOkXZ99n+ekNdfHglPGgk/dc8AkDix3yqBgutBQaiB6qcxn5pwVYo+qnHufwrfvaBwBSIv30cf2aLwlrKBR4dAm08gYw+hQq0xgq5gWfCe6bBuclYugXtdpO5s0RTd/7OPfPDf/PYP9ZyRA1FCochiT5JxLhKgeuAwb22ADfzOsE3uwnNQHj6gkB3QELBvYtCP4OZw1nVBSuqRqsoRrZeA+PoPsjC+jQYOKee+TuE9zksNje4uuw4fxr9/mzN+7hCfuohiBTuS79+CAzcw7ndwWiYgVebvyRufff8PlVbfetLPLmuPIrZQTEDRI9qg6QNAtOMBOOYRtVsg67LfU9r+YxD+U2T9mNK8wtxdety+y6vPiZgfsZawt9LSX4dCoehyAochDGvgUaR/5UcPHYqvIjffvbrPt6evZOOPcbNglasRQIQw+P5BB8/xadpxF4Zvrkz+VKe+aCuefsdNcth9CzruTfzPzBzgOOUv/09gyGZyD0JB1Ljg0JrgZy7grTZQfiPvVj4+6GVfrAiwPEzAQfEADF8wGN1AdB7Q0ESBWY+xSzOAnxf/YPxOfJY+W5D+K2JddA1NnPNeZvfPe3OALVTQjVmhnw9x80+RlJ6BEMkwmS8Aafbf6VbfMlXfJ6ifWygvzN8QB/bQaWDhD5fBLMnhONaBSiAQ7WIf+Hoe7BsOXymtwbjNGaMdUfmOjk5/w+/gQFngSP1w8GFRxupBtsHBUpHQ5PCQizE/7jtvPV0fIeMPrNbwGUCAgZhwzJYQ3hmwtZowuyRA5yIwz5EwL+vvGuBOndHOxroucl3d1r9d+3+vCnOASHrgaSPgOA3QiMdRTUwRkFZBMlHAz2+gXlsAFWSf/mEP3t2P28+gCZJgQlSAeojwchmAZ6tgiXswz+1AzmYgO9rfQ32un6+eJQi+A+beRPSesdSfMrIv1MLgrLHBOYJRSoXhOUZBKFgRIXlg05CwN9sf1mwfyqE/83GgHqJQMoZQa9nwX7bgeWTA30gg5P0AgUP/0iz/B6U+u6DejUWOXEGOkWd/KfRv1QMAEYjwI19wVt4wv+9BNJrBM/OQwFwwP8bP5H9/8DRwcWSQ98UBDd0QqHDAYfvgLdq/+b5QDOigIRl/zMoPPF3+5XJ++EnvF9SPaevvq4uvuKM/uGIf1IdQQovwX1nP/F7/snsP2FDwYylAxliw5hsQ80qxB7wBHpyw8MBAybkwjVtQGfrfh3h/IkOvL9cfU+nfhO6PsG+/yFRvrmTvha1vmZLvuYHfmowvWDlfYvU/nd9/qui/5fWAX1+A+Juhfy6BQ1QxFuzxGHqw5tegPzG/cLCvcrEf7KkgC2kv2OpPsQPP/HUQMOjwRp2wCdwfgWVfCq2epcmumdlezLHPZcQQEUawTH4gAoMgHxSwgsoA83bxMu9wzv0/884/oe6QEBmQszLQ5jFQyZ+Qd+iQJ3tP5eH/9RfgDSAvxhNfU6zfCSXO/2HPQVlP3FhgEPQPu3tfWEe/r7kwE3r/0F9vL5W/FVnfoH4QZO3A6tbg4P3QtbnAxcZg4jew717QtklgYXZP6SF/g1qPcic/wNDAPmAAdW/wUOBf7mr/WU7PQpG/axKfJUM+veLun5w+5kcfaJGv15XQL7vQa6HQu0LQ646g4eYws9YQR7ogD96QLE1gcv0gmW3wvHJA+q9w1x9AhsqQJK/P7xbvtZWPCX+uLCjuB2yOkFOvXG+/ppBPxA/f3v6gBmbAMWqgTKRgFvp/puEPg0Nvt+OgKAOwpT+xGPHhjSdRhlHhQrDBHgPA8M3QZqDPlorO3NJulWmOt6+fEw0vhZ7vxMcPySYvrYFvxeXf1shfi9FfEu2u3DhvGc1Pckp/4jswf9sQ+3hxLpIhMcXBVw+RXVaRBDiAZ95P+tQ/8iQ/9yzP0F3/2Svv8K2/9mPvwMNvhTb/VDZfHoRO3nR+wpLex6o+39hPUZCgCexwSFdAMO5gTy4Qur/A8c/gu9+QMN5AFDRQYZKgox+w1ZThFqvBBygQkRoAEocgAYqv9sX/gE6u0aqOiLW+k1xevr5/Dex/mqyQC38/8cxvz6m/6UkgD2If3YMvkFSftG3gA1QAUFjQqBIxGYiRSaHBMTghBZWxBvig6VyQVvc/vgrPamFfTStvGQw/O20Pi43fobYffbnfNbuvWWlPklPfitq/Txn/RK1fY0R/kPBADVewpEIhDlBQ8lYwwXrQygxw23fAvsrggcggeb0gQQYv/wT/324AIYNwemDAJwqPiOgfOOZPOw0/JiEPCmUu9NTPGe2/KsOfWJ+/vFUwTlLQgSOAhcKwhZOAn/agk6/QcdRQhxBgm4iwinrAfyHwibWAobgwtdKQgoPgHTXvx5WfplVPjNxfSmefG7H/C+N/Dr+PE23PaCff3PcgCJCP/U7P2LhwGUYAchGwgEEQWkbAT3KAfG3Qn9wAoy/wwc2A45NAvrAQWU/gL2swThkgNdM/7Ut/krdPjoNvbZU/Mb4fTNvPi7wvgLkvWVefaUQ/wybP/HKP7DyP6mLwQGFQgkUwdK0gf7sQtbMQ0YugjHrwXYHgm5pAwIWgo7KgW8xQImlAGkxf59n/yWOPyfd/hbKvJB7u8ixfOtzfdFp/fZxPjxXfwLUf8hZ//OTgD1mAUIQwgg8gNMff9QswP/jwuhTw0JUQvd8ApgWgygBQvoNAgKVgbNkQKK7fzvG/b2ZvGj/u/GbvFLfvWKRvgd+fjqL/lSAfqdx/xhe/95xQC5pgGSLAIcOAGVBgAjawP9Jgpxaw4QcQ55kwxG/gpbCAmkWQb4aQXX+wPPN/7pZ/jPbPcP8/gK7/ZnUvT+8PXO6vfpz/cBE/fwtfgW2/sb8fzv1fzNgP5YngKF0gWj/Qa6EQh9cgnxdgpFlgodnQtfLAzKcQh+nQI+3QDDXgMpSwMgRP6ZlvmeKfhSVvapOfQeS/WmlfiWz/lkj/dQKvY/s/hDJv5S+gIWnQOwkQHoyQD1egK1BQZYDAniEAokTAkDRgefcAaIeAaIBAaSjAVHjgTNDwL2iP6TlvwEL/udIfhJVPVNm/RjQfVzivYg0faVsPWhgvTEuPXgUPsoQwI/PgdK3Ad7ZwYvugU2uwYnawp7Iww7SQqLAAeT8wNI8wJF9wIYnALIQQF+Xv9HhfzQkfisT/at2vYeKPgOyvc4uvYWJPfpd/iRBPrEaPs2Lf1Di/71wf6inP8ApgByaQFDQAKejAQv6QmbHA9LGhCglgzcSgg27wWUYwRZ8gIJkAB13vzsjPdS3fFTpO+o0vICX/h5tvp8kPqFB/nrjvauN/cokvvUrgD7wQK97QH30gHr6ANIHQdEQQl/eQoC1QqirwlsbAd3IwVRLgSTngNa8wG2vv8tUf4en/1r8/tE9PhuofZzEvbC0PUfg/X+Kfbzd/ZhcvcOufnEt/2UuwI86QW+iQaVlAQVKQQSMwa06gh7BArIcgiiIwcGGQYShAVfCAU2tQQ9gATc0AGMrv17ifnMZ/ayd/QoJPS3bvXZEfZY9/ZPkvh22/qFaP38Mf8DbgCldwHZhgJVjAMsrAS/vgUbgQazDAh1Iwl7Fwm70QgvLwifmwevtAa46QSPVQFEgP2I1vpZK/lYfPc4RfaMYPe9KfgO4/f5H/gvd/nsR/tJDv0hU//ZwQCrkQHYJwO07gT5LAYsxQZJ0wZIQAeaQwiQ0wn3/Ak6PAjQPgbdaQXg2wRQJgMSNwDu/fsfsvkQFvfjSPQlc/OVa/MdhvUT2feVR/pbKP16vP/9DgLCHQLemgE/5QLiTAS0qQXI7AVgGgalkAaytAbc3QirtQr2kgoEoQgLlAZ+sARTHgCOqPpAG/cXefbHIvYHaPUZbPYw5PZwDveuTfg3IfqsL/1Tj/+ihwB9dgCUYwDzzQGaOQOAJAUoHgZtnQbcqwd+twg8zwqVZgspCAqTqge8ugWm7ARIagJ8xf64RPvrV/dENPTrA/P+3fO90vTCOfay1/gLi/qSDfzOgv4n4gHYuQONcAOiRAM6bgO8KAVC3AZOFQddLAdCpQepKgl28wnuUwkDMQjLrwayXgTBtgDFzPxncfmHsPYw1PTj5fRlKPeC7PiwZ/lchfrWePutz/xlMf7pXv+JFQBnbwCFPgHkswHt4AJTTwYj4wmBggq3aAqWrQojvgsyfAoOGQeIxgNZuQCC3/18pvibdPTE4fBvfu4wee/AsPKgafdYJvt+4v4IPQL1+AN0qQaTwwjYugkyFwnd2gRqcgGdYQA9vwG15wJomgEiEgIacQMLVQUpNgVH5QRZ2gU25QOz6/4ZZPcHPfNcmu8csOvaC+3WxfGDYvlCjf8/4AMo3wjI4glMMQpPVQpxOAqk7QgBawJVQ/6YMv2wef9t8gG4gwFhmQP+xwQZAAY7fwZaHwZyfwb1qgFykPqm8vK6iu17nurJcuoBPfDvwfa+ivzqPQHFIwehMQwHKAzcswq9HQnbAQg5wAXqlQBPUf1KdP3e3/8lrgHNXAICNgUMJQcxYwcPtwZX1QZANAan6wC/T/m30PIHi+4iHelRlulZ0fDfePjt8/7M/AER4ginDA6xEA1NPAsXMQgb3Qc/HwRFmf26aftk6vvPwf9Qbf9iMQDMaQVt/AYGyQcjWAY5vAhJCQlwhwEE7Ph7kPDO2Os7zeVoS+agAe924veQJAAzWgUIpQzYaxGbwQ5jzAzjXgpQKwg/OwO33fq0evnElfkanvugTP6PjwDqwgZjuggERQkubApY7QolnwkgpwHkcPcu2++Fk+gFfuNXzObz6++KyvlIHgH01wcZ3Q/eOhIPTw828AwXDgveiwdjDQCpUPnE6fi3m/nHtvqeg/2hkAFE8wdrIAqLVwqIJAzeRgzubgkYyQHyDPjcCfHzU+m05OKf/ubw4u87+/hQpQAGIQidiBE4iBKpRQ9KKg3haQpCFAflSv/qEfmMnfiai/ir/fk2o/zhoQDhqQZyqQh6PgshvA3QzQ5SdQuPCwT6ZvqWo/AfSemeEuJfaeVO1u0Levaw8//sRwcbAhEZMxQBAhDRVQ5qSwo1iAbap/9uBfn61Pfs1PehMPiIK/vcNAQkSwn+IglwtAnl4ww8OxHbQQz0SAKeVvqD1PHNceun3OAqP+LS6u4ZbvgRaQG8bQX82A7m8xZSKhFO6QyfewmfjgctKQN9b/kYT/evgfjtG/vs7vxyJwHtPQgZzAsmOQv1vQog7gwbzwyYmwa+W/7uT/RsDe348eP/5uBimOoaE/OSHf1ZWAMAKwwgPBX5ABL49Q66PwzP4wg9yAW7n/wFhPo3zflM3PfX1/rzUvw0CgRasgn+KArGmQ1iuw2tZA70rgpo4QG5p/mPOO4VYuXGzN7nnOIc7e3JzfdCxAFFYgkWxhE39hSRYBB14Q5YQAt8uAfsGwLNofr0rfrFzPjQXPp69vw5ov9O5gZQDgm3jwqaoAvikQopPQuIyARMUP0w+PNeeOsc/uSdxuBuF+kBivIHCfv9igLiVgl81BEEUxEZ0w04SA1dfwlpRQfOpv5KefqeGfzBJfv+Bv0o9vwaDQLTmweEZQgQ7QpILguuXQsbRAhpB/9iMPgXePAwpurDA+QyP+TqlO6OxfbADf/qlwU8ZA0MvBJOpA6T7ws/sgl9+geXagRKG/1ky/wtSv0V7/18c/7KSABXBQYbkAedUQeh0Acy8wjKhgnD5gLFJ/xynPaMHfGpo+rnSuTnwuqAEfP+fvkeo/8cgQVOzw4Apw+3bgu2VwurMwqixgg1wQHPmvyc3P+dlf4D4v1Cdv0S0wCe/gXTcQT5jQTw+wblcAjwowdeRgH5FPw6cvfs2/ENiex0v+j56O42NvWt2vmCm/6qIwRScQuCtwuFsAljwQkWUwnHcgen5wKjOwA16wCRrABsdP9OMv6su/8x3QKneQM8gQMQ+wRCDwcskgab8wEN7/wLxvoRW/eymfE5yOzEAe+ee/XR1fiTwftVZAA5YQbafwlXZgcNnwceNwmS/gerPgUBywABiAGG8AIx8wCIFwBYsP9UIwIucAMUWwHCZgOseASROATpUwIyNP3yTfy4Zfn8LfWs//Fyru89y/Wz+vmNQvqlRf5kkgGBBgf8kwbEbAPqjAY8UQZAOgVRzAL/JwEr+AS27gKjQwBZTQDnpgBgHQTnZwEEhwDbBQOUiQKEogJHBf+DH/3rzP0TTvnKSveFQ/bXhPZ0j/qIZvmlPPv4E/5zhP9TowKhRgIoBwPM5AQcAgQwtwQJgwMQlQOV1AQ6WQJrgQLU2wGFJAJ+VgJYSQGniAEtYQJO3AHedAEZPf9QMf6QYv03bPvPEPuL7PlTY/qs9PkBdvroOPudJ/z63/19f/5pnf4yRwBrUQHcawL42wJ34gLrhgTz8wNF3gNTSwOzsQIN0AI2YwEEWgF/IQJVewFstAG8SAEGLgAGeABvvf4P0v6P0v1vsvwvSvx5uvooKPrxOPr6nPoRvvuSbf3SFf6M/P8WYv+VaAAm7ABHAgGvAgIy6gEbBwPQ1QLXEwP4vgIj2QIiYAIuBALoLgHTIwEvwwCOZAAkzv/BPv9mcAA6+/0iQf521PxyLP1j/PxBD/yffP1mjf1x7P0Xif7jMf7wzf49hP/+UP5YJQAvyv+R4wAFEQE4nwBE0wFLbgFFiAGniwGILwGqcgGMXQHZ9AC8PQGDoQBPDABFlwAQH/+V6/+UZv96H/9BMP8sJv5sEQB9vv9wbP8vQ/8LSf9WPf9mKP+eK/5b6P4aGP/syP7IFwC5zP8QwQBq4gADPgA+zQCkOQC05QD02wBUcgC2jABe6QDQnAAt+AApGgHWvgB0uwGTAAFEVwEIvwBGcQAUsP+K6//vJP+D+P+Xw/8CGAALUACtnP+bz/+Fhv/ly/96sv/7wv9Vzv6rFgB4Uf/q5P/07/+U6ABGYgHtgAGsugCTJwECUAC4nwBwkQCgUAAiYgFn0//LFwD3KADtegCNsAD7EQEmSgCthQCAKf8MvP8SHv/OFQCNuv97a/8oOf+Ro/+KUv9wMf8eWAClp//AJQEXDQClWwGkoQD7uwAZsv9OqAB56v/4nwCncgD0+P+qZQBb+v8rfgBg1P9dTADrAQC1yQBsFP9SXAAuPv8VTwCTPP9pRP8NHABoCwDPJwDQHABc6//nIgAPrgDI/v93jQDyy//J0/8lXv9Ppv9Rg/8FyP+85f/enQD12/+fov9TXADxzP+EAADucf/LWP+YMABpOAAvWgB3sf/KgwCYHwCJBwBUbAAnWQDWTgAzkgD2AAD2QgCqMgBfq//TDwBYMf9O9v/mu/8x1f/QlQAq+f8uxP9TvP8SSf9LnwBrIwDutv8Zpf/Xvf+iawCHCQBPjwCt9ADbUwA6bQCiHwCKIgCVmwB7EQB2TwCcCAAXSQDS5wBgLADy/v822/9Ck/85/P+GvP8rXv+0GQDSq/9qBgDH4v+Eo/+FvAC3uP9ugP80wf8Ne/8JRwBwof/dsv/PFAD2CQAsdwB2BQCr9f/Oxv/+NwAWkQAEUgBuQwCVQwARBAArgf9fSv9DT/9tTP/S+P9XZf/b5v8OPf8dDf+p7/47Pv4J8v6PDP8+3/9+2f4ovP7Gav+SNQB+OwBp5/+F7v8bmP8v5f9IL/8ZcQAWawDQUAC/RQBn4/5Z4f+uIP+zcv9+cP/+rv+dw/+kN//L7v40qf5AeP++AP9pBQB1Lf911v4rk//6q/7x8/8TmQAXeQC0XABPJwDZYf+NEgCVcP8VpP87LwG3MwCbpACoZf/sE//okwDbeADC3P8E2//S8P4qLf+MuP/PDv+FtAB38P9aqv/UH/+WFv7fJf8XPwCfTQDepgACy/9Z6v6gpADyu/9dPwFkDQCAnQBzGgA5AAAKOP9wIgCpvQBj0f80rgCYyf4bTgBloP464gAnOwCtFwL1uP8AWf57Yf9dB/8gbgDhX/8T7P/wcP/Xhf/Ie/+/eQCIfAANlwDvigDCIwCzlAGhMAGcJgBNqP/IW/8bOgHmHwH6oAGf4v/yJAB9Hf+3UgDS6QBTjAAzCQG/HP+J9f6uNv+beQEtbAJxaQAOEf9zhv0Wt/+O+wElPgKPPAASif/E/f4XHv+PWgCgkQB7owJYB/9ReACBHgBZAwL8xgKolAB36AA63/+jYwDDw/9zXQBvXP+7ywBz2/6G0f4RFQDTCP7RIgFBuP5ntQLhXAFjzgC8UwBCvv8tGgLTZAGXjwFdhfxCFwD0qv3t7/8fJwDhVf+oUAClXv9/HwH3wwKKJgJVUACEQgCR9QArzQLDwQCHpv09EP5cO/5/3v1nwf402/3CDP90KwBqSQIU5QLo/wHMxQBN/AEZQQMEqQIm2v989v2Qrv6mcv/dtv5cqf4d5v2Bk/+9VwEbwgGtPAGuIQF93wI/5ARYwgNMNv9Ty/wAq/1fnv8FDf+C3/vqX/vUaf5bqgO8GgPNNAE5nwDc3QKUkQduIwN9Vf+vuPx3MgC6cQBthv7HQ/pSufuhcgD+FAKHpAEiZf4ZxAGrhgaSMgbuRf/jBPwfx/wLYQB8wv/mnvupaPvO5vyXfwJy/AKVYAAlBf+VkAKryAayqQIa2v3fdPu2OwFiLwK47/5lZPpTAvrdigCyLgL/owPEf/1QZgD8BgQ8FQa8rv6FzPncg/xFYv8mwwKpAPsAuvzfOfxbsARHogMyTwE/6vwfAgHmtgYTjQKLdv2PZPmUUQBD1AGEK/+YHvn5xPtuywHm0Aa29ANUQf+tWv+FAAWWcwEBHfytafanwvxMfQHO2v8vQ/uabPwEewK3mAS/IwbNMv5kQgNnhQOBlgRo2vsB7/cKDPumngA/X/0yL/h/Yv6zcQIYlQcdQgMl8gDewwPMBQQjAwDZPfpDuvZfEvxLUP5D5vuFgvhb4v88VgOkXgcL1wLEcQMhfghIMgQ+tAD+q/fxR/p4sfreNv67IfYsrfon3wDJugTy+AUOFgHIEQlodgndrgWyHPlMbfdT4/kKg/4IGflq/fPzt/zkqwRs4AfZUAJgQQRhTgtJQQwK7P9M4vb1wfdpH/5vpf05KfSMAvQQNwAwnAmIEgbV5AE6JgjoBhD7ewjwAPkFdfPO0PpXWf8iSfe3BfD5mfiLiwdMxwrf0gNCEATbhw7N5A+PgAGWbvNMwPX+uP4+IvwUY/K6N/Nm7wBr3wrHgQgNLgUA+wpXOw+1AQiON/rzNPTKXvnJOvo6fPRyuPItWvsAmgSo+AYWOglUvA0vsA1nIAeiY//bbvsidft3zPbDlvOTdvbGC/x9OQBrugGoAwj77w+Gfg0ThwM5Lv59If/a8v5AFfW9d+9ER/dXLAAfyAAZQf458gZCgBEM+gywTALSP/8wCAJIjv6hhvIvU++oTPmcOAKvngAKzvyHNwhB7BMxLgwA/v4WLv+TRgc7zf99RO0oY+yJ6fyhxgZXDwC56PvdKAm3ORHHogfpY/2g8f8+KQcCXP2tFe1w8e4Liv7nDwdhWAAVtP/KHQzXTA6QZQOBG/8+ogfmDwi2Q/QuHeh9v/O8ZQO71gI/YvytbASdQw5I0QiczP6mLQKagAxF/QQ2IfA10Orv5Po7DgnYFwN0Ov5u0AXJhgconP/TCvz42wZ5UwsXj/oE2u0D+/PgbwJK0Qg0zQQZDQg3sgi1nf58dPqT+wIUGQ43qgK/M+xKa+sJDPv3UwVOGgNoFQaTTA46OgVIvvZfgfvmag9xvRETlPeZk+eR8/O9ggSvugP+DADTwAppDwuaFPh8NO/TCQIvBxa+IwcVk+v5SutslQBNQwvWRgTsIwe7Tg+bOwObIfCsPfTEAg//gRG6lfPsc+PhnfJqiAac4gSAMwNu7g7fxAzOWPnkxfFjnAdFyBnn1gTgwOjZIOpbn/8f5wfWDgHGIgUxnAfe7/lKau3aafp4cBRCAhKXWvgc4+3c0PsvLQmQaQg5rAjItwePRPs6tO0sxPKmswjIbw0tTfok9eyJMPZcJwfEuwxhUQ6rXA1ibQFo//EI8vGWzwSikAxXJP6CcvDaK/QYqAB2XAY5uQqdCgwKKgHpzPThFvY7MAbc0Qxm1/1TO/BUvPSxqgLIXQjy8gll+QphIAIpT/Q7wvAqmP+QWQpwnf/2FPNhGfcjagXzUApR3QioMgljogKe4/e3C/QFff+PdAkwKP+Uye9MuO8rH/6iLwi3Swxg8A+gegkHWfoh/fDgOPoIigdNigIN7/RdKvEOlvxF2wY3fgp/GA6jiQbnnfdgsPBxyfyiag36xQU28fGbPuzi2vgzWgYtoAwCfBNUUA6/Xfy2Re/ZNPVdyAe2UwWm7vG1wOnzwvaAaggv1guyRw7MNw1JvwFY6fZOQ/l62Qin2gm5pfbu6OfHVO22Jv+QKAoRgRF9rxGw/gGZMfOfRvWJRAeepwvU2PgD4+trifL0qgHQ4Ac5uA2NaRQMwAitmPTrb/AELgOZww0QKflWpuNUnegUAP8gBAuX1w618BhUoBXOmQAUdfGKx/35shBIxAIcXuSFAtxwt/DXCQXR8gnSWhFX3xQRZwnxqvuyt/+PaxOo/RCVrvNk8948RueZzvwbygXriQmpMAxZsQTKBvoIB/zqaQ7Y5RNhwP50zevwnO931ADJfggwhQl+Cwxi8APfMPVdGPE83gCHGQ4ZSgCaJeumTusetgDoHRLZlhUlZRW6jA0ta/z8EfA56fayBwZE5//wMOkeLuBzNfD56QcjQxVlxBtQhBog6wt/Ufuc8fhYqQNsVgKGnuz9it2TjeZxaPtvfwlzrBG4ZBe9VxGYxASAgAGQMArQrgk+LfPoYt98d+MYUvhtrwYWAgzhJxKqwg4rBQG+Cvok7AXJthJM/QOwV+dX592UCO9z1wRWXg8fvxWmJRRiVgTgtvUHYfqigAv4Kgqrh/FnoeBh9+i/f/0VHwsNYRSbaxgAywwOAPw+jPm/VQe8qAofN/b5b+LgWOZFPfny9AU0CQ4nQhQYgg6XyP/UjfrRTgcaRw6J1P0/JOikQeYsRPfudAOYcwkXhQ7cmwvPhgHnM/sRFQWw/A4AhQP6He29cuVuCfbXXwX5SAlBEAvudgb/sP6C7PoIygX4SRGYnwcWBvLi1+U3LfNwMAeY8w7DQwwm3f/7v/aKrPj9xQfZlBWe6wqJzvJE2uM54u7nwgXayxS9dBQWJgDLtexHT+tOhgMcNhwOAxPGIfWJsuEDD+xPEAVJ9RZgCRhKLgNYzeunHOc6eP+36BqUKRTKU/ZsQOF5NurPmwSkmRS+kRD9X/80IPX1dPwq7QkvVQtug/2jyvRYkPkrW/5Rt/pkVvWXlfybyQo0RA6JEgNq2/gIpf44Zwtp6gxPfvqu2ucd5vBtMgZzWwt2Nf/3SfV07vr/YgL9vQhQwBAp2BDaPwL47+k1UeM78vW8NQi55glpsQPbGAHz9f6R1wCHoggXBw538v+CmuaIN+3ECgunMhTa+P+Juueq5+viAQftnx2ssR1BXQb4JO1iW+Y3oPYiBgYp4P+vpPf0yv+QGQtMgwlcSgJo9ABqfAGb1v2qkfd8I/zifwfEWQYsF/8rXvceevJ5K/tjRxCXkxkwkwNIRujat+v46AbbkhXY1Av4N/sKr/NMp/LmhfnPCwi8tQ1dlgoFlAbsFwHI4fUpT+nrOusoP/48Qg6QlQ9bIgpLcgqmtw0qugnCK/gNuOA9jN5cDfNPhwcv+Qm1swMGaAuDohvofR17oQmqiu4f89+NquFSi+1YgP4lrg03UxpgaBdJSgUpl/QAFO2eXfScgAPCMQ+MVw6kFwSVI/n1cfaa1PdYkvLFJfRaGwRLVw7/xg0Z+AlQYAj1SAe5IQAqJveBMepZmt+PKOjzaQFzyBuIWiZZpB2pRBWofwTluup7tt662OJhbPSbTAjpzxMmPBbh9QxNCQEwq/qeCfRZQ/NlVvWHwPPZbvefcQJSKRLbtxYIqgvoAv5Q7+5T5OlqUfje3RC4QhzReBUC3QVx6PElw+SQv+L97O/g0gKypA5/uhb1pxTgegiCYflQze51Ke1MwewN2fbOVwWLaAvv9gsFSQg5oAZwwgBojPrI3fJjyOgY4uyS2v/HUxqp2yOPQhdwzQh5N/dX1egW++Z0ZvSD5Aq53xLpVBIf8A3H+wD7J/EqTeQgcuC+wuQxuu+Unf64Xhb6tyuMlSiEeRG1NPVBgelahO8yFPLMOfkF2gsEDh3tMRk2nQDSL+uKx+UT7Oly0/POIwq0TSO45is5Uh5pMANEH++1HuhRaufkgPGGHfvOevoW6fFede7fO/bseAEVRQdg0QnsUBbypSIFcx4ciQwUuvzcPvbIVPYUtewRXd+/r96x0u12kwfjKBsGcSGvSiCOoxyxOxJq7PtUMeNCbN2K6u9XWQxXhhjyzw1pSwG+7gC96fyLWutET9EszsfH9OFmVQcWnSV/oTQ+0zObPCZUuAoUQu1cgNecutDfMuRjrABZoBRL/BQO5AXh//WtRu2MjPQbHgwT9iRVNClLXh4ONwWqiOTw+9DN7NQLmO24YQcyqBYIiCK5VCDSyQkYbeL+o8JtO8PqZtrK0AMQ9Sq7kT4G7TvMASYzUQWIi+O+dcwdiM/7c+O2bvxqQhJG2RwHJhz+yQ30EP0sL/VtNfpj5wTQpg1ajQtGmQc+OgWBrvoYle0jYuz0NPik5wm+0AoHe/6RaPUv5uYhhOC8G+SNnfRLlQ86UCXACzBeaCuGdxNOCvj+5OFFPdiyO92kiuoKrfr+7wXR3hGHjhmmDh38oxuI5BK1iwFK6+3F3+S3KO2mL/kStgH5eguCwBIuKw+iJwQelvoG++0JG+bSz99oAONBmO44xfwZHhnpqy2cSSuR8xgJRgD9sfDwZOjwpeY0nPLfGv+4XAfISAk0FQHdWv0ptgOmrxCifRbDRgytQQSHH/9PhPUcde6Uvu/qB/9CGhOW6hwDlRi5NAbKt+0DxN+rqdec0Mxa59P3fu2Kkxnj5zxJO0HyuTVM+hrbIfoNFdqGLsIm1cdHXehy0wsYjSJn3x8fKBU+NhDHvQekrv5WqPkdDvwx+ALfLAEwdfunAPdvkPgukASR2wya9Qxr1Qh5GgUgP/2G4+9sqNv6os0+xdYnsOxhaRPguTXa+EOU4Tq7XRY3lO+m+NGljMjvgNlUe++5vQUvLhhl8h7weh4c2RGVawK1Ufss+vlcLP4XI/4SHvdUdPc=\" type=\"audio/x-wav\" />\n",
              "                    Your browser does not support the audio element.\n",
              "                </audio>\n",
              "              "
            ],
            "text/plain": [
              "<IPython.lib.display.Audio object>"
            ]
          },
          "metadata": {
            "tags": []
          },
          "execution_count": 11
        }
      ]
    },
    {
      "cell_type": "code",
      "metadata": {
        "colab": {
          "base_uri": "https://localhost:8080/"
        },
        "id": "Fco_avHadmEu",
        "outputId": "e2901e80-f418-47eb-adc1-49ae9c44384f"
      },
      "source": [
        "#  create train val splits\n",
        "training_list =  file_list[:4000]\n",
        "validation_list = file_list[4000:]\n",
        "\n",
        "train_set = SpeechDataset(training_list)\n",
        "val_set =SpeechDataset(validation_list)\n",
        "\n",
        "print(train_set[0][0].shape)"
      ],
      "execution_count": null,
      "outputs": [
        {
          "output_type": "stream",
          "text": [
            "torch.Size([128, 128, 2])\n"
          ],
          "name": "stdout"
        }
      ]
    },
    {
      "cell_type": "code",
      "metadata": {
        "colab": {
          "base_uri": "https://localhost:8080/",
          "height": 131
        },
        "id": "oIvXjGncBosh",
        "outputId": "5cf76355-4f65-406a-f422-86485ff022f8"
      },
      "source": [
        "IPython.display.Audio(torch.istft(train_set[0][1],n_fft=255,hop_length=63,length=8064,return_complex=False),rate=sample_rate)"
      ],
      "execution_count": null,
      "outputs": [
        {
          "output_type": "stream",
          "text": [
            "/usr/local/lib/python3.7/dist-packages/torch/functional.py:655: UserWarning: istft will require a complex-valued input tensor in a future PyTorch release. Matching the output from stft with return_complex=True.  (Triggered internally at  /pytorch/aten/src/ATen/native/SpectralOps.cpp:787.)\n",
            "  normalized, onesided, length, return_complex)\n"
          ],
          "name": "stderr"
        },
        {
          "output_type": "execute_result",
          "data": {
            "text/html": [
              "\n",
              "                <audio controls=\"controls\" >\n",
              "                    <source src=\"data:audio/wav;base64,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\" type=\"audio/wav\" />\n",
              "                    Your browser does not support the audio element.\n",
              "                </audio>\n",
              "              "
            ],
            "text/plain": [
              "<IPython.lib.display.Audio object>"
            ]
          },
          "metadata": {
            "tags": []
          },
          "execution_count": 13
        }
      ]
    },
    {
      "cell_type": "markdown",
      "metadata": {
        "id": "IAXg1BPBeYf-"
      },
      "source": [
        "#DataLoaders"
      ]
    },
    {
      "cell_type": "code",
      "metadata": {
        "id": "rbiNQiFbePVs"
      },
      "source": [
        "BATCH_SIZE = 16\n",
        "train_dl = torch.utils.data.DataLoader(train_set, batch_size=BATCH_SIZE, shuffle=True)\n",
        "val_dl = torch.utils.data.DataLoader(val_set, batch_size=BATCH_SIZE)"
      ],
      "execution_count": null,
      "outputs": []
    },
    {
      "cell_type": "markdown",
      "metadata": {
        "id": "nwIsd6_rykZ8"
      },
      "source": [
        "# Network"
      ]
    },
    {
      "cell_type": "code",
      "metadata": {
        "id": "fV8XXzhdysTo"
      },
      "source": [
        "from torchsummary import summary\n",
        "\n",
        "def double_conv(in_channels, out_channels):\n",
        "    return nn.Sequential(\n",
        "        nn.Conv2d(in_channels, out_channels,kernel_size=3, padding=1),\n",
        "        nn.LeakyReLU(inplace=True),\n",
        "        nn.Conv2d(out_channels, out_channels,kernel_size=3, padding=1),\n",
        "        nn.LeakyReLU(inplace=True)\n",
        "    )\n",
        "\n",
        "def single_conv(in_channels, out_channels):\n",
        "    return nn.Sequential(\n",
        "        nn.Conv2d(in_channels, out_channels,kernel_size=3, padding=1),\n",
        "        nn.LeakyReLU(inplace=True)\n",
        "    )\n",
        "\n",
        "class Unet(torch.nn.Module):\n",
        "    def __init__(self):\n",
        "        super(Unet, self).__init__()\n",
        "        # manas\n",
        "        nfilter = 4 #16\n",
        "        self.dconv_down1 = double_conv(2, nfilter)\n",
        "        self.dconv_down2 = double_conv(nfilter, 2*nfilter)\n",
        "        self.dconv_down3 = double_conv(2*nfilter, 4*nfilter)\n",
        "        self.dconv_down4 = double_conv(4*nfilter, 8*nfilter)\n",
        "        self.dconv_down5 = double_conv(8*nfilter, 16*nfilter)\n",
        "\n",
        "        self.maxpool = torch.nn.MaxPool2d(kernel_size=(2,2))\n",
        "        self.drop = nn.Dropout(p=0.5) #inplace parameter set to false by default, make it true?\n",
        "        self.upsample = nn.Upsample(scale_factor=(2,2), mode='bilinear', align_corners=True)  # check extra parameters\n",
        "        \n",
        "        self.sconv_up4 = single_conv(16*nfilter, 8*nfilter)\n",
        "        self.dconv_up4 = double_conv(16*nfilter , 8*nfilter)\n",
        "        self.sconv_up3 = single_conv(8*nfilter, 4*nfilter)\n",
        "        self.dconv_up3 = double_conv(8*nfilter , 4*nfilter)\n",
        "        self.sconv_up2 = single_conv(4*nfilter, 2*nfilter)\n",
        "        self.dconv_up2 = double_conv(4*nfilter , 2*nfilter)\n",
        "        self.sconv_up1 = single_conv(2*nfilter, nfilter)\n",
        "        self.dconv_up1 = double_conv(2*nfilter , nfilter)\n",
        "        \n",
        "        self.sconv_plast = single_conv(nfilter, 2)\n",
        "        self.conv_last = nn.Conv2d(2,2,kernel_size=3, padding=1)\n",
        "    \n",
        "    def forward(self, x):\n",
        "        x = x.transpose(1,3)\n",
        "        conv1 = self.dconv_down1(x)\n",
        "        x = self.maxpool(conv1)\n",
        "\n",
        "        conv2 = self.dconv_down2(x)\n",
        "        x = self.maxpool(conv2)\n",
        "        \n",
        "        conv3 = self.dconv_down3(x)\n",
        "        x = self.maxpool(conv3)   \n",
        "        \n",
        "        x = self.dconv_down4(x)\n",
        "        drop4 = self.drop(x)\n",
        "        x = self.maxpool(drop4)\n",
        "\n",
        "        x = self.dconv_down5(x)\n",
        "        x = self.drop(x)\n",
        "\n",
        "        x = self.upsample(x)\n",
        "        x = self.sconv_up4(x)\n",
        "        x = torch.cat([x, drop4], dim=1)\n",
        "        x = self.dconv_up4(x)\n",
        "\n",
        "        x = self.upsample(x)\n",
        "        x = self.sconv_up3(x)\n",
        "        x = torch.cat([x, conv3], dim=1)\n",
        "        x = self.dconv_up3(x)\n",
        "\n",
        "        x = self.upsample(x)\n",
        "        x = self.sconv_up2(x)\n",
        "        x = torch.cat([x, conv2], dim=1)\n",
        "        x = self.dconv_up2(x)\n",
        "\n",
        "        x = self.upsample(x)\n",
        "        x = self.sconv_up1(x)\n",
        "        x = torch.cat([x, conv1], dim=1)\n",
        "        x = self.dconv_up1(x)\n",
        "        \n",
        "        x = self.sconv_plast(x)\n",
        "        x = self.conv_last(x)\n",
        "        # commenting the tanh layer\n",
        "        # x = torch.tanh(x)\n",
        "    \n",
        "        return x.transpose(1,3)\n",
        "\n"
      ],
      "execution_count": null,
      "outputs": []
    },
    {
      "cell_type": "code",
      "metadata": {
        "colab": {
          "base_uri": "https://localhost:8080/"
        },
        "id": "DMbu6Gg78tcU",
        "outputId": "1b613c7f-5880-49d2-eb9c-2ec10a5af8a7"
      },
      "source": [
        "input = torch.rand(16, 128, 128 , 2).to(device)\n",
        "unet = Unet().to(device)\n",
        "# summary(unet, input_size=(128, 128, 2))\n",
        "\n",
        "print(unet(input).shape)"
      ],
      "execution_count": null,
      "outputs": [
        {
          "output_type": "stream",
          "text": [
            "torch.Size([16, 128, 128, 2])\n"
          ],
          "name": "stdout"
        }
      ]
    },
    {
      "cell_type": "markdown",
      "metadata": {
        "id": "3p2vV9vr8d2P"
      },
      "source": [
        "# TRAINING"
      ]
    },
    {
      "cell_type": "code",
      "metadata": {
        "id": "CDWVMcDl8mTi"
      },
      "source": [
        "##RE-RUN THIS CODE TO GET A \"NEW\" NETWORK\n",
        "\n",
        "LEARNING_RATE = 0.001\n",
        "\n",
        "## Create an instance of our network\n",
        "net = Unet()\n",
        "\n",
        "## Move it to the GPU\n",
        "net = net.to(device)\n",
        "\n",
        "# L1 loss\n",
        "criterion = torch.nn.SmoothL1Loss()\n",
        "\n",
        "# Adam optimizer\n",
        "optimizer = torch.optim.Adam(net.parameters(), lr=LEARNING_RATE)"
      ],
      "execution_count": null,
      "outputs": []
    },
    {
      "cell_type": "code",
      "metadata": {
        "colab": {
          "base_uri": "https://localhost:8080/",
          "height": 1000,
          "referenced_widgets": [
            "4dec04caa2c245be976506da8d0a6d61",
            "5df03367a1814973945ed4b15b2f20ee",
            "b62c8b6c8f374c21bf3f8e54729df71d",
            "60ff32eb5ad94531a72e7d3de41751a6",
            "0063f3fc342f40c5b144dae1691ccdaa",
            "56fd672f22ee4c969d20ae365bf91fb3",
            "708a4172cd1d4a6ea3c48f9af2d50d37",
            "9ddc127f08b34f32a8e2bb912c0b211e",
            "72517acc059b4cfe898b8b2ee440ad56",
            "70a1eb4cad494b64a5f6d6e1af7deed0",
            "0beee9676b9640d3af48a2ca1daa51cd",
            "cab696463ef146b2aa0e91e192945e8a",
            "ed530aa387134369b735e9c458b38c12",
            "cae0951081e246679243c7054ea1756e",
            "4311087adbe1441687ad3bcec25b7208",
            "9bf1e916d9e343a791f50ae56d49929b",
            "4e302948be9d4f19ab2df9d4fbc0760f",
            "ad18240bb3f14b0187b7291aeb672ded",
            "93e3ced928724fb2b81889e4ef9761b8",
            "e2092da80f71428081e6f81d518f7382",
            "b5cc293e14f34befb761028c6e25bab7",
            "417ba3bbc9794596b998efd0ee3f0099",
            "1af4cf0831e9498194e96c472e601f57",
            "e6b9620d56bf44ccbbd78df265cc2158",
            "073a7c1e291b4ab1ab90976ba6a06e55",
            "9f5c8ceb585b4d6f8b4f75b9345939b9",
            "7cd95404ff8c4d2fb94858c00596db75",
            "6aa502997964426d96d2dc7058e4008a",
            "68dcd3f5b00f44879828c5349beae5ec",
            "3276e302c4c047e3b83bd30cca1fd2cd",
            "f38c63b67b6e478a8b1807f09ebef845",
            "39d24e55c0244c88832b63b3b573b9d7",
            "b9a3f6b050734d189521e720a67827dd",
            "a3fdf18f4c2647428be62a6cc9a7f52b",
            "6af76293e88a4c6eb5d763e28fb87172",
            "23162482efb944738bb4a538af693060",
            "7b216b6c2cb34fcf8910d2354cf291cb",
            "64c448ac08c44f15bc846a0800d0d842",
            "3e80fd2fb5d946d3939944416d1c7cdc",
            "d335b548f9604ceeac5dd8ca1d2dd740",
            "57c35411d15447f6893a3ebfa7f4a234",
            "c67d73c262d841efa35f8f60f5607331",
            "cb23ab635e4d4f7193e89c64474b21e8",
            "d7ea02ff88974420bca1e194636c159b",
            "366ecdd9d5b349e09e025893e996f157",
            "26b06a0e942547ff822219d92afe38d2",
            "9abbd663d4ba49a581d6a014be921db5",
            "36af03a2f7ef4566a81834427711bdbf",
            "fe509def9ca945bcbcacb86034ee5b4c",
            "2afaf0b30c6a497eb951cb4107f6e024",
            "5bc44290e9254fc98c6a9a02f1202d4c",
            "24d62a645b50423986938a0ce51c8258",
            "da1b365414374cb8b73b80ef3c1b4f95",
            "3daf94a5c8e5450ba9b11ba1ff286ed1",
            "00b9ccfa16764cd2a4b48c378b81ce2a",
            "78f8f85b590f49cd9dd1f785fcea345f",
            "d3af0fb0842144bdac952c04da3e64dc",
            "e5a11d1a9ae84157bfa45d42e8ea2c25",
            "9593d695c07e434288a1f76dfb808aca",
            "b5cc14e578e743489475ff4b99d87672",
            "cf520c99302e401f88f7ecb79d2db6a9",
            "2cdf7a11211444259c5a6377dab56cc2",
            "fc8e6247011b4262a7af5475dadb0bee",
            "406408fa947147e3a2c9db352383b579",
            "ffdbaf60db30406c9bb2696529ae1548",
            "6a954f774fd74d3c828250f513b3198c",
            "044821f2de4a4aab90a4b98f985d7bed",
            "fb1639d2329b41e9b075404a9cd8c6d9",
            "73859ec06c7b400b825fcf0bbfb242dc",
            "eb021cc4c9724ce69f1a1cb9e4b2a9ec",
            "7928e5e10847401892bccce367531e8b",
            "73ca06249d1a4013babbd05589109a67",
            "7c3178ab44404394a9e97c8ca5924261",
            "125dfdef7d9a47bcb4f1a71d048cdfe1",
            "6ada026c00e64922b62c10598b7544e2",
            "f9d65e006bf14edc9e66f59004d616c6",
            "07d9f31172104b12a4a75ab89ee9e4b7",
            "21026d3a02384762a2d040cf699d9a3d",
            "4900af3ea83f4c25a4ebdc69469596b6",
            "4355fd0b6bda40798cfe7363e09217d4",
            "b05a6f1a0cea48d3898bd18f20fe9080",
            "8419a0ae90cd4667aee5fa28abc251bf",
            "1d3b0bbc656c4b9ea4cddb09d2b339cb",
            "09b750b297ee42abb0749240ceb7267b",
            "95438bf61d0f4ee2bd703a90063d0b6b",
            "8553442c58c0446b90a022b642cbb43b",
            "c627d4817d004bb78f8540a260ee4eaf",
            "731dbee56c944d22ad828f313a6f1d6f",
            "83f8d27191cf4afb81adce58e8b60283",
            "9bef6d8c95464740ac60c98a7bd7dad3",
            "86ebe8354bb94c1fb9ccde892c0de6c1",
            "8ea26f677b7a4899a9b16ac8230126dd",
            "e922d8559ffc4f8bb774edeef0d5eeac",
            "1d9c325324b449c7b45b57d15adac385",
            "7dcd73d637a5465eb3293a45388a4e01",
            "663302d8ea2048a491f60f618da68edd",
            "ec314886c2de4d40aed35407a9796aa9",
            "199b5afae6964ee5975693c34285d045",
            "2261a294cf6645d78f288bcfbcef7198",
            "a565c6a7458342d28c49121a5b69e664",
            "72ac58bbdebb432a908f3a7a954e6230",
            "0f7c74ba55b24faeae3ca90a37ecd30a",
            "9099bb36b810408dbff0544e9456e38f",
            "cc0b2c916a1b4f4b9ea9a0d8411d78dd",
            "7bd624adeb9a4c8cb3f65b9f35ae3fb9",
            "c5ffd5c94cc14a5eb84d94a83daa877e",
            "c3001ee7d6944a0d998af3f7b99d20c3",
            "59cf51fd4f0446a0aa3713bda979c673",
            "ac7c4e7eb16744bcb9ef43e0fbd63642",
            "a4b795bc122f4ef7a261fa0f5d600472",
            "f209fb8c681646cf8bee8e35e04abe96",
            "d53a98cd231c42c0bf5f7f36e2b48241",
            "641829518d5f4ea7b8a16272a44c1369",
            "4be6d73df3e044cea445bfbe4d948fea",
            "c0317d54e1194791a5512399246f2de8",
            "5e082e4ff17f40949d1d79c3fb53f47e",
            "a7ead6e10106479387a139bd9ccfc806",
            "c745036156fd4faabadacd73d954a0c2",
            "5131456214c0484b9c57809912b33a7c",
            "109dbc1e12a1492096e8e25237a7b2e6",
            "fd437ecc042c4508a58ac5e1e035bed0",
            "4bb8b1729bfd47d38bb8c82726149cc9",
            "7b390665faa5403c937a3dd9ab16fa0f",
            "cacaddabf2b94a6faeb78ebfe8528fc5",
            "2587deffbf22496e84bc4a8e5799ed2d",
            "05fdab11aa304668a05d4348db718567",
            "b38d8165e6fe402db68fffe9d65e07d2",
            "549cb8199fd5439a9cf3923e2f2679e4",
            "cecfedb09b614672a9e4da47bc89e4cd",
            "3e7e9296a9f54f4b958cefde97c2926f",
            "746e90bdf1644c02af4b71f7d181483a",
            "a07a02b48fac4e58b2dde53af339087e",
            "441c5b62ac3e4795aa5fa52bcad716d8",
            "3e4df91b5a3c45da8bc26ef63f846d26",
            "bd6eecffe96543488b13e7bdac85437c",
            "561de5b92d4d4ec5b1de3e5babe64859",
            "23aef34e68484aa9b26afe23f7385be5",
            "90cd71d7c105427f96f70c3dcd3ef876",
            "98b29a0685344303896b2fc70d6b2fbe",
            "8cd1bef669db4a659a7183a4759335db",
            "b7f8bf051eb24f239e5e1fb3cfb9916c",
            "65115b81efc04cbe88724c1d1eb5b812",
            "c72048e0b4f243e5baf389b82a18730c",
            "96a1cf8551754343956d1d626a24d012",
            "79c810ae51774b66b79bf783b426efb6",
            "5f6744cf70ce4ea3995c0c2e976aa052",
            "a773ef91596d45dc997d0eb37a9a7348",
            "1213e7f1000746f7a7c2228ccca68874",
            "52b11fb16021420eaa5801dfb6d8d021",
            "d654f5f6df584807b85a779d71c49d34",
            "cefeaaa868964f99a6ab2badbeb8478d",
            "454b3d560dd24351a169e96deee48e96",
            "2c6099b1a8924674a31491449d757db0",
            "e05b56682b78402581f7c195320bd578",
            "71c35900208d496d8ccdbc57c13f8a0f",
            "5b665c7ff86847238e3d7cae6ef898de",
            "42b2cf984d774f3ebc2017b401d512e6",
            "39daf7ee2387407fb5ce166154721453",
            "c2c56a1d86604622be2922033ab6d841",
            "d13cddcce7de43a7acc9c65c155496af"
          ]
        },
        "id": "fF80I7oEDdIe",
        "outputId": "f1e6b702-28c7-41d0-dfd8-d2b295251a31"
      },
      "source": [
        "from tqdm import tqdm_notebook\n",
        "\n",
        "## NUMBER OF EPOCHS TO TRAIN\n",
        "N_EPOCHS = 20\n",
        "\n",
        "epoch_loss, epoch_acc= [], []\n",
        "\n",
        "for e in range(N_EPOCHS):\n",
        "  \n",
        "    print(\"EPOCH:\",e)\n",
        "\n",
        "    ### TRAINING LOOP\n",
        "    running_loss = 0\n",
        "    running_accuracy = 0\n",
        "\n",
        "    ## Put the network in training mode\n",
        "    net.train()\n",
        "\n",
        "    for i, batch in enumerate(tqdm_notebook(train_dl)):\n",
        "\n",
        "        # Get a batch from the dataloader\n",
        "        x = batch[0]\n",
        "        # manas\n",
        "        noises = batch[2]\n",
        "\n",
        "        # move the batch to GPU\n",
        "        x = x.to(device)\n",
        "        noises = noises.to(device)\n",
        "        \n",
        "        # Compute the network output\n",
        "        y = net(x)\n",
        "\n",
        "        # Compute the loss\n",
        "        loss = criterion(y, noises)\n",
        "\n",
        "        # Reset the gradients\n",
        "        optimizer.zero_grad()\n",
        "\n",
        "        # Compute the gradients\n",
        "        loss.backward()\n",
        "\n",
        "        # Apply one step of the descent algorithm to update the weights\n",
        "        optimizer.step()\n",
        "\n",
        "        ## Compute some statistics\n",
        "        with torch.no_grad():\n",
        "            running_loss += loss.item()\n",
        "\n",
        "    print(\"Training loss:\", running_loss/float(len(train_set)))\n",
        "\n",
        "    epoch_loss.append(running_loss/len(train_set))\n"
      ],
      "execution_count": null,
      "outputs": [
        {
          "output_type": "stream",
          "text": [
            "EPOCH: 0\n"
          ],
          "name": "stdout"
        },
        {
          "output_type": "stream",
          "text": [
            "/usr/local/lib/python3.7/dist-packages/ipykernel_launcher.py:19: TqdmDeprecationWarning: This function will be removed in tqdm==5.0.0\n",
            "Please use `tqdm.notebook.tqdm` instead of `tqdm.tqdm_notebook`\n"
          ],
          "name": "stderr"
        },
        {
          "output_type": "display_data",
          "data": {
            "application/vnd.jupyter.widget-view+json": {
              "model_id": "4dec04caa2c245be976506da8d0a6d61",
              "version_major": 2,
              "version_minor": 0
            },
            "text/plain": [
              "HBox(children=(FloatProgress(value=0.0, max=250.0), HTML(value='')))"
            ]
          },
          "metadata": {
            "tags": []
          }
        },
        {
          "output_type": "stream",
          "text": [
            "\n",
            "Training loss: 0.003286716925678775\n",
            "EPOCH: 1\n"
          ],
          "name": "stdout"
        },
        {
          "output_type": "display_data",
          "data": {
            "application/vnd.jupyter.widget-view+json": {
              "model_id": "72517acc059b4cfe898b8b2ee440ad56",
              "version_major": 2,
              "version_minor": 0
            },
            "text/plain": [
              "HBox(children=(FloatProgress(value=0.0, max=250.0), HTML(value='')))"
            ]
          },
          "metadata": {
            "tags": []
          }
        },
        {
          "output_type": "stream",
          "text": [
            "\n",
            "Training loss: 0.0030174228427931665\n",
            "EPOCH: 2\n"
          ],
          "name": "stdout"
        },
        {
          "output_type": "display_data",
          "data": {
            "application/vnd.jupyter.widget-view+json": {
              "model_id": "4e302948be9d4f19ab2df9d4fbc0760f",
              "version_major": 2,
              "version_minor": 0
            },
            "text/plain": [
              "HBox(children=(FloatProgress(value=0.0, max=250.0), HTML(value='')))"
            ]
          },
          "metadata": {
            "tags": []
          }
        },
        {
          "output_type": "stream",
          "text": [
            "\n",
            "Training loss: 0.0028899397545028476\n",
            "EPOCH: 3\n"
          ],
          "name": "stdout"
        },
        {
          "output_type": "display_data",
          "data": {
            "application/vnd.jupyter.widget-view+json": {
              "model_id": "073a7c1e291b4ab1ab90976ba6a06e55",
              "version_major": 2,
              "version_minor": 0
            },
            "text/plain": [
              "HBox(children=(FloatProgress(value=0.0, max=250.0), HTML(value='')))"
            ]
          },
          "metadata": {
            "tags": []
          }
        },
        {
          "output_type": "stream",
          "text": [
            "\n",
            "Training loss: 0.0027196924556046726\n",
            "EPOCH: 4\n"
          ],
          "name": "stdout"
        },
        {
          "output_type": "display_data",
          "data": {
            "application/vnd.jupyter.widget-view+json": {
              "model_id": "b9a3f6b050734d189521e720a67827dd",
              "version_major": 2,
              "version_minor": 0
            },
            "text/plain": [
              "HBox(children=(FloatProgress(value=0.0, max=250.0), HTML(value='')))"
            ]
          },
          "metadata": {
            "tags": []
          }
        },
        {
          "output_type": "stream",
          "text": [
            "\n",
            "Training loss: 0.0025576982267666607\n",
            "EPOCH: 5\n"
          ],
          "name": "stdout"
        },
        {
          "output_type": "display_data",
          "data": {
            "application/vnd.jupyter.widget-view+json": {
              "model_id": "57c35411d15447f6893a3ebfa7f4a234",
              "version_major": 2,
              "version_minor": 0
            },
            "text/plain": [
              "HBox(children=(FloatProgress(value=0.0, max=250.0), HTML(value='')))"
            ]
          },
          "metadata": {
            "tags": []
          }
        },
        {
          "output_type": "stream",
          "text": [
            "\n",
            "Training loss: 0.0023880973467603327\n",
            "EPOCH: 6\n"
          ],
          "name": "stdout"
        },
        {
          "output_type": "display_data",
          "data": {
            "application/vnd.jupyter.widget-view+json": {
              "model_id": "fe509def9ca945bcbcacb86034ee5b4c",
              "version_major": 2,
              "version_minor": 0
            },
            "text/plain": [
              "HBox(children=(FloatProgress(value=0.0, max=250.0), HTML(value='')))"
            ]
          },
          "metadata": {
            "tags": []
          }
        },
        {
          "output_type": "stream",
          "text": [
            "\n",
            "Training loss: 0.002098340832744725\n",
            "EPOCH: 7\n"
          ],
          "name": "stdout"
        },
        {
          "output_type": "display_data",
          "data": {
            "application/vnd.jupyter.widget-view+json": {
              "model_id": "d3af0fb0842144bdac952c04da3e64dc",
              "version_major": 2,
              "version_minor": 0
            },
            "text/plain": [
              "HBox(children=(FloatProgress(value=0.0, max=250.0), HTML(value='')))"
            ]
          },
          "metadata": {
            "tags": []
          }
        },
        {
          "output_type": "stream",
          "text": [
            "\n",
            "Training loss: 0.0019006426993291826\n",
            "EPOCH: 8\n"
          ],
          "name": "stdout"
        },
        {
          "output_type": "display_data",
          "data": {
            "application/vnd.jupyter.widget-view+json": {
              "model_id": "ffdbaf60db30406c9bb2696529ae1548",
              "version_major": 2,
              "version_minor": 0
            },
            "text/plain": [
              "HBox(children=(FloatProgress(value=0.0, max=250.0), HTML(value='')))"
            ]
          },
          "metadata": {
            "tags": []
          }
        },
        {
          "output_type": "stream",
          "text": [
            "\n",
            "Training loss: 0.001752128490130417\n",
            "EPOCH: 9\n"
          ],
          "name": "stdout"
        },
        {
          "output_type": "display_data",
          "data": {
            "application/vnd.jupyter.widget-view+json": {
              "model_id": "7c3178ab44404394a9e97c8ca5924261",
              "version_major": 2,
              "version_minor": 0
            },
            "text/plain": [
              "HBox(children=(FloatProgress(value=0.0, max=250.0), HTML(value='')))"
            ]
          },
          "metadata": {
            "tags": []
          }
        },
        {
          "output_type": "stream",
          "text": [
            "\n",
            "Training loss: 0.0016276551150949672\n",
            "EPOCH: 10\n"
          ],
          "name": "stdout"
        },
        {
          "output_type": "display_data",
          "data": {
            "application/vnd.jupyter.widget-view+json": {
              "model_id": "b05a6f1a0cea48d3898bd18f20fe9080",
              "version_major": 2,
              "version_minor": 0
            },
            "text/plain": [
              "HBox(children=(FloatProgress(value=0.0, max=250.0), HTML(value='')))"
            ]
          },
          "metadata": {
            "tags": []
          }
        },
        {
          "output_type": "stream",
          "text": [
            "\n",
            "Training loss: 0.0015575718644540756\n",
            "EPOCH: 11\n"
          ],
          "name": "stdout"
        },
        {
          "output_type": "display_data",
          "data": {
            "application/vnd.jupyter.widget-view+json": {
              "model_id": "83f8d27191cf4afb81adce58e8b60283",
              "version_major": 2,
              "version_minor": 0
            },
            "text/plain": [
              "HBox(children=(FloatProgress(value=0.0, max=250.0), HTML(value='')))"
            ]
          },
          "metadata": {
            "tags": []
          }
        },
        {
          "output_type": "stream",
          "text": [
            "\n",
            "Training loss: 0.0015338048732373864\n",
            "EPOCH: 12\n"
          ],
          "name": "stdout"
        },
        {
          "output_type": "display_data",
          "data": {
            "application/vnd.jupyter.widget-view+json": {
              "model_id": "ec314886c2de4d40aed35407a9796aa9",
              "version_major": 2,
              "version_minor": 0
            },
            "text/plain": [
              "HBox(children=(FloatProgress(value=0.0, max=250.0), HTML(value='')))"
            ]
          },
          "metadata": {
            "tags": []
          }
        },
        {
          "output_type": "stream",
          "text": [
            "\n",
            "Training loss: 0.0014550085351802409\n",
            "EPOCH: 13\n"
          ],
          "name": "stdout"
        },
        {
          "output_type": "display_data",
          "data": {
            "application/vnd.jupyter.widget-view+json": {
              "model_id": "7bd624adeb9a4c8cb3f65b9f35ae3fb9",
              "version_major": 2,
              "version_minor": 0
            },
            "text/plain": [
              "HBox(children=(FloatProgress(value=0.0, max=250.0), HTML(value='')))"
            ]
          },
          "metadata": {
            "tags": []
          }
        },
        {
          "output_type": "stream",
          "text": [
            "\n",
            "Training loss: 0.0013697702026693151\n",
            "EPOCH: 14\n"
          ],
          "name": "stdout"
        },
        {
          "output_type": "display_data",
          "data": {
            "application/vnd.jupyter.widget-view+json": {
              "model_id": "641829518d5f4ea7b8a16272a44c1369",
              "version_major": 2,
              "version_minor": 0
            },
            "text/plain": [
              "HBox(children=(FloatProgress(value=0.0, max=250.0), HTML(value='')))"
            ]
          },
          "metadata": {
            "tags": []
          }
        },
        {
          "output_type": "stream",
          "text": [
            "\n",
            "Training loss: 0.001341326052090153\n",
            "EPOCH: 15\n"
          ],
          "name": "stdout"
        },
        {
          "output_type": "display_data",
          "data": {
            "application/vnd.jupyter.widget-view+json": {
              "model_id": "fd437ecc042c4508a58ac5e1e035bed0",
              "version_major": 2,
              "version_minor": 0
            },
            "text/plain": [
              "HBox(children=(FloatProgress(value=0.0, max=250.0), HTML(value='')))"
            ]
          },
          "metadata": {
            "tags": []
          }
        },
        {
          "output_type": "stream",
          "text": [
            "\n",
            "Training loss: 0.001285730439936742\n",
            "EPOCH: 16\n"
          ],
          "name": "stdout"
        },
        {
          "output_type": "display_data",
          "data": {
            "application/vnd.jupyter.widget-view+json": {
              "model_id": "cecfedb09b614672a9e4da47bc89e4cd",
              "version_major": 2,
              "version_minor": 0
            },
            "text/plain": [
              "HBox(children=(FloatProgress(value=0.0, max=250.0), HTML(value='')))"
            ]
          },
          "metadata": {
            "tags": []
          }
        },
        {
          "output_type": "stream",
          "text": [
            "\n",
            "Training loss: 0.0012913669581757858\n",
            "EPOCH: 17\n"
          ],
          "name": "stdout"
        },
        {
          "output_type": "display_data",
          "data": {
            "application/vnd.jupyter.widget-view+json": {
              "model_id": "23aef34e68484aa9b26afe23f7385be5",
              "version_major": 2,
              "version_minor": 0
            },
            "text/plain": [
              "HBox(children=(FloatProgress(value=0.0, max=250.0), HTML(value='')))"
            ]
          },
          "metadata": {
            "tags": []
          }
        },
        {
          "output_type": "stream",
          "text": [
            "\n",
            "Training loss: 0.0011817290482576937\n",
            "EPOCH: 18\n"
          ],
          "name": "stdout"
        },
        {
          "output_type": "display_data",
          "data": {
            "application/vnd.jupyter.widget-view+json": {
              "model_id": "79c810ae51774b66b79bf783b426efb6",
              "version_major": 2,
              "version_minor": 0
            },
            "text/plain": [
              "HBox(children=(FloatProgress(value=0.0, max=250.0), HTML(value='')))"
            ]
          },
          "metadata": {
            "tags": []
          }
        },
        {
          "output_type": "stream",
          "text": [
            "\n",
            "Training loss: 0.0011716756336390972\n",
            "EPOCH: 19\n"
          ],
          "name": "stdout"
        },
        {
          "output_type": "display_data",
          "data": {
            "application/vnd.jupyter.widget-view+json": {
              "model_id": "2c6099b1a8924674a31491449d757db0",
              "version_major": 2,
              "version_minor": 0
            },
            "text/plain": [
              "HBox(children=(FloatProgress(value=0.0, max=250.0), HTML(value='')))"
            ]
          },
          "metadata": {
            "tags": []
          }
        },
        {
          "output_type": "stream",
          "text": [
            "\n",
            "Training loss: 0.0011297688626218587\n"
          ],
          "name": "stdout"
        }
      ]
    },
    {
      "cell_type": "markdown",
      "metadata": {
        "id": "TGFn9GrWHXhy"
      },
      "source": [
        "#Plots"
      ]
    },
    {
      "cell_type": "code",
      "metadata": {
        "colab": {
          "base_uri": "https://localhost:8080/",
          "height": 281
        },
        "id": "zXF8peO6HWjR",
        "outputId": "aaf643d0-c1c5-40ff-d895-721173981bb7"
      },
      "source": [
        "epochs = range(1,len(epoch_loss)+1)\n",
        "plt.plot(epochs,epoch_loss,label='Training Loss')\n",
        "plt.title('Loss')\n",
        "plt.legend()\n",
        "plt.show()"
      ],
      "execution_count": null,
      "outputs": [
        {
          "output_type": "display_data",
          "data": {
            "image/png": "[encoded data removed]",
            "text/plain": [
              "<Figure size 432x288 with 1 Axes>"
            ]
          },
          "metadata": {
            "tags": []
          }
        }
      ]
    },
    {
      "cell_type": "markdown",
      "metadata": {
        "id": "DC-oJa6AJqKV"
      },
      "source": [
        "#Testing"
      ]
    },
    {
      "cell_type": "code",
      "metadata": {
        "colab": {
          "base_uri": "https://localhost:8080/"
        },
        "id": "U3VcmB_hJpgb",
        "outputId": "b2f87528-fb82-4c2c-d646-b52aa40003d3"
      },
      "source": [
        "# for now test on val set\n",
        "net.eval()\n",
        "test_loss = 0\n",
        "\n",
        "for i,batch in enumerate(val_dl):\n",
        "  with torch.no_grad():\n",
        "    # Get a batch from the dataloader\n",
        "    x = batch[0]\n",
        "    noises = batch[2]\n",
        "\n",
        "    # move the batch to GPU\n",
        "    x = x.to(device)\n",
        "    noises = noises.to(device)\n",
        "    \n",
        "    # Compute the network output\n",
        "    y = net(x)\n",
        "\n",
        "    # Compute the loss\n",
        "    loss = criterion(y, noises)\n",
        "\n",
        "\n",
        "    test_loss += loss.item()\n",
        "test_loss = test_loss/len(val_set)\n",
        "\n",
        "print('Test Loss',test_loss)\n"
      ],
      "execution_count": null,
      "outputs": [
        {
          "output_type": "stream",
          "text": [
            "Test Loss 0.001234627385623753\n"
          ],
          "name": "stdout"
        }
      ]
    },
    {
      "cell_type": "markdown",
      "metadata": {
        "id": "6Rp9MiJMOzG0"
      },
      "source": [
        "#Inference"
      ]
    },
    {
      "cell_type": "code",
      "metadata": {
        "colab": {
          "base_uri": "https://localhost:8080/",
          "height": 129
        },
        "id": "_OENP5yfOi33",
        "outputId": "b4dd0f7f-a38b-4b86-e589-eed5ad3bd815"
      },
      "source": [
        "test_file = '/content/drive/Shareddrives/ASRproject/data/noisy_voice/4050.wav'\n",
        "\n",
        "def infer_true_voice(noisy_voice_file):\n",
        "  wavs = audios_to_tensor([noisy_voice_file],sample_rate,frame_length,hop_length_frame,0)\n",
        "  specs = torch.stft(wavs,n_fft=n_fft,hop_length=hop_length_fft,return_complex=False)\n",
        "  \n",
        "  net.eval()\n",
        "  x = specs\n",
        "  x = x.to(device)\n",
        "  y = net(x)\n",
        "  print(x.shape,y.shape)\n",
        "  noise = y.to('cpu')\n",
        "  noisy_voice = x.to('cpu')\n",
        "  voice = noisy_voice - noise\n",
        "  voice_wav = torch.istft(voice,n_fft=n_fft,hop_length=hop_length_fft,length=frame_length,return_complex=False)\n",
        "  # print(torch.sum(noise))\n",
        "  return voice_wav.detach().numpy()\n",
        "\n",
        "true_voice = infer_true_voice(test_file)\n",
        "IPython.display.Audio(true_voice,rate=sample_rate)"
      ],
      "execution_count": null,
      "outputs": [
        {
          "output_type": "stream",
          "text": [
            "Converting Audio to Tensor\n"
          ],
          "name": "stdout"
        },
        {
          "output_type": "display_data",
          "data": {
            "text/plain": [
              "1/1"
            ]
          },
          "metadata": {
            "tags": []
          }
        },
        {
          "output_type": "stream",
          "text": [
            "torch.Size([1, 128, 128, 2]) torch.Size([1, 128, 128, 2])\n"
          ],
          "name": "stdout"
        },
        {
          "output_type": "execute_result",
          "data": {
            "text/html": [
              "\n",
              "                <audio controls=\"controls\" >\n",
              "                    <source src=\"data:audio/wav;base64,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\" type=\"audio/wav\" />\n",
              "                    Your browser does not support the audio element.\n",
              "                </audio>\n",
              "              "
            ],
            "text/plain": [
              "<IPython.lib.display.Audio object>"
            ]
          },
          "metadata": {
            "tags": []
          },
          "execution_count": 74
        }
      ]
    },
    {
      "cell_type": "code",
      "metadata": {
        "id": "AAhPEF3OSIRf"
      },
      "source": [
        "torch.save(net.state_dict(),'./model')"
      ],
      "execution_count": null,
      "outputs": []
    },
    {
      "cell_type": "code",
      "metadata": {
        "colab": {
          "base_uri": "https://localhost:8080/"
        },
        "id": "cIeZtVWKHmHe",
        "outputId": "290cd159-99f2-4006-8d2b-d2698136e3ae"
      },
      "source": [
        "new_net = Unet()\n",
        "new_net.load_state_dict(torch.load('./model'))"
      ],
      "execution_count": null,
      "outputs": [
        {
          "output_type": "execute_result",
          "data": {
            "text/plain": [
              "<All keys matched successfully>"
            ]
          },
          "metadata": {
            "tags": []
          },
          "execution_count": 57
        }
      ]
    },
    {
      "cell_type": "code",
      "metadata": {
        "colab": {
          "base_uri": "https://localhost:8080/"
        },
        "id": "CcN-NIj6Y3SJ",
        "outputId": "3eec5891-9ba3-498c-c4b4-688cf334e8dc"
      },
      "source": [
        "#https://github.com/fgnt/pb_bss/blob/master/pb_bss/evaluation/module_si_sdr.py\n",
        "def si_sdr(reference, estimation):\n",
        "    \"\"\"\n",
        "    Scale-Invariant Signal-to-Distortion Ratio (SI-SDR)\n",
        "    Args:\n",
        "        reference: numpy.ndarray, [..., T]\n",
        "        estimation: numpy.ndarray, [..., T]\n",
        "    Returns:\n",
        "        SI-SDR\n",
        "    [1] SDR– Half- Baked or Well Done?\n",
        "    http://www.merl.com/publications/docs/TR2019-013.pdf\n",
        "    >>> np.random.seed(0)\n",
        "    >>> reference = np.random.randn(100)\n",
        "    >>> si_sdr(reference, reference)\n",
        "    inf\n",
        "    >>> si_sdr(reference, reference * 2)\n",
        "    inf\n",
        "    >>> si_sdr(reference, np.flip(reference))\n",
        "    -25.127672346460717\n",
        "    >>> si_sdr(reference, reference + np.flip(reference))\n",
        "    0.481070445785553\n",
        "    >>> si_sdr(reference, reference + 0.5)\n",
        "    6.3704606032577304\n",
        "    >>> si_sdr(reference, reference * 2 + 1)\n",
        "    6.3704606032577304\n",
        "    >>> si_sdr([1., 0], [0., 0])  # never predict only zeros\n",
        "    nan\n",
        "    >>> si_sdr([reference, reference], [reference * 2 + 1, reference * 1 + 0.5])\n",
        "    array([6.3704606, 6.3704606])\n",
        "    \"\"\"\n",
        "    estimation, reference = np.broadcast_arrays(estimation, reference)\n",
        "\n",
        "    assert reference.dtype == np.float64, reference.dtype\n",
        "    assert estimation.dtype == np.float64, estimation.dtype\n",
        "\n",
        "    reference_energy = np.sum(reference ** 2, axis=-1, keepdims=True)\n",
        "\n",
        "    # This is $\\alpha$ after Equation (3) in [1].\n",
        "    optimal_scaling = np.sum(reference * estimation, axis=-1, keepdims=True) \\\n",
        "        / reference_energy\n",
        "\n",
        "    # This is $e_{\\text{target}}$ in Equation (4) in [1].\n",
        "    projection = optimal_scaling * reference\n",
        "\n",
        "    # This is $e_{\\text{res}}$ in Equation (4) in [1].\n",
        "    noise = estimation - projection\n",
        "\n",
        "    ratio = np.sum(projection ** 2, axis=-1) / np.sum(noise ** 2, axis=-1)\n",
        "    return 10 * np.log10(ratio)"
      ],
      "execution_count": null,
      "outputs": [
        {
          "output_type": "stream",
          "text": [
            "/usr/local/lib/python3.7/dist-packages/ipykernel_launcher.py:47: RuntimeWarning: divide by zero encountered in true_divide\n"
          ],
          "name": "stderr"
        },
        {
          "output_type": "execute_result",
          "data": {
            "text/plain": [
              "array([inf])"
            ]
          },
          "metadata": {
            "tags": []
          },
          "execution_count": 10
        }
      ]
    },
    {
      "cell_type": "code",
      "metadata": {
        "colab": {
          "background_save": true
        },
        "id": "sxFSVplwOvHL"
      },
      "source": [
        "!pip install mir_eval torch\n",
        "import mir_eval\n",
        "import torch\n",
        "import numpy as np\n",
        "\n",
        "estimated_beats = np.random.rand(16, 500)\n",
        "reference_beats = np.random.rand(16, 500)\n",
        "scores = mir_eval.separation.bss_eval_images(reference_beats, estimated_beats,False)\n",
        "\n"
      ],
      "execution_count": null,
      "outputs": []
    }
  ]
}